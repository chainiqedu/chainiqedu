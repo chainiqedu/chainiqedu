{
  "nbformat": 4,
  "nbformat_minor": 0,
  "metadata": {
    "colab": {
      "name": "volmex_csv_data_processing.ipynb",
      "provenance": [],
      "collapsed_sections": [],
      "authorship_tag": "ABX9TyPi0YoTzeKgZbGM6PnMMaEQ",
      "include_colab_link": true
    },
    "kernelspec": {
      "name": "python3",
      "display_name": "Python 3"
    },
    "language_info": {
      "name": "python"
    }
  },
  "cells": [
    {
      "cell_type": "markdown",
      "metadata": {
        "id": "view-in-github",
        "colab_type": "text"
      },
      "source": [
        "<a href=\"https://colab.research.google.com/github/chainiqedu/chainiqedu/blob/main/volmex_csv_data_processing.ipynb\" target=\"_parent\"><img src=\"https://colab.research.google.com/assets/colab-badge.svg\" alt=\"Open In Colab\"/></a>"
      ]
    },
    {
      "cell_type": "markdown",
      "metadata": {
        "id": "MfFaDVFnZaGm"
      },
      "source": [
        "## Volmex Labs - LPs/Traders Processing\n",
        "\n",
        "Processing ERC20 Transactions across Ethereum, Polygon & Arbitrum"
      ]
    },
    {
      "cell_type": "code",
      "metadata": {
        "id": "9OCoK3OVZiml"
      },
      "source": [
        "# Import Libraries\n",
        "import numpy as np\n",
        "import pandas as pd"
      ],
      "execution_count": 1,
      "outputs": []
    },
    {
      "cell_type": "markdown",
      "metadata": {
        "id": "ZSKUQ0c-yIxg"
      },
      "source": [
        "## Processing/Helper Functions"
      ]
    },
    {
      "cell_type": "code",
      "metadata": {
        "id": "uDcxFhAPrb1W"
      },
      "source": [
        "def label_tx_type(df, address):\n",
        "  df['Type'] = np.where(df['To'] == address, 'IN', 'OUT')\n",
        "  return df"
      ],
      "execution_count": 2,
      "outputs": []
    },
    {
      "cell_type": "code",
      "metadata": {
        "id": "6CbzRDM-szmt"
      },
      "source": [
        "def concat_tx_label_type(df):\n",
        "  df_action_labelled = df[['Txhash', 'Type', 'UnixTimestamp']].groupby(['Txhash', 'UnixTimestamp'], as_index=False).agg({'Type': '-'.join})\n",
        "  return df_action_labelled"
      ],
      "execution_count": 3,
      "outputs": []
    },
    {
      "cell_type": "code",
      "metadata": {
        "id": "-79WVFZukPBS"
      },
      "source": [
        "def tx_type_df(df):\n",
        "\n",
        "    if (df['Type'] == 'IN' or df['Type'] == 'IN-IN' or df['Type'] == 'IN-IN-IN-IN'):\n",
        "        return 'Add Liquidity'\n",
        "    elif (df['Type'] == 'OUT-OUT' or df['Type'] == 'IN-OUT-OUT-OUT' or df['Type'] == 'IN-OUT-OUT-OUT-IN-OUT-OUT-OUT'):\n",
        "        return 'Remove Liquidity'\n",
        "    elif (df['Type'] == 'OUT-IN' or df['Type'] == 'IN-OUT' or df['Type'] == 'IN-OUT-IN-OUT'):\n",
        "        return 'Swap'\n",
        "    elif (df['Type'] == 'OUT-IN-IN-IN' or df['Type'] == 'IN-OUT-IN-IN' or df['Type'] == 'IN-OUT-IN-IN-IN-OUT-IN-IN' or df['Type'] == 'IN-OUT-IN-OUT-IN-IN'):\n",
        "        return 'Liquidity Added and Swap'\n",
        "    elif (df['Type'] == 'IN-OUT-OUT-OUT-IN-OUT'):\n",
        "        return 'Liquidity Removed and Swap'"
      ],
      "execution_count": 4,
      "outputs": []
    },
    {
      "cell_type": "code",
      "metadata": {
        "id": "zdwJa5AUu9AE"
      },
      "source": [
        "def tx_action_type_named (df):\n",
        "  df['tx_type_label'] = df.apply(tx_type_df, axis=1)\n",
        "  return df[['Txhash', 'tx_type_label']]"
      ],
      "execution_count": 5,
      "outputs": []
    },
    {
      "cell_type": "code",
      "metadata": {
        "id": "bLGv34pEwkbr"
      },
      "source": [
        "def tx_type_labels_lp_trader_csv(tx_type_labels_df, lps_traders_df):\n",
        "  return lps_traders_df.merge(tx_type_labels_df, on='Txhash', how='left')"
      ],
      "execution_count": 6,
      "outputs": []
    },
    {
      "cell_type": "code",
      "metadata": {
        "id": "49rH2uW-0xOp"
      },
      "source": [
        "def run_processing(df, address):\n",
        "  df_labels = label_tx_type(df, address)\n",
        "  tx_type_labelled = concat_tx_label_type(df_labels)\n",
        "  tx_type_labels = tx_action_type_named(tx_type_labelled)\n",
        "  lps_traders_labels_df = tx_type_labels_lp_trader_csv(tx_type_labels, df_labels)\n",
        "  return lps_traders_labels_df"
      ],
      "execution_count": 7,
      "outputs": []
    },
    {
      "cell_type": "markdown",
      "metadata": {
        "id": "C3V8-4QPyQPe"
      },
      "source": [
        "## Ethereum Processing"
      ]
    },
    {
      "cell_type": "code",
      "metadata": {
        "id": "O1pnb9ToZvdQ"
      },
      "source": [
        "# Read CSV's for Uniswap Volmex Pools\n",
        "ethv_usdc_lps_traders_df = pd.read_csv('/content/export-address-token-0x113ecd438bff3e63a95b0b9d18c38bbf066db5a0.csv', index_col=False)\n",
        "iethv_usdc_lps_traders_df = pd.read_csv('/content/export-address-token-0x46631c701eae6c6f1880cdd6898675bbf20886bb.csv', index_col=False)\n",
        "btcv_usdc_lps_traders_df = pd.read_csv('/content/export-address-token-0x97693242c5703900fc7651c9164a334ee5ddfa2d.csv', index_col=False)\n",
        "ibtcv_usdc_lps_traders_df = pd.read_csv('/content/export-address-token-0x08008a915911271e2b09c08e1cae1ad1c48b933f.csv', index_col=False)"
      ],
      "execution_count": 184,
      "outputs": []
    },
    {
      "cell_type": "code",
      "metadata": {
        "id": "yitI4iUS08WN"
      },
      "source": [
        "# Perform Processing\n",
        "ethv_usdc_lps_traders_processed_df = run_processing(ethv_usdc_lps_traders_df, '0x113ecd438bff3e63a95b0b9d18c38bbf066db5a0')\n",
        "iethv_usdc_lps_traders_processed_df = run_processing(iethv_usdc_lps_traders_df, '0x46631c701eae6c6f1880cdd6898675bbf20886bb')\n",
        "btcv_usdc_lps_traders_processed_df = run_processing(btcv_usdc_lps_traders_df, '0x97693242c5703900fc7651c9164a334ee5ddfa2d')\n",
        "ibtcv_usdc_lps_traders_processed_df = run_processing(ibtcv_usdc_lps_traders_df, '0x08008a915911271e2b09c08e1cae1ad1c48b933f')"
      ],
      "execution_count": 185,
      "outputs": []
    },
    {
      "cell_type": "code",
      "metadata": {
        "id": "fmpHZrHN0Zif"
      },
      "source": [
        "# Write to CSV\n",
        "ethv_usdc_lps_traders_processed_df.to_csv('ethv_usdc_uniswap_v3.csv')\n",
        "iethv_usdc_lps_traders_processed_df.to_csv('iethv_usdc_uniswap_v3.csv')\n",
        "btcv_usdc_lps_traders_processed_df.to_csv('btcv_usdc_uniswap_v3.csv')\n",
        "ibtcv_usdc_lps_traders_processed_df.to_csv('ibtcv_usdc_uniswap_v3.csv')"
      ],
      "execution_count": 186,
      "outputs": []
    },
    {
      "cell_type": "markdown",
      "metadata": {
        "id": "ag_EeU6qEKXf"
      },
      "source": [
        "## Polygon Processing"
      ]
    },
    {
      "cell_type": "code",
      "metadata": {
        "id": "8z9E1fqqEMUC"
      },
      "source": [
        "# Read CSV's for Quickswap Volmex Pools\n",
        "part_one_ethv_usdc_lps_traders_df = pd.read_csv('/content/part_1_export-address-token-0xf0dcde1a4e404e050276517a5b1b82f3c4a04f01.csv', index_col=False)\n",
        "part_two_ethv_usdc_lps_traders_df = pd.read_csv('/content/part_2_export-address-token-0xf0dcde1a4e404e050276517a5b1b82f3c4a04f01 (1).csv', index_col=False)\n",
        "ethv_usdc_lps_traders_df = pd.concat([part_one_ethv_usdc_lps_traders_df, part_two_ethv_usdc_lps_traders_df]).drop_duplicates()\n",
        "\n",
        "part_one_iethv_usdc_lps_traders_df = pd.read_csv('/content/part_1_export-address-token-0x384a154b8def8b7a8867458a38a894eaf9969ce2.csv', index_col=False)\n",
        "part_two_iethv_usdc_lps_traders_df = pd.read_csv('/content/part_2_export-address-token-0x384a154b8def8b7a8867458a38a894eaf9969ce2 (1).csv', index_col=False)\n",
        "iethv_usdc_lps_traders_df = pd.concat([part_one_iethv_usdc_lps_traders_df, part_two_iethv_usdc_lps_traders_df]).drop_duplicates()\n",
        "\n",
        "btcv_usdc_lps_traders_df = pd.read_csv('/content/export-address-token-0x7d8667001de41872c5ccde94a0957b0061702bad.csv', index_col=False)\n",
        "ibtcv_usdc_lps_traders_df = pd.read_csv('/content/export-address-token-0xf8a85f679fb256859a1310c59a05de0848c66f18.csv', index_col=False)"
      ],
      "execution_count": 187,
      "outputs": []
    },
    {
      "cell_type": "code",
      "metadata": {
        "id": "zymdigkiHWC1"
      },
      "source": [
        "# Perform Processing\n",
        "ethv_usdc_lps_traders_processed_df = run_processing(ethv_usdc_lps_traders_df, '0xf0dcde1a4e404e050276517a5b1b82f3c4a04f01')\n",
        "iethv_usdc_lps_traders_processed_df = run_processing(iethv_usdc_lps_traders_df, '0x384a154b8def8b7a8867458a38a894eaf9969ce2')\n",
        "btcv_usdc_lps_traders_processed_df = run_processing(btcv_usdc_lps_traders_df, '0x7d8667001de41872c5ccde94a0957b0061702bad')\n",
        "ibtcv_usdc_lps_traders_processed_df = run_processing(ibtcv_usdc_lps_traders_df, '0xf8a85f679fb256859a1310c59a05de0848c66f18')"
      ],
      "execution_count": 188,
      "outputs": []
    },
    {
      "cell_type": "code",
      "metadata": {
        "id": "piwbz9V9HV1v"
      },
      "source": [
        "# Write to CSV\n",
        "ethv_usdc_lps_traders_processed_df.to_csv('ethv_usdc_quickswap_v3.csv')\n",
        "iethv_usdc_lps_traders_processed_df.to_csv('iethv_usdc_quickswap_v3.csv')\n",
        "btcv_usdc_lps_traders_processed_df.to_csv('btcv_usdc_quickswap_v3.csv')\n",
        "ibtcv_usdc_lps_traders_processed_df.to_csv('ibtcv_usdc_quickswap_v3.csv')"
      ],
      "execution_count": 189,
      "outputs": []
    },
    {
      "cell_type": "markdown",
      "metadata": {
        "id": "HUhyeDb-EXMh"
      },
      "source": [
        "## Arbitrum Processing"
      ]
    },
    {
      "cell_type": "code",
      "metadata": {
        "id": "7yXcrIRnOkFp"
      },
      "source": [
        "# Read CSV's for Arbitrum Volmex Pools\n",
        "ethv_usdc_lps_traders_df = pd.read_csv('/content/export-address-token-0x8278591bbbbe7d86e783507e7f6320ffc9c021e5.csv', index_col=False)\n",
        "iethv_usdc_lps_traders_df = pd.read_csv('/content/export-address-token-0x5497ca4be41d2ae0222cc4c41c43d189ed894ffd.csv', index_col=False)\n",
        "btcv_usdc_lps_traders_df = pd.read_csv('/content/export-address-token-0x3396e2cb9e4f1eb4fc06028ab07a8db0ef63b486.csv', index_col=False)\n",
        "ibtcv_usdc_lps_traders_df = pd.read_csv('/content/export-address-token-0xc80956377cea73f64aaa3613d6692eabdf4fd4c8.csv', index_col=False)"
      ],
      "execution_count": 19,
      "outputs": []
    },
    {
      "cell_type": "code",
      "metadata": {
        "id": "MWD8dPWTgUBw"
      },
      "source": [
        "# Perform processing\n",
        "ethv_usdc_lps_traders_processed_df = run_processing(ethv_usdc_lps_traders_df, '0x8278591bbbbe7d86e783507e7f6320ffc9c021e5')\n",
        "iethv_usdc_lps_traders_processed_df = run_processing(iethv_usdc_lps_traders_df, '0x5497ca4be41d2ae0222cc4c41c43d189ed894ffd')\n",
        "btcv_usdc_lps_traders_processed_df = run_processing(btcv_usdc_lps_traders_df, '0x3396e2cb9e4f1eb4fc06028ab07a8db0ef63b486')\n",
        "ibtcv_usdc_lps_traders_processed_df = run_processing(ibtcv_usdc_lps_traders_df, '0xc80956377cea73f64aaa3613d6692eabdf4fd4c8')"
      ],
      "execution_count": 20,
      "outputs": []
    },
    {
      "cell_type": "code",
      "metadata": {
        "id": "E7TRQc9MhmQC"
      },
      "source": [
        "# Write to CSV\n",
        "ethv_usdc_lps_traders_processed_df.to_csv('ethv_usdc_arbitrum_uniswap_v3.csv')\n",
        "iethv_usdc_lps_traders_processed_df.to_csv('iethv_usdc_arbitrum_uniswap_v3.csv')\n",
        "btcv_usdc_lps_traders_processed_df.to_csv('btcv_usdc_arbitrum_uniswap_v3.csv')\n",
        "ibtcv_usdc_lps_traders_processed_df.to_csv('ibtcv_usdc_arbitrum_uniswap_v3.csv')"
      ],
      "execution_count": 21,
      "outputs": []
    }
  ]
}