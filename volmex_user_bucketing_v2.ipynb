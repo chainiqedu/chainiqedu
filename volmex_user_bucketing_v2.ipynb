{
  "nbformat": 4,
  "nbformat_minor": 0,
  "metadata": {
    "colab": {
      "name": "volmex_user_bucketing_v2.ipynb",
      "provenance": [],
      "collapsed_sections": [],
      "authorship_tag": "ABX9TyPAub5VxYjcPeuIcaaKAZtA",
      "include_colab_link": true
    },
    "kernelspec": {
      "name": "python3",
      "display_name": "Python 3"
    },
    "language_info": {
      "name": "python"
    }
  },
  "cells": [
    {
      "cell_type": "markdown",
      "metadata": {
        "id": "view-in-github",
        "colab_type": "text"
      },
      "source": [
        "<a href=\"https://colab.research.google.com/github/chainiqedu/chainiqedu/blob/main/volmex_user_bucketing_v2.ipynb\" target=\"_parent\"><img src=\"https://colab.research.google.com/assets/colab-badge.svg\" alt=\"Open In Colab\"/></a>"
      ]
    },
    {
      "cell_type": "markdown",
      "metadata": {
        "id": "Z6mvZc8RAriu"
      },
      "source": [
        "## Volmex User Bucketing V2\n",
        "\n",
        "Looking at user's (addresses) that have interacted with the protocol, bucket these into 3 groups e.g Low/Medium/High\n",
        "\n",
        "Do this by considering users across all 3 chains and look at: Minters, LP's (Liquidity Providers) and Traders (users/addresses that performed swaps in the uniswap/quickswap pools)."
      ]
    },
    {
      "cell_type": "markdown",
      "metadata": {
        "id": "Nss5-a1DcmO6"
      },
      "source": [
        "## Summary\n",
        "\n",
        "**Minters**\n",
        "\n",
        "Unique Minters: 5595  \n",
        "\n",
        "Unique Minters Split by Chain  \n",
        "\t- Ethereum: 764  \n",
        "\t- Polygon: 4724  \n",
        "\t- Arbitrum: 135  \n",
        "\n",
        "Cumulative Number of Mints Groupings  \n",
        "\t- Low 0-2: 5438 minters  \n",
        "\t- Medium 2-7: 155 minters  \n",
        "\t- High 7+: 2 minters  \n",
        "\n",
        "Total Value Collateralized Groupings  \n",
        "\t- Low 0-\\$750: 5092 minters  \n",
        "\t- Medium \\$750-\\$1750: 387 minters  \n",
        "\t- High \\$1750+: 116 minters  \n",
        "\n",
        "\n",
        "**Traders**\n",
        "\n",
        "Unique Traders: 1391  \n",
        "\n",
        "Unique Traders Split by Chain  \n",
        "\t- Ethereum: 147  \n",
        "\t- Polygon: 1212  \n",
        "\t- Arbitrum: 39  \n",
        "\n",
        "Cumulative Trades Groupings  \n",
        "\t- Low 0-9: 1412 traders  \n",
        "\t- Medium 9-40:16 traders  \n",
        "\t- High 40+:11 traders  \n",
        "\n",
        "Total Value Traded Groupings  \n",
        "\t- Low 0-\\$2000: 1393 traders  \n",
        "\t- Medium \\$2000-\\$10000: 27 traders  \n",
        "\t- High \\$10000+: 19 traders  \n",
        "\n",
        "Cumulative Trading Volume: \\$997678.2132998797  \n",
        "\t- **Caveats**: Static price values for the Volatility tokens from coingecko have been used to calculate the USD trade value for tokens, ideally we would have a price history. Therefore depending on whether in the past the Volatility token price is currently lower/higher we may be under-reporting/over-reporting trade value however as an approximate and due to the limitations on working with etherscan these static values are used (e.g https://www.coingecko.com/en/coins/bitcoin-volatility-index-token)  \n",
        "\n",
        "Cumulative Trading Volume Per Chain  \n",
        "\t- Ethereum: \\$780481.8719295093  \n",
        "\t- Polygon: \\$211855.5641159281  \n",
        "\t- Arbitrum: \\$5340.777254442244   \n",
        "\n",
        "\n",
        "**Liquidity Providers**\n",
        "\n",
        "Unique Liquidity Providers: 1685  \n",
        "\n",
        "Unique Liquidity Providers Split by Chain  \n",
        "\t- Ethereum: 165  \n",
        "\t- Polygon: 1464  \n",
        "\t- Arbitrum: 71  \n",
        "\n",
        "Cumulative Number of Liquidity Added Actions Groupings  \n",
        "\t- Low 0-2: 1040 LPs  \n",
        "\t- Medium 2-7: 600 LPs  \n",
        "\t- High 7-16: 45 LPs  \n",
        "\n",
        "Total Liquidity Added Values Groupings  \n",
        "\t- Low 0-\\$1500: 1631 LPs  \n",
        "\t- Medium \\$1500-\\$8000: 38 LPs  \n",
        "\t- High \\$8000+: 16 LPs  "
      ]
    },
    {
      "cell_type": "code",
      "metadata": {
        "id": "Qsy4JHUbAMt7"
      },
      "source": [
        "#Import libraries\n",
        "import pandas as pd\n",
        "import numpy as np\n",
        "import plotly.express as px"
      ],
      "execution_count": 125,
      "outputs": []
    },
    {
      "cell_type": "markdown",
      "metadata": {
        "id": "as6qvkWwNjt6"
      },
      "source": [
        "## Minters - Read CSV Data\n",
        "\n",
        "Read in CSV data from all Ethereum/Polygon/Arbitrum chains for users that have minted volatility tokens"
      ]
    },
    {
      "cell_type": "code",
      "metadata": {
        "id": "wl-Yq9kdBk48"
      },
      "source": [
        "# read ethereum minter CSV files\n",
        "eth_net_btcv_dai = pd.read_csv('/content/BTCV_DAI_export-address-token-0x187922d4235D10239b2c6CCb2217aDa724F56DDA.csv', index_col=False)\n",
        "eth_net_ethv_dai = pd.read_csv('/content/ETHV_DAI_export-address-token-0xa57fC404f69fCE71CA26e26f0A4DF7F35C8cd5C3 (1).csv', index_col=False)\n",
        "eth_net_btcv_usdc = pd.read_csv('/content/BTCV_USDC_export-address-token-0x054FBeBD2Cb17205B57fb56a426ccc54cAaBFaBC.csv', index_col=False)\n",
        "eth_net_ethv_usdc = pd.read_csv('/content/ETHV_USDC_export-address-token-0x1BB632a08936e17Ee3971E6Eeb824910567e120B.csv', index_col=False)\n",
        "\n",
        "# read polygon minter CSV files\n",
        "polygon_btcv_dai = pd.read_csv('/content/BTCV_DAI_export-address-token-0x90E6c403c02f72986a98E8a361Ec7B7C8BC29259.csv', index_col=False)\n",
        "polygon_ethv_dai = pd.read_csv('/content/ETHV_DAI_export-address-token-0x164c668204Ce54558431997A6DD636Ee4E758b19.csv', index_col=False)\n",
        "polygon_btcv_usdc = pd.read_csv('/content/BTCV_USDC_export-address-token-0xA2b3501d34edA289F0bEF1cAf95E5D0111032F36.csv', index_col=False)\n",
        "polygon_ethv_usdc = pd.read_csv('/content/ETHV_USDC_export-address-token-0xEeb6f0C2261E21b657A27582466e5aD9acC072D7.csv', index_col=False)\n",
        "\n",
        "# read arbitrum minter CSV files\n",
        "arbitrum_btcv_dai = pd.read_csv('/content/BTCV_DAI_export-address-token-0xe46277336d9cc2ebe7b24ba7268624f5f1495611.csv', index_col=False)\n",
        "arbitrum_ethv_dai = pd.read_csv('/content/ETHV_DAI_export-address-token-0xf613b55131cf8a69c5b4f62d0d5e5d2c2d9c3280.csv', index_col=False)\n",
        "arbitrum_btcv_usdc = pd.read_csv('/content/BTCV_USDC_export-address-token-0xdf87072ac4722431861837492edf7adbfec0efa9.csv', index_col=False)\n",
        "arbitrum_ethv_usdc = pd.read_csv('/content/ETHV_USDC_export-address-token-0xf9b04aad2612d3d664f41e9af5711953e058ff52.csv', index_col=False)"
      ],
      "execution_count": 126,
      "outputs": []
    },
    {
      "cell_type": "code",
      "metadata": {
        "id": "-XJG9qg2CZWs"
      },
      "source": [
        "# Add event type marker for collaterlize events to identify minters - when an address/user collaterilzes they mint the volatility tokens (aka minter)\n",
        "eth_net_btcv_dai['type'] = np.where(eth_net_btcv_dai['To'] == '0x187922d4235d10239b2c6ccb2217ada724f56dda', 'COLLATERALIZE', 'REDEEM/OTHER')\n",
        "eth_net_ethv_dai['type'] = np.where(eth_net_ethv_dai['To'] == '0xa57fc404f69fce71ca26e26f0a4df7f35c8cd5c3', 'COLLATERALIZE', 'REDEEM/OTHER')\n",
        "eth_net_btcv_usdc['type'] = np.where(eth_net_btcv_usdc['To'] == '0x054fbebd2cb17205b57fb56a426ccc54caabfabc', 'COLLATERALIZE', 'REDEEM/OTHER')\n",
        "eth_net_ethv_usdc['type'] = np.where(eth_net_ethv_usdc['To'] == '0x1bb632a08936e17ee3971e6eeb824910567e120b', 'COLLATERALIZE', 'REDEEM/OTHER')\n",
        "\n",
        "polygon_btcv_dai['type'] = np.where(polygon_btcv_dai['To'] == '0x90e6c403c02f72986a98e8a361ec7b7c8bc29259', 'COLLATERALIZE', 'REDEEM/OTHER')\n",
        "polygon_ethv_dai['type'] = np.where(polygon_ethv_dai['To'] == '0x164c668204ce54558431997a6dd636ee4e758b19', 'COLLATERALIZE', 'REDEEM/OTHER')\n",
        "polygon_btcv_usdc['type'] = np.where(polygon_btcv_usdc['To'] == '0xa2b3501d34eda289f0bef1caf95e5d0111032f36', 'COLLATERALIZE', 'REDEEM/OTHER')\n",
        "polygon_ethv_usdc['type'] = np.where(polygon_ethv_usdc['To'] == '0xeeb6f0c2261e21b657a27582466e5ad9acc072d7', 'COLLATERALIZE', 'REDEEM/OTHER')\n",
        "\n",
        "arbitrum_btcv_dai['type'] = np.where(arbitrum_btcv_dai['To'] == '0xe46277336d9cc2ebe7b24ba7268624f5f1495611', 'COLLATERALIZE', 'REDEEM/OTHER')\n",
        "arbitrum_ethv_dai['type'] = np.where(arbitrum_ethv_dai['To'] == '0xf613b55131cf8a69c5b4f62d0d5e5d2c2d9c3280', 'COLLATERALIZE', 'REDEEM/OTHER')\n",
        "arbitrum_btcv_usdc['type'] = np.where(arbitrum_btcv_usdc['To'] == '0xdf87072ac4722431861837492edf7adbfec0efa9', 'COLLATERALIZE', 'REDEEM/OTHER')\n",
        "arbitrum_ethv_usdc['type'] = np.where(arbitrum_ethv_usdc['To'] == '0xf9b04aad2612d3d664f41e9af5711953e058ff52', 'COLLATERALIZE', 'REDEEM/OTHER')"
      ],
      "execution_count": 127,
      "outputs": []
    },
    {
      "cell_type": "code",
      "metadata": {
        "id": "7NG6vAbYcOX0"
      },
      "source": [
        "# Add Chain Type\n",
        "eth_net_btcv_dai['chain'] = 'ETHEREUM'\n",
        "eth_net_ethv_dai['chain'] = 'ETHEREUM'\n",
        "eth_net_btcv_usdc['chain'] = 'ETHEREUM'\n",
        "eth_net_ethv_usdc['chain'] = 'ETHEREUM'\n",
        "\n",
        "polygon_btcv_dai['chain'] = 'POLYGON'\n",
        "polygon_ethv_dai['chain'] = 'POLYGON'\n",
        "polygon_btcv_usdc['chain'] = 'POLYGON'\n",
        "polygon_ethv_usdc['chain'] = 'POLYGON'\n",
        "\n",
        "arbitrum_btcv_dai['chain'] = 'ARBITRUM'\n",
        "arbitrum_ethv_dai['chain'] = 'ARBITRUM'\n",
        "arbitrum_btcv_usdc['chain'] = 'ARBITRUM'\n",
        "arbitrum_ethv_usdc['chain'] = 'ARBITRUM'"
      ],
      "execution_count": 128,
      "outputs": []
    },
    {
      "cell_type": "markdown",
      "metadata": {
        "id": "epryrWQu_qre"
      },
      "source": [
        "### Minters - Process and Format Data"
      ]
    },
    {
      "cell_type": "code",
      "metadata": {
        "colab": {
          "base_uri": "https://localhost:8080/"
        },
        "id": "R0gtILKfBTQd",
        "outputId": "cda4e809-e1db-4438-e6a3-02ab20c79a7f"
      },
      "source": [
        "# Check the TokenSymbols that are part of the ERC20 Transactions\n",
        "print('ETH BTCV DAI Token Symbol: {}'.format(eth_net_btcv_dai[\"TokenSymbol\"].unique()))\n",
        "print('ETH ETHV DAI Token Symbol: {}'.format(eth_net_ethv_dai[\"TokenSymbol\"].unique()))\n",
        "print('ETH BTCV USDC Token Symbol: {}'.format(eth_net_btcv_usdc[\"TokenSymbol\"].unique()))\n",
        "print('ETH ETHV USDC Token Symbol: {}'.format(eth_net_ethv_usdc[\"TokenSymbol\"].unique()))\n",
        "\n",
        "print('POLY BTCV DAI Token Symbol: {}'.format(polygon_btcv_dai[\"TokenSymbol\"].unique()))\n",
        "print('POLY ETHV DAI Token Symbol: {}'.format(polygon_ethv_dai[\"TokenSymbol\"].unique()))\n",
        "print('POLY BTCV USDC Token Symbol: {}'.format(polygon_btcv_usdc[\"TokenSymbol\"].unique()))\n",
        "print('POLY ETHV USDC Token Symbol: {}'.format(polygon_ethv_usdc[\"TokenSymbol\"].unique()))\n",
        "\n",
        "print('ARB BTCV DAI Token Symbol: {}'.format(arbitrum_btcv_dai[\"TokenSymbol\"].unique()))\n",
        "print('ARB ETHV DAI Token Symbol: {}'.format(arbitrum_ethv_dai[\"TokenSymbol\"].unique()))\n",
        "print('ARB BTCV USDC Token Symbol: {}'.format(arbitrum_btcv_usdc[\"TokenSymbol\"].unique()))\n",
        "print('ARB ETHV USDC Token Symbol: {}'.format(arbitrum_ethv_usdc[\"TokenSymbol\"].unique()))"
      ],
      "execution_count": 129,
      "outputs": [
        {
          "output_type": "stream",
          "name": "stdout",
          "text": [
            "ETH BTCV DAI Token Symbol: ['DAI']\n",
            "ETH ETHV DAI Token Symbol: ['DAI']\n",
            "ETH BTCV USDC Token Symbol: ['USDC']\n",
            "ETH ETHV USDC Token Symbol: ['USDC']\n",
            "POLY BTCV DAI Token Symbol: ['DAI' 'auto-stake.com' 'NFT Sprites' 'YUI' 'DxDex.io' 'SSX' 'BeezEX'\n",
            " 'FRUIT']\n",
            "POLY ETHV DAI Token Symbol: ['DAI' 'auto-stake.com' 'NFT Sprites' 'YUI' 'DxDex.io' 'SSX' 'BeezEX'\n",
            " 'RicheSwap' 'FRUIT']\n",
            "POLY BTCV USDC Token Symbol: ['USDC' 'YUI' 'DxDex.io' 'SSX']\n",
            "POLY ETHV USDC Token Symbol: ['USDC' 'YUI' 'DxDex.io' 'SSX' 'RicheSwap']\n",
            "ARB BTCV DAI Token Symbol: ['DAI']\n",
            "ARB ETHV DAI Token Symbol: ['DAI']\n",
            "ARB BTCV USDC Token Symbol: ['USDC']\n",
            "ARB ETHV USDC Token Symbol: ['USDC' 'TEST']\n"
          ]
        }
      ]
    },
    {
      "cell_type": "markdown",
      "metadata": {
        "id": "qbF_FoB2LcPf"
      },
      "source": [
        "### Token Symbol Filtering\n",
        "\n",
        "Only consider and analyse transactions where the collateral type matches the accepted types of the pool (DAI/USDC)  \n",
        "\n",
        "There are a number of tokens that show up in the transactions that are not DAI/USDC which at current time of analysis are the only accepted types of collateral in in the volmex protocol pools  \n",
        "\n",
        "As a result of this, fitler these results out  \n",
        "\n",
        "Based on a quick-check as shown above some of the token symbols are from projects that no longer exists or are flagged as scams/phishing attempts - either way these transactions are being exlcuded from the analysis"
      ]
    },
    {
      "cell_type": "code",
      "metadata": {
        "id": "5q_eCHuFLmIp"
      },
      "source": [
        "# Ethereum Transaction Symbol Filtering\n",
        "eth_net_btcv_dai = eth_net_btcv_dai[eth_net_btcv_dai[\"TokenSymbol\"] == 'DAI']\n",
        "eth_net_ethv_dai = eth_net_ethv_dai[eth_net_ethv_dai[\"TokenSymbol\"] == 'DAI']\n",
        "eth_net_btcv_usdc = eth_net_btcv_usdc[eth_net_btcv_usdc[\"TokenSymbol\"] == 'USDC']\n",
        "eth_net_ethv_usdc = eth_net_ethv_usdc[eth_net_ethv_usdc[\"TokenSymbol\"] == 'USDC']\n",
        "\n",
        "# Polygon Transaction Symbol Filtering\n",
        "polygon_btcv_dai = polygon_btcv_dai[polygon_btcv_dai[\"TokenSymbol\"] == 'DAI']\n",
        "polygon_ethv_dai = polygon_ethv_dai[polygon_ethv_dai[\"TokenSymbol\"] == 'DAI']\n",
        "polygon_btcv_usdc = polygon_btcv_usdc[polygon_btcv_usdc[\"TokenSymbol\"] == 'USDC']\n",
        "polygon_ethv_usdc = polygon_ethv_usdc[polygon_ethv_usdc[\"TokenSymbol\"] == 'USDC']\n",
        "\n",
        "# Arbitrum Transaction Symbol Filtering\n",
        "arbitrum_btcv_dai = arbitrum_btcv_dai[arbitrum_btcv_dai[\"TokenSymbol\"] == 'DAI']\n",
        "arbitrum_ethv_dai = arbitrum_ethv_dai[arbitrum_ethv_dai[\"TokenSymbol\"] == 'DAI']\n",
        "arbitrum_btcv_usdc = arbitrum_btcv_usdc[arbitrum_btcv_usdc[\"TokenSymbol\"] == 'USDC']\n",
        "arbitrum_ethv_usdc = arbitrum_ethv_usdc[arbitrum_ethv_usdc[\"TokenSymbol\"] == 'USDC']"
      ],
      "execution_count": 130,
      "outputs": []
    },
    {
      "cell_type": "markdown",
      "metadata": {
        "id": "isF188CtJEd5"
      },
      "source": [
        "### Transaction Value Formatting"
      ]
    },
    {
      "cell_type": "code",
      "metadata": {
        "id": "cUn5-zY-_p1P"
      },
      "source": [
        "# Replace comma formatting for thousands and cast to type float for Etherscan files\n",
        "eth_net_btcv_dai[\"Value\"] = eth_net_btcv_dai[\"Value\"].str.replace(',', '').astype(float)\n",
        "eth_net_ethv_dai[\"Value\"] = eth_net_ethv_dai[\"Value\"].str.replace(',', '').astype(float)\n",
        "eth_net_btcv_usdc[\"Value\"] = eth_net_btcv_usdc[\"Value\"].str.replace(',', '').astype(float)\n",
        "eth_net_ethv_usdc[\"Value\"] = eth_net_ethv_usdc[\"Value\"].str.replace(',', '').astype(float)\n",
        "\n",
        "# Replace comma formatting for thousands and cast to type float for Polygonscan files\n",
        "polygon_btcv_dai[\"Value\"] = polygon_btcv_dai[\"Value\"].str.replace(',', '').astype(float)\n",
        "polygon_ethv_dai[\"Value\"] = polygon_ethv_dai[\"Value\"].str.replace(',', '').astype(float)\n",
        "polygon_btcv_usdc[\"Value\"] = polygon_btcv_usdc[\"Value\"].str.replace(',', '').astype(float)\n",
        "polygon_ethv_usdc[\"Value\"] = polygon_ethv_usdc[\"Value\"].str.replace(',', '').astype(float)\n",
        "\n",
        "# Replace comma formatting for thousands and cast to type float for Arbiscan files\n",
        "arbitrum_btcv_dai[\"Value\"] = arbitrum_btcv_dai[\"Value\"].str.replace(',', '').astype(float)\n",
        "arbitrum_ethv_dai = arbitrum_ethv_dai[\"Value\"].str.replace(',', '').astype(float)\n",
        "arbitrum_btcv_usdc = arbitrum_btcv_usdc[\"Value\"].str.replace(',', '').astype(float)\n",
        "arbitrum_ethv_usdc = arbitrum_ethv_usdc[\"Value\"].str.replace(',', '').astype(float)"
      ],
      "execution_count": 131,
      "outputs": []
    },
    {
      "cell_type": "markdown",
      "metadata": {
        "id": "7zsaWsl9_u-V"
      },
      "source": [
        "### Minters - Combine Data\n",
        "\n",
        "Combine all of the minters data into a single dataframe to work with for the rest of the notebook"
      ]
    },
    {
      "cell_type": "code",
      "metadata": {
        "id": "Nqd9S9IsFfnp"
      },
      "source": [
        "# Combine into single dataframe\n",
        "minters_df = pd.concat([eth_net_btcv_dai, eth_net_ethv_dai, eth_net_btcv_usdc, eth_net_ethv_usdc, \n",
        "                        polygon_btcv_dai, polygon_ethv_dai, polygon_btcv_usdc, polygon_ethv_usdc,\n",
        "                        arbitrum_btcv_dai, arbitrum_ethv_dai, arbitrum_btcv_usdc, arbitrum_ethv_usdc], ignore_index=True)"
      ],
      "execution_count": 132,
      "outputs": []
    },
    {
      "cell_type": "code",
      "metadata": {
        "id": "zbL2zPFkM3jE"
      },
      "source": [
        "# Write to CSV after filtering and number formatting\n",
        "minters_df.to_csv('minters_v4_final.csv')"
      ],
      "execution_count": 133,
      "outputs": []
    },
    {
      "cell_type": "code",
      "metadata": {
        "id": "Gv9eCDFBUAC-"
      },
      "source": [
        "# Filter for collateralize events and addresses - volmex works by minting volatility tokens to users that deposit collateral\n",
        "# Therefore the minters are addresses that have deposited collateral into the protocol\n",
        "minter_addresses_df = minters_df[(minters_df['type'] == 'COLLATERALIZE')]"
      ],
      "execution_count": 134,
      "outputs": []
    },
    {
      "cell_type": "markdown",
      "metadata": {
        "id": "lj9chG0-ssGk"
      },
      "source": [
        "## Unique Minters"
      ]
    },
    {
      "cell_type": "code",
      "metadata": {
        "colab": {
          "base_uri": "https://localhost:8080/"
        },
        "id": "xhBKRG71eYtt",
        "outputId": "79fbb800-73c8-484d-99f8-825fdf0aa7b4"
      },
      "source": [
        "# Number of unique minters overall and across all 3 chains\n",
        "print('Number of unique addresses that minted volatility tokens: {}'.format(minter_addresses_df['From'].nunique()))"
      ],
      "execution_count": 135,
      "outputs": [
        {
          "output_type": "stream",
          "name": "stdout",
          "text": [
            "Number of unique addresses that minted volatility tokens: 5595\n"
          ]
        }
      ]
    },
    {
      "cell_type": "markdown",
      "metadata": {
        "id": "gef1qKZBVZ-D"
      },
      "source": [
        "## Unique Minters Split by Chain"
      ]
    },
    {
      "cell_type": "code",
      "metadata": {
        "id": "YYx993rqpVk-"
      },
      "source": [
        "minter_addresses_by_chain_df = minter_addresses_df.groupby(by='chain', as_index=False).agg({'From': pd.Series.nunique})"
      ],
      "execution_count": 136,
      "outputs": []
    },
    {
      "cell_type": "code",
      "metadata": {
        "colab": {
          "base_uri": "https://localhost:8080/"
        },
        "id": "hFhKvO88sw6-",
        "outputId": "a2620b10-00b5-4d5a-b3e1-3f632d75a986"
      },
      "source": [
        "print(\"ETHEREUM: Number of unique addresses that minted volatility tokens: {}\".format(minter_addresses_by_chain_df[minter_addresses_by_chain_df[\"chain\"] == 'ETHEREUM'][\"From\"].values[0]))\n",
        "print(\"POLYGON: Number of unique addresses that minted volatility tokens: {}\".format(minter_addresses_by_chain_df[minter_addresses_by_chain_df[\"chain\"] == 'POLYGON'][\"From\"].values[0]))\n",
        "print(\"ARBITRUM: Number of unique addresses that minted volatility tokens: {}\".format(minter_addresses_by_chain_df[minter_addresses_by_chain_df[\"chain\"] == 'ARBITRUM'][\"From\"].values[0]))"
      ],
      "execution_count": 137,
      "outputs": [
        {
          "output_type": "stream",
          "name": "stdout",
          "text": [
            "ETHEREUM: Number of unique addresses that minted volatility tokens: 764\n",
            "POLYGON: Number of unique addresses that minted volatility tokens: 4724\n",
            "ARBITRUM: Number of unique addresses that minted volatility tokens: 135\n"
          ]
        }
      ]
    },
    {
      "cell_type": "markdown",
      "metadata": {
        "id": "k12X7Kqbwp7a"
      },
      "source": [
        "## Minters Bucketing"
      ]
    },
    {
      "cell_type": "code",
      "metadata": {
        "id": "dWZPOarTwukl"
      },
      "source": [
        "# Histogram for number of times interacting wtih protocol and values\n",
        "minter_address_counts_df = pd.Series(minter_addresses_df[\"From\"].value_counts(), name='Cumulative Number of Mints').to_frame()"
      ],
      "execution_count": 138,
      "outputs": []
    },
    {
      "cell_type": "markdown",
      "metadata": {
        "id": "oNBxmcqF0EUM"
      },
      "source": [
        "### Cumulative Mints by User\n",
        "\n",
        "The histogram below shows the cumulative number of mints (the number of mints that an address has performed) of each user.  \n",
        "\n",
        "The x-axis \"Cumulative Number of Mints\" shows the groupings (bins) of the users and the y-axis \"count\" shows the number of unique users that fall into this grouping.\n",
        "\n",
        "**Example**: At Cumulative Number of Mints = 1 on the x-axis, the count value is 4695 - this means that there are 4695 users that have performed a Mint once  \n",
        "\n",
        "The purpose of the histogram is to enable an overall view on the Cumulative Mints performed by each user across the dataset"
      ]
    },
    {
      "cell_type": "code",
      "metadata": {
        "colab": {
          "base_uri": "https://localhost:8080/",
          "height": 542
        },
        "id": "IjiNYd4lVMWS",
        "outputId": "fb6c7484-b1b5-4b7d-82f1-5053c5532a16"
      },
      "source": [
        "fig = px.histogram(\n",
        "    minter_address_counts_df, \n",
        "    title='Histogram of Cumulative Mints by User',\n",
        "    x='Cumulative Number of Mints', \n",
        "    marginal=\"rug\")\n",
        "fig.show()"
      ],
      "execution_count": 139,
      "outputs": [
        {
          "output_type": "display_data",
          "data": {
            "text/html": [
              "<html>\n",
              "<head><meta charset=\"utf-8\" /></head>\n",
              "<body>\n",
              "    <div>\n",
              "            <script src=\"https://cdnjs.cloudflare.com/ajax/libs/mathjax/2.7.5/MathJax.js?config=TeX-AMS-MML_SVG\"></script><script type=\"text/javascript\">if (window.MathJax) {MathJax.Hub.Config({SVG: {font: \"STIX-Web\"}});}</script>\n",
              "                <script type=\"text/javascript\">window.PlotlyConfig = {MathJaxConfig: 'local'};</script>\n",
              "        <script src=\"https://cdn.plot.ly/plotly-latest.min.js\"></script>    \n",
              "            <div id=\"34c35a57-9df8-4b29-94ff-2ec262cf19b7\" class=\"plotly-graph-div\" style=\"height:525px; width:100%;\"></div>\n",
              "            <script type=\"text/javascript\">\n",
              "                \n",
              "                    window.PLOTLYENV=window.PLOTLYENV || {};\n",
              "                    \n",
              "                if (document.getElementById(\"34c35a57-9df8-4b29-94ff-2ec262cf19b7\")) {\n",
              "                    Plotly.newPlot(\n",
              "                        '34c35a57-9df8-4b29-94ff-2ec262cf19b7',\n",
              "                        [{\"alignmentgroup\": \"True\", \"bingroup\": \"x\", \"hoverlabel\": {\"namelength\": 0}, \"hovertemplate\": \"Cumulative Number of Mints=%{x}<br>count=%{y}\", \"legendgroup\": \"\", \"marker\": {\"color\": \"#636efa\"}, \"name\": \"\", \"offsetgroup\": \"\", \"orientation\": \"v\", \"showlegend\": false, \"type\": \"histogram\", \"x\": [21, 10, 7, 7, 6, 6, 5, 5, 5, 5, 5, 5, 5, 5, 5, 5, 4, 4, 4, 4, 4, 4, 4, 4, 4, 4, 4, 4, 4, 4, 4, 4, 4, 4, 4, 4, 4, 4, 4, 4, 4, 4, 4, 4, 4, 4, 4, 4, 4, 4, 4, 4, 3, 3, 3, 3, 3, 3, 3, 3, 3, 3, 3, 3, 3, 3, 3, 3, 3, 3, 3, 3, 3, 3, 3, 3, 3, 3, 3, 3, 3, 3, 3, 3, 3, 3, 3, 3, 3, 3, 3, 3, 3, 3, 3, 3, 3, 3, 3, 3, 3, 3, 3, 3, 3, 3, 3, 3, 3, 3, 3, 3, 3, 3, 3, 3, 3, 3, 3, 3, 3, 3, 3, 3, 3, 3, 3, 3, 3, 3, 3, 3, 3, 3, 3, 3, 3, 3, 3, 3, 3, 3, 3, 3, 3, 3, 3, 3, 3, 3, 3, 3, 3, 3, 3, 3, 3, 2, 2, 2, 2, 2, 2, 2, 2, 2, 2, 2, 2, 2, 2, 2, 2, 2, 2, 2, 2, 2, 2, 2, 2, 2, 2, 2, 2, 2, 2, 2, 2, 2, 2, 2, 2, 2, 2, 2, 2, 2, 2, 2, 2, 2, 2, 2, 2, 2, 2, 2, 2, 2, 2, 2, 2, 2, 2, 2, 2, 2, 2, 2, 2, 2, 2, 2, 2, 2, 2, 2, 2, 2, 2, 2, 2, 2, 2, 2, 2, 2, 2, 2, 2, 2, 2, 2, 2, 2, 2, 2, 2, 2, 2, 2, 2, 2, 2, 2, 2, 2, 2, 2, 2, 2, 2, 2, 2, 2, 2, 2, 2, 2, 2, 2, 2, 2, 2, 2, 2, 2, 2, 2, 2, 2, 2, 2, 2, 2, 2, 2, 2, 2, 2, 2, 2, 2, 2, 2, 2, 2, 2, 2, 2, 2, 2, 2, 2, 2, 2, 2, 2, 2, 2, 2, 2, 2, 2, 2, 2, 2, 2, 2, 2, 2, 2, 2, 2, 2, 2, 2, 2, 2, 2, 2, 2, 2, 2, 2, 2, 2, 2, 2, 2, 2, 2, 2, 2, 2, 2, 2, 2, 2, 2, 2, 2, 2, 2, 2, 2, 2, 2, 2, 2, 2, 2, 2, 2, 2, 2, 2, 2, 2, 2, 2, 2, 2, 2, 2, 2, 2, 2, 2, 2, 2, 2, 2, 2, 2, 2, 2, 2, 2, 2, 2, 2, 2, 2, 2, 2, 2, 2, 2, 2, 2, 2, 2, 2, 2, 2, 2, 2, 2, 2, 2, 2, 2, 2, 2, 2, 2, 2, 2, 2, 2, 2, 2, 2, 2, 2, 2, 2, 2, 2, 2, 2, 2, 2, 2, 2, 2, 2, 2, 2, 2, 2, 2, 2, 2, 2, 2, 2, 2, 2, 2, 2, 2, 2, 2, 2, 2, 2, 2, 2, 2, 2, 2, 2, 2, 2, 2, 2, 2, 2, 2, 2, 2, 2, 2, 2, 2, 2, 2, 2, 2, 2, 2, 2, 2, 2, 2, 2, 2, 2, 2, 2, 2, 2, 2, 2, 2, 2, 2, 2, 2, 2, 2, 2, 2, 2, 2, 2, 2, 2, 2, 2, 2, 2, 2, 2, 2, 2, 2, 2, 2, 2, 2, 2, 2, 2, 2, 2, 2, 2, 2, 2, 2, 2, 2, 2, 2, 2, 2, 2, 2, 2, 2, 2, 2, 2, 2, 2, 2, 2, 2, 2, 2, 2, 2, 2, 2, 2, 2, 2, 2, 2, 2, 2, 2, 2, 2, 2, 2, 2, 2, 2, 2, 2, 2, 2, 2, 2, 2, 2, 2, 2, 2, 2, 2, 2, 2, 2, 2, 2, 2, 2, 2, 2, 2, 2, 2, 2, 2, 2, 2, 2, 2, 2, 2, 2, 2, 2, 2, 2, 2, 2, 2, 2, 2, 2, 2, 2, 2, 2, 2, 2, 2, 2, 2, 2, 2, 2, 2, 2, 2, 2, 2, 2, 2, 2, 2, 2, 2, 2, 2, 2, 2, 2, 2, 2, 2, 2, 2, 2, 2, 2, 2, 2, 2, 2, 2, 2, 2, 2, 2, 2, 2, 2, 2, 2, 2, 2, 2, 2, 2, 2, 2, 2, 2, 2, 2, 2, 2, 2, 2, 2, 2, 2, 2, 2, 2, 2, 2, 2, 2, 2, 2, 2, 2, 2, 2, 2, 2, 2, 2, 2, 2, 2, 2, 2, 2, 2, 2, 2, 2, 2, 2, 2, 2, 2, 2, 2, 2, 2, 2, 2, 2, 2, 2, 2, 2, 2, 2, 2, 2, 2, 2, 2, 2, 2, 2, 2, 2, 2, 2, 2, 2, 2, 2, 2, 2, 2, 2, 2, 2, 2, 2, 2, 2, 2, 2, 2, 2, 2, 2, 2, 2, 2, 2, 2, 2, 2, 2, 2, 2, 2, 2, 2, 2, 2, 2, 2, 2, 2, 2, 2, 2, 2, 2, 2, 2, 2, 2, 2, 2, 2, 2, 2, 2, 2, 2, 2, 2, 2, 2, 2, 2, 2, 2, 2, 2, 2, 2, 2, 2, 2, 2, 2, 2, 2, 2, 2, 2, 2, 2, 2, 2, 2, 2, 2, 2, 2, 2, 2, 2, 2, 2, 2, 2, 2, 2, 2, 2, 2, 2, 2, 2, 2, 2, 2, 2, 2, 2, 2, 2, 2, 2, 2, 2, 2, 2, 2, 2, 2, 2, 2, 2, 2, 2, 2, 2, 2, 2, 2, 2, 2, 2, 2, 2, 2, 2, 2, 2, 2, 2, 2, 2, 2, 2, 2, 2, 2, 2, 2, 2, 2, 2, 2, 2, 2, 2, 2, 2, 1, 1, 1, 1, 1, 1, 1, 1, 1, 1, 1, 1, 1, 1, 1, 1, 1, 1, 1, 1, 1, 1, 1, 1, 1, 1, 1, 1, 1, 1, 1, 1, 1, 1, 1, 1, 1, 1, 1, 1, 1, 1, 1, 1, 1, 1, 1, 1, 1, 1, 1, 1, 1, 1, 1, 1, 1, 1, 1, 1, 1, 1, 1, 1, 1, 1, 1, 1, 1, 1, 1, 1, 1, 1, 1, 1, 1, 1, 1, 1, 1, 1, 1, 1, 1, 1, 1, 1, 1, 1, 1, 1, 1, 1, 1, 1, 1, 1, 1, 1, 1, 1, 1, 1, 1, 1, 1, 1, 1, 1, 1, 1, 1, 1, 1, 1, 1, 1, 1, 1, 1, 1, 1, 1, 1, 1, 1, 1, 1, 1, 1, 1, 1, 1, 1, 1, 1, 1, 1, 1, 1, 1, 1, 1, 1, 1, 1, 1, 1, 1, 1, 1, 1, 1, 1, 1, 1, 1, 1, 1, 1, 1, 1, 1, 1, 1, 1, 1, 1, 1, 1, 1, 1, 1, 1, 1, 1, 1, 1, 1, 1, 1, 1, 1, 1, 1, 1, 1, 1, 1, 1, 1, 1, 1, 1, 1, 1, 1, 1, 1, 1, 1, 1, 1, 1, 1, 1, 1, 1, 1, 1, 1, 1, 1, 1, 1, 1, 1, 1, 1, 1, 1, 1, 1, 1, 1, 1, 1, 1, 1, 1, 1, 1, 1, 1, 1, 1, 1, 1, 1, 1, 1, 1, 1, 1, 1, 1, 1, 1, 1, 1, 1, 1, 1, 1, 1, 1, 1, 1, 1, 1, 1, 1, 1, 1, 1, 1, 1, 1, 1, 1, 1, 1, 1, 1, 1, 1, 1, 1, 1, 1, 1, 1, 1, 1, 1, 1, 1, 1, 1, 1, 1, 1, 1, 1, 1, 1, 1, 1, 1, 1, 1, 1, 1, 1, 1, 1, 1, 1, 1, 1, 1, 1, 1, 1, 1, 1, 1, 1, 1, 1, 1, 1, 1, 1, 1, 1, 1, 1, 1, 1, 1, 1, 1, 1, 1, 1, 1, 1, 1, 1, 1, 1, 1, 1, 1, 1, 1, 1, 1, 1, 1, 1, 1, 1, 1, 1, 1, 1, 1, 1, 1, 1, 1, 1, 1, 1, 1, 1, 1, 1, 1, 1, 1, 1, 1, 1, 1, 1, 1, 1, 1, 1, 1, 1, 1, 1, 1, 1, 1, 1, 1, 1, 1, 1, 1, 1, 1, 1, 1, 1, 1, 1, 1, 1, 1, 1, 1, 1, 1, 1, 1, 1, 1, 1, 1, 1, 1, 1, 1, 1, 1, 1, 1, 1, 1, 1, 1, 1, 1, 1, 1, 1, 1, 1, 1, 1, 1, 1, 1, 1, 1, 1, 1, 1, 1, 1, 1, 1, 1, 1, 1, 1, 1, 1, 1, 1, 1, 1, 1, 1, 1, 1, 1, 1, 1, 1, 1, 1, 1, 1, 1, 1, 1, 1, 1, 1, 1, 1, 1, 1, 1, 1, 1, 1, 1, 1, 1, 1, 1, 1, 1, 1, 1, 1, 1, 1, 1, 1, 1, 1, 1, 1, 1, 1, 1, 1, 1, 1, 1, 1, 1, 1, 1, 1, 1, 1, 1, 1, 1, 1, 1, 1, 1, 1, 1, 1, 1, 1, 1, 1, 1, 1, 1, 1, 1, 1, 1, 1, 1, 1, 1, 1, 1, 1, 1, 1, 1, 1, 1, 1, 1, 1, 1, 1, 1, 1, 1, 1, 1, 1, 1, 1, 1, 1, 1, 1, 1, 1, 1, 1, 1, 1, 1, 1, 1, 1, 1, 1, 1, 1, 1, 1, 1, 1, 1, 1, 1, 1, 1, 1, 1, 1, 1, 1, 1, 1, 1, 1, 1, 1, 1, 1, 1, 1, 1, 1, 1, 1, 1, 1, 1, 1, 1, 1, 1, 1, 1, 1, 1, 1, 1, 1, 1, 1, 1, 1, 1, 1, 1, 1, 1, 1, 1, 1, 1, 1, 1, 1, 1, 1, 1, 1, 1, 1, 1, 1, 1, 1, 1, 1, 1, 1, 1, 1, 1, 1, 1, 1, 1, 1, 1, 1, 1, 1, 1, 1, 1, 1, 1, 1, 1, 1, 1, 1, 1, 1, 1, 1, 1, 1, 1, 1, 1, 1, 1, 1, 1, 1, 1, 1, 1, 1, 1, 1, 1, 1, 1, 1, 1, 1, 1, 1, 1, 1, 1, 1, 1, 1, 1, 1, 1, 1, 1, 1, 1, 1, 1, 1, 1, 1, 1, 1, 1, 1, 1, 1, 1, 1, 1, 1, 1, 1, 1, 1, 1, 1, 1, 1, 1, 1, 1, 1, 1, 1, 1, 1, 1, 1, 1, 1, 1, 1, 1, 1, 1, 1, 1, 1, 1, 1, 1, 1, 1, 1, 1, 1, 1, 1, 1, 1, 1, 1, 1, 1, 1, 1, 1, 1, 1, 1, 1, 1, 1, 1, 1, 1, 1, 1, 1, 1, 1, 1, 1, 1, 1, 1, 1, 1, 1, 1, 1, 1, 1, 1, 1, 1, 1, 1, 1, 1, 1, 1, 1, 1, 1, 1, 1, 1, 1, 1, 1, 1, 1, 1, 1, 1, 1, 1, 1, 1, 1, 1, 1, 1, 1, 1, 1, 1, 1, 1, 1, 1, 1, 1, 1, 1, 1, 1, 1, 1, 1, 1, 1, 1, 1, 1, 1, 1, 1, 1, 1, 1, 1, 1, 1, 1, 1, 1, 1, 1, 1, 1, 1, 1, 1, 1, 1, 1, 1, 1, 1, 1, 1, 1, 1, 1, 1, 1, 1, 1, 1, 1, 1, 1, 1, 1, 1, 1, 1, 1, 1, 1, 1, 1, 1, 1, 1, 1, 1, 1, 1, 1, 1, 1, 1, 1, 1, 1, 1, 1, 1, 1, 1, 1, 1, 1, 1, 1, 1, 1, 1, 1, 1, 1, 1, 1, 1, 1, 1, 1, 1, 1, 1, 1, 1, 1, 1, 1, 1, 1, 1, 1, 1, 1, 1, 1, 1, 1, 1, 1, 1, 1, 1, 1, 1, 1, 1, 1, 1, 1, 1, 1, 1, 1, 1, 1, 1, 1, 1, 1, 1, 1, 1, 1, 1, 1, 1, 1, 1, 1, 1, 1, 1, 1, 1, 1, 1, 1, 1, 1, 1, 1, 1, 1, 1, 1, 1, 1, 1, 1, 1, 1, 1, 1, 1, 1, 1, 1, 1, 1, 1, 1, 1, 1, 1, 1, 1, 1, 1, 1, 1, 1, 1, 1, 1, 1, 1, 1, 1, 1, 1, 1, 1, 1, 1, 1, 1, 1, 1, 1, 1, 1, 1, 1, 1, 1, 1, 1, 1, 1, 1, 1, 1, 1, 1, 1, 1, 1, 1, 1, 1, 1, 1, 1, 1, 1, 1, 1, 1, 1, 1, 1, 1, 1, 1, 1, 1, 1, 1, 1, 1, 1, 1, 1, 1, 1, 1, 1, 1, 1, 1, 1, 1, 1, 1, 1, 1, 1, 1, 1, 1, 1, 1, 1, 1, 1, 1, 1, 1, 1, 1, 1, 1, 1, 1, 1, 1, 1, 1, 1, 1, 1, 1, 1, 1, 1, 1, 1, 1, 1, 1, 1, 1, 1, 1, 1, 1, 1, 1, 1, 1, 1, 1, 1, 1, 1, 1, 1, 1, 1, 1, 1, 1, 1, 1, 1, 1, 1, 1, 1, 1, 1, 1, 1, 1, 1, 1, 1, 1, 1, 1, 1, 1, 1, 1, 1, 1, 1, 1, 1, 1, 1, 1, 1, 1, 1, 1, 1, 1, 1, 1, 1, 1, 1, 1, 1, 1, 1, 1, 1, 1, 1, 1, 1, 1, 1, 1, 1, 1, 1, 1, 1, 1, 1, 1, 1, 1, 1, 1, 1, 1, 1, 1, 1, 1, 1, 1, 1, 1, 1, 1, 1, 1, 1, 1, 1, 1, 1, 1, 1, 1, 1, 1, 1, 1, 1, 1, 1, 1, 1, 1, 1, 1, 1, 1, 1, 1, 1, 1, 1, 1, 1, 1, 1, 1, 1, 1, 1, 1, 1, 1, 1, 1, 1, 1, 1, 1, 1, 1, 1, 1, 1, 1, 1, 1, 1, 1, 1, 1, 1, 1, 1, 1, 1, 1, 1, 1, 1, 1, 1, 1, 1, 1, 1, 1, 1, 1, 1, 1, 1, 1, 1, 1, 1, 1, 1, 1, 1, 1, 1, 1, 1, 1, 1, 1, 1, 1, 1, 1, 1, 1, 1, 1, 1, 1, 1, 1, 1, 1, 1, 1, 1, 1, 1, 1, 1, 1, 1, 1, 1, 1, 1, 1, 1, 1, 1, 1, 1, 1, 1, 1, 1, 1, 1, 1, 1, 1, 1, 1, 1, 1, 1, 1, 1, 1, 1, 1, 1, 1, 1, 1, 1, 1, 1, 1, 1, 1, 1, 1, 1, 1, 1, 1, 1, 1, 1, 1, 1, 1, 1, 1, 1, 1, 1, 1, 1, 1, 1, 1, 1, 1, 1, 1, 1, 1, 1, 1, 1, 1, 1, 1, 1, 1, 1, 1, 1, 1, 1, 1, 1, 1, 1, 1, 1, 1, 1, 1, 1, 1, 1, 1, 1, 1, 1, 1, 1, 1, 1, 1, 1, 1, 1, 1, 1, 1, 1, 1, 1, 1, 1, 1, 1, 1, 1, 1, 1, 1, 1, 1, 1, 1, 1, 1, 1, 1, 1, 1, 1, 1, 1, 1, 1, 1, 1, 1, 1, 1, 1, 1, 1, 1, 1, 1, 1, 1, 1, 1, 1, 1, 1, 1, 1, 1, 1, 1, 1, 1, 1, 1, 1, 1, 1, 1, 1, 1, 1, 1, 1, 1, 1, 1, 1, 1, 1, 1, 1, 1, 1, 1, 1, 1, 1, 1, 1, 1, 1, 1, 1, 1, 1, 1, 1, 1, 1, 1, 1, 1, 1, 1, 1, 1, 1, 1, 1, 1, 1, 1, 1, 1, 1, 1, 1, 1, 1, 1, 1, 1, 1, 1, 1, 1, 1, 1, 1, 1, 1, 1, 1, 1, 1, 1, 1, 1, 1, 1, 1, 1, 1, 1, 1, 1, 1, 1, 1, 1, 1, 1, 1, 1, 1, 1, 1, 1, 1, 1, 1, 1, 1, 1, 1, 1, 1, 1, 1, 1, 1, 1, 1, 1, 1, 1, 1, 1, 1, 1, 1, 1, 1, 1, 1, 1, 1, 1, 1, 1, 1, 1, 1, 1, 1, 1, 1, 1, 1, 1, 1, 1, 1, 1, 1, 1, 1, 1, 1, 1, 1, 1, 1, 1, 1, 1, 1, 1, 1, 1, 1, 1, 1, 1, 1, 1, 1, 1, 1, 1, 1, 1, 1, 1, 1, 1, 1, 1, 1, 1, 1, 1, 1, 1, 1, 1, 1, 1, 1, 1, 1, 1, 1, 1, 1, 1, 1, 1, 1, 1, 1, 1, 1, 1, 1, 1, 1, 1, 1, 1, 1, 1, 1, 1, 1, 1, 1, 1, 1, 1, 1, 1, 1, 1, 1, 1, 1, 1, 1, 1, 1, 1, 1, 1, 1, 1, 1, 1, 1, 1, 1, 1, 1, 1, 1, 1, 1, 1, 1, 1, 1, 1, 1, 1, 1, 1, 1, 1, 1, 1, 1, 1, 1, 1, 1, 1, 1, 1, 1, 1, 1, 1, 1, 1, 1, 1, 1, 1, 1, 1, 1, 1, 1, 1, 1, 1, 1, 1, 1, 1, 1, 1, 1, 1, 1, 1, 1, 1, 1, 1, 1, 1, 1, 1, 1, 1, 1, 1, 1, 1, 1, 1, 1, 1, 1, 1, 1, 1, 1, 1, 1, 1, 1, 1, 1, 1, 1, 1, 1, 1, 1, 1, 1, 1, 1, 1, 1, 1, 1, 1, 1, 1, 1, 1, 1, 1, 1, 1, 1, 1, 1, 1, 1, 1, 1, 1, 1, 1, 1, 1, 1, 1, 1, 1, 1, 1, 1, 1, 1, 1, 1, 1, 1, 1, 1, 1, 1, 1, 1, 1, 1, 1, 1, 1, 1, 1, 1, 1, 1, 1, 1, 1, 1, 1, 1, 1, 1, 1, 1, 1, 1, 1, 1, 1, 1, 1, 1, 1, 1, 1, 1, 1, 1, 1, 1, 1, 1, 1, 1, 1, 1, 1, 1, 1, 1, 1, 1, 1, 1, 1, 1, 1, 1, 1, 1, 1, 1, 1, 1, 1, 1, 1, 1, 1, 1, 1, 1, 1, 1, 1, 1, 1, 1, 1, 1, 1, 1, 1, 1, 1, 1, 1, 1, 1, 1, 1, 1, 1, 1, 1, 1, 1, 1, 1, 1, 1, 1, 1, 1, 1, 1, 1, 1, 1, 1, 1, 1, 1, 1, 1, 1, 1, 1, 1, 1, 1, 1, 1, 1, 1, 1, 1, 1, 1, 1, 1, 1, 1, 1, 1, 1, 1, 1, 1, 1, 1, 1, 1, 1, 1, 1, 1, 1, 1, 1, 1, 1, 1, 1, 1, 1, 1, 1, 1, 1, 1, 1, 1, 1, 1, 1, 1, 1, 1, 1, 1, 1, 1, 1, 1, 1, 1, 1, 1, 1, 1, 1, 1, 1, 1, 1, 1, 1, 1, 1, 1, 1, 1, 1, 1, 1, 1, 1, 1, 1, 1, 1, 1, 1, 1, 1, 1, 1, 1, 1, 1, 1, 1, 1, 1, 1, 1, 1, 1, 1, 1, 1, 1, 1, 1, 1, 1, 1, 1, 1, 1, 1, 1, 1, 1, 1, 1, 1, 1, 1, 1, 1, 1, 1, 1, 1, 1, 1, 1, 1, 1, 1, 1, 1, 1, 1, 1, 1, 1, 1, 1, 1, 1, 1, 1, 1, 1, 1, 1, 1, 1, 1, 1, 1, 1, 1, 1, 1, 1, 1, 1, 1, 1, 1, 1, 1, 1, 1, 1, 1, 1, 1, 1, 1, 1, 1, 1, 1, 1, 1, 1, 1, 1, 1, 1, 1, 1, 1, 1, 1, 1, 1, 1, 1, 1, 1, 1, 1, 1, 1, 1, 1, 1, 1, 1, 1, 1, 1, 1, 1, 1, 1, 1, 1, 1, 1, 1, 1, 1, 1, 1, 1, 1, 1, 1, 1, 1, 1, 1, 1, 1, 1, 1, 1, 1, 1, 1, 1, 1, 1, 1, 1, 1, 1, 1, 1, 1, 1, 1, 1, 1, 1, 1, 1, 1, 1, 1, 1, 1, 1, 1, 1, 1, 1, 1, 1, 1, 1, 1, 1, 1, 1, 1, 1, 1, 1, 1, 1, 1, 1, 1, 1, 1, 1, 1, 1, 1, 1, 1, 1, 1, 1, 1, 1, 1, 1, 1, 1, 1, 1, 1, 1, 1, 1, 1, 1, 1, 1, 1, 1, 1, 1, 1, 1, 1, 1, 1, 1, 1, 1, 1, 1, 1, 1, 1, 1, 1, 1, 1, 1, 1, 1, 1, 1, 1, 1, 1, 1, 1, 1, 1, 1, 1, 1, 1, 1, 1, 1, 1, 1, 1, 1, 1, 1, 1, 1, 1, 1, 1, 1, 1, 1, 1, 1, 1, 1, 1, 1, 1, 1, 1, 1, 1, 1, 1, 1, 1, 1, 1, 1, 1, 1, 1, 1, 1, 1, 1, 1, 1, 1, 1, 1, 1, 1, 1, 1, 1, 1, 1, 1, 1, 1, 1, 1, 1, 1, 1, 1, 1, 1, 1, 1, 1, 1, 1, 1, 1, 1, 1, 1, 1, 1, 1, 1, 1, 1, 1, 1, 1, 1, 1, 1, 1, 1, 1, 1, 1, 1, 1, 1, 1, 1, 1, 1, 1, 1, 1, 1, 1, 1, 1, 1, 1, 1, 1, 1, 1, 1, 1, 1, 1, 1, 1, 1, 1, 1, 1, 1, 1, 1, 1, 1, 1, 1, 1, 1, 1, 1, 1, 1, 1, 1, 1, 1, 1, 1, 1, 1, 1, 1, 1, 1, 1, 1, 1, 1, 1, 1, 1, 1, 1, 1, 1, 1, 1, 1, 1, 1, 1, 1, 1, 1, 1, 1, 1, 1, 1, 1, 1, 1, 1, 1, 1, 1, 1, 1, 1, 1, 1, 1, 1, 1, 1, 1, 1, 1, 1, 1, 1, 1, 1, 1, 1, 1, 1, 1, 1, 1, 1, 1, 1, 1, 1, 1, 1, 1, 1, 1, 1, 1, 1, 1, 1, 1, 1, 1, 1, 1, 1, 1, 1, 1, 1, 1, 1, 1, 1, 1, 1, 1, 1, 1, 1, 1, 1, 1, 1, 1, 1, 1, 1, 1, 1, 1, 1, 1, 1, 1, 1, 1, 1, 1, 1, 1, 1, 1, 1, 1, 1, 1, 1, 1, 1, 1, 1, 1, 1, 1, 1, 1, 1, 1, 1, 1, 1, 1, 1, 1, 1, 1, 1, 1, 1, 1, 1, 1, 1, 1, 1, 1, 1, 1, 1, 1, 1, 1, 1, 1, 1, 1, 1, 1, 1, 1, 1, 1, 1, 1, 1, 1, 1, 1, 1, 1, 1, 1, 1, 1, 1, 1, 1, 1, 1, 1, 1, 1, 1, 1, 1, 1, 1, 1, 1, 1, 1, 1, 1, 1, 1, 1, 1, 1, 1, 1, 1, 1, 1, 1, 1, 1, 1, 1, 1, 1, 1, 1, 1, 1, 1, 1, 1, 1, 1, 1, 1, 1, 1, 1, 1, 1, 1, 1, 1, 1, 1, 1, 1, 1, 1, 1, 1, 1, 1, 1, 1, 1, 1, 1, 1, 1, 1, 1, 1, 1, 1, 1, 1, 1, 1, 1, 1, 1, 1, 1, 1, 1, 1, 1, 1, 1, 1, 1, 1, 1, 1, 1, 1, 1, 1, 1, 1, 1, 1, 1, 1, 1, 1, 1, 1, 1, 1, 1, 1, 1, 1, 1, 1, 1, 1, 1, 1, 1, 1, 1, 1, 1, 1, 1, 1, 1, 1, 1, 1, 1, 1, 1, 1, 1, 1, 1, 1, 1, 1, 1, 1, 1, 1, 1, 1, 1, 1, 1, 1, 1, 1, 1, 1, 1, 1, 1, 1, 1, 1, 1, 1, 1, 1, 1, 1, 1, 1, 1, 1, 1, 1, 1, 1, 1, 1, 1, 1, 1, 1, 1, 1, 1, 1, 1, 1, 1, 1, 1, 1, 1, 1, 1, 1, 1, 1, 1, 1, 1, 1, 1, 1, 1, 1, 1, 1, 1, 1, 1, 1, 1, 1, 1, 1, 1, 1, 1, 1, 1, 1, 1, 1, 1, 1, 1, 1, 1, 1, 1, 1, 1, 1, 1, 1, 1, 1, 1, 1, 1, 1, 1, 1, 1, 1, 1, 1, 1, 1, 1, 1, 1, 1, 1, 1, 1, 1, 1, 1, 1, 1, 1, 1, 1, 1, 1, 1, 1, 1, 1, 1, 1, 1, 1, 1, 1, 1, 1, 1, 1, 1, 1, 1, 1, 1, 1, 1, 1, 1, 1, 1, 1, 1, 1, 1, 1, 1, 1, 1, 1, 1, 1, 1, 1, 1, 1, 1, 1, 1, 1, 1, 1, 1, 1, 1, 1, 1, 1, 1, 1, 1, 1, 1, 1, 1, 1, 1, 1, 1, 1, 1, 1, 1, 1, 1, 1, 1, 1, 1, 1, 1, 1, 1, 1, 1, 1, 1, 1, 1, 1, 1, 1, 1, 1, 1, 1, 1, 1, 1, 1, 1, 1, 1, 1, 1, 1, 1, 1, 1, 1, 1, 1, 1, 1, 1, 1, 1, 1, 1, 1, 1, 1, 1, 1, 1, 1, 1, 1, 1, 1, 1, 1, 1, 1, 1, 1, 1, 1, 1, 1, 1, 1, 1, 1, 1, 1, 1, 1, 1, 1, 1, 1, 1, 1, 1, 1, 1, 1, 1, 1, 1, 1, 1, 1, 1, 1, 1, 1, 1, 1, 1, 1, 1, 1, 1, 1, 1, 1, 1, 1, 1, 1, 1, 1, 1, 1, 1, 1, 1, 1, 1, 1, 1, 1, 1, 1, 1, 1, 1, 1, 1, 1, 1, 1, 1, 1, 1, 1, 1, 1, 1, 1, 1, 1, 1, 1, 1, 1, 1, 1, 1, 1, 1, 1, 1, 1, 1, 1, 1, 1, 1, 1, 1, 1, 1, 1, 1, 1, 1, 1, 1, 1, 1, 1, 1, 1, 1, 1, 1, 1, 1, 1, 1, 1, 1, 1, 1, 1, 1, 1, 1, 1, 1, 1, 1, 1, 1, 1, 1, 1, 1, 1, 1, 1, 1, 1, 1, 1, 1, 1, 1, 1, 1, 1, 1, 1, 1, 1, 1, 1, 1, 1, 1, 1, 1, 1, 1, 1, 1, 1, 1, 1, 1, 1, 1, 1, 1, 1, 1, 1, 1, 1, 1, 1, 1, 1, 1, 1, 1, 1, 1, 1, 1, 1, 1, 1, 1, 1, 1, 1, 1, 1, 1, 1, 1, 1, 1, 1, 1, 1, 1, 1, 1, 1, 1, 1, 1, 1, 1, 1, 1, 1, 1, 1, 1, 1, 1, 1, 1, 1, 1, 1, 1, 1, 1, 1, 1, 1, 1, 1, 1, 1, 1, 1, 1, 1, 1, 1, 1, 1, 1, 1, 1, 1, 1, 1, 1, 1, 1, 1, 1, 1, 1, 1, 1, 1, 1, 1, 1, 1, 1, 1, 1, 1, 1, 1, 1, 1, 1, 1, 1, 1, 1, 1, 1, 1, 1, 1, 1, 1, 1, 1, 1, 1, 1, 1, 1, 1, 1, 1, 1, 1, 1, 1, 1, 1, 1, 1, 1, 1, 1, 1, 1, 1, 1, 1, 1, 1, 1, 1, 1, 1, 1, 1, 1, 1, 1, 1, 1, 1, 1, 1, 1, 1, 1, 1, 1, 1, 1, 1, 1, 1, 1, 1, 1, 1, 1, 1, 1, 1, 1, 1, 1, 1, 1, 1, 1, 1, 1, 1, 1, 1, 1, 1, 1, 1, 1, 1, 1, 1, 1, 1, 1, 1, 1, 1, 1, 1, 1, 1, 1, 1, 1, 1, 1, 1, 1, 1, 1, 1, 1, 1, 1, 1, 1, 1, 1, 1, 1, 1, 1, 1, 1, 1, 1, 1, 1, 1, 1, 1, 1, 1, 1, 1, 1, 1, 1, 1, 1, 1, 1, 1, 1, 1, 1, 1, 1, 1, 1, 1, 1, 1, 1, 1, 1, 1, 1, 1, 1, 1, 1, 1, 1, 1, 1, 1, 1, 1, 1, 1, 1, 1, 1, 1, 1, 1, 1, 1, 1, 1, 1, 1, 1, 1, 1, 1, 1, 1, 1, 1, 1, 1, 1, 1, 1, 1, 1, 1, 1, 1, 1, 1, 1, 1, 1, 1, 1, 1, 1, 1, 1, 1, 1, 1, 1, 1, 1, 1, 1, 1, 1, 1, 1, 1, 1, 1, 1, 1, 1, 1, 1, 1, 1, 1, 1, 1, 1, 1, 1, 1, 1, 1, 1, 1, 1, 1, 1, 1, 1, 1, 1, 1, 1, 1, 1, 1, 1, 1, 1, 1, 1, 1, 1, 1, 1, 1, 1, 1, 1, 1, 1, 1, 1, 1, 1, 1, 1, 1, 1, 1, 1, 1, 1, 1, 1, 1, 1, 1, 1, 1, 1, 1, 1, 1, 1, 1, 1, 1, 1, 1, 1, 1, 1, 1, 1, 1, 1, 1, 1, 1, 1, 1, 1, 1, 1, 1, 1, 1, 1, 1, 1, 1, 1, 1, 1, 1, 1, 1, 1, 1, 1, 1, 1, 1, 1, 1, 1, 1, 1, 1, 1, 1, 1, 1, 1, 1, 1, 1, 1, 1, 1, 1, 1, 1, 1, 1, 1, 1, 1, 1, 1, 1, 1, 1, 1, 1, 1, 1, 1, 1, 1, 1, 1, 1, 1, 1, 1, 1, 1, 1, 1, 1, 1, 1, 1, 1, 1, 1, 1, 1, 1, 1, 1, 1, 1, 1, 1, 1, 1, 1, 1, 1, 1, 1, 1, 1, 1, 1, 1, 1, 1, 1, 1, 1, 1, 1, 1, 1, 1, 1, 1, 1, 1, 1, 1, 1, 1, 1, 1, 1, 1, 1, 1, 1, 1, 1, 1, 1, 1, 1, 1, 1, 1, 1, 1, 1, 1, 1, 1, 1, 1, 1, 1, 1, 1, 1, 1, 1, 1, 1, 1, 1, 1, 1, 1, 1, 1, 1, 1, 1, 1, 1, 1, 1, 1, 1, 1, 1, 1, 1, 1, 1, 1, 1, 1, 1, 1, 1, 1, 1, 1, 1, 1, 1, 1, 1, 1, 1, 1, 1, 1, 1, 1, 1, 1, 1, 1, 1, 1, 1, 1, 1, 1, 1, 1, 1, 1, 1, 1, 1, 1, 1, 1, 1, 1, 1, 1, 1, 1, 1, 1, 1, 1, 1, 1, 1, 1, 1, 1, 1, 1, 1, 1, 1, 1, 1, 1, 1, 1, 1, 1, 1, 1, 1, 1, 1, 1, 1, 1, 1, 1, 1, 1, 1, 1, 1, 1, 1, 1, 1, 1, 1, 1, 1, 1, 1, 1, 1, 1, 1, 1, 1, 1, 1, 1, 1, 1, 1, 1, 1, 1, 1, 1, 1, 1, 1, 1, 1, 1, 1, 1, 1, 1, 1, 1, 1, 1, 1, 1, 1, 1, 1, 1, 1, 1, 1, 1, 1, 1, 1, 1, 1, 1, 1, 1, 1, 1, 1, 1, 1, 1, 1, 1, 1, 1, 1, 1, 1, 1, 1, 1, 1, 1, 1, 1, 1, 1, 1, 1, 1, 1, 1, 1, 1, 1, 1, 1, 1, 1, 1, 1, 1, 1, 1, 1, 1, 1, 1, 1, 1, 1, 1, 1, 1, 1, 1, 1, 1, 1, 1, 1, 1, 1, 1, 1, 1, 1, 1, 1, 1, 1, 1, 1, 1, 1, 1, 1, 1, 1, 1, 1, 1, 1, 1, 1, 1, 1, 1, 1, 1, 1, 1, 1, 1, 1, 1, 1, 1, 1, 1, 1, 1, 1, 1, 1, 1, 1, 1, 1, 1, 1, 1, 1, 1, 1, 1, 1, 1, 1, 1, 1, 1, 1, 1, 1, 1, 1, 1, 1, 1, 1, 1, 1, 1, 1, 1, 1, 1, 1, 1, 1, 1, 1, 1, 1, 1, 1, 1, 1, 1, 1, 1, 1, 1, 1, 1, 1, 1, 1, 1, 1, 1, 1, 1, 1, 1, 1, 1, 1, 1, 1, 1, 1, 1, 1, 1, 1, 1, 1, 1, 1, 1, 1, 1, 1, 1, 1, 1, 1, 1, 1, 1, 1, 1, 1, 1, 1, 1, 1, 1, 1, 1, 1, 1, 1, 1, 1, 1, 1, 1, 1, 1, 1, 1, 1, 1, 1, 1, 1, 1, 1, 1, 1, 1, 1, 1, 1, 1, 1, 1, 1, 1, 1, 1, 1, 1, 1, 1, 1, 1, 1, 1, 1, 1, 1, 1, 1, 1, 1, 1, 1, 1, 1, 1, 1, 1, 1, 1, 1, 1, 1, 1, 1, 1, 1, 1, 1, 1, 1, 1, 1, 1, 1, 1, 1, 1, 1, 1, 1, 1, 1, 1, 1, 1, 1, 1, 1, 1, 1, 1, 1, 1, 1, 1, 1, 1, 1, 1, 1, 1, 1, 1, 1, 1, 1, 1, 1, 1, 1, 1, 1, 1, 1, 1, 1, 1, 1, 1, 1, 1, 1, 1, 1, 1, 1, 1, 1, 1, 1, 1, 1, 1, 1, 1, 1, 1, 1, 1, 1, 1, 1, 1, 1, 1, 1, 1, 1, 1, 1, 1, 1, 1, 1, 1, 1, 1, 1, 1, 1, 1, 1, 1, 1, 1, 1, 1, 1, 1, 1, 1, 1, 1, 1, 1, 1, 1, 1, 1, 1, 1, 1, 1, 1, 1, 1, 1, 1, 1, 1, 1, 1, 1, 1, 1, 1, 1, 1, 1, 1, 1, 1, 1, 1, 1, 1, 1, 1, 1, 1, 1, 1, 1, 1, 1, 1, 1, 1, 1, 1, 1, 1, 1, 1, 1, 1, 1, 1, 1, 1, 1, 1, 1, 1, 1, 1, 1, 1, 1, 1, 1, 1, 1, 1, 1, 1, 1, 1, 1, 1, 1, 1, 1, 1, 1, 1, 1, 1, 1, 1, 1, 1, 1, 1, 1, 1, 1, 1, 1, 1, 1, 1, 1, 1, 1, 1, 1, 1, 1, 1, 1, 1, 1, 1, 1, 1, 1, 1, 1, 1, 1, 1, 1, 1, 1, 1, 1, 1, 1, 1, 1, 1, 1, 1, 1, 1, 1, 1, 1, 1, 1, 1, 1, 1, 1, 1, 1, 1, 1, 1, 1, 1, 1, 1, 1, 1, 1, 1, 1, 1, 1, 1, 1, 1, 1, 1, 1, 1, 1, 1, 1, 1, 1, 1, 1, 1, 1, 1, 1, 1, 1, 1, 1, 1, 1, 1, 1, 1, 1, 1, 1, 1, 1, 1, 1, 1, 1, 1, 1, 1, 1, 1, 1, 1, 1, 1, 1, 1, 1, 1, 1, 1, 1, 1, 1, 1, 1, 1, 1, 1, 1, 1, 1, 1, 1, 1, 1, 1, 1, 1, 1, 1, 1, 1, 1, 1, 1, 1, 1, 1, 1, 1, 1, 1, 1, 1, 1, 1, 1, 1, 1, 1, 1, 1, 1, 1, 1, 1, 1, 1, 1, 1, 1, 1, 1, 1, 1, 1, 1, 1, 1, 1, 1, 1, 1, 1, 1, 1, 1, 1, 1, 1, 1, 1, 1, 1, 1, 1, 1, 1, 1, 1, 1, 1, 1, 1, 1, 1, 1, 1, 1, 1, 1, 1, 1, 1, 1, 1, 1, 1, 1, 1, 1, 1, 1, 1, 1, 1, 1, 1, 1, 1, 1, 1, 1, 1, 1, 1, 1, 1, 1, 1, 1, 1, 1, 1, 1, 1, 1, 1, 1, 1, 1, 1, 1, 1, 1, 1, 1, 1, 1, 1, 1], \"xaxis\": \"x\", \"yaxis\": \"y\"}, {\"alignmentgroup\": \"True\", \"boxpoints\": \"all\", \"fillcolor\": \"rgba(255,255,255,0)\", \"hoverlabel\": {\"namelength\": 0}, \"hoveron\": \"points\", \"hovertemplate\": \"Cumulative Number of Mints=%{x}\", \"jitter\": 0, \"legendgroup\": \"\", \"line\": {\"color\": \"rgba(255,255,255,0)\"}, \"marker\": {\"color\": \"#636efa\", \"symbol\": \"line-ns-open\"}, \"name\": \"\", \"offsetgroup\": \"\", \"showlegend\": false, \"type\": \"box\", \"x\": [21, 10, 7, 7, 6, 6, 5, 5, 5, 5, 5, 5, 5, 5, 5, 5, 4, 4, 4, 4, 4, 4, 4, 4, 4, 4, 4, 4, 4, 4, 4, 4, 4, 4, 4, 4, 4, 4, 4, 4, 4, 4, 4, 4, 4, 4, 4, 4, 4, 4, 4, 4, 3, 3, 3, 3, 3, 3, 3, 3, 3, 3, 3, 3, 3, 3, 3, 3, 3, 3, 3, 3, 3, 3, 3, 3, 3, 3, 3, 3, 3, 3, 3, 3, 3, 3, 3, 3, 3, 3, 3, 3, 3, 3, 3, 3, 3, 3, 3, 3, 3, 3, 3, 3, 3, 3, 3, 3, 3, 3, 3, 3, 3, 3, 3, 3, 3, 3, 3, 3, 3, 3, 3, 3, 3, 3, 3, 3, 3, 3, 3, 3, 3, 3, 3, 3, 3, 3, 3, 3, 3, 3, 3, 3, 3, 3, 3, 3, 3, 3, 3, 3, 3, 3, 3, 3, 3, 2, 2, 2, 2, 2, 2, 2, 2, 2, 2, 2, 2, 2, 2, 2, 2, 2, 2, 2, 2, 2, 2, 2, 2, 2, 2, 2, 2, 2, 2, 2, 2, 2, 2, 2, 2, 2, 2, 2, 2, 2, 2, 2, 2, 2, 2, 2, 2, 2, 2, 2, 2, 2, 2, 2, 2, 2, 2, 2, 2, 2, 2, 2, 2, 2, 2, 2, 2, 2, 2, 2, 2, 2, 2, 2, 2, 2, 2, 2, 2, 2, 2, 2, 2, 2, 2, 2, 2, 2, 2, 2, 2, 2, 2, 2, 2, 2, 2, 2, 2, 2, 2, 2, 2, 2, 2, 2, 2, 2, 2, 2, 2, 2, 2, 2, 2, 2, 2, 2, 2, 2, 2, 2, 2, 2, 2, 2, 2, 2, 2, 2, 2, 2, 2, 2, 2, 2, 2, 2, 2, 2, 2, 2, 2, 2, 2, 2, 2, 2, 2, 2, 2, 2, 2, 2, 2, 2, 2, 2, 2, 2, 2, 2, 2, 2, 2, 2, 2, 2, 2, 2, 2, 2, 2, 2, 2, 2, 2, 2, 2, 2, 2, 2, 2, 2, 2, 2, 2, 2, 2, 2, 2, 2, 2, 2, 2, 2, 2, 2, 2, 2, 2, 2, 2, 2, 2, 2, 2, 2, 2, 2, 2, 2, 2, 2, 2, 2, 2, 2, 2, 2, 2, 2, 2, 2, 2, 2, 2, 2, 2, 2, 2, 2, 2, 2, 2, 2, 2, 2, 2, 2, 2, 2, 2, 2, 2, 2, 2, 2, 2, 2, 2, 2, 2, 2, 2, 2, 2, 2, 2, 2, 2, 2, 2, 2, 2, 2, 2, 2, 2, 2, 2, 2, 2, 2, 2, 2, 2, 2, 2, 2, 2, 2, 2, 2, 2, 2, 2, 2, 2, 2, 2, 2, 2, 2, 2, 2, 2, 2, 2, 2, 2, 2, 2, 2, 2, 2, 2, 2, 2, 2, 2, 2, 2, 2, 2, 2, 2, 2, 2, 2, 2, 2, 2, 2, 2, 2, 2, 2, 2, 2, 2, 2, 2, 2, 2, 2, 2, 2, 2, 2, 2, 2, 2, 2, 2, 2, 2, 2, 2, 2, 2, 2, 2, 2, 2, 2, 2, 2, 2, 2, 2, 2, 2, 2, 2, 2, 2, 2, 2, 2, 2, 2, 2, 2, 2, 2, 2, 2, 2, 2, 2, 2, 2, 2, 2, 2, 2, 2, 2, 2, 2, 2, 2, 2, 2, 2, 2, 2, 2, 2, 2, 2, 2, 2, 2, 2, 2, 2, 2, 2, 2, 2, 2, 2, 2, 2, 2, 2, 2, 2, 2, 2, 2, 2, 2, 2, 2, 2, 2, 2, 2, 2, 2, 2, 2, 2, 2, 2, 2, 2, 2, 2, 2, 2, 2, 2, 2, 2, 2, 2, 2, 2, 2, 2, 2, 2, 2, 2, 2, 2, 2, 2, 2, 2, 2, 2, 2, 2, 2, 2, 2, 2, 2, 2, 2, 2, 2, 2, 2, 2, 2, 2, 2, 2, 2, 2, 2, 2, 2, 2, 2, 2, 2, 2, 2, 2, 2, 2, 2, 2, 2, 2, 2, 2, 2, 2, 2, 2, 2, 2, 2, 2, 2, 2, 2, 2, 2, 2, 2, 2, 2, 2, 2, 2, 2, 2, 2, 2, 2, 2, 2, 2, 2, 2, 2, 2, 2, 2, 2, 2, 2, 2, 2, 2, 2, 2, 2, 2, 2, 2, 2, 2, 2, 2, 2, 2, 2, 2, 2, 2, 2, 2, 2, 2, 2, 2, 2, 2, 2, 2, 2, 2, 2, 2, 2, 2, 2, 2, 2, 2, 2, 2, 2, 2, 2, 2, 2, 2, 2, 2, 2, 2, 2, 2, 2, 2, 2, 2, 2, 2, 2, 2, 2, 2, 2, 2, 2, 2, 2, 2, 2, 2, 2, 2, 2, 2, 2, 2, 2, 2, 2, 2, 2, 2, 2, 2, 2, 2, 2, 2, 2, 2, 2, 2, 2, 2, 2, 2, 2, 2, 2, 2, 2, 2, 2, 2, 2, 2, 2, 2, 2, 2, 2, 2, 2, 2, 2, 2, 2, 2, 2, 2, 2, 2, 2, 2, 2, 2, 2, 2, 2, 2, 2, 2, 2, 2, 2, 2, 2, 2, 2, 2, 2, 2, 2, 2, 2, 2, 2, 2, 2, 2, 2, 2, 2, 2, 2, 2, 2, 2, 2, 2, 2, 2, 2, 2, 2, 2, 2, 2, 2, 2, 2, 2, 2, 2, 2, 2, 2, 2, 2, 2, 2, 2, 2, 2, 2, 2, 2, 2, 2, 2, 2, 2, 2, 2, 2, 2, 2, 2, 2, 2, 1, 1, 1, 1, 1, 1, 1, 1, 1, 1, 1, 1, 1, 1, 1, 1, 1, 1, 1, 1, 1, 1, 1, 1, 1, 1, 1, 1, 1, 1, 1, 1, 1, 1, 1, 1, 1, 1, 1, 1, 1, 1, 1, 1, 1, 1, 1, 1, 1, 1, 1, 1, 1, 1, 1, 1, 1, 1, 1, 1, 1, 1, 1, 1, 1, 1, 1, 1, 1, 1, 1, 1, 1, 1, 1, 1, 1, 1, 1, 1, 1, 1, 1, 1, 1, 1, 1, 1, 1, 1, 1, 1, 1, 1, 1, 1, 1, 1, 1, 1, 1, 1, 1, 1, 1, 1, 1, 1, 1, 1, 1, 1, 1, 1, 1, 1, 1, 1, 1, 1, 1, 1, 1, 1, 1, 1, 1, 1, 1, 1, 1, 1, 1, 1, 1, 1, 1, 1, 1, 1, 1, 1, 1, 1, 1, 1, 1, 1, 1, 1, 1, 1, 1, 1, 1, 1, 1, 1, 1, 1, 1, 1, 1, 1, 1, 1, 1, 1, 1, 1, 1, 1, 1, 1, 1, 1, 1, 1, 1, 1, 1, 1, 1, 1, 1, 1, 1, 1, 1, 1, 1, 1, 1, 1, 1, 1, 1, 1, 1, 1, 1, 1, 1, 1, 1, 1, 1, 1, 1, 1, 1, 1, 1, 1, 1, 1, 1, 1, 1, 1, 1, 1, 1, 1, 1, 1, 1, 1, 1, 1, 1, 1, 1, 1, 1, 1, 1, 1, 1, 1, 1, 1, 1, 1, 1, 1, 1, 1, 1, 1, 1, 1, 1, 1, 1, 1, 1, 1, 1, 1, 1, 1, 1, 1, 1, 1, 1, 1, 1, 1, 1, 1, 1, 1, 1, 1, 1, 1, 1, 1, 1, 1, 1, 1, 1, 1, 1, 1, 1, 1, 1, 1, 1, 1, 1, 1, 1, 1, 1, 1, 1, 1, 1, 1, 1, 1, 1, 1, 1, 1, 1, 1, 1, 1, 1, 1, 1, 1, 1, 1, 1, 1, 1, 1, 1, 1, 1, 1, 1, 1, 1, 1, 1, 1, 1, 1, 1, 1, 1, 1, 1, 1, 1, 1, 1, 1, 1, 1, 1, 1, 1, 1, 1, 1, 1, 1, 1, 1, 1, 1, 1, 1, 1, 1, 1, 1, 1, 1, 1, 1, 1, 1, 1, 1, 1, 1, 1, 1, 1, 1, 1, 1, 1, 1, 1, 1, 1, 1, 1, 1, 1, 1, 1, 1, 1, 1, 1, 1, 1, 1, 1, 1, 1, 1, 1, 1, 1, 1, 1, 1, 1, 1, 1, 1, 1, 1, 1, 1, 1, 1, 1, 1, 1, 1, 1, 1, 1, 1, 1, 1, 1, 1, 1, 1, 1, 1, 1, 1, 1, 1, 1, 1, 1, 1, 1, 1, 1, 1, 1, 1, 1, 1, 1, 1, 1, 1, 1, 1, 1, 1, 1, 1, 1, 1, 1, 1, 1, 1, 1, 1, 1, 1, 1, 1, 1, 1, 1, 1, 1, 1, 1, 1, 1, 1, 1, 1, 1, 1, 1, 1, 1, 1, 1, 1, 1, 1, 1, 1, 1, 1, 1, 1, 1, 1, 1, 1, 1, 1, 1, 1, 1, 1, 1, 1, 1, 1, 1, 1, 1, 1, 1, 1, 1, 1, 1, 1, 1, 1, 1, 1, 1, 1, 1, 1, 1, 1, 1, 1, 1, 1, 1, 1, 1, 1, 1, 1, 1, 1, 1, 1, 1, 1, 1, 1, 1, 1, 1, 1, 1, 1, 1, 1, 1, 1, 1, 1, 1, 1, 1, 1, 1, 1, 1, 1, 1, 1, 1, 1, 1, 1, 1, 1, 1, 1, 1, 1, 1, 1, 1, 1, 1, 1, 1, 1, 1, 1, 1, 1, 1, 1, 1, 1, 1, 1, 1, 1, 1, 1, 1, 1, 1, 1, 1, 1, 1, 1, 1, 1, 1, 1, 1, 1, 1, 1, 1, 1, 1, 1, 1, 1, 1, 1, 1, 1, 1, 1, 1, 1, 1, 1, 1, 1, 1, 1, 1, 1, 1, 1, 1, 1, 1, 1, 1, 1, 1, 1, 1, 1, 1, 1, 1, 1, 1, 1, 1, 1, 1, 1, 1, 1, 1, 1, 1, 1, 1, 1, 1, 1, 1, 1, 1, 1, 1, 1, 1, 1, 1, 1, 1, 1, 1, 1, 1, 1, 1, 1, 1, 1, 1, 1, 1, 1, 1, 1, 1, 1, 1, 1, 1, 1, 1, 1, 1, 1, 1, 1, 1, 1, 1, 1, 1, 1, 1, 1, 1, 1, 1, 1, 1, 1, 1, 1, 1, 1, 1, 1, 1, 1, 1, 1, 1, 1, 1, 1, 1, 1, 1, 1, 1, 1, 1, 1, 1, 1, 1, 1, 1, 1, 1, 1, 1, 1, 1, 1, 1, 1, 1, 1, 1, 1, 1, 1, 1, 1, 1, 1, 1, 1, 1, 1, 1, 1, 1, 1, 1, 1, 1, 1, 1, 1, 1, 1, 1, 1, 1, 1, 1, 1, 1, 1, 1, 1, 1, 1, 1, 1, 1, 1, 1, 1, 1, 1, 1, 1, 1, 1, 1, 1, 1, 1, 1, 1, 1, 1, 1, 1, 1, 1, 1, 1, 1, 1, 1, 1, 1, 1, 1, 1, 1, 1, 1, 1, 1, 1, 1, 1, 1, 1, 1, 1, 1, 1, 1, 1, 1, 1, 1, 1, 1, 1, 1, 1, 1, 1, 1, 1, 1, 1, 1, 1, 1, 1, 1, 1, 1, 1, 1, 1, 1, 1, 1, 1, 1, 1, 1, 1, 1, 1, 1, 1, 1, 1, 1, 1, 1, 1, 1, 1, 1, 1, 1, 1, 1, 1, 1, 1, 1, 1, 1, 1, 1, 1, 1, 1, 1, 1, 1, 1, 1, 1, 1, 1, 1, 1, 1, 1, 1, 1, 1, 1, 1, 1, 1, 1, 1, 1, 1, 1, 1, 1, 1, 1, 1, 1, 1, 1, 1, 1, 1, 1, 1, 1, 1, 1, 1, 1, 1, 1, 1, 1, 1, 1, 1, 1, 1, 1, 1, 1, 1, 1, 1, 1, 1, 1, 1, 1, 1, 1, 1, 1, 1, 1, 1, 1, 1, 1, 1, 1, 1, 1, 1, 1, 1, 1, 1, 1, 1, 1, 1, 1, 1, 1, 1, 1, 1, 1, 1, 1, 1, 1, 1, 1, 1, 1, 1, 1, 1, 1, 1, 1, 1, 1, 1, 1, 1, 1, 1, 1, 1, 1, 1, 1, 1, 1, 1, 1, 1, 1, 1, 1, 1, 1, 1, 1, 1, 1, 1, 1, 1, 1, 1, 1, 1, 1, 1, 1, 1, 1, 1, 1, 1, 1, 1, 1, 1, 1, 1, 1, 1, 1, 1, 1, 1, 1, 1, 1, 1, 1, 1, 1, 1, 1, 1, 1, 1, 1, 1, 1, 1, 1, 1, 1, 1, 1, 1, 1, 1, 1, 1, 1, 1, 1, 1, 1, 1, 1, 1, 1, 1, 1, 1, 1, 1, 1, 1, 1, 1, 1, 1, 1, 1, 1, 1, 1, 1, 1, 1, 1, 1, 1, 1, 1, 1, 1, 1, 1, 1, 1, 1, 1, 1, 1, 1, 1, 1, 1, 1, 1, 1, 1, 1, 1, 1, 1, 1, 1, 1, 1, 1, 1, 1, 1, 1, 1, 1, 1, 1, 1, 1, 1, 1, 1, 1, 1, 1, 1, 1, 1, 1, 1, 1, 1, 1, 1, 1, 1, 1, 1, 1, 1, 1, 1, 1, 1, 1, 1, 1, 1, 1, 1, 1, 1, 1, 1, 1, 1, 1, 1, 1, 1, 1, 1, 1, 1, 1, 1, 1, 1, 1, 1, 1, 1, 1, 1, 1, 1, 1, 1, 1, 1, 1, 1, 1, 1, 1, 1, 1, 1, 1, 1, 1, 1, 1, 1, 1, 1, 1, 1, 1, 1, 1, 1, 1, 1, 1, 1, 1, 1, 1, 1, 1, 1, 1, 1, 1, 1, 1, 1, 1, 1, 1, 1, 1, 1, 1, 1, 1, 1, 1, 1, 1, 1, 1, 1, 1, 1, 1, 1, 1, 1, 1, 1, 1, 1, 1, 1, 1, 1, 1, 1, 1, 1, 1, 1, 1, 1, 1, 1, 1, 1, 1, 1, 1, 1, 1, 1, 1, 1, 1, 1, 1, 1, 1, 1, 1, 1, 1, 1, 1, 1, 1, 1, 1, 1, 1, 1, 1, 1, 1, 1, 1, 1, 1, 1, 1, 1, 1, 1, 1, 1, 1, 1, 1, 1, 1, 1, 1, 1, 1, 1, 1, 1, 1, 1, 1, 1, 1, 1, 1, 1, 1, 1, 1, 1, 1, 1, 1, 1, 1, 1, 1, 1, 1, 1, 1, 1, 1, 1, 1, 1, 1, 1, 1, 1, 1, 1, 1, 1, 1, 1, 1, 1, 1, 1, 1, 1, 1, 1, 1, 1, 1, 1, 1, 1, 1, 1, 1, 1, 1, 1, 1, 1, 1, 1, 1, 1, 1, 1, 1, 1, 1, 1, 1, 1, 1, 1, 1, 1, 1, 1, 1, 1, 1, 1, 1, 1, 1, 1, 1, 1, 1, 1, 1, 1, 1, 1, 1, 1, 1, 1, 1, 1, 1, 1, 1, 1, 1, 1, 1, 1, 1, 1, 1, 1, 1, 1, 1, 1, 1, 1, 1, 1, 1, 1, 1, 1, 1, 1, 1, 1, 1, 1, 1, 1, 1, 1, 1, 1, 1, 1, 1, 1, 1, 1, 1, 1, 1, 1, 1, 1, 1, 1, 1, 1, 1, 1, 1, 1, 1, 1, 1, 1, 1, 1, 1, 1, 1, 1, 1, 1, 1, 1, 1, 1, 1, 1, 1, 1, 1, 1, 1, 1, 1, 1, 1, 1, 1, 1, 1, 1, 1, 1, 1, 1, 1, 1, 1, 1, 1, 1, 1, 1, 1, 1, 1, 1, 1, 1, 1, 1, 1, 1, 1, 1, 1, 1, 1, 1, 1, 1, 1, 1, 1, 1, 1, 1, 1, 1, 1, 1, 1, 1, 1, 1, 1, 1, 1, 1, 1, 1, 1, 1, 1, 1, 1, 1, 1, 1, 1, 1, 1, 1, 1, 1, 1, 1, 1, 1, 1, 1, 1, 1, 1, 1, 1, 1, 1, 1, 1, 1, 1, 1, 1, 1, 1, 1, 1, 1, 1, 1, 1, 1, 1, 1, 1, 1, 1, 1, 1, 1, 1, 1, 1, 1, 1, 1, 1, 1, 1, 1, 1, 1, 1, 1, 1, 1, 1, 1, 1, 1, 1, 1, 1, 1, 1, 1, 1, 1, 1, 1, 1, 1, 1, 1, 1, 1, 1, 1, 1, 1, 1, 1, 1, 1, 1, 1, 1, 1, 1, 1, 1, 1, 1, 1, 1, 1, 1, 1, 1, 1, 1, 1, 1, 1, 1, 1, 1, 1, 1, 1, 1, 1, 1, 1, 1, 1, 1, 1, 1, 1, 1, 1, 1, 1, 1, 1, 1, 1, 1, 1, 1, 1, 1, 1, 1, 1, 1, 1, 1, 1, 1, 1, 1, 1, 1, 1, 1, 1, 1, 1, 1, 1, 1, 1, 1, 1, 1, 1, 1, 1, 1, 1, 1, 1, 1, 1, 1, 1, 1, 1, 1, 1, 1, 1, 1, 1, 1, 1, 1, 1, 1, 1, 1, 1, 1, 1, 1, 1, 1, 1, 1, 1, 1, 1, 1, 1, 1, 1, 1, 1, 1, 1, 1, 1, 1, 1, 1, 1, 1, 1, 1, 1, 1, 1, 1, 1, 1, 1, 1, 1, 1, 1, 1, 1, 1, 1, 1, 1, 1, 1, 1, 1, 1, 1, 1, 1, 1, 1, 1, 1, 1, 1, 1, 1, 1, 1, 1, 1, 1, 1, 1, 1, 1, 1, 1, 1, 1, 1, 1, 1, 1, 1, 1, 1, 1, 1, 1, 1, 1, 1, 1, 1, 1, 1, 1, 1, 1, 1, 1, 1, 1, 1, 1, 1, 1, 1, 1, 1, 1, 1, 1, 1, 1, 1, 1, 1, 1, 1, 1, 1, 1, 1, 1, 1, 1, 1, 1, 1, 1, 1, 1, 1, 1, 1, 1, 1, 1, 1, 1, 1, 1, 1, 1, 1, 1, 1, 1, 1, 1, 1, 1, 1, 1, 1, 1, 1, 1, 1, 1, 1, 1, 1, 1, 1, 1, 1, 1, 1, 1, 1, 1, 1, 1, 1, 1, 1, 1, 1, 1, 1, 1, 1, 1, 1, 1, 1, 1, 1, 1, 1, 1, 1, 1, 1, 1, 1, 1, 1, 1, 1, 1, 1, 1, 1, 1, 1, 1, 1, 1, 1, 1, 1, 1, 1, 1, 1, 1, 1, 1, 1, 1, 1, 1, 1, 1, 1, 1, 1, 1, 1, 1, 1, 1, 1, 1, 1, 1, 1, 1, 1, 1, 1, 1, 1, 1, 1, 1, 1, 1, 1, 1, 1, 1, 1, 1, 1, 1, 1, 1, 1, 1, 1, 1, 1, 1, 1, 1, 1, 1, 1, 1, 1, 1, 1, 1, 1, 1, 1, 1, 1, 1, 1, 1, 1, 1, 1, 1, 1, 1, 1, 1, 1, 1, 1, 1, 1, 1, 1, 1, 1, 1, 1, 1, 1, 1, 1, 1, 1, 1, 1, 1, 1, 1, 1, 1, 1, 1, 1, 1, 1, 1, 1, 1, 1, 1, 1, 1, 1, 1, 1, 1, 1, 1, 1, 1, 1, 1, 1, 1, 1, 1, 1, 1, 1, 1, 1, 1, 1, 1, 1, 1, 1, 1, 1, 1, 1, 1, 1, 1, 1, 1, 1, 1, 1, 1, 1, 1, 1, 1, 1, 1, 1, 1, 1, 1, 1, 1, 1, 1, 1, 1, 1, 1, 1, 1, 1, 1, 1, 1, 1, 1, 1, 1, 1, 1, 1, 1, 1, 1, 1, 1, 1, 1, 1, 1, 1, 1, 1, 1, 1, 1, 1, 1, 1, 1, 1, 1, 1, 1, 1, 1, 1, 1, 1, 1, 1, 1, 1, 1, 1, 1, 1, 1, 1, 1, 1, 1, 1, 1, 1, 1, 1, 1, 1, 1, 1, 1, 1, 1, 1, 1, 1, 1, 1, 1, 1, 1, 1, 1, 1, 1, 1, 1, 1, 1, 1, 1, 1, 1, 1, 1, 1, 1, 1, 1, 1, 1, 1, 1, 1, 1, 1, 1, 1, 1, 1, 1, 1, 1, 1, 1, 1, 1, 1, 1, 1, 1, 1, 1, 1, 1, 1, 1, 1, 1, 1, 1, 1, 1, 1, 1, 1, 1, 1, 1, 1, 1, 1, 1, 1, 1, 1, 1, 1, 1, 1, 1, 1, 1, 1, 1, 1, 1, 1, 1, 1, 1, 1, 1, 1, 1, 1, 1, 1, 1, 1, 1, 1, 1, 1, 1, 1, 1, 1, 1, 1, 1, 1, 1, 1, 1, 1, 1, 1, 1, 1, 1, 1, 1, 1, 1, 1, 1, 1, 1, 1, 1, 1, 1, 1, 1, 1, 1, 1, 1, 1, 1, 1, 1, 1, 1, 1, 1, 1, 1, 1, 1, 1, 1, 1, 1, 1, 1, 1, 1, 1, 1, 1, 1, 1, 1, 1, 1, 1, 1, 1, 1, 1, 1, 1, 1, 1, 1, 1, 1, 1, 1, 1, 1, 1, 1, 1, 1, 1, 1, 1, 1, 1, 1, 1, 1, 1, 1, 1, 1, 1, 1, 1, 1, 1, 1, 1, 1, 1, 1, 1, 1, 1, 1, 1, 1, 1, 1, 1, 1, 1, 1, 1, 1, 1, 1, 1, 1, 1, 1, 1, 1, 1, 1, 1, 1, 1, 1, 1, 1, 1, 1, 1, 1, 1, 1, 1, 1, 1, 1, 1, 1, 1, 1, 1, 1, 1, 1, 1, 1, 1, 1, 1, 1, 1, 1, 1, 1, 1, 1, 1, 1, 1, 1, 1, 1, 1, 1, 1, 1, 1, 1, 1, 1, 1, 1, 1, 1, 1, 1, 1, 1, 1, 1, 1, 1, 1, 1, 1, 1, 1, 1, 1, 1, 1, 1, 1, 1, 1, 1, 1, 1, 1, 1, 1, 1, 1, 1, 1, 1, 1, 1, 1, 1, 1, 1, 1, 1, 1, 1, 1, 1, 1, 1, 1, 1, 1, 1, 1, 1, 1, 1, 1, 1, 1, 1, 1, 1, 1, 1, 1, 1, 1, 1, 1, 1, 1, 1, 1, 1, 1, 1, 1, 1, 1, 1, 1, 1, 1, 1, 1, 1, 1, 1, 1, 1, 1, 1, 1, 1, 1, 1, 1, 1, 1, 1, 1, 1, 1, 1, 1, 1, 1, 1, 1, 1, 1, 1, 1, 1, 1, 1, 1, 1, 1, 1, 1, 1, 1, 1, 1, 1, 1, 1, 1, 1, 1, 1, 1, 1, 1, 1, 1, 1, 1, 1, 1, 1, 1, 1, 1, 1, 1, 1, 1, 1, 1, 1, 1, 1, 1, 1, 1, 1, 1, 1, 1, 1, 1, 1, 1, 1, 1, 1, 1, 1, 1, 1, 1, 1, 1, 1, 1, 1, 1, 1, 1, 1, 1, 1, 1, 1, 1, 1, 1, 1, 1, 1, 1, 1, 1, 1, 1, 1, 1, 1, 1, 1, 1, 1, 1, 1, 1, 1, 1, 1, 1, 1, 1, 1, 1, 1, 1, 1, 1, 1, 1, 1, 1, 1, 1, 1, 1, 1, 1, 1, 1, 1, 1, 1, 1, 1, 1, 1, 1, 1, 1, 1, 1, 1, 1, 1, 1, 1, 1, 1, 1, 1, 1, 1, 1, 1, 1, 1, 1, 1, 1, 1, 1, 1, 1, 1, 1, 1, 1, 1, 1, 1, 1, 1, 1, 1, 1, 1, 1, 1, 1, 1, 1, 1, 1, 1, 1, 1, 1, 1, 1, 1, 1, 1, 1, 1, 1, 1, 1, 1, 1, 1, 1, 1, 1, 1, 1, 1, 1, 1, 1, 1, 1, 1, 1, 1, 1, 1, 1, 1, 1, 1, 1, 1, 1, 1, 1, 1, 1, 1, 1, 1, 1, 1, 1, 1, 1, 1, 1, 1, 1, 1, 1, 1, 1, 1, 1, 1, 1, 1, 1, 1, 1, 1, 1, 1, 1, 1, 1, 1, 1, 1, 1, 1, 1, 1, 1, 1, 1, 1, 1, 1, 1, 1, 1, 1, 1, 1, 1, 1, 1, 1, 1, 1, 1, 1, 1, 1, 1, 1, 1, 1, 1, 1, 1, 1, 1, 1, 1, 1, 1, 1, 1, 1, 1, 1, 1, 1, 1, 1, 1, 1, 1, 1, 1, 1, 1, 1, 1, 1, 1, 1, 1, 1, 1, 1, 1, 1, 1, 1, 1, 1, 1, 1, 1, 1, 1, 1, 1, 1, 1, 1, 1, 1, 1, 1, 1, 1, 1, 1, 1, 1, 1, 1, 1, 1, 1, 1, 1, 1, 1, 1, 1, 1, 1, 1, 1, 1, 1, 1, 1, 1, 1, 1, 1, 1, 1, 1, 1, 1, 1, 1, 1, 1, 1, 1, 1, 1, 1, 1, 1, 1, 1, 1, 1, 1, 1, 1, 1, 1, 1, 1, 1, 1, 1, 1, 1, 1, 1, 1, 1, 1, 1, 1, 1, 1, 1, 1, 1, 1, 1, 1, 1, 1, 1, 1, 1, 1, 1, 1, 1, 1, 1, 1, 1, 1, 1, 1, 1, 1, 1, 1, 1, 1, 1, 1, 1, 1, 1, 1, 1, 1, 1, 1, 1, 1, 1, 1, 1, 1, 1, 1, 1, 1, 1, 1, 1, 1, 1, 1, 1, 1, 1, 1, 1, 1, 1, 1, 1, 1, 1, 1, 1, 1, 1, 1, 1, 1, 1, 1, 1, 1, 1, 1, 1, 1, 1, 1, 1, 1, 1, 1, 1, 1, 1, 1, 1, 1, 1, 1, 1, 1, 1, 1, 1, 1, 1, 1, 1, 1, 1, 1, 1, 1, 1, 1, 1, 1, 1, 1, 1, 1, 1, 1, 1, 1, 1, 1, 1, 1, 1, 1, 1, 1, 1, 1, 1, 1, 1, 1, 1, 1, 1, 1, 1, 1, 1, 1, 1, 1, 1, 1, 1, 1, 1, 1, 1, 1, 1, 1, 1, 1, 1, 1, 1, 1, 1, 1, 1, 1, 1, 1, 1, 1, 1, 1, 1, 1, 1, 1, 1, 1, 1, 1, 1, 1, 1, 1, 1, 1, 1, 1, 1, 1, 1, 1, 1, 1, 1, 1, 1, 1, 1, 1, 1, 1, 1, 1, 1, 1, 1, 1, 1, 1, 1, 1, 1, 1, 1, 1, 1, 1, 1, 1, 1, 1, 1, 1, 1, 1, 1, 1, 1, 1, 1, 1, 1, 1, 1, 1, 1, 1, 1, 1, 1, 1, 1, 1, 1, 1, 1, 1, 1, 1, 1, 1, 1, 1, 1, 1, 1, 1, 1, 1, 1, 1, 1, 1, 1, 1, 1, 1, 1, 1, 1, 1, 1, 1, 1, 1, 1, 1, 1, 1, 1, 1, 1, 1, 1, 1, 1, 1, 1, 1, 1, 1, 1, 1, 1, 1, 1, 1, 1, 1, 1, 1, 1, 1, 1, 1, 1, 1, 1, 1, 1, 1, 1, 1, 1, 1, 1, 1, 1, 1, 1, 1, 1, 1, 1, 1, 1, 1, 1, 1, 1, 1, 1, 1, 1, 1, 1, 1, 1, 1, 1, 1, 1, 1, 1, 1, 1, 1, 1, 1, 1, 1, 1, 1, 1, 1, 1, 1, 1, 1, 1, 1, 1, 1, 1, 1, 1, 1, 1, 1, 1, 1, 1, 1, 1, 1, 1, 1, 1, 1, 1, 1, 1, 1, 1, 1, 1, 1, 1, 1, 1, 1, 1, 1, 1, 1, 1, 1, 1, 1, 1, 1, 1, 1, 1, 1, 1, 1, 1, 1, 1, 1, 1, 1, 1, 1, 1, 1, 1, 1, 1, 1, 1, 1, 1, 1, 1, 1, 1, 1, 1, 1, 1, 1, 1, 1, 1, 1, 1, 1, 1, 1, 1, 1, 1, 1, 1, 1, 1, 1, 1, 1, 1, 1, 1, 1, 1, 1, 1, 1, 1, 1, 1, 1, 1, 1, 1, 1, 1, 1, 1, 1, 1, 1, 1, 1, 1, 1, 1, 1, 1, 1, 1, 1, 1, 1, 1, 1, 1, 1, 1, 1, 1, 1, 1, 1, 1, 1, 1, 1, 1, 1, 1, 1, 1, 1, 1, 1, 1, 1, 1, 1, 1, 1, 1, 1, 1, 1, 1, 1, 1, 1, 1, 1, 1, 1, 1, 1, 1, 1, 1, 1, 1, 1, 1, 1, 1, 1, 1, 1, 1, 1, 1, 1, 1, 1, 1, 1, 1, 1, 1, 1, 1, 1, 1, 1, 1, 1, 1, 1, 1, 1, 1, 1, 1, 1, 1, 1, 1, 1, 1, 1, 1, 1, 1, 1, 1, 1, 1, 1, 1, 1, 1, 1, 1, 1, 1, 1, 1, 1, 1, 1, 1, 1, 1, 1, 1, 1, 1, 1, 1, 1, 1, 1, 1, 1, 1, 1, 1, 1, 1, 1, 1, 1, 1, 1, 1, 1, 1, 1, 1, 1, 1, 1, 1, 1, 1, 1, 1, 1, 1, 1, 1, 1, 1, 1, 1, 1, 1, 1, 1, 1, 1, 1, 1, 1, 1, 1, 1, 1, 1, 1, 1, 1, 1, 1, 1, 1, 1, 1, 1, 1, 1, 1, 1, 1, 1, 1, 1, 1, 1, 1, 1, 1, 1, 1, 1, 1, 1, 1, 1, 1, 1, 1, 1, 1, 1, 1, 1, 1, 1, 1, 1, 1, 1, 1, 1, 1, 1, 1, 1, 1, 1, 1, 1, 1, 1, 1, 1, 1, 1, 1, 1, 1, 1, 1, 1, 1, 1, 1, 1, 1, 1, 1, 1, 1, 1, 1, 1, 1, 1, 1, 1, 1, 1, 1, 1, 1, 1, 1, 1, 1, 1, 1, 1, 1, 1, 1, 1, 1, 1, 1, 1, 1, 1, 1, 1, 1, 1, 1, 1, 1, 1, 1, 1, 1, 1, 1, 1, 1, 1, 1, 1, 1, 1, 1, 1, 1, 1, 1, 1, 1, 1, 1, 1, 1, 1, 1, 1, 1, 1, 1, 1, 1, 1, 1, 1, 1, 1, 1, 1, 1, 1, 1, 1, 1, 1, 1, 1, 1, 1, 1, 1, 1, 1, 1, 1, 1, 1, 1, 1, 1, 1, 1, 1, 1, 1, 1, 1, 1, 1, 1, 1, 1, 1, 1, 1, 1, 1, 1, 1, 1, 1, 1, 1, 1, 1, 1, 1, 1, 1, 1, 1, 1, 1, 1, 1, 1, 1, 1, 1, 1, 1, 1, 1, 1, 1, 1, 1, 1, 1, 1, 1, 1, 1, 1, 1, 1, 1, 1, 1, 1, 1, 1, 1, 1, 1, 1, 1, 1, 1, 1, 1, 1, 1, 1, 1, 1, 1, 1, 1, 1, 1, 1, 1, 1, 1, 1, 1, 1, 1, 1, 1, 1, 1, 1, 1, 1, 1, 1, 1, 1, 1, 1, 1, 1, 1, 1, 1, 1, 1, 1, 1, 1, 1, 1, 1, 1, 1, 1, 1, 1, 1, 1, 1, 1, 1, 1, 1, 1, 1, 1, 1, 1, 1, 1, 1, 1, 1, 1, 1, 1, 1, 1, 1, 1, 1, 1, 1, 1, 1, 1, 1, 1, 1, 1, 1, 1, 1, 1, 1, 1, 1, 1, 1, 1, 1, 1, 1, 1, 1, 1, 1, 1, 1, 1, 1, 1, 1, 1, 1, 1, 1, 1, 1, 1, 1, 1, 1, 1, 1, 1, 1, 1, 1, 1, 1, 1, 1, 1, 1, 1, 1, 1, 1, 1, 1, 1, 1, 1, 1, 1, 1, 1, 1, 1, 1, 1, 1, 1, 1, 1, 1, 1, 1, 1, 1, 1, 1, 1, 1, 1, 1, 1, 1, 1, 1, 1, 1, 1, 1, 1, 1, 1, 1, 1, 1, 1, 1, 1, 1, 1, 1, 1, 1, 1, 1, 1, 1, 1, 1, 1, 1, 1, 1, 1, 1, 1, 1, 1, 1, 1, 1, 1, 1, 1, 1, 1, 1, 1, 1, 1, 1, 1, 1, 1, 1, 1, 1, 1, 1, 1, 1, 1, 1, 1, 1, 1, 1, 1, 1, 1, 1, 1, 1, 1, 1, 1, 1, 1, 1, 1, 1, 1, 1, 1, 1, 1, 1, 1, 1, 1, 1, 1, 1, 1, 1, 1, 1, 1, 1, 1, 1, 1, 1, 1, 1, 1, 1, 1, 1, 1, 1, 1, 1, 1, 1, 1, 1, 1, 1, 1, 1, 1, 1, 1, 1, 1, 1, 1, 1, 1, 1, 1, 1, 1, 1, 1, 1, 1, 1, 1, 1, 1, 1, 1, 1, 1, 1, 1, 1, 1, 1, 1, 1, 1, 1, 1, 1, 1, 1, 1, 1, 1, 1, 1, 1, 1, 1, 1, 1, 1, 1, 1, 1, 1, 1, 1, 1, 1, 1, 1, 1, 1, 1, 1, 1, 1, 1, 1, 1, 1, 1, 1, 1, 1, 1, 1, 1, 1, 1, 1, 1, 1, 1, 1, 1, 1, 1, 1, 1, 1, 1, 1, 1, 1, 1, 1, 1, 1, 1, 1, 1, 1, 1, 1, 1, 1, 1, 1, 1, 1, 1, 1, 1, 1, 1, 1, 1, 1, 1, 1, 1, 1, 1, 1, 1, 1, 1, 1, 1, 1, 1, 1, 1, 1, 1, 1, 1, 1, 1, 1, 1, 1, 1, 1, 1, 1, 1, 1, 1, 1, 1, 1, 1, 1, 1, 1, 1, 1, 1, 1, 1, 1, 1, 1, 1, 1, 1, 1, 1, 1, 1, 1, 1, 1, 1, 1, 1, 1, 1, 1, 1, 1, 1, 1, 1, 1, 1, 1, 1, 1, 1, 1, 1, 1, 1, 1, 1, 1, 1, 1, 1, 1, 1, 1, 1, 1, 1, 1, 1, 1, 1, 1, 1, 1, 1, 1, 1, 1, 1, 1, 1, 1, 1, 1, 1, 1, 1, 1, 1, 1, 1, 1, 1, 1, 1, 1, 1, 1, 1, 1, 1, 1, 1, 1, 1, 1, 1, 1, 1, 1, 1, 1, 1, 1, 1, 1, 1, 1, 1, 1, 1, 1, 1, 1, 1, 1, 1, 1, 1, 1, 1, 1, 1, 1, 1, 1, 1, 1, 1, 1, 1, 1, 1, 1, 1, 1, 1, 1, 1, 1, 1, 1, 1, 1, 1, 1, 1, 1, 1, 1, 1, 1, 1, 1, 1, 1, 1, 1, 1, 1, 1, 1, 1, 1, 1, 1, 1, 1, 1, 1, 1, 1, 1, 1, 1, 1, 1, 1, 1, 1, 1, 1, 1, 1, 1, 1, 1, 1, 1, 1, 1, 1, 1, 1, 1, 1, 1, 1, 1, 1, 1, 1, 1, 1, 1, 1, 1, 1, 1, 1, 1, 1, 1, 1, 1, 1, 1, 1, 1, 1, 1, 1, 1, 1, 1, 1, 1, 1, 1, 1, 1, 1, 1, 1, 1, 1, 1, 1, 1, 1, 1, 1, 1, 1, 1, 1, 1, 1, 1, 1, 1, 1, 1, 1, 1, 1, 1, 1, 1, 1, 1, 1, 1, 1, 1, 1, 1, 1, 1, 1, 1, 1, 1, 1, 1, 1, 1, 1, 1, 1, 1, 1, 1, 1, 1, 1, 1, 1, 1, 1, 1, 1, 1, 1, 1, 1, 1, 1, 1, 1, 1, 1, 1, 1, 1, 1, 1, 1, 1, 1, 1, 1, 1, 1, 1, 1, 1, 1, 1, 1, 1, 1, 1, 1, 1, 1, 1, 1, 1, 1, 1, 1, 1, 1, 1, 1, 1, 1], \"xaxis\": \"x2\", \"yaxis\": \"y2\"}],\n",
              "                        {\"barmode\": \"relative\", \"legend\": {\"tracegroupgap\": 0}, \"template\": {\"data\": {\"bar\": [{\"error_x\": {\"color\": \"#2a3f5f\"}, \"error_y\": {\"color\": \"#2a3f5f\"}, \"marker\": {\"line\": {\"color\": \"#E5ECF6\", \"width\": 0.5}}, \"type\": \"bar\"}], \"barpolar\": [{\"marker\": {\"line\": {\"color\": \"#E5ECF6\", \"width\": 0.5}}, \"type\": \"barpolar\"}], \"carpet\": [{\"aaxis\": {\"endlinecolor\": \"#2a3f5f\", \"gridcolor\": \"white\", \"linecolor\": \"white\", \"minorgridcolor\": \"white\", \"startlinecolor\": \"#2a3f5f\"}, \"baxis\": {\"endlinecolor\": \"#2a3f5f\", \"gridcolor\": \"white\", \"linecolor\": \"white\", \"minorgridcolor\": \"white\", \"startlinecolor\": \"#2a3f5f\"}, \"type\": \"carpet\"}], \"choropleth\": [{\"colorbar\": {\"outlinewidth\": 0, \"ticks\": \"\"}, \"type\": \"choropleth\"}], \"contour\": [{\"colorbar\": {\"outlinewidth\": 0, \"ticks\": \"\"}, \"colorscale\": [[0.0, \"#0d0887\"], [0.1111111111111111, \"#46039f\"], [0.2222222222222222, \"#7201a8\"], [0.3333333333333333, \"#9c179e\"], [0.4444444444444444, \"#bd3786\"], [0.5555555555555556, \"#d8576b\"], [0.6666666666666666, \"#ed7953\"], [0.7777777777777778, \"#fb9f3a\"], [0.8888888888888888, \"#fdca26\"], [1.0, \"#f0f921\"]], \"type\": \"contour\"}], \"contourcarpet\": [{\"colorbar\": {\"outlinewidth\": 0, \"ticks\": \"\"}, \"type\": \"contourcarpet\"}], \"heatmap\": [{\"colorbar\": {\"outlinewidth\": 0, \"ticks\": \"\"}, \"colorscale\": [[0.0, \"#0d0887\"], [0.1111111111111111, \"#46039f\"], [0.2222222222222222, \"#7201a8\"], [0.3333333333333333, \"#9c179e\"], [0.4444444444444444, \"#bd3786\"], [0.5555555555555556, \"#d8576b\"], [0.6666666666666666, \"#ed7953\"], [0.7777777777777778, \"#fb9f3a\"], [0.8888888888888888, \"#fdca26\"], [1.0, \"#f0f921\"]], \"type\": \"heatmap\"}], \"heatmapgl\": [{\"colorbar\": {\"outlinewidth\": 0, \"ticks\": \"\"}, \"colorscale\": [[0.0, \"#0d0887\"], [0.1111111111111111, \"#46039f\"], [0.2222222222222222, \"#7201a8\"], [0.3333333333333333, \"#9c179e\"], [0.4444444444444444, \"#bd3786\"], [0.5555555555555556, \"#d8576b\"], [0.6666666666666666, \"#ed7953\"], [0.7777777777777778, \"#fb9f3a\"], [0.8888888888888888, \"#fdca26\"], [1.0, \"#f0f921\"]], \"type\": \"heatmapgl\"}], \"histogram\": [{\"marker\": {\"colorbar\": {\"outlinewidth\": 0, \"ticks\": \"\"}}, \"type\": \"histogram\"}], \"histogram2d\": [{\"colorbar\": {\"outlinewidth\": 0, \"ticks\": \"\"}, \"colorscale\": [[0.0, \"#0d0887\"], [0.1111111111111111, \"#46039f\"], [0.2222222222222222, \"#7201a8\"], [0.3333333333333333, \"#9c179e\"], [0.4444444444444444, \"#bd3786\"], [0.5555555555555556, \"#d8576b\"], [0.6666666666666666, \"#ed7953\"], [0.7777777777777778, \"#fb9f3a\"], [0.8888888888888888, \"#fdca26\"], [1.0, \"#f0f921\"]], \"type\": \"histogram2d\"}], \"histogram2dcontour\": [{\"colorbar\": {\"outlinewidth\": 0, \"ticks\": \"\"}, \"colorscale\": [[0.0, \"#0d0887\"], [0.1111111111111111, \"#46039f\"], [0.2222222222222222, \"#7201a8\"], [0.3333333333333333, \"#9c179e\"], [0.4444444444444444, \"#bd3786\"], [0.5555555555555556, \"#d8576b\"], [0.6666666666666666, \"#ed7953\"], [0.7777777777777778, \"#fb9f3a\"], [0.8888888888888888, \"#fdca26\"], [1.0, \"#f0f921\"]], \"type\": \"histogram2dcontour\"}], \"mesh3d\": [{\"colorbar\": {\"outlinewidth\": 0, \"ticks\": \"\"}, \"type\": \"mesh3d\"}], \"parcoords\": [{\"line\": {\"colorbar\": {\"outlinewidth\": 0, \"ticks\": \"\"}}, \"type\": \"parcoords\"}], \"pie\": [{\"automargin\": true, \"type\": \"pie\"}], \"scatter\": [{\"marker\": {\"colorbar\": {\"outlinewidth\": 0, \"ticks\": \"\"}}, \"type\": \"scatter\"}], \"scatter3d\": [{\"line\": {\"colorbar\": {\"outlinewidth\": 0, \"ticks\": \"\"}}, \"marker\": {\"colorbar\": {\"outlinewidth\": 0, \"ticks\": \"\"}}, \"type\": \"scatter3d\"}], \"scattercarpet\": [{\"marker\": {\"colorbar\": {\"outlinewidth\": 0, \"ticks\": \"\"}}, \"type\": \"scattercarpet\"}], \"scattergeo\": [{\"marker\": {\"colorbar\": {\"outlinewidth\": 0, \"ticks\": \"\"}}, \"type\": \"scattergeo\"}], \"scattergl\": [{\"marker\": {\"colorbar\": {\"outlinewidth\": 0, \"ticks\": \"\"}}, \"type\": \"scattergl\"}], \"scattermapbox\": [{\"marker\": {\"colorbar\": {\"outlinewidth\": 0, \"ticks\": \"\"}}, \"type\": \"scattermapbox\"}], \"scatterpolar\": [{\"marker\": {\"colorbar\": {\"outlinewidth\": 0, \"ticks\": \"\"}}, \"type\": \"scatterpolar\"}], \"scatterpolargl\": [{\"marker\": {\"colorbar\": {\"outlinewidth\": 0, \"ticks\": \"\"}}, \"type\": \"scatterpolargl\"}], \"scatterternary\": [{\"marker\": {\"colorbar\": {\"outlinewidth\": 0, \"ticks\": \"\"}}, \"type\": \"scatterternary\"}], \"surface\": [{\"colorbar\": {\"outlinewidth\": 0, \"ticks\": \"\"}, \"colorscale\": [[0.0, \"#0d0887\"], [0.1111111111111111, \"#46039f\"], [0.2222222222222222, \"#7201a8\"], [0.3333333333333333, \"#9c179e\"], [0.4444444444444444, \"#bd3786\"], [0.5555555555555556, \"#d8576b\"], [0.6666666666666666, \"#ed7953\"], [0.7777777777777778, \"#fb9f3a\"], [0.8888888888888888, \"#fdca26\"], [1.0, \"#f0f921\"]], \"type\": \"surface\"}], \"table\": [{\"cells\": {\"fill\": {\"color\": \"#EBF0F8\"}, \"line\": {\"color\": \"white\"}}, \"header\": {\"fill\": {\"color\": \"#C8D4E3\"}, \"line\": {\"color\": \"white\"}}, \"type\": \"table\"}]}, \"layout\": {\"annotationdefaults\": {\"arrowcolor\": \"#2a3f5f\", \"arrowhead\": 0, \"arrowwidth\": 1}, \"coloraxis\": {\"colorbar\": {\"outlinewidth\": 0, \"ticks\": \"\"}}, \"colorscale\": {\"diverging\": [[0, \"#8e0152\"], [0.1, \"#c51b7d\"], [0.2, \"#de77ae\"], [0.3, \"#f1b6da\"], [0.4, \"#fde0ef\"], [0.5, \"#f7f7f7\"], [0.6, \"#e6f5d0\"], [0.7, \"#b8e186\"], [0.8, \"#7fbc41\"], [0.9, \"#4d9221\"], [1, \"#276419\"]], \"sequential\": [[0.0, \"#0d0887\"], [0.1111111111111111, \"#46039f\"], [0.2222222222222222, \"#7201a8\"], [0.3333333333333333, \"#9c179e\"], [0.4444444444444444, \"#bd3786\"], [0.5555555555555556, \"#d8576b\"], [0.6666666666666666, \"#ed7953\"], [0.7777777777777778, \"#fb9f3a\"], [0.8888888888888888, \"#fdca26\"], [1.0, \"#f0f921\"]], \"sequentialminus\": [[0.0, \"#0d0887\"], [0.1111111111111111, \"#46039f\"], [0.2222222222222222, \"#7201a8\"], [0.3333333333333333, \"#9c179e\"], [0.4444444444444444, \"#bd3786\"], [0.5555555555555556, \"#d8576b\"], [0.6666666666666666, \"#ed7953\"], [0.7777777777777778, \"#fb9f3a\"], [0.8888888888888888, \"#fdca26\"], [1.0, \"#f0f921\"]]}, \"colorway\": [\"#636efa\", \"#EF553B\", \"#00cc96\", \"#ab63fa\", \"#FFA15A\", \"#19d3f3\", \"#FF6692\", \"#B6E880\", \"#FF97FF\", \"#FECB52\"], \"font\": {\"color\": \"#2a3f5f\"}, \"geo\": {\"bgcolor\": \"white\", \"lakecolor\": \"white\", \"landcolor\": \"#E5ECF6\", \"showlakes\": true, \"showland\": true, \"subunitcolor\": \"white\"}, \"hoverlabel\": {\"align\": \"left\"}, \"hovermode\": \"closest\", \"mapbox\": {\"style\": \"light\"}, \"paper_bgcolor\": \"white\", \"plot_bgcolor\": \"#E5ECF6\", \"polar\": {\"angularaxis\": {\"gridcolor\": \"white\", \"linecolor\": \"white\", \"ticks\": \"\"}, \"bgcolor\": \"#E5ECF6\", \"radialaxis\": {\"gridcolor\": \"white\", \"linecolor\": \"white\", \"ticks\": \"\"}}, \"scene\": {\"xaxis\": {\"backgroundcolor\": \"#E5ECF6\", \"gridcolor\": \"white\", \"gridwidth\": 2, \"linecolor\": \"white\", \"showbackground\": true, \"ticks\": \"\", \"zerolinecolor\": \"white\"}, \"yaxis\": {\"backgroundcolor\": \"#E5ECF6\", \"gridcolor\": \"white\", \"gridwidth\": 2, \"linecolor\": \"white\", \"showbackground\": true, \"ticks\": \"\", \"zerolinecolor\": \"white\"}, \"zaxis\": {\"backgroundcolor\": \"#E5ECF6\", \"gridcolor\": \"white\", \"gridwidth\": 2, \"linecolor\": \"white\", \"showbackground\": true, \"ticks\": \"\", \"zerolinecolor\": \"white\"}}, \"shapedefaults\": {\"line\": {\"color\": \"#2a3f5f\"}}, \"ternary\": {\"aaxis\": {\"gridcolor\": \"white\", \"linecolor\": \"white\", \"ticks\": \"\"}, \"baxis\": {\"gridcolor\": \"white\", \"linecolor\": \"white\", \"ticks\": \"\"}, \"bgcolor\": \"#E5ECF6\", \"caxis\": {\"gridcolor\": \"white\", \"linecolor\": \"white\", \"ticks\": \"\"}}, \"title\": {\"x\": 0.05}, \"xaxis\": {\"automargin\": true, \"gridcolor\": \"white\", \"linecolor\": \"white\", \"ticks\": \"\", \"title\": {\"standoff\": 15}, \"zerolinecolor\": \"white\", \"zerolinewidth\": 2}, \"yaxis\": {\"automargin\": true, \"gridcolor\": \"white\", \"linecolor\": \"white\", \"ticks\": \"\", \"title\": {\"standoff\": 15}, \"zerolinecolor\": \"white\", \"zerolinewidth\": 2}}}, \"title\": {\"text\": \"Histogram of Cumulative Mints by User\"}, \"xaxis\": {\"anchor\": \"y\", \"domain\": [0.0, 1.0], \"title\": {\"text\": \"Cumulative Number of Mints\"}}, \"xaxis2\": {\"anchor\": \"y2\", \"domain\": [0.0, 1.0], \"matches\": \"x\", \"showgrid\": true, \"showticklabels\": false}, \"yaxis\": {\"anchor\": \"x\", \"domain\": [0.0, 0.8316], \"title\": {\"text\": \"count\"}}, \"yaxis2\": {\"anchor\": \"x2\", \"domain\": [0.8416, 1.0], \"matches\": \"y2\", \"showgrid\": false, \"showline\": false, \"showticklabels\": false, \"ticks\": \"\"}},\n",
              "                        {\"responsive\": true}\n",
              "                    ).then(function(){\n",
              "                            \n",
              "var gd = document.getElementById('34c35a57-9df8-4b29-94ff-2ec262cf19b7');\n",
              "var x = new MutationObserver(function (mutations, observer) {{\n",
              "        var display = window.getComputedStyle(gd).display;\n",
              "        if (!display || display === 'none') {{\n",
              "            console.log([gd, 'removed!']);\n",
              "            Plotly.purge(gd);\n",
              "            observer.disconnect();\n",
              "        }}\n",
              "}});\n",
              "\n",
              "// Listen for the removal of the full notebook cells\n",
              "var notebookContainer = gd.closest('#notebook-container');\n",
              "if (notebookContainer) {{\n",
              "    x.observe(notebookContainer, {childList: true});\n",
              "}}\n",
              "\n",
              "// Listen for the clearing of the current output cell\n",
              "var outputEl = gd.closest('.output');\n",
              "if (outputEl) {{\n",
              "    x.observe(outputEl, {childList: true});\n",
              "}}\n",
              "\n",
              "                        })\n",
              "                };\n",
              "                \n",
              "            </script>\n",
              "        </div>\n",
              "</body>\n",
              "</html>"
            ]
          },
          "metadata": {}
        }
      ]
    },
    {
      "cell_type": "code",
      "metadata": {
        "id": "Rn7QZA0P0dwo"
      },
      "source": [
        "# Label data with grouping low/medium/high to enable joining back onto CSV for minters\n",
        "cut_labels_3 = ['Low', 'Medium', 'High']\n",
        "cut_bins = [0, 2, 7, 100]\n",
        "minter_address_counts_df['cumulative_mint_groupings'] = pd.cut(minter_address_counts_df['Cumulative Number of Mints'], bins=cut_bins, labels=cut_labels_3)"
      ],
      "execution_count": 140,
      "outputs": []
    },
    {
      "cell_type": "code",
      "metadata": {
        "colab": {
          "base_uri": "https://localhost:8080/",
          "height": 204
        },
        "id": "l7YsVhpX7Xhg",
        "outputId": "364c35a3-f6b6-4374-c46a-93ead958d616"
      },
      "source": [
        "minter_address_counts_df.head()"
      ],
      "execution_count": 141,
      "outputs": [
        {
          "output_type": "execute_result",
          "data": {
            "text/html": [
              "<div>\n",
              "<style scoped>\n",
              "    .dataframe tbody tr th:only-of-type {\n",
              "        vertical-align: middle;\n",
              "    }\n",
              "\n",
              "    .dataframe tbody tr th {\n",
              "        vertical-align: top;\n",
              "    }\n",
              "\n",
              "    .dataframe thead th {\n",
              "        text-align: right;\n",
              "    }\n",
              "</style>\n",
              "<table border=\"1\" class=\"dataframe\">\n",
              "  <thead>\n",
              "    <tr style=\"text-align: right;\">\n",
              "      <th></th>\n",
              "      <th>Cumulative Number of Mints</th>\n",
              "      <th>cumulative_mint_groupings</th>\n",
              "    </tr>\n",
              "  </thead>\n",
              "  <tbody>\n",
              "    <tr>\n",
              "      <th>0x74bc67ed6948f0a4c387c353975f142dc640537a</th>\n",
              "      <td>21</td>\n",
              "      <td>High</td>\n",
              "    </tr>\n",
              "    <tr>\n",
              "      <th>0x643eed6ce2507e0e7ec6d37d487159661e4e4aa8</th>\n",
              "      <td>10</td>\n",
              "      <td>High</td>\n",
              "    </tr>\n",
              "    <tr>\n",
              "      <th>0x66bffe06feba47cd1c95fc2635933c1315c7d2f1</th>\n",
              "      <td>7</td>\n",
              "      <td>Medium</td>\n",
              "    </tr>\n",
              "    <tr>\n",
              "      <th>0x27c65f6767b7e020d5d64fc70cf99cf9c56e1286</th>\n",
              "      <td>7</td>\n",
              "      <td>Medium</td>\n",
              "    </tr>\n",
              "    <tr>\n",
              "      <th>0x3c8d1abf82599f54519e477e194199720b06541f</th>\n",
              "      <td>6</td>\n",
              "      <td>Medium</td>\n",
              "    </tr>\n",
              "  </tbody>\n",
              "</table>\n",
              "</div>"
            ],
            "text/plain": [
              "                                            Cumulative Number of Mints cumulative_mint_groupings\n",
              "0x74bc67ed6948f0a4c387c353975f142dc640537a                          21                      High\n",
              "0x643eed6ce2507e0e7ec6d37d487159661e4e4aa8                          10                      High\n",
              "0x66bffe06feba47cd1c95fc2635933c1315c7d2f1                           7                    Medium\n",
              "0x27c65f6767b7e020d5d64fc70cf99cf9c56e1286                           7                    Medium\n",
              "0x3c8d1abf82599f54519e477e194199720b06541f                           6                    Medium"
            ]
          },
          "metadata": {},
          "execution_count": 141
        }
      ]
    },
    {
      "cell_type": "code",
      "metadata": {
        "id": "1ayqRp7u4CRJ"
      },
      "source": [
        "minter_address_counts_df = minter_address_counts_df.reset_index().rename(columns={\"index\": \"From\"})"
      ],
      "execution_count": 142,
      "outputs": []
    },
    {
      "cell_type": "code",
      "metadata": {
        "colab": {
          "base_uri": "https://localhost:8080/",
          "height": 428
        },
        "id": "NAL3fyue6XAt",
        "outputId": "5282a52d-9502-43a1-868b-2043e807dc5e"
      },
      "source": [
        "minter_addresses_grouped_df = pd.merge(minter_addresses_df,minter_address_counts_df,on='From',how='left')\n",
        "minter_addresses_grouped_df.head()"
      ],
      "execution_count": 143,
      "outputs": [
        {
          "output_type": "execute_result",
          "data": {
            "text/html": [
              "<div>\n",
              "<style scoped>\n",
              "    .dataframe tbody tr th:only-of-type {\n",
              "        vertical-align: middle;\n",
              "    }\n",
              "\n",
              "    .dataframe tbody tr th {\n",
              "        vertical-align: top;\n",
              "    }\n",
              "\n",
              "    .dataframe thead th {\n",
              "        text-align: right;\n",
              "    }\n",
              "</style>\n",
              "<table border=\"1\" class=\"dataframe\">\n",
              "  <thead>\n",
              "    <tr style=\"text-align: right;\">\n",
              "      <th></th>\n",
              "      <th>0</th>\n",
              "      <th>ContractAddress</th>\n",
              "      <th>DateTime</th>\n",
              "      <th>From</th>\n",
              "      <th>To</th>\n",
              "      <th>TokenName</th>\n",
              "      <th>TokenSymbol</th>\n",
              "      <th>Txhash</th>\n",
              "      <th>UnixTimestamp</th>\n",
              "      <th>Value</th>\n",
              "      <th>chain</th>\n",
              "      <th>type</th>\n",
              "      <th>Cumulative Number of Mints</th>\n",
              "      <th>cumulative_mint_groupings</th>\n",
              "    </tr>\n",
              "  </thead>\n",
              "  <tbody>\n",
              "    <tr>\n",
              "      <th>0</th>\n",
              "      <td>NaN</td>\n",
              "      <td>0x6b175474e89094c44da98b954eedeac495271d0f</td>\n",
              "      <td>2021-06-11 18:00:22</td>\n",
              "      <td>0x643eed6ce2507e0e7ec6d37d487159661e4e4aa8</td>\n",
              "      <td>0x187922d4235d10239b2c6ccb2217ada724f56dda</td>\n",
              "      <td>Dai Stablecoin</td>\n",
              "      <td>DAI</td>\n",
              "      <td>0xfccc42304e6932516389b4799afe7060109ed19e461c...</td>\n",
              "      <td>1.623434e+09</td>\n",
              "      <td>25.0</td>\n",
              "      <td>ETHEREUM</td>\n",
              "      <td>COLLATERALIZE</td>\n",
              "      <td>10</td>\n",
              "      <td>High</td>\n",
              "    </tr>\n",
              "    <tr>\n",
              "      <th>1</th>\n",
              "      <td>NaN</td>\n",
              "      <td>0x6b175474e89094c44da98b954eedeac495271d0f</td>\n",
              "      <td>2021-06-11 18:09:14</td>\n",
              "      <td>0x27c65f6767b7e020d5d64fc70cf99cf9c56e1286</td>\n",
              "      <td>0x187922d4235d10239b2c6ccb2217ada724f56dda</td>\n",
              "      <td>Dai Stablecoin</td>\n",
              "      <td>DAI</td>\n",
              "      <td>0xb5cd641ab2f0063f879e0f22bef52fd40b01fe7ee022...</td>\n",
              "      <td>1.623435e+09</td>\n",
              "      <td>1000.0</td>\n",
              "      <td>ETHEREUM</td>\n",
              "      <td>COLLATERALIZE</td>\n",
              "      <td>7</td>\n",
              "      <td>Medium</td>\n",
              "    </tr>\n",
              "    <tr>\n",
              "      <th>2</th>\n",
              "      <td>NaN</td>\n",
              "      <td>0x6b175474e89094c44da98b954eedeac495271d0f</td>\n",
              "      <td>2021-06-11 19:29:20</td>\n",
              "      <td>0x27c65f6767b7e020d5d64fc70cf99cf9c56e1286</td>\n",
              "      <td>0x187922d4235d10239b2c6ccb2217ada724f56dda</td>\n",
              "      <td>Dai Stablecoin</td>\n",
              "      <td>DAI</td>\n",
              "      <td>0xc632ede6607ed810d58cdcf0ae86a1f3c23db4db6bc1...</td>\n",
              "      <td>1.623440e+09</td>\n",
              "      <td>597.0</td>\n",
              "      <td>ETHEREUM</td>\n",
              "      <td>COLLATERALIZE</td>\n",
              "      <td>7</td>\n",
              "      <td>Medium</td>\n",
              "    </tr>\n",
              "    <tr>\n",
              "      <th>3</th>\n",
              "      <td>NaN</td>\n",
              "      <td>0x6b175474e89094c44da98b954eedeac495271d0f</td>\n",
              "      <td>2021-06-15 14:51:07</td>\n",
              "      <td>0x19ac6292d62465cd3c82a082e0b5f9b875c57d92</td>\n",
              "      <td>0x187922d4235d10239b2c6ccb2217ada724f56dda</td>\n",
              "      <td>Dai Stablecoin</td>\n",
              "      <td>DAI</td>\n",
              "      <td>0xe7b024d655837f6598f3f0b5086357322a374dbb5d27...</td>\n",
              "      <td>1.623769e+09</td>\n",
              "      <td>10000.0</td>\n",
              "      <td>ETHEREUM</td>\n",
              "      <td>COLLATERALIZE</td>\n",
              "      <td>2</td>\n",
              "      <td>Low</td>\n",
              "    </tr>\n",
              "    <tr>\n",
              "      <th>4</th>\n",
              "      <td>NaN</td>\n",
              "      <td>0x6b175474e89094c44da98b954eedeac495271d0f</td>\n",
              "      <td>2021-06-16 00:29:50</td>\n",
              "      <td>0x4839c3d305516b6c56647b27b6b70254f0e89cb8</td>\n",
              "      <td>0x187922d4235d10239b2c6ccb2217ada724f56dda</td>\n",
              "      <td>Dai Stablecoin</td>\n",
              "      <td>DAI</td>\n",
              "      <td>0x3af79bbf70d8d5712f60b4f895e17288bdca37a6a637...</td>\n",
              "      <td>1.623803e+09</td>\n",
              "      <td>50.0</td>\n",
              "      <td>ETHEREUM</td>\n",
              "      <td>COLLATERALIZE</td>\n",
              "      <td>1</td>\n",
              "      <td>Low</td>\n",
              "    </tr>\n",
              "  </tbody>\n",
              "</table>\n",
              "</div>"
            ],
            "text/plain": [
              "    0  ... cumulative_mint_groupings\n",
              "0 NaN  ...                      High\n",
              "1 NaN  ...                    Medium\n",
              "2 NaN  ...                    Medium\n",
              "3 NaN  ...                       Low\n",
              "4 NaN  ...                       Low\n",
              "\n",
              "[5 rows x 14 columns]"
            ]
          },
          "metadata": {},
          "execution_count": 143
        }
      ]
    },
    {
      "cell_type": "code",
      "metadata": {
        "colab": {
          "base_uri": "https://localhost:8080/",
          "height": 142
        },
        "id": "YqB2UGsFZvSR",
        "outputId": "008016e4-8be0-4e5c-b334-08c152d47071"
      },
      "source": [
        "minter_addresses_grouped_df_mints_df = minter_addresses_grouped_df.groupby(by='cumulative_mint_groupings', as_index=False).agg({'From': pd.Series.nunique}).rename(columns={\"From\": \"Number of Users\"})\n",
        "minter_addresses_grouped_df_mints_df.head()"
      ],
      "execution_count": 144,
      "outputs": [
        {
          "output_type": "execute_result",
          "data": {
            "text/html": [
              "<div>\n",
              "<style scoped>\n",
              "    .dataframe tbody tr th:only-of-type {\n",
              "        vertical-align: middle;\n",
              "    }\n",
              "\n",
              "    .dataframe tbody tr th {\n",
              "        vertical-align: top;\n",
              "    }\n",
              "\n",
              "    .dataframe thead th {\n",
              "        text-align: right;\n",
              "    }\n",
              "</style>\n",
              "<table border=\"1\" class=\"dataframe\">\n",
              "  <thead>\n",
              "    <tr style=\"text-align: right;\">\n",
              "      <th></th>\n",
              "      <th>cumulative_mint_groupings</th>\n",
              "      <th>Number of Users</th>\n",
              "    </tr>\n",
              "  </thead>\n",
              "  <tbody>\n",
              "    <tr>\n",
              "      <th>0</th>\n",
              "      <td>Low</td>\n",
              "      <td>5438</td>\n",
              "    </tr>\n",
              "    <tr>\n",
              "      <th>1</th>\n",
              "      <td>Medium</td>\n",
              "      <td>155</td>\n",
              "    </tr>\n",
              "    <tr>\n",
              "      <th>2</th>\n",
              "      <td>High</td>\n",
              "      <td>2</td>\n",
              "    </tr>\n",
              "  </tbody>\n",
              "</table>\n",
              "</div>"
            ],
            "text/plain": [
              "  cumulative_mint_groupings  Number of Users\n",
              "0                       Low             5438\n",
              "1                    Medium              155\n",
              "2                      High                2"
            ]
          },
          "metadata": {},
          "execution_count": 144
        }
      ]
    },
    {
      "cell_type": "markdown",
      "metadata": {
        "id": "jT7Lg0wK2uPl"
      },
      "source": [
        "### Histogram of Total Value Collateralized by User\n",
        "\n",
        "The histogram below shows the Total Value Collateralized by User in Volmex.  \n",
        "\n",
        "The x-axis shows the Total Value Collateralized (in $ - the only tokens allowed for collateral are DAI & USDC so let's assume an exact peg to the dollar even though practically there can be some differences but for this analysis this should be fine)  \n",
        "\n",
        "The User's are then categorized into Low, Medium and High based on the Total Value they have Collateralized\n",
        "\n",
        "Low - 0 - \\$750  \n",
        "Medium - \\$750-\\$1750  \n",
        "High - \\$1750 - Max amount   "
      ]
    },
    {
      "cell_type": "code",
      "metadata": {
        "id": "JdvJOo7ExHnQ"
      },
      "source": [
        "collateral_address_counts_df = pd.Series(minter_addresses_grouped_df.groupby(['From'])['Value'].sum(), name='Total Value Collateralized ($)').to_frame()"
      ],
      "execution_count": 145,
      "outputs": []
    },
    {
      "cell_type": "code",
      "metadata": {
        "colab": {
          "base_uri": "https://localhost:8080/",
          "height": 542
        },
        "id": "NN1lwiMexPLY",
        "outputId": "a99d7335-cfe8-47db-c71a-d1037dc06808"
      },
      "source": [
        "fig = px.histogram(\n",
        "    collateral_address_counts_df,\n",
        "    title='Histogram of Total Value Collateralized by User $',\n",
        "    x='Total Value Collateralized ($)', \n",
        "    marginal=\"rug\")\n",
        "fig.show()"
      ],
      "execution_count": 146,
      "outputs": [
        {
          "output_type": "display_data",
          "data": {
            "text/html": [
              "<html>\n",
              "<head><meta charset=\"utf-8\" /></head>\n",
              "<body>\n",
              "    <div>\n",
              "            <script src=\"https://cdnjs.cloudflare.com/ajax/libs/mathjax/2.7.5/MathJax.js?config=TeX-AMS-MML_SVG\"></script><script type=\"text/javascript\">if (window.MathJax) {MathJax.Hub.Config({SVG: {font: \"STIX-Web\"}});}</script>\n",
              "                <script type=\"text/javascript\">window.PlotlyConfig = {MathJaxConfig: 'local'};</script>\n",
              "        <script src=\"https://cdn.plot.ly/plotly-latest.min.js\"></script>    \n",
              "            <div id=\"24733caa-5680-437f-bd62-aef0b526a528\" class=\"plotly-graph-div\" style=\"height:525px; width:100%;\"></div>\n",
              "            <script type=\"text/javascript\">\n",
              "                \n",
              "                    window.PLOTLYENV=window.PLOTLYENV || {};\n",
              "                    \n",
              "                if (document.getElementById(\"24733caa-5680-437f-bd62-aef0b526a528\")) {\n",
              "                    Plotly.newPlot(\n",
              "                        '24733caa-5680-437f-bd62-aef0b526a528',\n",
              "                        [{\"alignmentgroup\": \"True\", \"bingroup\": \"x\", \"hoverlabel\": {\"namelength\": 0}, \"hovertemplate\": \"Total Value Collateralized ($)=%{x}<br>count=%{y}\", \"legendgroup\": \"\", \"marker\": {\"color\": \"#636efa\"}, \"name\": \"\", \"offsetgroup\": \"\", \"orientation\": \"v\", \"showlegend\": false, \"type\": \"histogram\", \"x\": [58.0, 57.14, 176.9562, 50.0, 1381.4926, 25.0, 146.3265, 25.0, 50.22, 666.0, 25.0, 83.0952, 220.0, 25.0, 203.9999999998, 209.98, 30.0, 26.0, 111.0, 200.0, 26.0, 26.0, 200.0, 50.17, 25.0, 114.7048, 200.0, 26.9999999998, 27.0189, 25.0, 101.0, 50.1, 30.0, 372.1801, 50.0, 25.0, 50.0, 104.8664, 52.0, 56.0, 25.0, 39.0, 25.0, 251.0, 130.0, 25.0, 25.0, 50.0, 26.0, 25.0, 25.0, 55.0, 100.0, 25.0, 200.0, 502.0, 300.0, 25.0, 25.0, 47.3575, 25.1, 9980.015, 200.0, 100.6, 25.0, 50.1299999999, 175.2454, 78.9999999998, 25.0, 26.0, 269.8239, 25.0, 376.5919, 129.0, 25.0, 1000.0, 25.0, 103.0, 300.0, 503.835, 81.2529, 262.6408, 50.0, 105.6, 30.0, 200.0, 26.5884, 50.0, 200.0, 155.4802, 25.0, 28.0, 50.12, 25.0, 1027.776, 50.1, 86.739, 387.89599999999996, 25.04, 54.0, 30.0, 174.8461, 25.9767, 26.0, 25.0, 25.0, 202.0, 156.6839, 25.4, 30.0, 50.0, 150.2539, 27.6147, 100.0404, 26.0, 120.0, 62.6879, 50.0, 25.0, 25.0, 30.0, 88.3494, 27.1588, 130.0, 26.0, 251.0, 56.0, 32.1, 50.01, 25.0, 200.0, 25.0, 54.0, 122.0, 26.0, 142.0, 41.1263, 25.0, 58.6, 352.0125, 30.0, 1142.5817, 351.7475, 335.4, 3171.0, 25.0, 664.4763, 53.8, 25.0, 25.0, 25.0, 25.0, 25.0, 26.0, 25.0, 25.0, 101.0, 25.2224, 26.0, 25.1005, 236.0, 25.3863, 35.23, 1099.8746, 67.19569999999999, 34.6942, 61.5165, 26.0, 25.1223, 100.0, 65.2512, 76.0203, 25.0, 25.0, 25.0, 27.0, 25.0, 25.0, 400.0, 29.8831, 25.0, 25.0, 174.6614, 246.4334, 26.6591, 50.15, 100.0, 25.0, 68.2257, 25.3487, 100.6, 125.0, 25.0, 25.0, 1295.3408, 120.0, 25.0, 50.0, 1000.0000000004, 1644.1691, 151.0, 26.0, 352.7815, 100.0, 952.9326, 40.3785, 25.0, 250.0, 25.0, 350.3584, 25.0, 100.2437, 32.6518, 25.0, 26.0, 111.0, 25.0, 200.0, 35.7424, 26.1, 25.0, 1077.5676, 30.0, 200.0, 25.0, 277.6641, 260.2939, 200.0, 127.0, 203.9999999998, 25.0, 25.0, 120.0, 1422.252, 25.0, 240.0, 268.9098, 30.0, 25.1, 25.0814, 1123.4688999999998, 100.0, 55.0, 26.0, 25.0, 25.0, 200.0, 9250.0, 25.0, 25.0, 25.0, 25.0, 25.04, 25.4599, 162.3643, 273.3027, 501.0, 25.0, 200.0, 60.36, 50.2, 1000.0, 25.0, 25.0, 206.03, 1633.641, 30.0, 150.0, 30.0, 25.0, 25.0, 55.0, 25.0, 25.0, 290.0095, 53.0, 5000.0, 26.0466, 243.2426, 30.0, 25.0, 25.0, 1078.8387, 30.0, 140.0, 41.3755, 100.0, 1061.3022, 101.0, 50.1, 300.0, 40.0, 26.0, 913.2512, 183.212, 1074.7225, 150.0, 52.9486, 94.1719, 138.5568, 66.4084, 30.0, 25.0, 500.0, 30.0, 1071.7501, 165.3632, 150.0, 25.0, 56.0, 26.0, 25.0, 25.06, 46.0, 25.0, 1012.1394, 25.0, 25.0, 200.0, 933.9896, 34.8451, 25.0, 26.0, 100.12, 25.0, 25.0, 30.0, 26.0, 25.0, 26.0, 100.6, 81.1576, 49.9588, 110.0, 155.8981, 50.03, 78.2, 25.0, 25.0, 20000.0, 50.7, 318.7159, 579.581, 25.0, 25.0, 282.9486, 3192.0, 60.0, 203.9999999997, 111.0, 50.1, 791.5353, 25.0, 1338.2883, 1009.248, 4000.0, 3000.0, 206.0, 51.8721, 182.68329999999997, 25.0, 76.0, 26.0, 50.1, 200.0, 95.0, 140.0, 125.0, 26.0, 25.0, 25.0, 25.0, 25.0, 26.0, 66.6362, 25.0, 25.0, 27.0387, 30.0, 30.0, 146.0202, 100.5, 110.0, 26.01, 820.0, 1000.0, 25.0, 25.0, 56.0, 400.2727, 1169.6804, 25.0, 1179.9245, 1009.801, 25.0, 30.0, 106.2325, 25.5008, 110.0, 27.0, 347.377, 228.8862, 270.0, 200.0, 25.0, 33.335, 300.0, 25.0, 142.8029, 200.0, 278.2377, 50.0, 353.10929999999996, 200.0, 25.0, 203.9999999997, 25.0, 25.0, 1023.8305, 170.0, 25.0, 25.0, 25.0, 30.0, 1021.5367, 25.0, 25.0, 25.0, 25.0, 336.9142, 27.0105, 25.9999999999, 26.0, 30.0, 25.0, 59.0, 30.0, 129.9768, 60.0, 100.0, 25.0, 54.0, 89.5555, 102.0, 32.0999999998, 100.1, 27.7193, 25.0, 28.0188, 54.0, 120.0, 25.0, 25.18, 49.0, 100.0, 520.0, 50.1, 30.0, 250.0, 571.9364, 120.6499999988, 110.0, 25.1, 100.0, 25.0, 231.7028, 25.0, 55.0155, 1183.8627, 28.8151, 115.5, 25.0, 30.0, 109.1421, 25.0, 100.0, 50.15, 531.9127, 25.4449, 59.9999999999, 60.0, 37.0, 25.0, 50.0999999999, 127.8393, 77.9999999998, 162.9384, 286.7621, 59.8664, 164.066, 1006.5709, 4000.0, 505.0, 164.8565, 200.0, 300.0, 20000.0, 252.0, 25.0, 25.0, 1002.0, 26.0, 53.8, 25.0, 25.0, 50.1199999999, 168.7733, 111.367, 25.0, 66.0635, 1014.4793, 453.0, 66.2901, 30.0, 26.0, 1014.4325, 50.2, 100.1, 104.0, 54.0, 1010.0, 116.973, 200.0, 106.2096, 60.0, 286.5427, 122.0, 20000.0, 30.0, 25.0, 30.0, 50.1, 1325.5408, 205.0, 25.0, 200.0, 200.0, 200.0, 350.2499, 248.427, 1203.9203, 25.0, 26.0, 25.0, 25.0, 25.0, 145.0, 250.3917, 50.0, 209.4198, 295.0, 25.0, 300.93, 54.0, 102.0, 77.9999999999, 25.0, 31.0, 500.0, 50.1, 50.1, 25.0, 25.0, 50.1, 250.0, 500.0, 30.0, 26.0, 25.0, 25.0, 26.0, 66.2605, 26.0, 25.0, 25.0, 25.1, 25.0, 180000.0, 86.3651, 555.0, 1077.196, 100.8, 40.0, 149.1351, 26.0, 219.6329, 25.0, 30.0, 49.0, 25.0, 60.9757, 25.4983, 500.0, 50.11, 25.2, 25.0, 25.0, 30.0, 203.9999999998, 215.6012, 25.0, 25.0, 230.7557, 110.0, 30.0, 221.5833, 1010.0, 25.0, 51.0, 1263.9999999999, 25.0, 25.0, 50.08, 25.2167, 25.0, 78.9999999999, 30.0, 25.0, 2000.0, 2440.0, 30.0, 25.0, 116.9999999999, 100.0, 296.0, 224.2751, 37.0, 25.0, 50.0, 300.0, 105.5, 26.0, 25.0, 169.39030000000002, 25.0, 79.2, 50.15, 88.8463, 149.8001, 25.0, 25.0, 100.0, 25.0, 25.0, 50.1, 26.0, 107.9999999999, 50.0, 1050.0, 250.6594, 30.0, 516.0114, 120.0, 181.542, 50.1, 25.0, 25.0, 142.64, 30.0, 25.0, 83.0, 151.2522, 50.1, 25.0, 50.1, 238.3577, 370.6846, 1133.1868, 110.0, 133.7025, 50.14, 41.9783, 25.0, 25.0, 55.0, 31.1005, 293.4472, 25.0, 50.5, 25.0, 26.0, 29.5582, 6200.0, 25.0, 467.1536, 105.0, 25.0, 25.2, 52.0, 27.886, 80.0, 276.0, 1000.0, 170.31799999999998, 25.0, 100.1, 200.0, 25.0, 120.0, 926.5121, 75.0, 83.7729, 110.6084, 110.0, 25.0, 110.0, 28.0, 26.0, 25.0, 100.0, 50.15, 52.0, 50.12, 1000.0, 25.0, 81.7903, 3439.8524, 246.0, 47.5873, 250.0, 550.0, 500.0, 140.398, 1052.0095, 1678.1752999999999, 25.0, 52.0, 50.05, 56.0, 100000.0, 168.0, 25.4734, 50.2, 100.1, 25.0, 81.0, 101.474, 50.8929, 34.0, 26.0, 30.0, 50.0, 100.0, 26.0, 75.4628, 100.0067, 1010.0, 50.1, 50.1199999999, 25.0, 25.0, 25.1, 56.0, 25.0, 25.0, 137.76, 50.1, 25.0, 25.0, 25.0, 25.0, 110.0, 146.0, 30.0, 600.0, 450.0, 30.0, 26.9218, 27.0208, 25.0, 100.0, 272.181, 25.0, 100.163, 75.0, 25.0, 117.717, 200.0, 30.0, 270.0, 25.0, 105.0, 50.0, 25.0, 50.1, 52.2, 25.0, 1002.7, 2000.0, 90.2939, 25.0, 87.9104, 4117.6315, 1001.0, 30.0, 171.9852, 100.0, 50.1, 30.0, 1267.7774, 25.0, 25.0, 25.0, 75.32, 25.0, 1750.0, 25.0, 341.1633, 1022.2694, 742.2503, 1056.2467, 26.7619, 202.2176, 50.13, 84.1468, 25.0, 105.0, 30.0, 92.0, 6890.0, 145.395, 78.2502, 300.0, 300.0, 988.027, 30.0, 118.5184, 25.0, 300.0, 25.1, 666.0, 25.0, 37.9306, 301.0, 52.9583, 500.0, 34.9199, 25.0, 50.11, 299.8123, 67.6754, 200.0, 50.0999999999, 300000.0, 25.0, 25.0, 87.1129, 50.01, 50.1, 48.0, 31.2311, 39.6759, 99.7781, 6000.0, 25.0, 128.7267, 25.0, 3478.44, 139.7476, 25.0, 25.0, 29.9171, 200.0, 120.0, 25.0, 43.0, 25.0, 500.0, 25.0, 2355.0, 30.0, 51.0, 25.11, 55.0, 403.6657, 25.1, 124.5, 25.0, 28.0, 100.0, 45.3575, 26.0, 55.2368, 26.0, 355.5358, 118.2603, 25.0, 84.0753, 146.0002, 25.9825, 102.0, 25.0, 337.078, 26.0, 25.0, 30.0, 25.6, 1174.3913, 200.0, 25.0, 58.2, 25.0, 167.3374, 118.1694, 25.0, 314.9772, 200.0, 25.8966, 203.99999999969998, 26.0, 50.0, 110.0, 25.0, 25.0, 277.9831, 30.0, 116.6962, 25.0, 25.0, 25.0, 100.0, 958.5071, 111.0794, 1053.0276, 25.0, 407.82640000000004, 100.6, 25.5979, 117.5526, 25.0, 25.0, 150.6693, 30.0, 94.0, 170.0, 203.5, 202.0, 100.0, 25.0, 30.0, 30.0, 25.0, 30.0, 25.0, 25.0, 70.001, 27.6534, 25.0, 113.7667, 25.0, 319.5269, 91.0, 98.905, 1500.0, 25.0, 100.0, 26.0, 680.4868, 31.0, 25.0, 115.0, 25.0, 26.2834, 261.3404, 120.0, 110.2076, 25.0, 57.0, 25.0, 26.0, 100.1, 25.0, 30.0, 25.0, 100.0, 25.0, 25.0, 1000.0, 1000.0, 25.0, 100.0, 507.28, 25.0, 200.0, 102.0, 558.0, 25.0, 100.13, 25.0, 200.0, 110.9011, 25.13, 25.0, 59.564800000000005, 25.0, 115.1873, 203.99999999980002, 25.0, 30.0, 1100.0, 30.0, 134.0519, 25.0, 25.0, 25.0, 255.4071, 85.0, 25.0, 178.8082, 25.0, 400.0, 123.0, 200.0, 25.0, 1279.2129, 25.0, 100.1, 26.0, 251.0, 49.7626, 105.0, 25.0, 25.8307, 205.708, 25.0, 101.0, 50.0, 79.2, 140.0, 29.9093, 25.0, 83.55680000000001, 1500.0, 89.9543, 25.0, 300.0, 50.0, 999.7376, 50.0, 100.0, 25.1, 300.0, 200.0, 113.3091, 64.9318, 108.9077, 550.0, 1421.1307, 148.0, 26.0, 25.0, 1023.2626, 26.0, 338.4691, 25.0, 97.0, 25.0, 50.0, 1175.1888, 25.2, 25.0, 100.0, 510.0, 84.1015, 60.6887, 55.0, 540.9234, 1000.0, 50.0, 27.3232, 167.2839, 2000.0, 50.1, 101.0, 4000.0, 14381.5706, 1190.9603, 1448.9867, 460.4638, 101.72, 120.0, 51.0, 49.9579, 25.0, 25.0, 25.0, 50.1, 68.6873, 367.6936, 25.1947, 25.0, 25.0, 200.0, 25.4687, 342.9071, 1705.5483, 113.9072, 25.0745, 584.5445, 26.2424, 167.4041, 100.7, 241.7725, 166.2937, 51.1203, 25.0, 39.0, 585.9427, 26.0, 25.0, 359.9233, 3504.6591, 25.0, 28.2924, 54.2474, 25.0, 96.9639, 50.09, 25.0, 1036.0537, 110.0, 199.1725, 1041.6857, 26.0, 100.13, 50.1, 25.0, 315.0, 25.12, 50.0, 25.0, 26.0, 50.2, 25.0, 25.0, 27.1682, 220.0, 75.0, 50.1299999999, 25.0, 25.7291, 25.0, 25.0, 25.0, 25.0, 32.0, 100.0, 30.0, 25.0, 51.9, 30.0, 26.0, 165.8098, 25.0, 1417.9416, 48.6038, 279.4093, 103.9999999998, 50.14, 250.0, 309.46320000000003, 95.4749, 52.0, 25.0, 200.0, 25.0, 67.7309, 55.6836, 141.879, 64.368, 1165.7921, 110.0, 25.0, 25.0, 30.0, 57.0, 74.35560000000001, 25.11, 400.0, 100.0, 44.0, 28.0, 25.0, 100.3, 26.0, 50.0, 51.349999999999994, 80.0, 52.0, 148.6141, 539.0, 26.9727, 25.0, 26.0, 206.0, 26.4221, 109.9950999997, 100.0, 103.0, 69.476, 52.0, 25.0, 50.11, 25.0, 600.0, 300.0, 74906.7806, 287.9585, 30.0, 103.7, 110.0, 50.15, 25.0, 200.0, 25.0, 25.0, 70.0, 100.0, 960.0, 80.2, 525.0, 25.0, 25.2, 25.0, 90.0, 50.12, 333.333, 26.1, 400.0, 25.0, 225.19740000000002, 25.0, 203.9999999995, 25.0, 200.0, 26.0, 26.0, 55.53, 25.0, 50.9709, 249.8214, 125.0, 25.0, 198.9514, 50.17, 29.3879, 25.0, 26.0, 50.9, 26.0, 25.0, 2790.847, 4000.0, 50.0, 25.0, 111.8043, 110.0, 78.0, 25.0, 200.0, 98.024, 123.5027, 1000.0, 1000.0, 103.0, 128.0, 120.0, 25.0, 25.0, 25.0, 320.0, 450.3647, 209.0, 350.1229, 200.0, 100.0, 25.1249, 25.0, 789.8983, 26.0, 56.0, 25.0, 200.0, 1207.3836, 191.9225, 26.0, 126.0, 200.0, 1039.3975, 79.9999999999, 25.8514, 55.0, 1790.0, 25.5323, 25.0, 1136.3122, 245.5112, 50.16, 35.3437, 343.2559, 1542.0, 50.1, 26.0, 25.0, 30.0, 263.0179, 25.0, 233.0, 25.0, 109.1032, 25.0, 251.0, 25.0, 116.1344, 25.6019, 106.2288, 500.0, 200.0, 25.0, 30.0, 25.0, 1296.2001, 30.0, 1009.1186, 64.6783, 366.2231, 500.51, 25.0, 25.0, 50.1, 26.31, 62.2126, 25.0, 30.0, 200.0, 353.0041, 500.0, 25.0, 25.9, 102.7024, 255.0, 25.0, 55.0, 465.0, 32.0473, 30.0, 26.0, 42.0, 30.0, 1426.8391, 50.13, 49.0, 506.0, 25.0, 30.0, 50.1199999999, 1999.9999999997, 25.0, 25.0, 142.0, 27.01, 50.1, 100.3, 25.0, 378.2368, 36.1077, 30.0, 200.0, 250.0, 25.0, 25.0, 105.0, 78.0, 110.0, 203.9999999998, 30.0, 100.0, 30.0, 50.12, 1043.5848, 25.0, 26.0, 251.0, 381.8909, 836.0331, 25.0, 100.0, 25.0, 219.7887, 99.9999999999, 56.0, 25.0298, 165.8694, 27.68, 50.13, 218.8415, 25.0, 400.0, 87.5117, 100.0, 30.0, 200.0, 26.0, 960.6344, 31.1563, 25.0, 25.0, 27.8732, 111.0, 248.0, 56.0, 27.0, 111.0, 65.0, 154.123, 50.1, 50.1499999999, 25.0, 30.0, 200.0, 50.0, 250.0, 25.0, 25.0, 1500.0, 260.0, 28.342, 25.0, 1179.1269, 100.0, 10000.0, 25.0, 25.0, 200.0, 30.0, 25.2, 300.0, 698.1, 25.977, 25.0, 30.0, 25.0, 25.17, 25.3, 25.11, 157.9825, 25.0, 26.0, 1600.0, 25.0, 394.091, 50.1, 25.0, 50.1, 120.0, 1527.1044, 30.0, 399.2006, 34.0, 937.7533, 160.0, 319.8375, 103.0, 200.0, 110.0, 216.8807, 101.0, 25.0, 25.0, 264.38, 25.0, 50.13, 200.0, 25.0, 127.0, 80.1548, 200.0007, 50.1, 29.9838, 25.0, 578.2490999997, 1000.0, 52.0, 50.1, 26.9839, 50.1, 110.0, 30.0, 50.1, 681.6523, 108.5073, 500.0, 112.133, 25.0, 30.0, 25.0, 25.0, 50.132, 250.0, 100.0, 25.0, 50.0, 51.0, 29.0, 100.0, 114.8544, 25.0, 28.4935, 42.0, 1180.1251, 25.12, 25.0, 25.0, 25.0, 465.8131, 30.0, 234.6783, 225.322, 50.0, 120.0, 110.0, 25.0, 100.13, 25.0, 30.0, 260.0, 250.0, 562.0, 30.0, 26.471, 40.0, 53.0, 30.0, 50.13, 25.1, 25.5, 307.0374, 25.0, 45.0, 128.0, 200.0, 200.0, 242.6014, 26.88, 100.0, 33.0, 25.0, 72.0, 50.12, 258.79679999999996, 25.0, 51.0, 38.0, 25.0, 25.0, 30.0, 30.0, 30.0, 1050.0, 50.0, 30.0, 90.4982, 25.0, 25.9801, 30.0, 28.9629, 932.2248, 50.15, 25.0, 50.0, 66.0, 50.0, 25.9, 25.0, 100.12, 25.0, 1691.909, 52472.8929, 110.0, 100.2, 25.0, 101.9, 200.0, 100.0, 200.0, 218.8913, 26.0, 195.412, 124.625, 200.0, 25.0, 180.0, 146.0, 25.4, 40.0, 30.0, 27.0, 25.0, 25.0, 114.2361, 50.1, 25.0, 26.0, 51.5, 100.0, 152.9577, 53.105, 25.0, 1021.9609, 25.1, 250.0, 25.0, 1031.0725, 100.0, 60.0986, 25.0, 25.1, 56.0, 25.0, 85.0, 258.9387, 26.0, 25.0, 50.13, 55.0, 50.13, 50.0, 65.4386, 110.0, 51.0, 34.0, 200.0, 50000.0, 200.0, 85.6174, 30.0, 25.0, 50.0, 25.0, 233.5971, 25.0, 110.0, 110.0, 25.0, 50.1, 200.0, 139.773, 200.0, 1187.3917, 25.0, 25.0, 25.0, 51.0, 27.0, 25.0, 25.0, 200.0, 33.0, 286.6885, 25.2479, 30.0, 25.0, 203.9999999997, 600.0, 50.0, 52.0, 25.0, 510.0, 203.1948, 25.0, 50.1, 296.615, 132.45839999999998, 137.3589, 26.0, 109.1991, 50.0, 25.0, 3000.0, 100.0, 1223.952, 26.4682, 25.0, 1209.2628, 100.15, 208.1285, 1026.6874, 101.0, 25.0, 79.0, 1134.2571, 200.0, 25.0, 147.76, 196.15980000000002, 25.0, 25.0, 25.0, 140.0, 30.907, 2608.5489, 130.0, 99.8001, 30.0, 25.0, 51.0, 81.1567, 25.0, 44.4315, 200.0, 25.0, 100.0, 513.7169, 26.0, 150.0, 65.8391, 25.0, 10000.0, 113.8265, 358.2028, 211.0, 25.0, 50.0, 50.12, 25.9903, 150.9921, 25.0, 25.0, 149.6932, 25.0, 25.0, 300.0, 25.0, 1006.8806, 60.0, 127.1107, 25.1, 25.0, 1020.7668, 30.0, 430.0, 200.0, 26.0, 150.0, 2503.0, 540.5039, 154.0876, 25.0, 30.0, 40.0, 322.0186, 25.0, 25.0, 250.0, 25.7444, 144.565, 30.0, 100.12, 51.0, 25.0, 110.0, 2598.1072, 56.0, 47.85, 26.0, 25.0, 102.8889, 248.1365, 25.0, 50.1, 1007.3639, 25.0, 101.0, 90.2285, 100.0, 53.0, 203.9999999999, 62.0, 123.0015, 109.8947, 29.9999999999, 25.0, 110.0, 1337.5294, 41.0, 1380.6788000000001, 1997.7187, 132.76, 28.6987, 52.0, 300.0, 50.6466, 51.0, 25.0, 25.0, 115.0, 35.4932, 79.2, 25.0, 117.0, 25.0, 26.0, 1076.0621, 365.97659999999996, 31.4055, 25.0, 363.2819, 25.1, 25.0, 500.0, 1010.0, 25.0, 150.0, 30.0, 25.0, 26.0, 25.0, 25.0, 25.1, 274.499, 26.8044, 25.0, 25.5, 655.9532999998, 167.1075, 26.0, 25.0, 30.0, 26.0, 118.0, 141.8676, 101.2453, 50.0, 105.7301, 200.0, 25.0, 124.0838, 104.0, 100.0, 50.0, 501.0, 1314.1274, 100.0, 83.1252, 30.0, 121.153, 68.4683, 69.4567, 25.0, 61.3666, 218.59519999999998, 127.0, 203.5607, 30.0, 1200.0, 25.0, 100.12, 114.0, 838.6337, 25.0, 25.0, 135.9226, 25.0, 100.15, 25.0, 200.0, 50.0, 31.0, 295.3612, 26.0, 25.0, 25.0, 98.4901, 100.0, 108.0, 200.0, 1100.0, 25.0, 25.0, 25.0, 30.0, 25.5628, 30.0, 30.0, 1022.6886, 25.0, 25.0, 25.0, 100.0, 1050.0, 453.3698, 126.0, 224.3355, 100.7, 200.0, 25.0, 506.0, 25.0, 1000.0, 90.8766, 79.2, 510.0, 25.0, 25.0, 25.0, 25.0, 117.3568, 100.0, 25.0, 27.0, 25.0, 367.9512, 300.0, 30.0, 807.0228, 25.0, 1005.3598, 25.0, 1553.0, 42.0, 25.0, 25.0, 25.0, 25.0, 25.0, 25.0, 26.0, 30.0, 25.0, 51.0482, 998.8622, 30.0, 200.0, 80.0, 25.0, 25.0, 71.76, 300.0, 500.0, 25.0, 25.0, 50.11, 102.0, 25.1, 25.0, 206.8775, 1067.463, 110.0, 128.4394, 25.5166, 52.0, 25.0, 25.0, 240.3019, 50.1, 40.0, 25.1, 46.1686, 38.69, 25.0, 165.8089, 1014.622, 26.0, 745.4441, 72.64959999999999, 25.0, 203.9999999995, 119.5153, 25.0, 210.3894, 25.0, 25.0, 53.0, 128.0, 54.0, 94.0, 52.0, 100.16, 50.12, 50.1, 54.0, 251.3402, 521.0, 25.0, 50.0, 77.9999999999, 160.0, 1156.4701, 110.0, 26.0, 381.775, 25.0, 29.7625, 77.0, 25.0, 130.0, 1068.2455, 30.0, 25.0, 25.0, 25.0, 25.0, 30.0, 1022.8223, 100.408, 73.25450000000001, 224.5494, 130.0, 25.0, 25.0, 25.0, 101.0, 290.4012, 251.8745, 26.0, 25.0, 31.904, 200.0, 1316.4521, 200.0, 150.0, 100.2, 479.1606, 532.0, 25.0, 66.0, 25.0, 501.0, 25.0, 26.0, 309.2627, 100.1999999999, 81.9, 573.6765, 61.0, 25.0, 4150.4515, 200.0, 312.0, 500.0, 26.0, 125.0, 1008.1926, 1138.7683999998, 300.0, 166.9975, 25.13, 100.12, 25.11, 82.7074, 25.0, 26.0, 26.0, 1049.5023, 25.0, 30.0, 25.0, 30.0, 51.0, 98.5642, 153.6684, 35.0, 108.0, 123.0, 102.0, 47.0, 538.6726, 25.0, 520.0, 480.0, 123.0, 335.0, 25.0, 30.0, 120.0, 60.996, 30.0, 25.0, 114.0121, 260.0, 110.33, 25.0, 136.9334, 52.0, 1000.0, 25.0, 50.1, 78.9999999998, 200.0, 110.0, 25.0, 30.0, 100.0, 25.0, 63.5764, 25.9041, 50.1, 25.0, 25.1249, 25.0, 115.6555, 1049.1972, 50.14, 165.1651, 149.40089999999998, 88.0, 25.0, 5000.0, 30.0983, 200.0, 22500.0, 160.0, 1032.6776, 50.0, 25.0, 227.0418, 32.1532, 1165.8543, 25.0, 25.0, 398.0, 60.0, 200.59640000000002, 305.0792, 28.0, 25.0, 33.3, 81.9285, 29.6857, 25.0, 26.0, 26.0, 26.0, 1003.0916, 1040.8698, 25.1, 202.0, 26.0, 25.0, 25.0, 70.0, 100.0, 1326.4308, 25.4235, 25.0, 29.5375, 160.0, 25.0, 77.2135, 61.7713, 25.0, 500.0, 104.0, 217.9941, 25.1, 26.0, 50.1499999999, 25.0, 100.0, 155.0, 25.0, 100.0, 1171.3139, 26.0, 1093.486, 1502.2179999999998, 99.607, 25.0, 30.0, 25.1072, 27.0436, 256.4993, 25.0, 26.0, 813.4215, 25.0, 1381.6953, 473.8394, 251.0, 1037.5031, 108.1811, 200.0, 25.0, 25.0, 47.0, 195.87810000000002, 299.6003, 27.02, 30.0, 100.0, 25.0, 25.0, 52.0, 26.0, 26.0, 101.9419, 400.0, 262.4, 50.0, 142.88240000000002, 25.11, 25.0, 115.0, 25.0, 25.0, 25.0, 25.1, 25.0, 200.0, 125.0, 49.5314, 26.0, 25.0, 77.8383, 347.0, 111.0, 74.30850000000001, 25.0, 30.0, 200.0, 18971.6408, 100.7, 25.0, 150.0, 105.0, 25.0, 25.0, 54.0, 110.0, 149.4469, 110.3197, 200.0, 110.0, 180.0, 153.0, 25.0, 56.3821, 120.0, 234.5443, 26.0, 148.66379999999998, 100.2, 25.0, 25.0, 21012.6076999994, 25.0, 3609.2435, 58.0, 30.0, 50.1, 30.0, 25.0, 110.0, 36.1209, 102.0, 1000.0, 864.8716, 996.003, 25.0, 64.2332, 200.0, 30.0, 25.0, 25.0, 25.0, 102.0, 25.0, 25.0, 50.0, 104.0, 50.0999999998, 500.0, 242.2461, 25.0, 203.0, 26.0, 25.0, 1054.8533, 299.9999999995, 25.0, 26.0, 100.0, 99.0, 26.0, 940.0, 30.0, 154.535, 100.0, 232.07659999999998, 25.0, 25.0, 104.9999999999, 25.0, 200.0, 251.0, 110.0, 643.4626, 25.0, 50.13, 26.0, 30.0, 25.0, 25.0, 226.3938, 7500.0, 217.3905, 25.11, 25.0, 100.0, 500.0, 227.9641, 160.0091, 52.0, 1000.0, 300.0, 32.0032, 25.0, 359.0, 26.1962, 77.9999999999, 215.0, 200.0, 30.0, 109.9041, 26.0, 81.0, 25.0, 76.0, 931.0, 26.0, 1000.0, 1184.6614, 50.1, 25.1623, 2256.8921, 25.0, 52.0, 25.0, 25.0, 1949.1875, 27.0, 26.0, 25.0, 40.9757, 25.0, 25.0, 25.0, 120.0, 1007.8065, 25.0, 50.12, 25.0, 204.0, 120.0532, 25.0, 25.0, 194.5431, 185.6896, 100.0, 1030.3596, 100.2, 50.2, 201.1447, 125.0, 1026.9349, 25.0, 26.0, 232.64499999999998, 50.0, 25.0, 992.015, 375.0714, 340.9597, 25.0, 94.58840000000001, 365.0, 77.7415, 55.5, 50.0, 25.0, 587.7135, 350.5045, 700.0, 397.1477, 51.945, 25.0, 26.0, 500.0, 25.0, 25.5561, 78.0, 726.6795, 99.7997, 25.0, 250.0, 204.0, 25.0, 150.0, 1500.0, 45.0, 30.0, 1017.813, 26.0, 91.2992, 25.0, 100.9283, 25.0, 61.9013, 30.0, 120.101, 25.0, 554.7206, 30.0, 320.0, 50.19, 5584.0, 100.0, 25.0, 100.0, 144.1745, 56.0, 149.8996, 30.0, 50.0, 26.0, 380.1848, 25.0, 25.249, 78.0, 200.0, 110.4286, 25.0, 63.5588, 30.0, 26.0, 30.0, 450.0, 100.0, 57.0, 25.0, 26.0, 200.0, 25.0, 30.0, 100.0, 51.0, 26.0, 55.0, 290.0, 25.0, 52.0, 25.0, 25.0, 100.0, 110.0, 97.5922, 25.0, 59.999999999799996, 25.0, 25.0, 26.0, 70.1823, 50.1, 1324.1165, 66.4199, 26.6721, 25.0, 25.0, 537.0, 59.0, 25.0, 105.0, 100.1, 85.0582, 124.0, 120.9208, 255.9832, 25.0, 1188.628, 25.0, 25.0, 25.0, 1000.0, 26.0, 1058.9137, 25.0, 120.0, 300.0, 168.49, 25.0, 110.0, 25.0, 1021.7636, 6100.0, 25.0, 43.1202, 25.9, 30.0, 25.0, 200.0, 1800.0, 25.0, 100.0, 112.0, 110.0, 25.0, 30.0, 25.0, 206.0, 30.0, 25.0, 255.0, 25.0, 522.9928, 100.1985, 86.994, 100.1, 339.9357, 25.0, 299.6488, 57.0, 1100.0, 25.0, 1151.6298, 110.2745, 30.0, 721.4601, 25.0, 1039.532, 50.0, 30.0066, 220.8355, 93.62360000000001, 30.0, 129.0, 26.0, 129.0, 804.8, 52.0, 25.0, 653.3957, 25.0, 50.0, 26.31, 50.0, 651.0, 30.0, 25.0, 3575.8472, 1078.3225, 151.0, 26.0, 50.1, 30.0, 25.7724, 253.9476, 25.1779, 1233.8972, 25.5, 78.0, 25.0, 282.94, 30.0, 50.0, 54.0, 78.2, 571.6996999999999, 500.0, 200.0, 50.1199999999, 50.1299999999, 25.0, 1100.0, 235.0, 25.0, 25.0, 26.0, 25.2561, 25.03, 33.0, 100.16, 25.0, 200.0, 25.0, 25.0, 50.03, 25.0, 100.0, 25.0, 65.2507, 78.21520000000001, 453.9527, 1000.0, 500.0, 26.0, 520.0, 110.0, 25.2, 514.8273, 25.0, 26.0, 101.0, 125.5, 25.0, 25.0, 200.0, 194.16570000000002, 300.0, 110.0, 25.0, 26.0, 25.0, 471.2587, 502.0, 1027.5395, 100.0, 1010.0, 25.0, 26.0, 219.2415, 100.5, 54.0, 176.76, 7741.9013, 25.16, 19978.8735, 25.0, 28.1349, 26.0, 25.0, 30.0, 70.0, 25.0, 1400.0, 649.7884, 340.8775, 53.5, 25.0, 251.0, 211.9622, 25.0, 7740.1047, 603.1469, 25.0, 80.0, 25.1, 83.0, 105.0, 473.3197, 78.1686, 550.0, 51.0, 25.0, 25.0, 26.0, 206.5595, 288.0, 25.0, 131.9587, 100.0, 100.8025, 45.0, 26.0, 25.0, 100.1, 219.58350000000002, 30.0, 34.0, 25.0, 26.0, 25.0, 500.0, 104.0, 120.0, 50.1, 25.0, 25.7, 50.1, 200.0, 60.2, 25.0, 26.0, 25.0, 25.0, 25.7564, 26.0, 30.0, 235.4914, 50.1499999999, 25.0, 25.0, 81.5795, 100.0, 143.56130000000002, 30.0, 60.0, 25.0, 77.7581, 30.0, 75.0, 101.452, 50.0, 25.0, 25.0, 30.0, 79.0, 26.0, 50.11, 25.0, 152.3495, 25.0, 360.0, 318.97, 51.0, 100.0, 32.0, 84.0, 100.1, 122.0, 403.0, 132.0, 200.0, 35.0, 27.4923, 200.0, 25.0, 30.0, 30.0, 25.11, 2701.3584, 202.0, 120.0, 25.0, 208.57240000000002, 100.16, 30.0, 25.0, 52.0, 1000.0, 158.72, 520.0, 330.0, 132.0, 25.0, 101.9947, 300.0598, 49.0, 25.0, 750.0, 70.0, 111.0, 68.57, 200.0, 27.0, 26.0, 50.05, 180.0, 25.0, 25.0, 256.0, 26.0, 25.9512, 60.0, 25.0, 54.4968, 25.0, 1203.7083, 286.5051, 34.3965, 25.7226, 59.474, 50.1, 250.0, 200.0, 200.0, 30.0, 25.1, 50.15, 25.0, 30.0, 26.0, 25.0, 26.0, 399.0, 25.0, 25.0, 168.6022, 25.0, 25.0, 78.0, 169.49, 25.0, 28.0467, 99.9999999998, 25.0, 125.0, 90.0, 50.1, 26.0, 25.0, 54.0, 300.0, 777.6360999999999, 25.0, 2540.0, 2000.0, 100.0, 52.0, 210.2673, 1110.0, 750.0, 4000.0, 1000.0, 2422.8768, 928.0, 31.0, 25.0, 26.0, 25.0, 1160.7318, 500.0, 30.0, 50.13, 10244.2504, 1377.821, 27.0, 25.0, 200.0, 110.0, 100.5, 106.8406, 1000.0, 100.3, 50.12, 25.0, 28.0095, 30.0, 123.0, 250.9789, 30.0, 41.6247, 52.0, 25.0, 50.0, 25.0, 25.0, 26.0, 201.41899999999998, 50.2, 25.0, 25.5163, 50.1999, 35.0, 30.0, 1000.0, 953.2047, 221.8805, 25.0, 280.5558, 25.0, 25.0, 508.0, 114.0, 233.298, 730.0, 142.6349, 25.0, 310.9811, 110.0, 498.0015, 237.5409999984, 585.0, 25.0, 50.0, 101.2705, 25.0, 30.0, 120.0, 25.0, 25.0, 27.0827, 165.9426, 110.0, 500.0, 25.0, 101.0, 51.0, 110.0, 25.0271, 575.0, 250.0, 482.6866999996, 1007.9354, 52.0, 5000.0, 135.9278, 7583.3438, 25.0, 45.0, 25.0, 100.0, 30.0, 26.2869, 26.0, 50.12, 33.0, 50.1, 25.0, 25.9999999999, 185.1745, 50.1, 50.0, 101.0, 54.0, 25.7475, 60.0, 25.0, 30.0, 30.0, 116.9532, 49.0, 311.8, 50.2999, 120.0, 26.0, 1415.6999, 25.2241, 25.0, 25.0, 50.0, 50.0, 48.1052, 25.0717, 25.0, 26.0, 52.3, 370.56, 386.3215, 25.0, 32.901, 200.0, 25.0, 30.0, 200.0, 45.0, 27.2945, 25.0, 358.0, 35.58, 80.0, 25.1, 25.0, 254.9999999996, 25.0, 25.0, 25.0, 200.0, 30.0, 101.0, 25.3737, 30.0, 90.727, 26.0, 25.0, 50.1, 47.0, 26.0183, 26.0, 3000.0, 25.0, 100.3, 213.5845, 97.2075, 130.0, 77.0313, 25.0, 317.4199, 56.0, 30.0, 25.0, 200.0, 50.1, 25.0, 25.0, 100.0, 104.0758, 29.0891, 50.0, 49.5947, 299.37440000000004, 50.06, 25.1, 25.0, 1982.9848, 25.0, 100.0, 949.119, 200.0, 201.0, 200.0, 101.2522, 27.31, 50.0, 25.0, 50.1, 55.0, 27.0, 26.0, 50.1, 130.0, 40.0, 25.0, 25.0, 101.1657, 25.0, 25.2, 270.0, 26.0, 25.5, 1360.5257, 25.0, 25.0, 36.6369, 51.3, 159.04, 120.0, 25.0, 27.7664, 29.4018, 129.3824, 50.1, 30.0, 144.7085, 250.9948, 77.9999999999, 30.0, 25.0612, 50.1499999999, 10000.0, 25.0, 25.0, 100.0, 25.0, 50.0, 84.4548, 186.9375, 25.0, 132.0, 25.0, 504.0, 25.0, 146.9144, 25.0, 25.0, 25.0, 50.1, 300.0, 50.13, 121.4601, 50.13, 1060.3185, 51.0, 1070.048, 25.0, 52.0, 25.0, 26.0, 100.2, 30.0, 157.9016, 30.0, 25.0, 510.0, 50.0, 224.54930000000002, 100.0, 126.0, 25.4213, 25.0, 29.4988, 88.3, 25.0, 25.0, 54.0, 200.0, 31.0, 25.0, 50.1, 25.0, 250.0, 100.0, 25.0, 30.0, 25.0, 25.0, 379.7573, 30.0, 27.8962, 179.2107, 292.9187, 110.5787, 25.0, 50.11, 50.0, 133.2979, 119.0, 1237.8886, 25.0, 1025.1687, 118.0199, 103.9216, 100.0, 50.17, 25.0, 115.0, 108.0, 1230.8268, 101.1247, 500.0, 26.0, 25.0, 210.0, 25.0, 25.0, 50.0, 100.12, 181.9525, 900.0, 25.0, 50.1, 335.4819, 120.0, 50.1199999999, 5945.0, 520.0, 168.8838, 25.0, 25.0, 50.1, 199.9851, 829.2845, 54.0, 50.7059, 1355.007, 25.0, 529.0, 117.2223, 25.4344, 125.0, 1371.0865, 78.9999999998, 25.0, 50.1, 25.0, 354.0199, 78.2, 25.0, 25.0, 51.0, 273.9918, 30.0, 49.9999999999, 200.0, 25.0, 120.0, 201.0000000001, 200.0, 30.0, 25.6651, 25.0, 767.1506999999999, 50.1, 318.6985, 25.0, 25.0, 25.0, 200.0, 300.5477, 25.0, 25.0, 175.0, 25.12, 80.0, 25.0, 30.0, 25.0, 812.7941, 500.0, 1392.3534, 212.361, 101.2155, 120.0, 200.0, 30.0, 25.0, 28.2151, 25.0, 30.0, 205.123, 111.0, 50.1, 25.0, 65.0, 26.0, 25.0, 237.286, 1499.998, 32.0, 25.0, 52.0, 60.0, 50.1199999999, 50.12, 25.0, 100.0, 54.0, 50.01, 50.0, 150.0, 50.0, 1100.0, 110.0, 25.0, 29.6868, 120.0, 116.0, 30.0, 30.0, 200.0, 561.0, 200.0, 1115.2042, 220.0, 55.0, 25.0, 85.9912, 30.6981, 1009.1, 29.7237, 30.0, 220.6859, 30.0, 1663.3432, 200.0, 40.6507, 250.0, 25.88, 25.0, 26.0, 342.8495, 25.0, 25.0, 25.0, 100.0, 150.0, 26.0, 54.0, 50.1, 77.9999999999, 25.0, 30.0, 25.0, 148.9624, 425.62829999999997, 50.13, 25.0, 980.1258, 45.4882, 101.0, 54.0, 5000.0, 25.0, 30.0, 100.0, 102.0295, 26.0, 150.0, 488.6676, 110.0, 110.0, 270.0, 88.0, 25.1, 25.0, 25.0, 797.6612, 105.3216, 1069.0645, 66.2361, 166.0, 299.65, 25.0, 1041.85, 260.0, 2054.335, 25.0, 25.0, 1344.6667, 4345.5389, 50.1, 25.9334, 1143.2994, 200000.0, 30.0, 106.0, 25.4568, 100.15, 1051.0723, 25.0, 2700.0, 1248.1099, 100.0, 26.0, 25.0, 151.0, 50.0, 25.0, 27.0, 1000.0, 100.0, 130.0, 103.8271, 198.537, 25.0, 26.0, 25.0, 25.1, 25.0, 78.9999999998, 200.0, 761.2185, 30.0, 200.0, 25.0, 25.0, 85.2435, 250.26, 25.0, 1100.0, 26.0, 107.2151, 78.0, 500.0, 496.5689, 25.0, 25.0, 100.5727, 100.0, 25.0, 1105.7328, 264.707, 25.0, 202.0, 25.0, 200.0, 25.0, 25.0, 100.1, 950.0, 26.0, 1010.0, 30.0, 63.0, 25.0, 26.0, 897.8091, 150.0, 50.0, 25.0, 2727.8390999999, 200.0, 120.6468, 25.0, 25.0, 500.0, 50.1, 103.0, 1049.6106, 25.0, 101.0, 941.5169, 123.0, 51.0, 100.0, 124.534, 68.0, 547.9999999997, 25.0, 25.0, 50.0, 55.2, 996.2287, 37.78, 50.0, 1086.4699, 120.0, 25.0, 56.2624, 1728.2764, 25.0, 25.0, 193.8003, 50.0, 103.6772, 1000.0, 25.0, 84.9762, 200.0, 50.02, 1297.0476, 50.12, 160.0, 101.0, 50.1, 25.0, 369.1891, 79.6839, 2515.9876, 109.7194, 236.1011, 25.0, 25.0, 25.0, 50.0, 500.0, 50.13, 25.0, 25.0, 25.0, 100.0, 158.0225, 25.1, 26.0, 330.0, 151.9583, 25.0, 25.1, 25.0, 189.6481, 100.0, 30.0, 25.0, 100.0, 26.0, 120.0, 60.9707, 1289.2203, 25.0, 183.3312, 25.0, 807.2865, 35.6427, 26.3312, 163.5017, 25.0, 440.0, 25.0, 500.0, 25.0, 1000.0, 25.0, 107.0027, 976.1876, 46.7343, 110.0, 25.0, 411.0, 30.0, 25.0, 41.6248, 500.0, 100.811, 100.0, 339.6964, 25.0, 175.6787, 373.6756, 110.0, 100.2, 25.0, 25.13, 200.0, 100.0, 25.0, 90.0, 193.37220000000002, 25.0, 912.7671, 25.0, 200.0, 25.0, 99.0, 25.0, 50.2299, 100.0, 150.0, 200.0, 25.0, 8000.0, 25.0, 52.0, 25.0, 116.0, 211.1148, 794.0, 712.0, 53.0021999998, 25.0, 25.0, 25.0, 29.9999999999, 106.0, 100.0, 50.26, 25.0, 200.0, 25.0, 95.9295, 1000.0, 25.8721, 52.0, 25.0, 25.0, 58.0, 1031.9918, 30.0, 110.0, 25.0, 4648.528, 26.0, 26.0, 25.0, 25.0, 100.1, 320.9125, 26.0, 25.0, 30.0, 38.1579, 1008.8393, 100.1, 79.0, 105.0, 25.1208, 137.9225, 300.0875, 247.43, 100.9999999999, 110.0, 202.0, 25.0, 284.9, 241.54165976, 25.0, 500.2155, 105.8797, 50.1, 26.0, 583.0206, 294.4395, 1011.084, 25.0, 493.3672, 121.0194, 4000.0, 50.1, 400.0, 29.7441, 25.0, 25.0, 100.0, 203.9048, 25.0, 7000.0, 25.0, 117.0, 78.2, 1012.4023, 25.0, 101.0, 280.0, 133.7062, 200.0, 25.0, 25.0, 25.0, 240.0, 378.1122, 108.0, 100.0, 25.0, 50.14, 559.0575999999, 25.0, 25.0, 25.0, 25.0, 25.0, 25.0, 190.0, 102.0, 211.25, 30.0, 25.0, 25.9, 50.15, 1170.478, 92.0, 77.9263, 30.0, 26.0, 51.0, 25.0, 61.0, 25.0, 100.0, 105.0, 25.0, 101.6217, 25.0, 25.0, 50.1, 30.0, 230.0, 67.2717, 50.13, 30.0, 26.0, 118.6481, 111.7591, 106.7232, 30.0, 100.0, 200.0, 1200.1969, 57.0, 1161.1311, 120.0, 25.847, 15744.8617, 25.0, 100.0, 25.0, 26.0, 25.0, 25.0, 66.8912, 50.0, 25.0, 1147.6699, 251.0, 2000.0, 168.0, 110.0, 1327.7998, 54.0, 25.6, 29.8551, 25.0, 25.0, 63.9695, 25.2, 52.230000000000004, 26.0, 149.60070000000002, 99.3578, 200.0, 150.58780000000002, 224.9377, 1533.9364, 66.79, 364.7524, 123.0222, 26.5476, 549.3881, 101.0, 1006.4635, 25.0, 25.0, 50.22, 251.0, 54.0, 280.0, 98.8123, 25.7609, 45.862, 956.7711, 25.33, 110.0, 25.0, 250.0, 300.0, 25.0, 25.0, 30.0, 50.0, 939.6982, 25.4999999999, 49.9441, 25.0, 2000.0000000002, 30.0, 25.0, 145.7217, 205.6313, 50.1199999999, 25.0, 25.0923, 50.2, 87.0, 85.0, 54.0, 645.8507, 200.0, 25.0, 25.0, 200.0, 102.0, 25.0, 110.0, 25.0, 54.0, 25.0, 30.0, 100.6, 100.2, 199.6003, 25.0, 50.1, 633.0, 25.0, 25.853, 25.0, 25.0, 25.7571, 5000.0, 375.196, 108.4238, 26.0, 532.0, 733.8845, 25.0, 101.0, 100.0, 40.0, 148.0139, 30.0, 44.0, 109.5736, 25.0, 56.2295, 200.0, 26.3457, 187.3073, 1129.9698, 25.0, 534.5805, 26.6199, 500.0, 25.11, 1198.0, 50.0976, 26.2771, 25.0, 25.0, 65.9615, 25.0, 100.0, 284.145, 26.0, 60.0, 26.0, 300.0, 30.0, 30.0, 180.8049, 103.0, 1254.1516, 1002.0, 25.0, 110.0, 100.0, 25.0, 26.0, 25.0, 31.0, 25.11, 79.894, 200.0, 100.0, 54.0, 110.0, 506.5884, 300.0, 25.0, 30.0, 99.0, 200.0, 290.0, 49.9999999998, 121.9999999998, 25.0, 200.0, 26.6196, 260.0, 222.4805, 1051.5525, 25.0, 45.0, 25.0, 24404.8973, 83.3991, 81.89699999999999, 25.0, 50.1, 78.9999999999, 25.0, 120.0, 240.0, 260.0, 26.0, 25.0, 263.6116, 25.0, 25.0, 964.4978, 41.0, 127.0, 25.0, 25.0, 135.0, 108.0, 1000.0, 79.0, 50.22, 220.0, 26.0, 100.0562, 10000.0, 100.0, 50.19, 30.0, 1350.0688, 50.1, 25.0, 27.0, 25.0, 550.0, 25.0, 25.0, 26.4953, 400.0, 59.9999999998, 205.0, 25.12, 142.9306, 68.9, 100.1, 55.9551, 2134.659, 26.0, 251.0, 25.0, 67.8023, 81.0, 115.0, 110.0, 50.1, 114.2798, 999.5949, 84.0, 50.0, 25.0, 50.1, 50.1299999999, 2000.0, 25.0, 25.0, 25.0, 30.0, 204.3918, 25.0, 400.0, 27.484, 26.0, 41.0, 100.0, 25.0, 550.0, 50.0, 100.1, 119.0, 30.0, 30.0, 100.0, 30.0, 25.0, 1100.0, 25.0, 30.6577, 98.2284, 50.1, 169.1535, 25.0, 200.0, 25.0, 100.0, 25.0, 56.0, 30.0, 63.84, 1000.0, 235.0, 25.0, 121.02, 229.8085, 30.0, 400.0, 1000.0, 25.0, 134.9226, 1343.897, 90.0, 98.4173, 550.0, 151.0, 100.0, 26.5286, 99.0, 117.0, 50.1, 25.0, 55.0, 30.0, 26.0, 102.0, 45.2394, 1197.7723, 25.0, 25.0, 25.1244, 25.0, 25.0, 50.0, 25.0, 25.0, 200.0, 25.0, 101.0, 291.5162, 300.0, 79.2, 25.0, 103.2628, 113.0, 1227.8202, 25.0, 199.9999999998, 50.13, 25.0, 1000.0, 80.0, 25.0, 25.0, 130.65, 83.0, 7128.6413, 968.3861, 26.0, 50.1, 203.9999999998, 100.1, 42.0, 251.0, 101.1003, 25.0, 30.0, 25.0, 26.0, 106.1923, 25.0, 1016.6826, 170.0, 50.1, 1134.665, 29.9912, 78.0000000003, 751.0, 481.3268, 200.0, 50.0, 634.1117, 1005.0, 1010.0, 25.0, 120.0, 25.0, 25.05, 25.0, 25.0, 99.3837, 89.9999999999, 117.6959, 100.0, 25.0, 26.0, 116.7504, 285.5408, 25.2715, 100.2, 100.0, 25.0, 106.5924, 218.642, 25.0, 78.9999999998, 103.5683, 25.0, 100.3, 48.0678, 51.0, 1050.0, 67.7558, 25.0, 25.0, 25.0, 64.3759, 44.1172, 250.0, 200.0, 1169.2405, 30.0, 100.0, 399.9999999999, 25.0, 104.0, 200.0, 100.0, 891.7694, 100.0, 1132.3926, 25.0, 100.1, 30.0, 100.0, 50.1199999999, 25.0, 115.0, 100.1, 300.0, 25.0, 406.0, 30.0, 30.0, 100.0, 25.0, 26.0, 300.0, 200.0, 60.0, 25.0, 7324.6882, 25.0, 25.0, 400.0, 30.0, 25.7195, 76.7332, 120.0, 54.0, 1021.237, 30.0, 100.0, 30.0, 200.0, 1000.0, 60.0, 200.0, 277.0414, 51.0, 80.2, 100.0, 100.0, 105.0, 156.3075, 212.8346, 107.0, 25.0, 60.0, 136.5805, 52.9999999997, 50.1, 25.0, 291.6225, 25.0, 1290.1397, 30.0, 128.0, 1000.0, 343.0135, 26.0, 26.0, 25.0, 25.0, 25.0, 25.0, 162.0, 140.5516, 25.0, 200.0, 30.0, 25.9999999998, 1500.0, 196.3, 25.0, 25.0, 535.9548, 54.7, 25.0, 205.18259999999998, 210.0, 25.6229, 53.0, 100.1, 1035.2349, 29.7047, 1404.6347, 50.8237, 26.0, 79.4882, 25.0, 30.0, 25.2, 50.0, 25.0, 25.0, 25.0, 524.7816, 53.5, 116.6076, 268.0465, 200.0, 25.0, 25.0, 25.0, 111.0856, 25.0, 50.1199999999, 25.0, 1088.1952, 49.9755, 200.0, 99.2088, 27.1, 26.0, 26.0, 25.0, 1049.7217, 25.0, 25.0, 800.0, 1948.0845, 47.0, 173.7754, 42.9956, 25.0, 124.0, 300.0, 119.0, 25.0, 1010.7434, 56.0, 572.0, 381.282, 25.0, 26.6751, 25.0, 324.4943, 25.1, 25.0, 300.0, 25.0, 241.0, 110.0, 1338.4083, 60.9478, 104.9999, 25.0, 25.0, 220.0, 29.4316, 25.0995, 25.0, 25.0, 1049.0073, 162.9995, 50.1, 54.8336, 100.0, 160.0, 26.0, 984.0639, 50.13, 1064.771, 25.0, 25.0, 80.0, 500.0, 200.0, 25.0, 30.0, 110.0, 25.11, 265.0, 120.0, 110.0, 519.0282, 26.0, 25.0, 163.6706, 152.8939, 254.99999999969998, 25.0, 50.0, 546.5082, 50.13, 1011.3073, 2500.0, 25.0, 30.0, 30.0, 219.5852, 1243.8926, 26.0, 193.3186, 70.0, 25.0, 25.5, 364.4389, 25.6478, 203.9999999994, 60.9573, 64.7785999998, 104.0, 25.3044, 817.7504, 25.0, 103.0, 230.0, 50.1, 110.0, 100.13, 25.0, 1104.7091, 110.0, 1020.2134, 103.0, 1123.4117, 972.2744, 74.2483, 280.0, 179.3354, 50.13, 76.2183, 25.0, 25.0, 25.0, 25.0, 121.0189, 504.0, 1014.9562, 50.1199999999, 85.0, 25.0, 87.0, 174.60070000000002, 25.0, 29.2389, 240.0, 200.0, 30.5, 50.1, 52.0, 79.0, 132.0, 1063.1759, 25.0, 30.0, 30.0, 68.0, 25.0, 517.0, 25.0, 154.8646, 30.0, 25.0, 105.1659, 200.0, 25.0, 30.0, 25.9389, 200.0, 73.46350000000001, 25.1306, 2000.0, 25.0, 26.0, 25.0, 4475.0, 25.1638, 200.0, 25.0, 25.0, 25.0, 26.0, 126.0, 100.0, 100.7565, 25.1, 25.0781, 300.0, 463.9121, 200.0, 640.9658999999999, 25.0, 43.6487, 25.0, 124.0, 100.0, 151.0, 30.0, 25.0, 100.1, 261.9624, 26.0, 30.0, 50.0, 51.0, 117.0, 26.361, 15495.89, 1389.7763999996, 1010.0, 146.0, 50.0, 30.0, 100.0, 52.9774, 25.0, 122.0, 1010.0, 119.0, 25.0, 483.3705, 1047.7971, 120.5991, 25.0, 25.1259, 300.0, 25.0, 507.0, 26.0, 241.274, 52.0, 27.0, 50.0, 305.8048, 50.13, 1049.5565, 379.6328, 247.7545, 101.0, 54.0, 50.1, 25.0, 101.0, 200.0, 498.0214, 110.0, 3956.5771, 40.0, 180.9768, 128.0, 25.3487, 25.0, 1231.8154, 200.0, 30.0, 26.0, 25.0, 78.0, 25.0, 101.0, 213.7371, 200.6213, 50.1, 66.429, 40.0, 1550.0, 200.0, 71.5549, 26.0, 206.0395, 26.0, 25.0, 25.0, 150.0, 100.0, 89.8375, 100.3, 27.5603, 27.4031, 150.0, 25.0, 25.0, 56.0, 53.0, 25.0, 505.0, 110.0, 132.5219, 254.99999999969998, 50.14, 49.9999999999, 110.0, 84.5895, 102.439, 26.0, 25.0, 100.0, 26.0, 100.0, 48.0, 25.0, 300.0, 25.9999999998, 56.0, 284.0, 25.0, 76.1919, 1086.9144, 25.0, 25.0, 25.0, 110.0, 25.0, 52.8, 1096.3111, 102.0, 337.0688, 200.0, 25.12, 27.0, 112.2039, 51.0, 134.0, 30.0, 25.0, 110.8381, 120.0, 25.0, 26.4801, 25.0, 25.0, 78.0, 195.9708, 160.0, 627.5038999999999, 25.0, 25.0, 25.0, 750.0, 25.8721, 565.7179, 102.0, 110.0, 25.0, 350.0, 25.0, 204.0, 25.0, 3500.0, 1057.9735, 25.0, 220.0, 26.0, 25.0, 52.9998, 33.7235, 26.0, 581.924, 98.9023, 25.0, 25.0, 25.0, 26.0, 25.0, 25.0, 26.0, 50.17, 1304.6431, 549.9102, 25.0, 26.0, 70.0, 25.0, 25.0, 162.9047, 1000.0, 25.0, 25.0, 25.1, 300.0, 100.0, 97.1934, 110.0, 42.243, 26.0, 25.3, 110.0, 50.13, 25.0, 25.0, 56.86, 25.0, 200.0, 25.0, 50.1199999999, 101.5999999994, 200.0, 30.0, 26.7824, 440.5451, 25.0, 1000.0, 700.0, 50.0, 200.0, 76.9509, 316.2493, 1540.7894, 25.0, 30.0, 89.1567, 25.0, 51.0, 56.0, 30.0, 25.0, 25.0, 25.0, 30.0, 26.0, 251.0, 25.0, 2020.0, 35.9999999997, 100.9572, 120.0, 202.5493, 1026.7927, 25.0, 133.4832, 300.0, 200.0, 200.0, 30.0, 50.15, 103.0, 50.15, 500.0077999998, 826.2573, 25.0, 1259.3305, 25.0, 30.0, 96.5096, 116.5714, 25.0, 1400.0, 25.0, 67.7668, 25.0, 120.4811, 25.0, 25.0, 30.0, 30.0, 82.65129999999999, 498.0, 25.0, 75.0, 207.725, 1097.8735, 100.0, 54.400000000000006, 25.0, 167.6263, 25.0, 1183.1808, 25.0, 25.0, 25.0, 56.0, 40.0, 25.0, 50.1, 110.0, 26.0, 25.0, 51.0, 500.0, 72.06479999999999, 220.0, 50.0, 25.5837, 25.0, 25.0, 146.2108, 166.358, 1691.7096000000001, 30.0, 26.0, 25.0, 150.0, 111.2173, 25.0, 203.6372, 25.0, 25.5691, 140.0, 102.0, 151.3297, 54.0, 50.1, 100.0, 25.0, 25.2726, 200.0, 25.0, 50.0, 25.8, 110.0, 130.1415, 50.0999999997, 25.0, 250.0, 100.0, 28.0681, 46.0, 50.0, 110.0, 29.9442, 120.0, 25.0, 5000.0, 50.0, 25.0, 30.0, 50.1, 25.0, 26.1294, 25.0, 1197.0, 100.0, 30.0161, 25.0, 25.0, 25.0, 25.0, 54.0, 214.0, 25.0, 947.2434000000001, 25.0, 119.6085, 225.0, 1463.6447, 1273.9972, 100.1, 123.6704, 45.0, 501.1633, 200.0, 100.2, 50.15, 53.0, 26.0, 25.0, 25.0, 30.0, 25.0, 208.373, 26.2784, 52.0, 50.0, 799.5716, 50.19, 25.1864, 300.0, 25.0, 80.5327, 67.55359999999999, 121.0, 1010.0, 25.0, 118.0, 25.0, 3999.0377, 200.0, 50.19, 25.0, 26.4046, 1114.4412, 100.0, 116.9981, 500.0, 25.0, 25.0, 25.0, 25.0, 1069.5168, 56.3, 305.0, 56.0, 135.0, 25.0, 60.0, 25.0, 138.9214, 26.6319, 80.0, 60.0, 243.02949999999998, 331.7932, 25.0, 150.0, 115.9, 155.8736, 25.0, 26.0, 50.12, 35.0, 200.0, 1020.0, 1005.9064, 26.0, 30.0, 61.3384, 25.1, 25.7, 57.0, 6000.0, 584.2824, 50.0, 450.0, 25.0, 3796.5261, 110.0, 1249.0382, 25.0, 700.0, 80.0, 25.0, 281.0, 50.0, 380.0, 315.6334, 78.9999999998, 101.6695, 198.8986, 103.0, 55.0, 103.0, 30.0, 50.5, 25.0, 50.13, 25.0, 25.0, 1100.0, 26.0, 25.0, 25.0, 25.0, 100.0, 25.0, 25.0, 300.0, 412.5812, 585.3637, 26.0, 59.7203, 341.3766, 100.0, 101.0, 541.3302, 25.0, 120.8231, 485.4346, 200.0, 1000.0, 301.7732, 198.3426, 372.0555, 1020.0, 25.0, 25.0, 26.0, 188.6823, 25.0, 130.0, 25.0, 32.1993, 300.0, 25.0, 110.0, 30.0, 174.8442, 50.1, 1761.0119, 100.3, 4000.0, 25.0, 26.0, 215.5983, 25.0, 101.0, 148.2321, 58.0, 50.0, 26.0, 104.0, 960.7021, 32.4025, 28.6657, 25.0, 25.0, 25.0, 110.0, 33.3995, 894.0, 60.0, 30.0, 517.3364, 30.0, 25.0, 100.0, 54.0, 100.0, 54.0, 30.0, 25.0, 30.0, 251.0, 91.0943, 223.3779, 25.0, 62.1238, 25.0, 25.11, 26.0, 25.0, 25.77, 39.0, 1048.7293, 25.0, 25.0, 25.0, 143.7392, 50.0, 25.11, 289.1799, 25.0, 200.0, 116.2093, 25.0, 100.0, 100.0, 100.0, 100.0, 100.0, 100.0, 520.0, 26.0, 25.0, 100.001, 200.0, 25.0, 25.0, 82.0536, 61.0627, 153.0, 50.13, 25.0, 1214.0568, 1002.0, 26.0, 26.0, 25.0, 1018.7097, 25.0, 25.0, 31.7046, 130.0, 130.0, 25.1, 1011.0507, 25.0, 357.377, 26.0, 59.0, 30.0, 30.0, 25.0, 30.0, 56.0, 139.999999999, 25.0, 78.0, 110.1061, 25.0, 275.6705, 25.0, 200.4, 1124.2096, 131.144, 52.6315, 26.0, 25.0, 25.0, 25.0, 52.0, 25.0, 26.0, 128.0, 1005.3685, 280.0, 30.0, 54.1639, 26.0, 44.3665, 110.0, 50.0, 25.0, 25.0, 51.9593, 4000.0, 200.0, 30.0, 30.0, 50.1, 1074.3711, 50.13, 69.2156, 110.0, 78.2, 25.0, 25.0, 25.0, 25.0, 1080.4003, 570.0, 250.0, 50.0, 25.2822, 50.1, 239.3299, 26.0, 25.0, 412.7379, 200.0, 30.0, 25.4484, 110.0, 1010.0, 436.0, 100.0, 97.0, 477.9839, 30.0, 199.7738, 787.6243, 102.5992, 50.0, 25.0, 223.0788, 200.0, 102.85, 1000.0, 50.1, 1001.161, 100.0, 25.0, 1050.0, 25.0, 67.7587, 135.0929, 88.7, 50.11, 114.3808, 35.0733, 50.0, 25.0, 77.9999999998, 25.0, 100.0, 50.0, 25.0, 25.0, 25.0, 100.1, 25.0, 203.83, 26.0, 232.6499, 25.0, 25.0, 25.1, 50.1, 27.0, 50.4723, 25.0, 25.0, 554.0, 100.0, 50.0, 50.1, 50.0, 50.1, 25.0, 416.8544, 25.0, 1100.0, 250.0, 89.381, 25.05, 121.0, 123.0, 25.0, 1175.429, 25.0, 59.4461, 25.0, 606.0, 26.4, 548.3666999999, 330.5931, 210.9712, 500.0, 50.21, 340.3286, 25.0, 25.0, 9984.461, 100.0, 25.0, 100.0, 52.0, 300.0, 62.7527999999, 25.2, 25.12, 1022.5731, 55.0, 25.0, 26.0000000009, 120.0, 50.14, 119.63069999999999, 104.0, 124.0, 25.0, 185.2946, 25.0, 25.0, 25.0, 30.0, 30.0, 30.0, 44.0, 28.4205, 105.0, 25.0, 45.0, 100.85, 25.0, 52.0, 25.0, 58.0807, 50.1199999999, 25.0, 25.3556, 50.08, 25.0, 25.0, 50.16, 80.0, 26.0, 80.6833, 25.0, 294.115, 14113.4101, 25.9, 115.328, 80.0, 25.0, 200.0, 50.1, 77.9999999999, 34.0, 25.0, 25.0, 51.0, 100.1, 84.23230000000001, 30.0, 25.0, 25.0, 199.1508, 25.0, 26.0, 100.16, 25.0, 281.7522, 25.0, 50.1, 217.1217, 102.3796, 25.0, 25.0, 25.0, 110.0, 134.9999999999, 204.0, 25.0, 31.0244, 200.0, 25.0, 28.0, 141.0, 25.0, 1050.0, 100.0, 31.6562, 50.1, 100.0, 25.0, 25.0, 25.0, 50.13, 50.1, 144.9845, 251.0, 25.0, 25.771, 25.0, 65.2483, 98.0, 500.0, 228.0, 1089.0992, 240.0, 100.0, 160.3205, 124.0, 25.0, 75.8099, 57.7948, 198.15370000000001, 25.0, 25.0, 25.0, 26.0, 119.0169, 39.1981, 28.1627, 50.0, 1423.3761, 1001.9628, 50.0, 128.1867, 102.0, 249.0, 28.6829, 50.1, 200.0, 78.9999999999, 114.26689999999999, 30.0, 30.0, 25.0, 550.0, 405.0864, 25.0, 100.46, 547.0, 200.0, 12032.0, 53.0, 100.0, 25.0, 139.9563, 25.0, 25.0, 100.13, 25.0, 30.0, 100.0, 41.0, 25.0, 25.0, 500.0, 25.0, 56.0, 25.8721, 25.0, 245.4365, 30.0, 200.0, 30.0, 100.0, 1430.0, 50.0, 25.0, 171.98250000000002, 282.1025, 25.0, 25.0, 100.2, 25.301, 39.0, 600.1432, 1100.0, 150.0, 25.12, 1002.0, 90.9501, 1084.7374, 835.9995, 50.0, 25.0, 25.1848, 25.0, 100.2, 80.0, 25.0, 154.6414, 975.1235, 55.0, 25.11, 100.0, 25.0, 100.0, 226.1196, 30.0, 116.0, 54.9578, 132.0, 50.1249, 25.0, 251.0, 26.0, 25.0, 411.587, 25.0, 30.0, 1010.7845, 229.8085, 222.0, 25.0, 30.0, 526.0, 50.0, 100.3, 25.0, 25.0, 609.6501, 118.7329, 25.0, 90.3511, 300.0, 26.0, 64.2449, 102.0, 200.0, 70.0, 500.2932, 101.1, 381.7061, 99.8001, 75.0, 25.0, 25.1249, 25.0, 26.0, 25.1, 26.0636, 1000.0, 50.0, 25.0, 66.22540000000001, 25.0, 50.0, 160.0, 212.5024, 50.2, 1100.0, 174.475, 200.0, 25.13, 26.0, 25.0, 69.8605, 376.7164, 26.0, 90.0, 25.0, 100.2, 25.0, 48.6867, 88.0, 110.7624, 2500.0, 52.0, 25.0, 100.1, 25.0, 50.12, 77.9999999999, 70.8874, 25.1, 500.0, 50.12, 116.0, 25.0, 30.0, 25.0, 112.1062, 150.0, 1000.0, 25.0, 75.0, 50.1, 342.6549, 250.0, 50.0, 316.6095, 27.0, 945.3056, 534.8381, 26.0, 1500.0, 49.986, 52.0, 309.2731, 50.1199999999, 25.0, 95.0, 125.0, 31.2311, 1285.3672, 25.0, 126.0, 1265.5164, 4136.9767, 26.0, 200.0, 200.0, 930.2509, 54.0, 1334.1597, 498.0413, 101.0, 25.0, 200.0, 77.9999999998, 6000.0, 50.0, 25.0, 105.0, 100.0238, 50.1, 35.8071, 25.0979, 25.0, 1124.7058, 510.0, 33.0, 213.70600000000002, 26.4045, 30.0, 25.0, 25.0, 149.55, 50.14, 25.0, 30.0, 50.0, 77.3313, 125.2, 100.0, 174.475, 25.0, 331.6666999999, 100.2, 1212.9344, 61576.2, 45.0, 50.1199999999, 110.0, 51.0143, 200.0, 255.0, 26.0, 52.0, 25.0, 25.0, 79.0, 41.9856, 140.1753, 197.7713, 205.0, 518.0, 34.5461, 25.0, 25.0, 1977.3723, 200.0, 110.0, 25.0, 59.9482, 30.0, 45.0, 116.0, 100.0, 50.0, 26.0, 25.0, 59.1495, 1023.2827, 56.0, 63.0, 100.0, 441.0232, 25.0, 25.0, 51.0, 536.0, 96.0, 25.8, 373.5509, 1100.0, 25.0, 25.0, 109.4301, 56.0, 751.0, 25.0, 26.0, 127.0, 25.0, 25.7736, 26.0, 26.0, 101.2597, 25.0, 44.0, 10000.0, 50.0014, 25.0, 116.7487, 250.0, 1420.0047, 205.0, 426.0633, 25.5, 25.14, 100.2, 30.0, 50.15, 25.0, 86.89779999999999, 137.9059, 234.0735, 25.0, 25.1, 25.0, 1100.0, 25.0, 25.0, 139.2024, 79.0, 25.0, 51.1746, 120.793, 3000.0, 100.0, 52.0, 26.11, 200.0, 50.2, 25.0, 72.0, 127.6524, 25.0, 25.0, 25.0, 200.0, 156.8699999991, 25.0, 25.0, 50.16, 232.0, 34.0827, 200.0, 105.5, 25.0, 25.0, 1060.5089, 110.0, 119.0, 25.0, 26.0, 29.8362, 25.0, 286.0, 25.0, 55.0, 25.0, 53.0, 30.0, 100.0, 1023.5301, 64.96350000000001, 99.8001, 25.0, 150.0, 121.0196, 95.0, 25.0, 100.8465, 117.0797, 111.6334, 236.0, 26.0, 25.0, 25.0, 25.3699, 25.36, 25.0, 25.0, 58.0, 400.0, 25.0, 55.0, 621.097, 448.1764, 105.0, 30.0, 102.0339, 159.9084, 50.1, 25.0, 100.0, 90.60560000000001, 25.0, 505.0, 25.12, 110.0, 200.0, 25.0, 26.0, 25.0, 439.8546, 260.0, 33.1502, 50.0, 25.0, 25.0, 25.2, 699.4587, 25.0, 255.0, 25.0, 30.0, 40.0, 25.0, 349.8982, 44.0, 25.0, 35.0, 255.0, 25.0, 76.0], \"xaxis\": \"x\", \"yaxis\": \"y\"}, {\"alignmentgroup\": \"True\", \"boxpoints\": \"all\", \"fillcolor\": \"rgba(255,255,255,0)\", \"hoverlabel\": {\"namelength\": 0}, \"hoveron\": \"points\", \"hovertemplate\": \"Total Value Collateralized ($)=%{x}\", \"jitter\": 0, \"legendgroup\": \"\", \"line\": {\"color\": \"rgba(255,255,255,0)\"}, \"marker\": {\"color\": \"#636efa\", \"symbol\": \"line-ns-open\"}, \"name\": \"\", \"offsetgroup\": \"\", \"showlegend\": false, \"type\": \"box\", \"x\": [58.0, 57.14, 176.9562, 50.0, 1381.4926, 25.0, 146.3265, 25.0, 50.22, 666.0, 25.0, 83.0952, 220.0, 25.0, 203.9999999998, 209.98, 30.0, 26.0, 111.0, 200.0, 26.0, 26.0, 200.0, 50.17, 25.0, 114.7048, 200.0, 26.9999999998, 27.0189, 25.0, 101.0, 50.1, 30.0, 372.1801, 50.0, 25.0, 50.0, 104.8664, 52.0, 56.0, 25.0, 39.0, 25.0, 251.0, 130.0, 25.0, 25.0, 50.0, 26.0, 25.0, 25.0, 55.0, 100.0, 25.0, 200.0, 502.0, 300.0, 25.0, 25.0, 47.3575, 25.1, 9980.015, 200.0, 100.6, 25.0, 50.1299999999, 175.2454, 78.9999999998, 25.0, 26.0, 269.8239, 25.0, 376.5919, 129.0, 25.0, 1000.0, 25.0, 103.0, 300.0, 503.835, 81.2529, 262.6408, 50.0, 105.6, 30.0, 200.0, 26.5884, 50.0, 200.0, 155.4802, 25.0, 28.0, 50.12, 25.0, 1027.776, 50.1, 86.739, 387.89599999999996, 25.04, 54.0, 30.0, 174.8461, 25.9767, 26.0, 25.0, 25.0, 202.0, 156.6839, 25.4, 30.0, 50.0, 150.2539, 27.6147, 100.0404, 26.0, 120.0, 62.6879, 50.0, 25.0, 25.0, 30.0, 88.3494, 27.1588, 130.0, 26.0, 251.0, 56.0, 32.1, 50.01, 25.0, 200.0, 25.0, 54.0, 122.0, 26.0, 142.0, 41.1263, 25.0, 58.6, 352.0125, 30.0, 1142.5817, 351.7475, 335.4, 3171.0, 25.0, 664.4763, 53.8, 25.0, 25.0, 25.0, 25.0, 25.0, 26.0, 25.0, 25.0, 101.0, 25.2224, 26.0, 25.1005, 236.0, 25.3863, 35.23, 1099.8746, 67.19569999999999, 34.6942, 61.5165, 26.0, 25.1223, 100.0, 65.2512, 76.0203, 25.0, 25.0, 25.0, 27.0, 25.0, 25.0, 400.0, 29.8831, 25.0, 25.0, 174.6614, 246.4334, 26.6591, 50.15, 100.0, 25.0, 68.2257, 25.3487, 100.6, 125.0, 25.0, 25.0, 1295.3408, 120.0, 25.0, 50.0, 1000.0000000004, 1644.1691, 151.0, 26.0, 352.7815, 100.0, 952.9326, 40.3785, 25.0, 250.0, 25.0, 350.3584, 25.0, 100.2437, 32.6518, 25.0, 26.0, 111.0, 25.0, 200.0, 35.7424, 26.1, 25.0, 1077.5676, 30.0, 200.0, 25.0, 277.6641, 260.2939, 200.0, 127.0, 203.9999999998, 25.0, 25.0, 120.0, 1422.252, 25.0, 240.0, 268.9098, 30.0, 25.1, 25.0814, 1123.4688999999998, 100.0, 55.0, 26.0, 25.0, 25.0, 200.0, 9250.0, 25.0, 25.0, 25.0, 25.0, 25.04, 25.4599, 162.3643, 273.3027, 501.0, 25.0, 200.0, 60.36, 50.2, 1000.0, 25.0, 25.0, 206.03, 1633.641, 30.0, 150.0, 30.0, 25.0, 25.0, 55.0, 25.0, 25.0, 290.0095, 53.0, 5000.0, 26.0466, 243.2426, 30.0, 25.0, 25.0, 1078.8387, 30.0, 140.0, 41.3755, 100.0, 1061.3022, 101.0, 50.1, 300.0, 40.0, 26.0, 913.2512, 183.212, 1074.7225, 150.0, 52.9486, 94.1719, 138.5568, 66.4084, 30.0, 25.0, 500.0, 30.0, 1071.7501, 165.3632, 150.0, 25.0, 56.0, 26.0, 25.0, 25.06, 46.0, 25.0, 1012.1394, 25.0, 25.0, 200.0, 933.9896, 34.8451, 25.0, 26.0, 100.12, 25.0, 25.0, 30.0, 26.0, 25.0, 26.0, 100.6, 81.1576, 49.9588, 110.0, 155.8981, 50.03, 78.2, 25.0, 25.0, 20000.0, 50.7, 318.7159, 579.581, 25.0, 25.0, 282.9486, 3192.0, 60.0, 203.9999999997, 111.0, 50.1, 791.5353, 25.0, 1338.2883, 1009.248, 4000.0, 3000.0, 206.0, 51.8721, 182.68329999999997, 25.0, 76.0, 26.0, 50.1, 200.0, 95.0, 140.0, 125.0, 26.0, 25.0, 25.0, 25.0, 25.0, 26.0, 66.6362, 25.0, 25.0, 27.0387, 30.0, 30.0, 146.0202, 100.5, 110.0, 26.01, 820.0, 1000.0, 25.0, 25.0, 56.0, 400.2727, 1169.6804, 25.0, 1179.9245, 1009.801, 25.0, 30.0, 106.2325, 25.5008, 110.0, 27.0, 347.377, 228.8862, 270.0, 200.0, 25.0, 33.335, 300.0, 25.0, 142.8029, 200.0, 278.2377, 50.0, 353.10929999999996, 200.0, 25.0, 203.9999999997, 25.0, 25.0, 1023.8305, 170.0, 25.0, 25.0, 25.0, 30.0, 1021.5367, 25.0, 25.0, 25.0, 25.0, 336.9142, 27.0105, 25.9999999999, 26.0, 30.0, 25.0, 59.0, 30.0, 129.9768, 60.0, 100.0, 25.0, 54.0, 89.5555, 102.0, 32.0999999998, 100.1, 27.7193, 25.0, 28.0188, 54.0, 120.0, 25.0, 25.18, 49.0, 100.0, 520.0, 50.1, 30.0, 250.0, 571.9364, 120.6499999988, 110.0, 25.1, 100.0, 25.0, 231.7028, 25.0, 55.0155, 1183.8627, 28.8151, 115.5, 25.0, 30.0, 109.1421, 25.0, 100.0, 50.15, 531.9127, 25.4449, 59.9999999999, 60.0, 37.0, 25.0, 50.0999999999, 127.8393, 77.9999999998, 162.9384, 286.7621, 59.8664, 164.066, 1006.5709, 4000.0, 505.0, 164.8565, 200.0, 300.0, 20000.0, 252.0, 25.0, 25.0, 1002.0, 26.0, 53.8, 25.0, 25.0, 50.1199999999, 168.7733, 111.367, 25.0, 66.0635, 1014.4793, 453.0, 66.2901, 30.0, 26.0, 1014.4325, 50.2, 100.1, 104.0, 54.0, 1010.0, 116.973, 200.0, 106.2096, 60.0, 286.5427, 122.0, 20000.0, 30.0, 25.0, 30.0, 50.1, 1325.5408, 205.0, 25.0, 200.0, 200.0, 200.0, 350.2499, 248.427, 1203.9203, 25.0, 26.0, 25.0, 25.0, 25.0, 145.0, 250.3917, 50.0, 209.4198, 295.0, 25.0, 300.93, 54.0, 102.0, 77.9999999999, 25.0, 31.0, 500.0, 50.1, 50.1, 25.0, 25.0, 50.1, 250.0, 500.0, 30.0, 26.0, 25.0, 25.0, 26.0, 66.2605, 26.0, 25.0, 25.0, 25.1, 25.0, 180000.0, 86.3651, 555.0, 1077.196, 100.8, 40.0, 149.1351, 26.0, 219.6329, 25.0, 30.0, 49.0, 25.0, 60.9757, 25.4983, 500.0, 50.11, 25.2, 25.0, 25.0, 30.0, 203.9999999998, 215.6012, 25.0, 25.0, 230.7557, 110.0, 30.0, 221.5833, 1010.0, 25.0, 51.0, 1263.9999999999, 25.0, 25.0, 50.08, 25.2167, 25.0, 78.9999999999, 30.0, 25.0, 2000.0, 2440.0, 30.0, 25.0, 116.9999999999, 100.0, 296.0, 224.2751, 37.0, 25.0, 50.0, 300.0, 105.5, 26.0, 25.0, 169.39030000000002, 25.0, 79.2, 50.15, 88.8463, 149.8001, 25.0, 25.0, 100.0, 25.0, 25.0, 50.1, 26.0, 107.9999999999, 50.0, 1050.0, 250.6594, 30.0, 516.0114, 120.0, 181.542, 50.1, 25.0, 25.0, 142.64, 30.0, 25.0, 83.0, 151.2522, 50.1, 25.0, 50.1, 238.3577, 370.6846, 1133.1868, 110.0, 133.7025, 50.14, 41.9783, 25.0, 25.0, 55.0, 31.1005, 293.4472, 25.0, 50.5, 25.0, 26.0, 29.5582, 6200.0, 25.0, 467.1536, 105.0, 25.0, 25.2, 52.0, 27.886, 80.0, 276.0, 1000.0, 170.31799999999998, 25.0, 100.1, 200.0, 25.0, 120.0, 926.5121, 75.0, 83.7729, 110.6084, 110.0, 25.0, 110.0, 28.0, 26.0, 25.0, 100.0, 50.15, 52.0, 50.12, 1000.0, 25.0, 81.7903, 3439.8524, 246.0, 47.5873, 250.0, 550.0, 500.0, 140.398, 1052.0095, 1678.1752999999999, 25.0, 52.0, 50.05, 56.0, 100000.0, 168.0, 25.4734, 50.2, 100.1, 25.0, 81.0, 101.474, 50.8929, 34.0, 26.0, 30.0, 50.0, 100.0, 26.0, 75.4628, 100.0067, 1010.0, 50.1, 50.1199999999, 25.0, 25.0, 25.1, 56.0, 25.0, 25.0, 137.76, 50.1, 25.0, 25.0, 25.0, 25.0, 110.0, 146.0, 30.0, 600.0, 450.0, 30.0, 26.9218, 27.0208, 25.0, 100.0, 272.181, 25.0, 100.163, 75.0, 25.0, 117.717, 200.0, 30.0, 270.0, 25.0, 105.0, 50.0, 25.0, 50.1, 52.2, 25.0, 1002.7, 2000.0, 90.2939, 25.0, 87.9104, 4117.6315, 1001.0, 30.0, 171.9852, 100.0, 50.1, 30.0, 1267.7774, 25.0, 25.0, 25.0, 75.32, 25.0, 1750.0, 25.0, 341.1633, 1022.2694, 742.2503, 1056.2467, 26.7619, 202.2176, 50.13, 84.1468, 25.0, 105.0, 30.0, 92.0, 6890.0, 145.395, 78.2502, 300.0, 300.0, 988.027, 30.0, 118.5184, 25.0, 300.0, 25.1, 666.0, 25.0, 37.9306, 301.0, 52.9583, 500.0, 34.9199, 25.0, 50.11, 299.8123, 67.6754, 200.0, 50.0999999999, 300000.0, 25.0, 25.0, 87.1129, 50.01, 50.1, 48.0, 31.2311, 39.6759, 99.7781, 6000.0, 25.0, 128.7267, 25.0, 3478.44, 139.7476, 25.0, 25.0, 29.9171, 200.0, 120.0, 25.0, 43.0, 25.0, 500.0, 25.0, 2355.0, 30.0, 51.0, 25.11, 55.0, 403.6657, 25.1, 124.5, 25.0, 28.0, 100.0, 45.3575, 26.0, 55.2368, 26.0, 355.5358, 118.2603, 25.0, 84.0753, 146.0002, 25.9825, 102.0, 25.0, 337.078, 26.0, 25.0, 30.0, 25.6, 1174.3913, 200.0, 25.0, 58.2, 25.0, 167.3374, 118.1694, 25.0, 314.9772, 200.0, 25.8966, 203.99999999969998, 26.0, 50.0, 110.0, 25.0, 25.0, 277.9831, 30.0, 116.6962, 25.0, 25.0, 25.0, 100.0, 958.5071, 111.0794, 1053.0276, 25.0, 407.82640000000004, 100.6, 25.5979, 117.5526, 25.0, 25.0, 150.6693, 30.0, 94.0, 170.0, 203.5, 202.0, 100.0, 25.0, 30.0, 30.0, 25.0, 30.0, 25.0, 25.0, 70.001, 27.6534, 25.0, 113.7667, 25.0, 319.5269, 91.0, 98.905, 1500.0, 25.0, 100.0, 26.0, 680.4868, 31.0, 25.0, 115.0, 25.0, 26.2834, 261.3404, 120.0, 110.2076, 25.0, 57.0, 25.0, 26.0, 100.1, 25.0, 30.0, 25.0, 100.0, 25.0, 25.0, 1000.0, 1000.0, 25.0, 100.0, 507.28, 25.0, 200.0, 102.0, 558.0, 25.0, 100.13, 25.0, 200.0, 110.9011, 25.13, 25.0, 59.564800000000005, 25.0, 115.1873, 203.99999999980002, 25.0, 30.0, 1100.0, 30.0, 134.0519, 25.0, 25.0, 25.0, 255.4071, 85.0, 25.0, 178.8082, 25.0, 400.0, 123.0, 200.0, 25.0, 1279.2129, 25.0, 100.1, 26.0, 251.0, 49.7626, 105.0, 25.0, 25.8307, 205.708, 25.0, 101.0, 50.0, 79.2, 140.0, 29.9093, 25.0, 83.55680000000001, 1500.0, 89.9543, 25.0, 300.0, 50.0, 999.7376, 50.0, 100.0, 25.1, 300.0, 200.0, 113.3091, 64.9318, 108.9077, 550.0, 1421.1307, 148.0, 26.0, 25.0, 1023.2626, 26.0, 338.4691, 25.0, 97.0, 25.0, 50.0, 1175.1888, 25.2, 25.0, 100.0, 510.0, 84.1015, 60.6887, 55.0, 540.9234, 1000.0, 50.0, 27.3232, 167.2839, 2000.0, 50.1, 101.0, 4000.0, 14381.5706, 1190.9603, 1448.9867, 460.4638, 101.72, 120.0, 51.0, 49.9579, 25.0, 25.0, 25.0, 50.1, 68.6873, 367.6936, 25.1947, 25.0, 25.0, 200.0, 25.4687, 342.9071, 1705.5483, 113.9072, 25.0745, 584.5445, 26.2424, 167.4041, 100.7, 241.7725, 166.2937, 51.1203, 25.0, 39.0, 585.9427, 26.0, 25.0, 359.9233, 3504.6591, 25.0, 28.2924, 54.2474, 25.0, 96.9639, 50.09, 25.0, 1036.0537, 110.0, 199.1725, 1041.6857, 26.0, 100.13, 50.1, 25.0, 315.0, 25.12, 50.0, 25.0, 26.0, 50.2, 25.0, 25.0, 27.1682, 220.0, 75.0, 50.1299999999, 25.0, 25.7291, 25.0, 25.0, 25.0, 25.0, 32.0, 100.0, 30.0, 25.0, 51.9, 30.0, 26.0, 165.8098, 25.0, 1417.9416, 48.6038, 279.4093, 103.9999999998, 50.14, 250.0, 309.46320000000003, 95.4749, 52.0, 25.0, 200.0, 25.0, 67.7309, 55.6836, 141.879, 64.368, 1165.7921, 110.0, 25.0, 25.0, 30.0, 57.0, 74.35560000000001, 25.11, 400.0, 100.0, 44.0, 28.0, 25.0, 100.3, 26.0, 50.0, 51.349999999999994, 80.0, 52.0, 148.6141, 539.0, 26.9727, 25.0, 26.0, 206.0, 26.4221, 109.9950999997, 100.0, 103.0, 69.476, 52.0, 25.0, 50.11, 25.0, 600.0, 300.0, 74906.7806, 287.9585, 30.0, 103.7, 110.0, 50.15, 25.0, 200.0, 25.0, 25.0, 70.0, 100.0, 960.0, 80.2, 525.0, 25.0, 25.2, 25.0, 90.0, 50.12, 333.333, 26.1, 400.0, 25.0, 225.19740000000002, 25.0, 203.9999999995, 25.0, 200.0, 26.0, 26.0, 55.53, 25.0, 50.9709, 249.8214, 125.0, 25.0, 198.9514, 50.17, 29.3879, 25.0, 26.0, 50.9, 26.0, 25.0, 2790.847, 4000.0, 50.0, 25.0, 111.8043, 110.0, 78.0, 25.0, 200.0, 98.024, 123.5027, 1000.0, 1000.0, 103.0, 128.0, 120.0, 25.0, 25.0, 25.0, 320.0, 450.3647, 209.0, 350.1229, 200.0, 100.0, 25.1249, 25.0, 789.8983, 26.0, 56.0, 25.0, 200.0, 1207.3836, 191.9225, 26.0, 126.0, 200.0, 1039.3975, 79.9999999999, 25.8514, 55.0, 1790.0, 25.5323, 25.0, 1136.3122, 245.5112, 50.16, 35.3437, 343.2559, 1542.0, 50.1, 26.0, 25.0, 30.0, 263.0179, 25.0, 233.0, 25.0, 109.1032, 25.0, 251.0, 25.0, 116.1344, 25.6019, 106.2288, 500.0, 200.0, 25.0, 30.0, 25.0, 1296.2001, 30.0, 1009.1186, 64.6783, 366.2231, 500.51, 25.0, 25.0, 50.1, 26.31, 62.2126, 25.0, 30.0, 200.0, 353.0041, 500.0, 25.0, 25.9, 102.7024, 255.0, 25.0, 55.0, 465.0, 32.0473, 30.0, 26.0, 42.0, 30.0, 1426.8391, 50.13, 49.0, 506.0, 25.0, 30.0, 50.1199999999, 1999.9999999997, 25.0, 25.0, 142.0, 27.01, 50.1, 100.3, 25.0, 378.2368, 36.1077, 30.0, 200.0, 250.0, 25.0, 25.0, 105.0, 78.0, 110.0, 203.9999999998, 30.0, 100.0, 30.0, 50.12, 1043.5848, 25.0, 26.0, 251.0, 381.8909, 836.0331, 25.0, 100.0, 25.0, 219.7887, 99.9999999999, 56.0, 25.0298, 165.8694, 27.68, 50.13, 218.8415, 25.0, 400.0, 87.5117, 100.0, 30.0, 200.0, 26.0, 960.6344, 31.1563, 25.0, 25.0, 27.8732, 111.0, 248.0, 56.0, 27.0, 111.0, 65.0, 154.123, 50.1, 50.1499999999, 25.0, 30.0, 200.0, 50.0, 250.0, 25.0, 25.0, 1500.0, 260.0, 28.342, 25.0, 1179.1269, 100.0, 10000.0, 25.0, 25.0, 200.0, 30.0, 25.2, 300.0, 698.1, 25.977, 25.0, 30.0, 25.0, 25.17, 25.3, 25.11, 157.9825, 25.0, 26.0, 1600.0, 25.0, 394.091, 50.1, 25.0, 50.1, 120.0, 1527.1044, 30.0, 399.2006, 34.0, 937.7533, 160.0, 319.8375, 103.0, 200.0, 110.0, 216.8807, 101.0, 25.0, 25.0, 264.38, 25.0, 50.13, 200.0, 25.0, 127.0, 80.1548, 200.0007, 50.1, 29.9838, 25.0, 578.2490999997, 1000.0, 52.0, 50.1, 26.9839, 50.1, 110.0, 30.0, 50.1, 681.6523, 108.5073, 500.0, 112.133, 25.0, 30.0, 25.0, 25.0, 50.132, 250.0, 100.0, 25.0, 50.0, 51.0, 29.0, 100.0, 114.8544, 25.0, 28.4935, 42.0, 1180.1251, 25.12, 25.0, 25.0, 25.0, 465.8131, 30.0, 234.6783, 225.322, 50.0, 120.0, 110.0, 25.0, 100.13, 25.0, 30.0, 260.0, 250.0, 562.0, 30.0, 26.471, 40.0, 53.0, 30.0, 50.13, 25.1, 25.5, 307.0374, 25.0, 45.0, 128.0, 200.0, 200.0, 242.6014, 26.88, 100.0, 33.0, 25.0, 72.0, 50.12, 258.79679999999996, 25.0, 51.0, 38.0, 25.0, 25.0, 30.0, 30.0, 30.0, 1050.0, 50.0, 30.0, 90.4982, 25.0, 25.9801, 30.0, 28.9629, 932.2248, 50.15, 25.0, 50.0, 66.0, 50.0, 25.9, 25.0, 100.12, 25.0, 1691.909, 52472.8929, 110.0, 100.2, 25.0, 101.9, 200.0, 100.0, 200.0, 218.8913, 26.0, 195.412, 124.625, 200.0, 25.0, 180.0, 146.0, 25.4, 40.0, 30.0, 27.0, 25.0, 25.0, 114.2361, 50.1, 25.0, 26.0, 51.5, 100.0, 152.9577, 53.105, 25.0, 1021.9609, 25.1, 250.0, 25.0, 1031.0725, 100.0, 60.0986, 25.0, 25.1, 56.0, 25.0, 85.0, 258.9387, 26.0, 25.0, 50.13, 55.0, 50.13, 50.0, 65.4386, 110.0, 51.0, 34.0, 200.0, 50000.0, 200.0, 85.6174, 30.0, 25.0, 50.0, 25.0, 233.5971, 25.0, 110.0, 110.0, 25.0, 50.1, 200.0, 139.773, 200.0, 1187.3917, 25.0, 25.0, 25.0, 51.0, 27.0, 25.0, 25.0, 200.0, 33.0, 286.6885, 25.2479, 30.0, 25.0, 203.9999999997, 600.0, 50.0, 52.0, 25.0, 510.0, 203.1948, 25.0, 50.1, 296.615, 132.45839999999998, 137.3589, 26.0, 109.1991, 50.0, 25.0, 3000.0, 100.0, 1223.952, 26.4682, 25.0, 1209.2628, 100.15, 208.1285, 1026.6874, 101.0, 25.0, 79.0, 1134.2571, 200.0, 25.0, 147.76, 196.15980000000002, 25.0, 25.0, 25.0, 140.0, 30.907, 2608.5489, 130.0, 99.8001, 30.0, 25.0, 51.0, 81.1567, 25.0, 44.4315, 200.0, 25.0, 100.0, 513.7169, 26.0, 150.0, 65.8391, 25.0, 10000.0, 113.8265, 358.2028, 211.0, 25.0, 50.0, 50.12, 25.9903, 150.9921, 25.0, 25.0, 149.6932, 25.0, 25.0, 300.0, 25.0, 1006.8806, 60.0, 127.1107, 25.1, 25.0, 1020.7668, 30.0, 430.0, 200.0, 26.0, 150.0, 2503.0, 540.5039, 154.0876, 25.0, 30.0, 40.0, 322.0186, 25.0, 25.0, 250.0, 25.7444, 144.565, 30.0, 100.12, 51.0, 25.0, 110.0, 2598.1072, 56.0, 47.85, 26.0, 25.0, 102.8889, 248.1365, 25.0, 50.1, 1007.3639, 25.0, 101.0, 90.2285, 100.0, 53.0, 203.9999999999, 62.0, 123.0015, 109.8947, 29.9999999999, 25.0, 110.0, 1337.5294, 41.0, 1380.6788000000001, 1997.7187, 132.76, 28.6987, 52.0, 300.0, 50.6466, 51.0, 25.0, 25.0, 115.0, 35.4932, 79.2, 25.0, 117.0, 25.0, 26.0, 1076.0621, 365.97659999999996, 31.4055, 25.0, 363.2819, 25.1, 25.0, 500.0, 1010.0, 25.0, 150.0, 30.0, 25.0, 26.0, 25.0, 25.0, 25.1, 274.499, 26.8044, 25.0, 25.5, 655.9532999998, 167.1075, 26.0, 25.0, 30.0, 26.0, 118.0, 141.8676, 101.2453, 50.0, 105.7301, 200.0, 25.0, 124.0838, 104.0, 100.0, 50.0, 501.0, 1314.1274, 100.0, 83.1252, 30.0, 121.153, 68.4683, 69.4567, 25.0, 61.3666, 218.59519999999998, 127.0, 203.5607, 30.0, 1200.0, 25.0, 100.12, 114.0, 838.6337, 25.0, 25.0, 135.9226, 25.0, 100.15, 25.0, 200.0, 50.0, 31.0, 295.3612, 26.0, 25.0, 25.0, 98.4901, 100.0, 108.0, 200.0, 1100.0, 25.0, 25.0, 25.0, 30.0, 25.5628, 30.0, 30.0, 1022.6886, 25.0, 25.0, 25.0, 100.0, 1050.0, 453.3698, 126.0, 224.3355, 100.7, 200.0, 25.0, 506.0, 25.0, 1000.0, 90.8766, 79.2, 510.0, 25.0, 25.0, 25.0, 25.0, 117.3568, 100.0, 25.0, 27.0, 25.0, 367.9512, 300.0, 30.0, 807.0228, 25.0, 1005.3598, 25.0, 1553.0, 42.0, 25.0, 25.0, 25.0, 25.0, 25.0, 25.0, 26.0, 30.0, 25.0, 51.0482, 998.8622, 30.0, 200.0, 80.0, 25.0, 25.0, 71.76, 300.0, 500.0, 25.0, 25.0, 50.11, 102.0, 25.1, 25.0, 206.8775, 1067.463, 110.0, 128.4394, 25.5166, 52.0, 25.0, 25.0, 240.3019, 50.1, 40.0, 25.1, 46.1686, 38.69, 25.0, 165.8089, 1014.622, 26.0, 745.4441, 72.64959999999999, 25.0, 203.9999999995, 119.5153, 25.0, 210.3894, 25.0, 25.0, 53.0, 128.0, 54.0, 94.0, 52.0, 100.16, 50.12, 50.1, 54.0, 251.3402, 521.0, 25.0, 50.0, 77.9999999999, 160.0, 1156.4701, 110.0, 26.0, 381.775, 25.0, 29.7625, 77.0, 25.0, 130.0, 1068.2455, 30.0, 25.0, 25.0, 25.0, 25.0, 30.0, 1022.8223, 100.408, 73.25450000000001, 224.5494, 130.0, 25.0, 25.0, 25.0, 101.0, 290.4012, 251.8745, 26.0, 25.0, 31.904, 200.0, 1316.4521, 200.0, 150.0, 100.2, 479.1606, 532.0, 25.0, 66.0, 25.0, 501.0, 25.0, 26.0, 309.2627, 100.1999999999, 81.9, 573.6765, 61.0, 25.0, 4150.4515, 200.0, 312.0, 500.0, 26.0, 125.0, 1008.1926, 1138.7683999998, 300.0, 166.9975, 25.13, 100.12, 25.11, 82.7074, 25.0, 26.0, 26.0, 1049.5023, 25.0, 30.0, 25.0, 30.0, 51.0, 98.5642, 153.6684, 35.0, 108.0, 123.0, 102.0, 47.0, 538.6726, 25.0, 520.0, 480.0, 123.0, 335.0, 25.0, 30.0, 120.0, 60.996, 30.0, 25.0, 114.0121, 260.0, 110.33, 25.0, 136.9334, 52.0, 1000.0, 25.0, 50.1, 78.9999999998, 200.0, 110.0, 25.0, 30.0, 100.0, 25.0, 63.5764, 25.9041, 50.1, 25.0, 25.1249, 25.0, 115.6555, 1049.1972, 50.14, 165.1651, 149.40089999999998, 88.0, 25.0, 5000.0, 30.0983, 200.0, 22500.0, 160.0, 1032.6776, 50.0, 25.0, 227.0418, 32.1532, 1165.8543, 25.0, 25.0, 398.0, 60.0, 200.59640000000002, 305.0792, 28.0, 25.0, 33.3, 81.9285, 29.6857, 25.0, 26.0, 26.0, 26.0, 1003.0916, 1040.8698, 25.1, 202.0, 26.0, 25.0, 25.0, 70.0, 100.0, 1326.4308, 25.4235, 25.0, 29.5375, 160.0, 25.0, 77.2135, 61.7713, 25.0, 500.0, 104.0, 217.9941, 25.1, 26.0, 50.1499999999, 25.0, 100.0, 155.0, 25.0, 100.0, 1171.3139, 26.0, 1093.486, 1502.2179999999998, 99.607, 25.0, 30.0, 25.1072, 27.0436, 256.4993, 25.0, 26.0, 813.4215, 25.0, 1381.6953, 473.8394, 251.0, 1037.5031, 108.1811, 200.0, 25.0, 25.0, 47.0, 195.87810000000002, 299.6003, 27.02, 30.0, 100.0, 25.0, 25.0, 52.0, 26.0, 26.0, 101.9419, 400.0, 262.4, 50.0, 142.88240000000002, 25.11, 25.0, 115.0, 25.0, 25.0, 25.0, 25.1, 25.0, 200.0, 125.0, 49.5314, 26.0, 25.0, 77.8383, 347.0, 111.0, 74.30850000000001, 25.0, 30.0, 200.0, 18971.6408, 100.7, 25.0, 150.0, 105.0, 25.0, 25.0, 54.0, 110.0, 149.4469, 110.3197, 200.0, 110.0, 180.0, 153.0, 25.0, 56.3821, 120.0, 234.5443, 26.0, 148.66379999999998, 100.2, 25.0, 25.0, 21012.6076999994, 25.0, 3609.2435, 58.0, 30.0, 50.1, 30.0, 25.0, 110.0, 36.1209, 102.0, 1000.0, 864.8716, 996.003, 25.0, 64.2332, 200.0, 30.0, 25.0, 25.0, 25.0, 102.0, 25.0, 25.0, 50.0, 104.0, 50.0999999998, 500.0, 242.2461, 25.0, 203.0, 26.0, 25.0, 1054.8533, 299.9999999995, 25.0, 26.0, 100.0, 99.0, 26.0, 940.0, 30.0, 154.535, 100.0, 232.07659999999998, 25.0, 25.0, 104.9999999999, 25.0, 200.0, 251.0, 110.0, 643.4626, 25.0, 50.13, 26.0, 30.0, 25.0, 25.0, 226.3938, 7500.0, 217.3905, 25.11, 25.0, 100.0, 500.0, 227.9641, 160.0091, 52.0, 1000.0, 300.0, 32.0032, 25.0, 359.0, 26.1962, 77.9999999999, 215.0, 200.0, 30.0, 109.9041, 26.0, 81.0, 25.0, 76.0, 931.0, 26.0, 1000.0, 1184.6614, 50.1, 25.1623, 2256.8921, 25.0, 52.0, 25.0, 25.0, 1949.1875, 27.0, 26.0, 25.0, 40.9757, 25.0, 25.0, 25.0, 120.0, 1007.8065, 25.0, 50.12, 25.0, 204.0, 120.0532, 25.0, 25.0, 194.5431, 185.6896, 100.0, 1030.3596, 100.2, 50.2, 201.1447, 125.0, 1026.9349, 25.0, 26.0, 232.64499999999998, 50.0, 25.0, 992.015, 375.0714, 340.9597, 25.0, 94.58840000000001, 365.0, 77.7415, 55.5, 50.0, 25.0, 587.7135, 350.5045, 700.0, 397.1477, 51.945, 25.0, 26.0, 500.0, 25.0, 25.5561, 78.0, 726.6795, 99.7997, 25.0, 250.0, 204.0, 25.0, 150.0, 1500.0, 45.0, 30.0, 1017.813, 26.0, 91.2992, 25.0, 100.9283, 25.0, 61.9013, 30.0, 120.101, 25.0, 554.7206, 30.0, 320.0, 50.19, 5584.0, 100.0, 25.0, 100.0, 144.1745, 56.0, 149.8996, 30.0, 50.0, 26.0, 380.1848, 25.0, 25.249, 78.0, 200.0, 110.4286, 25.0, 63.5588, 30.0, 26.0, 30.0, 450.0, 100.0, 57.0, 25.0, 26.0, 200.0, 25.0, 30.0, 100.0, 51.0, 26.0, 55.0, 290.0, 25.0, 52.0, 25.0, 25.0, 100.0, 110.0, 97.5922, 25.0, 59.999999999799996, 25.0, 25.0, 26.0, 70.1823, 50.1, 1324.1165, 66.4199, 26.6721, 25.0, 25.0, 537.0, 59.0, 25.0, 105.0, 100.1, 85.0582, 124.0, 120.9208, 255.9832, 25.0, 1188.628, 25.0, 25.0, 25.0, 1000.0, 26.0, 1058.9137, 25.0, 120.0, 300.0, 168.49, 25.0, 110.0, 25.0, 1021.7636, 6100.0, 25.0, 43.1202, 25.9, 30.0, 25.0, 200.0, 1800.0, 25.0, 100.0, 112.0, 110.0, 25.0, 30.0, 25.0, 206.0, 30.0, 25.0, 255.0, 25.0, 522.9928, 100.1985, 86.994, 100.1, 339.9357, 25.0, 299.6488, 57.0, 1100.0, 25.0, 1151.6298, 110.2745, 30.0, 721.4601, 25.0, 1039.532, 50.0, 30.0066, 220.8355, 93.62360000000001, 30.0, 129.0, 26.0, 129.0, 804.8, 52.0, 25.0, 653.3957, 25.0, 50.0, 26.31, 50.0, 651.0, 30.0, 25.0, 3575.8472, 1078.3225, 151.0, 26.0, 50.1, 30.0, 25.7724, 253.9476, 25.1779, 1233.8972, 25.5, 78.0, 25.0, 282.94, 30.0, 50.0, 54.0, 78.2, 571.6996999999999, 500.0, 200.0, 50.1199999999, 50.1299999999, 25.0, 1100.0, 235.0, 25.0, 25.0, 26.0, 25.2561, 25.03, 33.0, 100.16, 25.0, 200.0, 25.0, 25.0, 50.03, 25.0, 100.0, 25.0, 65.2507, 78.21520000000001, 453.9527, 1000.0, 500.0, 26.0, 520.0, 110.0, 25.2, 514.8273, 25.0, 26.0, 101.0, 125.5, 25.0, 25.0, 200.0, 194.16570000000002, 300.0, 110.0, 25.0, 26.0, 25.0, 471.2587, 502.0, 1027.5395, 100.0, 1010.0, 25.0, 26.0, 219.2415, 100.5, 54.0, 176.76, 7741.9013, 25.16, 19978.8735, 25.0, 28.1349, 26.0, 25.0, 30.0, 70.0, 25.0, 1400.0, 649.7884, 340.8775, 53.5, 25.0, 251.0, 211.9622, 25.0, 7740.1047, 603.1469, 25.0, 80.0, 25.1, 83.0, 105.0, 473.3197, 78.1686, 550.0, 51.0, 25.0, 25.0, 26.0, 206.5595, 288.0, 25.0, 131.9587, 100.0, 100.8025, 45.0, 26.0, 25.0, 100.1, 219.58350000000002, 30.0, 34.0, 25.0, 26.0, 25.0, 500.0, 104.0, 120.0, 50.1, 25.0, 25.7, 50.1, 200.0, 60.2, 25.0, 26.0, 25.0, 25.0, 25.7564, 26.0, 30.0, 235.4914, 50.1499999999, 25.0, 25.0, 81.5795, 100.0, 143.56130000000002, 30.0, 60.0, 25.0, 77.7581, 30.0, 75.0, 101.452, 50.0, 25.0, 25.0, 30.0, 79.0, 26.0, 50.11, 25.0, 152.3495, 25.0, 360.0, 318.97, 51.0, 100.0, 32.0, 84.0, 100.1, 122.0, 403.0, 132.0, 200.0, 35.0, 27.4923, 200.0, 25.0, 30.0, 30.0, 25.11, 2701.3584, 202.0, 120.0, 25.0, 208.57240000000002, 100.16, 30.0, 25.0, 52.0, 1000.0, 158.72, 520.0, 330.0, 132.0, 25.0, 101.9947, 300.0598, 49.0, 25.0, 750.0, 70.0, 111.0, 68.57, 200.0, 27.0, 26.0, 50.05, 180.0, 25.0, 25.0, 256.0, 26.0, 25.9512, 60.0, 25.0, 54.4968, 25.0, 1203.7083, 286.5051, 34.3965, 25.7226, 59.474, 50.1, 250.0, 200.0, 200.0, 30.0, 25.1, 50.15, 25.0, 30.0, 26.0, 25.0, 26.0, 399.0, 25.0, 25.0, 168.6022, 25.0, 25.0, 78.0, 169.49, 25.0, 28.0467, 99.9999999998, 25.0, 125.0, 90.0, 50.1, 26.0, 25.0, 54.0, 300.0, 777.6360999999999, 25.0, 2540.0, 2000.0, 100.0, 52.0, 210.2673, 1110.0, 750.0, 4000.0, 1000.0, 2422.8768, 928.0, 31.0, 25.0, 26.0, 25.0, 1160.7318, 500.0, 30.0, 50.13, 10244.2504, 1377.821, 27.0, 25.0, 200.0, 110.0, 100.5, 106.8406, 1000.0, 100.3, 50.12, 25.0, 28.0095, 30.0, 123.0, 250.9789, 30.0, 41.6247, 52.0, 25.0, 50.0, 25.0, 25.0, 26.0, 201.41899999999998, 50.2, 25.0, 25.5163, 50.1999, 35.0, 30.0, 1000.0, 953.2047, 221.8805, 25.0, 280.5558, 25.0, 25.0, 508.0, 114.0, 233.298, 730.0, 142.6349, 25.0, 310.9811, 110.0, 498.0015, 237.5409999984, 585.0, 25.0, 50.0, 101.2705, 25.0, 30.0, 120.0, 25.0, 25.0, 27.0827, 165.9426, 110.0, 500.0, 25.0, 101.0, 51.0, 110.0, 25.0271, 575.0, 250.0, 482.6866999996, 1007.9354, 52.0, 5000.0, 135.9278, 7583.3438, 25.0, 45.0, 25.0, 100.0, 30.0, 26.2869, 26.0, 50.12, 33.0, 50.1, 25.0, 25.9999999999, 185.1745, 50.1, 50.0, 101.0, 54.0, 25.7475, 60.0, 25.0, 30.0, 30.0, 116.9532, 49.0, 311.8, 50.2999, 120.0, 26.0, 1415.6999, 25.2241, 25.0, 25.0, 50.0, 50.0, 48.1052, 25.0717, 25.0, 26.0, 52.3, 370.56, 386.3215, 25.0, 32.901, 200.0, 25.0, 30.0, 200.0, 45.0, 27.2945, 25.0, 358.0, 35.58, 80.0, 25.1, 25.0, 254.9999999996, 25.0, 25.0, 25.0, 200.0, 30.0, 101.0, 25.3737, 30.0, 90.727, 26.0, 25.0, 50.1, 47.0, 26.0183, 26.0, 3000.0, 25.0, 100.3, 213.5845, 97.2075, 130.0, 77.0313, 25.0, 317.4199, 56.0, 30.0, 25.0, 200.0, 50.1, 25.0, 25.0, 100.0, 104.0758, 29.0891, 50.0, 49.5947, 299.37440000000004, 50.06, 25.1, 25.0, 1982.9848, 25.0, 100.0, 949.119, 200.0, 201.0, 200.0, 101.2522, 27.31, 50.0, 25.0, 50.1, 55.0, 27.0, 26.0, 50.1, 130.0, 40.0, 25.0, 25.0, 101.1657, 25.0, 25.2, 270.0, 26.0, 25.5, 1360.5257, 25.0, 25.0, 36.6369, 51.3, 159.04, 120.0, 25.0, 27.7664, 29.4018, 129.3824, 50.1, 30.0, 144.7085, 250.9948, 77.9999999999, 30.0, 25.0612, 50.1499999999, 10000.0, 25.0, 25.0, 100.0, 25.0, 50.0, 84.4548, 186.9375, 25.0, 132.0, 25.0, 504.0, 25.0, 146.9144, 25.0, 25.0, 25.0, 50.1, 300.0, 50.13, 121.4601, 50.13, 1060.3185, 51.0, 1070.048, 25.0, 52.0, 25.0, 26.0, 100.2, 30.0, 157.9016, 30.0, 25.0, 510.0, 50.0, 224.54930000000002, 100.0, 126.0, 25.4213, 25.0, 29.4988, 88.3, 25.0, 25.0, 54.0, 200.0, 31.0, 25.0, 50.1, 25.0, 250.0, 100.0, 25.0, 30.0, 25.0, 25.0, 379.7573, 30.0, 27.8962, 179.2107, 292.9187, 110.5787, 25.0, 50.11, 50.0, 133.2979, 119.0, 1237.8886, 25.0, 1025.1687, 118.0199, 103.9216, 100.0, 50.17, 25.0, 115.0, 108.0, 1230.8268, 101.1247, 500.0, 26.0, 25.0, 210.0, 25.0, 25.0, 50.0, 100.12, 181.9525, 900.0, 25.0, 50.1, 335.4819, 120.0, 50.1199999999, 5945.0, 520.0, 168.8838, 25.0, 25.0, 50.1, 199.9851, 829.2845, 54.0, 50.7059, 1355.007, 25.0, 529.0, 117.2223, 25.4344, 125.0, 1371.0865, 78.9999999998, 25.0, 50.1, 25.0, 354.0199, 78.2, 25.0, 25.0, 51.0, 273.9918, 30.0, 49.9999999999, 200.0, 25.0, 120.0, 201.0000000001, 200.0, 30.0, 25.6651, 25.0, 767.1506999999999, 50.1, 318.6985, 25.0, 25.0, 25.0, 200.0, 300.5477, 25.0, 25.0, 175.0, 25.12, 80.0, 25.0, 30.0, 25.0, 812.7941, 500.0, 1392.3534, 212.361, 101.2155, 120.0, 200.0, 30.0, 25.0, 28.2151, 25.0, 30.0, 205.123, 111.0, 50.1, 25.0, 65.0, 26.0, 25.0, 237.286, 1499.998, 32.0, 25.0, 52.0, 60.0, 50.1199999999, 50.12, 25.0, 100.0, 54.0, 50.01, 50.0, 150.0, 50.0, 1100.0, 110.0, 25.0, 29.6868, 120.0, 116.0, 30.0, 30.0, 200.0, 561.0, 200.0, 1115.2042, 220.0, 55.0, 25.0, 85.9912, 30.6981, 1009.1, 29.7237, 30.0, 220.6859, 30.0, 1663.3432, 200.0, 40.6507, 250.0, 25.88, 25.0, 26.0, 342.8495, 25.0, 25.0, 25.0, 100.0, 150.0, 26.0, 54.0, 50.1, 77.9999999999, 25.0, 30.0, 25.0, 148.9624, 425.62829999999997, 50.13, 25.0, 980.1258, 45.4882, 101.0, 54.0, 5000.0, 25.0, 30.0, 100.0, 102.0295, 26.0, 150.0, 488.6676, 110.0, 110.0, 270.0, 88.0, 25.1, 25.0, 25.0, 797.6612, 105.3216, 1069.0645, 66.2361, 166.0, 299.65, 25.0, 1041.85, 260.0, 2054.335, 25.0, 25.0, 1344.6667, 4345.5389, 50.1, 25.9334, 1143.2994, 200000.0, 30.0, 106.0, 25.4568, 100.15, 1051.0723, 25.0, 2700.0, 1248.1099, 100.0, 26.0, 25.0, 151.0, 50.0, 25.0, 27.0, 1000.0, 100.0, 130.0, 103.8271, 198.537, 25.0, 26.0, 25.0, 25.1, 25.0, 78.9999999998, 200.0, 761.2185, 30.0, 200.0, 25.0, 25.0, 85.2435, 250.26, 25.0, 1100.0, 26.0, 107.2151, 78.0, 500.0, 496.5689, 25.0, 25.0, 100.5727, 100.0, 25.0, 1105.7328, 264.707, 25.0, 202.0, 25.0, 200.0, 25.0, 25.0, 100.1, 950.0, 26.0, 1010.0, 30.0, 63.0, 25.0, 26.0, 897.8091, 150.0, 50.0, 25.0, 2727.8390999999, 200.0, 120.6468, 25.0, 25.0, 500.0, 50.1, 103.0, 1049.6106, 25.0, 101.0, 941.5169, 123.0, 51.0, 100.0, 124.534, 68.0, 547.9999999997, 25.0, 25.0, 50.0, 55.2, 996.2287, 37.78, 50.0, 1086.4699, 120.0, 25.0, 56.2624, 1728.2764, 25.0, 25.0, 193.8003, 50.0, 103.6772, 1000.0, 25.0, 84.9762, 200.0, 50.02, 1297.0476, 50.12, 160.0, 101.0, 50.1, 25.0, 369.1891, 79.6839, 2515.9876, 109.7194, 236.1011, 25.0, 25.0, 25.0, 50.0, 500.0, 50.13, 25.0, 25.0, 25.0, 100.0, 158.0225, 25.1, 26.0, 330.0, 151.9583, 25.0, 25.1, 25.0, 189.6481, 100.0, 30.0, 25.0, 100.0, 26.0, 120.0, 60.9707, 1289.2203, 25.0, 183.3312, 25.0, 807.2865, 35.6427, 26.3312, 163.5017, 25.0, 440.0, 25.0, 500.0, 25.0, 1000.0, 25.0, 107.0027, 976.1876, 46.7343, 110.0, 25.0, 411.0, 30.0, 25.0, 41.6248, 500.0, 100.811, 100.0, 339.6964, 25.0, 175.6787, 373.6756, 110.0, 100.2, 25.0, 25.13, 200.0, 100.0, 25.0, 90.0, 193.37220000000002, 25.0, 912.7671, 25.0, 200.0, 25.0, 99.0, 25.0, 50.2299, 100.0, 150.0, 200.0, 25.0, 8000.0, 25.0, 52.0, 25.0, 116.0, 211.1148, 794.0, 712.0, 53.0021999998, 25.0, 25.0, 25.0, 29.9999999999, 106.0, 100.0, 50.26, 25.0, 200.0, 25.0, 95.9295, 1000.0, 25.8721, 52.0, 25.0, 25.0, 58.0, 1031.9918, 30.0, 110.0, 25.0, 4648.528, 26.0, 26.0, 25.0, 25.0, 100.1, 320.9125, 26.0, 25.0, 30.0, 38.1579, 1008.8393, 100.1, 79.0, 105.0, 25.1208, 137.9225, 300.0875, 247.43, 100.9999999999, 110.0, 202.0, 25.0, 284.9, 241.54165976, 25.0, 500.2155, 105.8797, 50.1, 26.0, 583.0206, 294.4395, 1011.084, 25.0, 493.3672, 121.0194, 4000.0, 50.1, 400.0, 29.7441, 25.0, 25.0, 100.0, 203.9048, 25.0, 7000.0, 25.0, 117.0, 78.2, 1012.4023, 25.0, 101.0, 280.0, 133.7062, 200.0, 25.0, 25.0, 25.0, 240.0, 378.1122, 108.0, 100.0, 25.0, 50.14, 559.0575999999, 25.0, 25.0, 25.0, 25.0, 25.0, 25.0, 190.0, 102.0, 211.25, 30.0, 25.0, 25.9, 50.15, 1170.478, 92.0, 77.9263, 30.0, 26.0, 51.0, 25.0, 61.0, 25.0, 100.0, 105.0, 25.0, 101.6217, 25.0, 25.0, 50.1, 30.0, 230.0, 67.2717, 50.13, 30.0, 26.0, 118.6481, 111.7591, 106.7232, 30.0, 100.0, 200.0, 1200.1969, 57.0, 1161.1311, 120.0, 25.847, 15744.8617, 25.0, 100.0, 25.0, 26.0, 25.0, 25.0, 66.8912, 50.0, 25.0, 1147.6699, 251.0, 2000.0, 168.0, 110.0, 1327.7998, 54.0, 25.6, 29.8551, 25.0, 25.0, 63.9695, 25.2, 52.230000000000004, 26.0, 149.60070000000002, 99.3578, 200.0, 150.58780000000002, 224.9377, 1533.9364, 66.79, 364.7524, 123.0222, 26.5476, 549.3881, 101.0, 1006.4635, 25.0, 25.0, 50.22, 251.0, 54.0, 280.0, 98.8123, 25.7609, 45.862, 956.7711, 25.33, 110.0, 25.0, 250.0, 300.0, 25.0, 25.0, 30.0, 50.0, 939.6982, 25.4999999999, 49.9441, 25.0, 2000.0000000002, 30.0, 25.0, 145.7217, 205.6313, 50.1199999999, 25.0, 25.0923, 50.2, 87.0, 85.0, 54.0, 645.8507, 200.0, 25.0, 25.0, 200.0, 102.0, 25.0, 110.0, 25.0, 54.0, 25.0, 30.0, 100.6, 100.2, 199.6003, 25.0, 50.1, 633.0, 25.0, 25.853, 25.0, 25.0, 25.7571, 5000.0, 375.196, 108.4238, 26.0, 532.0, 733.8845, 25.0, 101.0, 100.0, 40.0, 148.0139, 30.0, 44.0, 109.5736, 25.0, 56.2295, 200.0, 26.3457, 187.3073, 1129.9698, 25.0, 534.5805, 26.6199, 500.0, 25.11, 1198.0, 50.0976, 26.2771, 25.0, 25.0, 65.9615, 25.0, 100.0, 284.145, 26.0, 60.0, 26.0, 300.0, 30.0, 30.0, 180.8049, 103.0, 1254.1516, 1002.0, 25.0, 110.0, 100.0, 25.0, 26.0, 25.0, 31.0, 25.11, 79.894, 200.0, 100.0, 54.0, 110.0, 506.5884, 300.0, 25.0, 30.0, 99.0, 200.0, 290.0, 49.9999999998, 121.9999999998, 25.0, 200.0, 26.6196, 260.0, 222.4805, 1051.5525, 25.0, 45.0, 25.0, 24404.8973, 83.3991, 81.89699999999999, 25.0, 50.1, 78.9999999999, 25.0, 120.0, 240.0, 260.0, 26.0, 25.0, 263.6116, 25.0, 25.0, 964.4978, 41.0, 127.0, 25.0, 25.0, 135.0, 108.0, 1000.0, 79.0, 50.22, 220.0, 26.0, 100.0562, 10000.0, 100.0, 50.19, 30.0, 1350.0688, 50.1, 25.0, 27.0, 25.0, 550.0, 25.0, 25.0, 26.4953, 400.0, 59.9999999998, 205.0, 25.12, 142.9306, 68.9, 100.1, 55.9551, 2134.659, 26.0, 251.0, 25.0, 67.8023, 81.0, 115.0, 110.0, 50.1, 114.2798, 999.5949, 84.0, 50.0, 25.0, 50.1, 50.1299999999, 2000.0, 25.0, 25.0, 25.0, 30.0, 204.3918, 25.0, 400.0, 27.484, 26.0, 41.0, 100.0, 25.0, 550.0, 50.0, 100.1, 119.0, 30.0, 30.0, 100.0, 30.0, 25.0, 1100.0, 25.0, 30.6577, 98.2284, 50.1, 169.1535, 25.0, 200.0, 25.0, 100.0, 25.0, 56.0, 30.0, 63.84, 1000.0, 235.0, 25.0, 121.02, 229.8085, 30.0, 400.0, 1000.0, 25.0, 134.9226, 1343.897, 90.0, 98.4173, 550.0, 151.0, 100.0, 26.5286, 99.0, 117.0, 50.1, 25.0, 55.0, 30.0, 26.0, 102.0, 45.2394, 1197.7723, 25.0, 25.0, 25.1244, 25.0, 25.0, 50.0, 25.0, 25.0, 200.0, 25.0, 101.0, 291.5162, 300.0, 79.2, 25.0, 103.2628, 113.0, 1227.8202, 25.0, 199.9999999998, 50.13, 25.0, 1000.0, 80.0, 25.0, 25.0, 130.65, 83.0, 7128.6413, 968.3861, 26.0, 50.1, 203.9999999998, 100.1, 42.0, 251.0, 101.1003, 25.0, 30.0, 25.0, 26.0, 106.1923, 25.0, 1016.6826, 170.0, 50.1, 1134.665, 29.9912, 78.0000000003, 751.0, 481.3268, 200.0, 50.0, 634.1117, 1005.0, 1010.0, 25.0, 120.0, 25.0, 25.05, 25.0, 25.0, 99.3837, 89.9999999999, 117.6959, 100.0, 25.0, 26.0, 116.7504, 285.5408, 25.2715, 100.2, 100.0, 25.0, 106.5924, 218.642, 25.0, 78.9999999998, 103.5683, 25.0, 100.3, 48.0678, 51.0, 1050.0, 67.7558, 25.0, 25.0, 25.0, 64.3759, 44.1172, 250.0, 200.0, 1169.2405, 30.0, 100.0, 399.9999999999, 25.0, 104.0, 200.0, 100.0, 891.7694, 100.0, 1132.3926, 25.0, 100.1, 30.0, 100.0, 50.1199999999, 25.0, 115.0, 100.1, 300.0, 25.0, 406.0, 30.0, 30.0, 100.0, 25.0, 26.0, 300.0, 200.0, 60.0, 25.0, 7324.6882, 25.0, 25.0, 400.0, 30.0, 25.7195, 76.7332, 120.0, 54.0, 1021.237, 30.0, 100.0, 30.0, 200.0, 1000.0, 60.0, 200.0, 277.0414, 51.0, 80.2, 100.0, 100.0, 105.0, 156.3075, 212.8346, 107.0, 25.0, 60.0, 136.5805, 52.9999999997, 50.1, 25.0, 291.6225, 25.0, 1290.1397, 30.0, 128.0, 1000.0, 343.0135, 26.0, 26.0, 25.0, 25.0, 25.0, 25.0, 162.0, 140.5516, 25.0, 200.0, 30.0, 25.9999999998, 1500.0, 196.3, 25.0, 25.0, 535.9548, 54.7, 25.0, 205.18259999999998, 210.0, 25.6229, 53.0, 100.1, 1035.2349, 29.7047, 1404.6347, 50.8237, 26.0, 79.4882, 25.0, 30.0, 25.2, 50.0, 25.0, 25.0, 25.0, 524.7816, 53.5, 116.6076, 268.0465, 200.0, 25.0, 25.0, 25.0, 111.0856, 25.0, 50.1199999999, 25.0, 1088.1952, 49.9755, 200.0, 99.2088, 27.1, 26.0, 26.0, 25.0, 1049.7217, 25.0, 25.0, 800.0, 1948.0845, 47.0, 173.7754, 42.9956, 25.0, 124.0, 300.0, 119.0, 25.0, 1010.7434, 56.0, 572.0, 381.282, 25.0, 26.6751, 25.0, 324.4943, 25.1, 25.0, 300.0, 25.0, 241.0, 110.0, 1338.4083, 60.9478, 104.9999, 25.0, 25.0, 220.0, 29.4316, 25.0995, 25.0, 25.0, 1049.0073, 162.9995, 50.1, 54.8336, 100.0, 160.0, 26.0, 984.0639, 50.13, 1064.771, 25.0, 25.0, 80.0, 500.0, 200.0, 25.0, 30.0, 110.0, 25.11, 265.0, 120.0, 110.0, 519.0282, 26.0, 25.0, 163.6706, 152.8939, 254.99999999969998, 25.0, 50.0, 546.5082, 50.13, 1011.3073, 2500.0, 25.0, 30.0, 30.0, 219.5852, 1243.8926, 26.0, 193.3186, 70.0, 25.0, 25.5, 364.4389, 25.6478, 203.9999999994, 60.9573, 64.7785999998, 104.0, 25.3044, 817.7504, 25.0, 103.0, 230.0, 50.1, 110.0, 100.13, 25.0, 1104.7091, 110.0, 1020.2134, 103.0, 1123.4117, 972.2744, 74.2483, 280.0, 179.3354, 50.13, 76.2183, 25.0, 25.0, 25.0, 25.0, 121.0189, 504.0, 1014.9562, 50.1199999999, 85.0, 25.0, 87.0, 174.60070000000002, 25.0, 29.2389, 240.0, 200.0, 30.5, 50.1, 52.0, 79.0, 132.0, 1063.1759, 25.0, 30.0, 30.0, 68.0, 25.0, 517.0, 25.0, 154.8646, 30.0, 25.0, 105.1659, 200.0, 25.0, 30.0, 25.9389, 200.0, 73.46350000000001, 25.1306, 2000.0, 25.0, 26.0, 25.0, 4475.0, 25.1638, 200.0, 25.0, 25.0, 25.0, 26.0, 126.0, 100.0, 100.7565, 25.1, 25.0781, 300.0, 463.9121, 200.0, 640.9658999999999, 25.0, 43.6487, 25.0, 124.0, 100.0, 151.0, 30.0, 25.0, 100.1, 261.9624, 26.0, 30.0, 50.0, 51.0, 117.0, 26.361, 15495.89, 1389.7763999996, 1010.0, 146.0, 50.0, 30.0, 100.0, 52.9774, 25.0, 122.0, 1010.0, 119.0, 25.0, 483.3705, 1047.7971, 120.5991, 25.0, 25.1259, 300.0, 25.0, 507.0, 26.0, 241.274, 52.0, 27.0, 50.0, 305.8048, 50.13, 1049.5565, 379.6328, 247.7545, 101.0, 54.0, 50.1, 25.0, 101.0, 200.0, 498.0214, 110.0, 3956.5771, 40.0, 180.9768, 128.0, 25.3487, 25.0, 1231.8154, 200.0, 30.0, 26.0, 25.0, 78.0, 25.0, 101.0, 213.7371, 200.6213, 50.1, 66.429, 40.0, 1550.0, 200.0, 71.5549, 26.0, 206.0395, 26.0, 25.0, 25.0, 150.0, 100.0, 89.8375, 100.3, 27.5603, 27.4031, 150.0, 25.0, 25.0, 56.0, 53.0, 25.0, 505.0, 110.0, 132.5219, 254.99999999969998, 50.14, 49.9999999999, 110.0, 84.5895, 102.439, 26.0, 25.0, 100.0, 26.0, 100.0, 48.0, 25.0, 300.0, 25.9999999998, 56.0, 284.0, 25.0, 76.1919, 1086.9144, 25.0, 25.0, 25.0, 110.0, 25.0, 52.8, 1096.3111, 102.0, 337.0688, 200.0, 25.12, 27.0, 112.2039, 51.0, 134.0, 30.0, 25.0, 110.8381, 120.0, 25.0, 26.4801, 25.0, 25.0, 78.0, 195.9708, 160.0, 627.5038999999999, 25.0, 25.0, 25.0, 750.0, 25.8721, 565.7179, 102.0, 110.0, 25.0, 350.0, 25.0, 204.0, 25.0, 3500.0, 1057.9735, 25.0, 220.0, 26.0, 25.0, 52.9998, 33.7235, 26.0, 581.924, 98.9023, 25.0, 25.0, 25.0, 26.0, 25.0, 25.0, 26.0, 50.17, 1304.6431, 549.9102, 25.0, 26.0, 70.0, 25.0, 25.0, 162.9047, 1000.0, 25.0, 25.0, 25.1, 300.0, 100.0, 97.1934, 110.0, 42.243, 26.0, 25.3, 110.0, 50.13, 25.0, 25.0, 56.86, 25.0, 200.0, 25.0, 50.1199999999, 101.5999999994, 200.0, 30.0, 26.7824, 440.5451, 25.0, 1000.0, 700.0, 50.0, 200.0, 76.9509, 316.2493, 1540.7894, 25.0, 30.0, 89.1567, 25.0, 51.0, 56.0, 30.0, 25.0, 25.0, 25.0, 30.0, 26.0, 251.0, 25.0, 2020.0, 35.9999999997, 100.9572, 120.0, 202.5493, 1026.7927, 25.0, 133.4832, 300.0, 200.0, 200.0, 30.0, 50.15, 103.0, 50.15, 500.0077999998, 826.2573, 25.0, 1259.3305, 25.0, 30.0, 96.5096, 116.5714, 25.0, 1400.0, 25.0, 67.7668, 25.0, 120.4811, 25.0, 25.0, 30.0, 30.0, 82.65129999999999, 498.0, 25.0, 75.0, 207.725, 1097.8735, 100.0, 54.400000000000006, 25.0, 167.6263, 25.0, 1183.1808, 25.0, 25.0, 25.0, 56.0, 40.0, 25.0, 50.1, 110.0, 26.0, 25.0, 51.0, 500.0, 72.06479999999999, 220.0, 50.0, 25.5837, 25.0, 25.0, 146.2108, 166.358, 1691.7096000000001, 30.0, 26.0, 25.0, 150.0, 111.2173, 25.0, 203.6372, 25.0, 25.5691, 140.0, 102.0, 151.3297, 54.0, 50.1, 100.0, 25.0, 25.2726, 200.0, 25.0, 50.0, 25.8, 110.0, 130.1415, 50.0999999997, 25.0, 250.0, 100.0, 28.0681, 46.0, 50.0, 110.0, 29.9442, 120.0, 25.0, 5000.0, 50.0, 25.0, 30.0, 50.1, 25.0, 26.1294, 25.0, 1197.0, 100.0, 30.0161, 25.0, 25.0, 25.0, 25.0, 54.0, 214.0, 25.0, 947.2434000000001, 25.0, 119.6085, 225.0, 1463.6447, 1273.9972, 100.1, 123.6704, 45.0, 501.1633, 200.0, 100.2, 50.15, 53.0, 26.0, 25.0, 25.0, 30.0, 25.0, 208.373, 26.2784, 52.0, 50.0, 799.5716, 50.19, 25.1864, 300.0, 25.0, 80.5327, 67.55359999999999, 121.0, 1010.0, 25.0, 118.0, 25.0, 3999.0377, 200.0, 50.19, 25.0, 26.4046, 1114.4412, 100.0, 116.9981, 500.0, 25.0, 25.0, 25.0, 25.0, 1069.5168, 56.3, 305.0, 56.0, 135.0, 25.0, 60.0, 25.0, 138.9214, 26.6319, 80.0, 60.0, 243.02949999999998, 331.7932, 25.0, 150.0, 115.9, 155.8736, 25.0, 26.0, 50.12, 35.0, 200.0, 1020.0, 1005.9064, 26.0, 30.0, 61.3384, 25.1, 25.7, 57.0, 6000.0, 584.2824, 50.0, 450.0, 25.0, 3796.5261, 110.0, 1249.0382, 25.0, 700.0, 80.0, 25.0, 281.0, 50.0, 380.0, 315.6334, 78.9999999998, 101.6695, 198.8986, 103.0, 55.0, 103.0, 30.0, 50.5, 25.0, 50.13, 25.0, 25.0, 1100.0, 26.0, 25.0, 25.0, 25.0, 100.0, 25.0, 25.0, 300.0, 412.5812, 585.3637, 26.0, 59.7203, 341.3766, 100.0, 101.0, 541.3302, 25.0, 120.8231, 485.4346, 200.0, 1000.0, 301.7732, 198.3426, 372.0555, 1020.0, 25.0, 25.0, 26.0, 188.6823, 25.0, 130.0, 25.0, 32.1993, 300.0, 25.0, 110.0, 30.0, 174.8442, 50.1, 1761.0119, 100.3, 4000.0, 25.0, 26.0, 215.5983, 25.0, 101.0, 148.2321, 58.0, 50.0, 26.0, 104.0, 960.7021, 32.4025, 28.6657, 25.0, 25.0, 25.0, 110.0, 33.3995, 894.0, 60.0, 30.0, 517.3364, 30.0, 25.0, 100.0, 54.0, 100.0, 54.0, 30.0, 25.0, 30.0, 251.0, 91.0943, 223.3779, 25.0, 62.1238, 25.0, 25.11, 26.0, 25.0, 25.77, 39.0, 1048.7293, 25.0, 25.0, 25.0, 143.7392, 50.0, 25.11, 289.1799, 25.0, 200.0, 116.2093, 25.0, 100.0, 100.0, 100.0, 100.0, 100.0, 100.0, 520.0, 26.0, 25.0, 100.001, 200.0, 25.0, 25.0, 82.0536, 61.0627, 153.0, 50.13, 25.0, 1214.0568, 1002.0, 26.0, 26.0, 25.0, 1018.7097, 25.0, 25.0, 31.7046, 130.0, 130.0, 25.1, 1011.0507, 25.0, 357.377, 26.0, 59.0, 30.0, 30.0, 25.0, 30.0, 56.0, 139.999999999, 25.0, 78.0, 110.1061, 25.0, 275.6705, 25.0, 200.4, 1124.2096, 131.144, 52.6315, 26.0, 25.0, 25.0, 25.0, 52.0, 25.0, 26.0, 128.0, 1005.3685, 280.0, 30.0, 54.1639, 26.0, 44.3665, 110.0, 50.0, 25.0, 25.0, 51.9593, 4000.0, 200.0, 30.0, 30.0, 50.1, 1074.3711, 50.13, 69.2156, 110.0, 78.2, 25.0, 25.0, 25.0, 25.0, 1080.4003, 570.0, 250.0, 50.0, 25.2822, 50.1, 239.3299, 26.0, 25.0, 412.7379, 200.0, 30.0, 25.4484, 110.0, 1010.0, 436.0, 100.0, 97.0, 477.9839, 30.0, 199.7738, 787.6243, 102.5992, 50.0, 25.0, 223.0788, 200.0, 102.85, 1000.0, 50.1, 1001.161, 100.0, 25.0, 1050.0, 25.0, 67.7587, 135.0929, 88.7, 50.11, 114.3808, 35.0733, 50.0, 25.0, 77.9999999998, 25.0, 100.0, 50.0, 25.0, 25.0, 25.0, 100.1, 25.0, 203.83, 26.0, 232.6499, 25.0, 25.0, 25.1, 50.1, 27.0, 50.4723, 25.0, 25.0, 554.0, 100.0, 50.0, 50.1, 50.0, 50.1, 25.0, 416.8544, 25.0, 1100.0, 250.0, 89.381, 25.05, 121.0, 123.0, 25.0, 1175.429, 25.0, 59.4461, 25.0, 606.0, 26.4, 548.3666999999, 330.5931, 210.9712, 500.0, 50.21, 340.3286, 25.0, 25.0, 9984.461, 100.0, 25.0, 100.0, 52.0, 300.0, 62.7527999999, 25.2, 25.12, 1022.5731, 55.0, 25.0, 26.0000000009, 120.0, 50.14, 119.63069999999999, 104.0, 124.0, 25.0, 185.2946, 25.0, 25.0, 25.0, 30.0, 30.0, 30.0, 44.0, 28.4205, 105.0, 25.0, 45.0, 100.85, 25.0, 52.0, 25.0, 58.0807, 50.1199999999, 25.0, 25.3556, 50.08, 25.0, 25.0, 50.16, 80.0, 26.0, 80.6833, 25.0, 294.115, 14113.4101, 25.9, 115.328, 80.0, 25.0, 200.0, 50.1, 77.9999999999, 34.0, 25.0, 25.0, 51.0, 100.1, 84.23230000000001, 30.0, 25.0, 25.0, 199.1508, 25.0, 26.0, 100.16, 25.0, 281.7522, 25.0, 50.1, 217.1217, 102.3796, 25.0, 25.0, 25.0, 110.0, 134.9999999999, 204.0, 25.0, 31.0244, 200.0, 25.0, 28.0, 141.0, 25.0, 1050.0, 100.0, 31.6562, 50.1, 100.0, 25.0, 25.0, 25.0, 50.13, 50.1, 144.9845, 251.0, 25.0, 25.771, 25.0, 65.2483, 98.0, 500.0, 228.0, 1089.0992, 240.0, 100.0, 160.3205, 124.0, 25.0, 75.8099, 57.7948, 198.15370000000001, 25.0, 25.0, 25.0, 26.0, 119.0169, 39.1981, 28.1627, 50.0, 1423.3761, 1001.9628, 50.0, 128.1867, 102.0, 249.0, 28.6829, 50.1, 200.0, 78.9999999999, 114.26689999999999, 30.0, 30.0, 25.0, 550.0, 405.0864, 25.0, 100.46, 547.0, 200.0, 12032.0, 53.0, 100.0, 25.0, 139.9563, 25.0, 25.0, 100.13, 25.0, 30.0, 100.0, 41.0, 25.0, 25.0, 500.0, 25.0, 56.0, 25.8721, 25.0, 245.4365, 30.0, 200.0, 30.0, 100.0, 1430.0, 50.0, 25.0, 171.98250000000002, 282.1025, 25.0, 25.0, 100.2, 25.301, 39.0, 600.1432, 1100.0, 150.0, 25.12, 1002.0, 90.9501, 1084.7374, 835.9995, 50.0, 25.0, 25.1848, 25.0, 100.2, 80.0, 25.0, 154.6414, 975.1235, 55.0, 25.11, 100.0, 25.0, 100.0, 226.1196, 30.0, 116.0, 54.9578, 132.0, 50.1249, 25.0, 251.0, 26.0, 25.0, 411.587, 25.0, 30.0, 1010.7845, 229.8085, 222.0, 25.0, 30.0, 526.0, 50.0, 100.3, 25.0, 25.0, 609.6501, 118.7329, 25.0, 90.3511, 300.0, 26.0, 64.2449, 102.0, 200.0, 70.0, 500.2932, 101.1, 381.7061, 99.8001, 75.0, 25.0, 25.1249, 25.0, 26.0, 25.1, 26.0636, 1000.0, 50.0, 25.0, 66.22540000000001, 25.0, 50.0, 160.0, 212.5024, 50.2, 1100.0, 174.475, 200.0, 25.13, 26.0, 25.0, 69.8605, 376.7164, 26.0, 90.0, 25.0, 100.2, 25.0, 48.6867, 88.0, 110.7624, 2500.0, 52.0, 25.0, 100.1, 25.0, 50.12, 77.9999999999, 70.8874, 25.1, 500.0, 50.12, 116.0, 25.0, 30.0, 25.0, 112.1062, 150.0, 1000.0, 25.0, 75.0, 50.1, 342.6549, 250.0, 50.0, 316.6095, 27.0, 945.3056, 534.8381, 26.0, 1500.0, 49.986, 52.0, 309.2731, 50.1199999999, 25.0, 95.0, 125.0, 31.2311, 1285.3672, 25.0, 126.0, 1265.5164, 4136.9767, 26.0, 200.0, 200.0, 930.2509, 54.0, 1334.1597, 498.0413, 101.0, 25.0, 200.0, 77.9999999998, 6000.0, 50.0, 25.0, 105.0, 100.0238, 50.1, 35.8071, 25.0979, 25.0, 1124.7058, 510.0, 33.0, 213.70600000000002, 26.4045, 30.0, 25.0, 25.0, 149.55, 50.14, 25.0, 30.0, 50.0, 77.3313, 125.2, 100.0, 174.475, 25.0, 331.6666999999, 100.2, 1212.9344, 61576.2, 45.0, 50.1199999999, 110.0, 51.0143, 200.0, 255.0, 26.0, 52.0, 25.0, 25.0, 79.0, 41.9856, 140.1753, 197.7713, 205.0, 518.0, 34.5461, 25.0, 25.0, 1977.3723, 200.0, 110.0, 25.0, 59.9482, 30.0, 45.0, 116.0, 100.0, 50.0, 26.0, 25.0, 59.1495, 1023.2827, 56.0, 63.0, 100.0, 441.0232, 25.0, 25.0, 51.0, 536.0, 96.0, 25.8, 373.5509, 1100.0, 25.0, 25.0, 109.4301, 56.0, 751.0, 25.0, 26.0, 127.0, 25.0, 25.7736, 26.0, 26.0, 101.2597, 25.0, 44.0, 10000.0, 50.0014, 25.0, 116.7487, 250.0, 1420.0047, 205.0, 426.0633, 25.5, 25.14, 100.2, 30.0, 50.15, 25.0, 86.89779999999999, 137.9059, 234.0735, 25.0, 25.1, 25.0, 1100.0, 25.0, 25.0, 139.2024, 79.0, 25.0, 51.1746, 120.793, 3000.0, 100.0, 52.0, 26.11, 200.0, 50.2, 25.0, 72.0, 127.6524, 25.0, 25.0, 25.0, 200.0, 156.8699999991, 25.0, 25.0, 50.16, 232.0, 34.0827, 200.0, 105.5, 25.0, 25.0, 1060.5089, 110.0, 119.0, 25.0, 26.0, 29.8362, 25.0, 286.0, 25.0, 55.0, 25.0, 53.0, 30.0, 100.0, 1023.5301, 64.96350000000001, 99.8001, 25.0, 150.0, 121.0196, 95.0, 25.0, 100.8465, 117.0797, 111.6334, 236.0, 26.0, 25.0, 25.0, 25.3699, 25.36, 25.0, 25.0, 58.0, 400.0, 25.0, 55.0, 621.097, 448.1764, 105.0, 30.0, 102.0339, 159.9084, 50.1, 25.0, 100.0, 90.60560000000001, 25.0, 505.0, 25.12, 110.0, 200.0, 25.0, 26.0, 25.0, 439.8546, 260.0, 33.1502, 50.0, 25.0, 25.0, 25.2, 699.4587, 25.0, 255.0, 25.0, 30.0, 40.0, 25.0, 349.8982, 44.0, 25.0, 35.0, 255.0, 25.0, 76.0], \"xaxis\": \"x2\", \"yaxis\": \"y2\"}],\n",
              "                        {\"barmode\": \"relative\", \"legend\": {\"tracegroupgap\": 0}, \"template\": {\"data\": {\"bar\": [{\"error_x\": {\"color\": \"#2a3f5f\"}, \"error_y\": {\"color\": \"#2a3f5f\"}, \"marker\": {\"line\": {\"color\": \"#E5ECF6\", \"width\": 0.5}}, \"type\": \"bar\"}], \"barpolar\": [{\"marker\": {\"line\": {\"color\": \"#E5ECF6\", \"width\": 0.5}}, \"type\": \"barpolar\"}], \"carpet\": [{\"aaxis\": {\"endlinecolor\": \"#2a3f5f\", \"gridcolor\": \"white\", \"linecolor\": \"white\", \"minorgridcolor\": \"white\", \"startlinecolor\": \"#2a3f5f\"}, \"baxis\": {\"endlinecolor\": \"#2a3f5f\", \"gridcolor\": \"white\", \"linecolor\": \"white\", \"minorgridcolor\": \"white\", \"startlinecolor\": \"#2a3f5f\"}, \"type\": \"carpet\"}], \"choropleth\": [{\"colorbar\": {\"outlinewidth\": 0, \"ticks\": \"\"}, \"type\": \"choropleth\"}], \"contour\": [{\"colorbar\": {\"outlinewidth\": 0, \"ticks\": \"\"}, \"colorscale\": [[0.0, \"#0d0887\"], [0.1111111111111111, \"#46039f\"], [0.2222222222222222, \"#7201a8\"], [0.3333333333333333, \"#9c179e\"], [0.4444444444444444, \"#bd3786\"], [0.5555555555555556, \"#d8576b\"], [0.6666666666666666, \"#ed7953\"], [0.7777777777777778, \"#fb9f3a\"], [0.8888888888888888, \"#fdca26\"], [1.0, \"#f0f921\"]], \"type\": \"contour\"}], \"contourcarpet\": [{\"colorbar\": {\"outlinewidth\": 0, \"ticks\": \"\"}, \"type\": \"contourcarpet\"}], \"heatmap\": [{\"colorbar\": {\"outlinewidth\": 0, \"ticks\": \"\"}, \"colorscale\": [[0.0, \"#0d0887\"], [0.1111111111111111, \"#46039f\"], [0.2222222222222222, \"#7201a8\"], [0.3333333333333333, \"#9c179e\"], [0.4444444444444444, \"#bd3786\"], [0.5555555555555556, \"#d8576b\"], [0.6666666666666666, \"#ed7953\"], [0.7777777777777778, \"#fb9f3a\"], [0.8888888888888888, \"#fdca26\"], [1.0, \"#f0f921\"]], \"type\": \"heatmap\"}], \"heatmapgl\": [{\"colorbar\": {\"outlinewidth\": 0, \"ticks\": \"\"}, \"colorscale\": [[0.0, \"#0d0887\"], [0.1111111111111111, \"#46039f\"], [0.2222222222222222, \"#7201a8\"], [0.3333333333333333, \"#9c179e\"], [0.4444444444444444, \"#bd3786\"], [0.5555555555555556, \"#d8576b\"], [0.6666666666666666, \"#ed7953\"], [0.7777777777777778, \"#fb9f3a\"], [0.8888888888888888, \"#fdca26\"], [1.0, \"#f0f921\"]], \"type\": \"heatmapgl\"}], \"histogram\": [{\"marker\": {\"colorbar\": {\"outlinewidth\": 0, \"ticks\": \"\"}}, \"type\": \"histogram\"}], \"histogram2d\": [{\"colorbar\": {\"outlinewidth\": 0, \"ticks\": \"\"}, \"colorscale\": [[0.0, \"#0d0887\"], [0.1111111111111111, \"#46039f\"], [0.2222222222222222, \"#7201a8\"], [0.3333333333333333, \"#9c179e\"], [0.4444444444444444, \"#bd3786\"], [0.5555555555555556, \"#d8576b\"], [0.6666666666666666, \"#ed7953\"], [0.7777777777777778, \"#fb9f3a\"], [0.8888888888888888, \"#fdca26\"], [1.0, \"#f0f921\"]], \"type\": \"histogram2d\"}], \"histogram2dcontour\": [{\"colorbar\": {\"outlinewidth\": 0, \"ticks\": \"\"}, \"colorscale\": [[0.0, \"#0d0887\"], [0.1111111111111111, \"#46039f\"], [0.2222222222222222, \"#7201a8\"], [0.3333333333333333, \"#9c179e\"], [0.4444444444444444, \"#bd3786\"], [0.5555555555555556, \"#d8576b\"], [0.6666666666666666, \"#ed7953\"], [0.7777777777777778, \"#fb9f3a\"], [0.8888888888888888, \"#fdca26\"], [1.0, \"#f0f921\"]], \"type\": \"histogram2dcontour\"}], \"mesh3d\": [{\"colorbar\": {\"outlinewidth\": 0, \"ticks\": \"\"}, \"type\": \"mesh3d\"}], \"parcoords\": [{\"line\": {\"colorbar\": {\"outlinewidth\": 0, \"ticks\": \"\"}}, \"type\": \"parcoords\"}], \"pie\": [{\"automargin\": true, \"type\": \"pie\"}], \"scatter\": [{\"marker\": {\"colorbar\": {\"outlinewidth\": 0, \"ticks\": \"\"}}, \"type\": \"scatter\"}], \"scatter3d\": [{\"line\": {\"colorbar\": {\"outlinewidth\": 0, \"ticks\": \"\"}}, \"marker\": {\"colorbar\": {\"outlinewidth\": 0, \"ticks\": \"\"}}, \"type\": \"scatter3d\"}], \"scattercarpet\": [{\"marker\": {\"colorbar\": {\"outlinewidth\": 0, \"ticks\": \"\"}}, \"type\": \"scattercarpet\"}], \"scattergeo\": [{\"marker\": {\"colorbar\": {\"outlinewidth\": 0, \"ticks\": \"\"}}, \"type\": \"scattergeo\"}], \"scattergl\": [{\"marker\": {\"colorbar\": {\"outlinewidth\": 0, \"ticks\": \"\"}}, \"type\": \"scattergl\"}], \"scattermapbox\": [{\"marker\": {\"colorbar\": {\"outlinewidth\": 0, \"ticks\": \"\"}}, \"type\": \"scattermapbox\"}], \"scatterpolar\": [{\"marker\": {\"colorbar\": {\"outlinewidth\": 0, \"ticks\": \"\"}}, \"type\": \"scatterpolar\"}], \"scatterpolargl\": [{\"marker\": {\"colorbar\": {\"outlinewidth\": 0, \"ticks\": \"\"}}, \"type\": \"scatterpolargl\"}], \"scatterternary\": [{\"marker\": {\"colorbar\": {\"outlinewidth\": 0, \"ticks\": \"\"}}, \"type\": \"scatterternary\"}], \"surface\": [{\"colorbar\": {\"outlinewidth\": 0, \"ticks\": \"\"}, \"colorscale\": [[0.0, \"#0d0887\"], [0.1111111111111111, \"#46039f\"], [0.2222222222222222, \"#7201a8\"], [0.3333333333333333, \"#9c179e\"], [0.4444444444444444, \"#bd3786\"], [0.5555555555555556, \"#d8576b\"], [0.6666666666666666, \"#ed7953\"], [0.7777777777777778, \"#fb9f3a\"], [0.8888888888888888, \"#fdca26\"], [1.0, \"#f0f921\"]], \"type\": \"surface\"}], \"table\": [{\"cells\": {\"fill\": {\"color\": \"#EBF0F8\"}, \"line\": {\"color\": \"white\"}}, \"header\": {\"fill\": {\"color\": \"#C8D4E3\"}, \"line\": {\"color\": \"white\"}}, \"type\": \"table\"}]}, \"layout\": {\"annotationdefaults\": {\"arrowcolor\": \"#2a3f5f\", \"arrowhead\": 0, \"arrowwidth\": 1}, \"coloraxis\": {\"colorbar\": {\"outlinewidth\": 0, \"ticks\": \"\"}}, \"colorscale\": {\"diverging\": [[0, \"#8e0152\"], [0.1, \"#c51b7d\"], [0.2, \"#de77ae\"], [0.3, \"#f1b6da\"], [0.4, \"#fde0ef\"], [0.5, \"#f7f7f7\"], [0.6, \"#e6f5d0\"], [0.7, \"#b8e186\"], [0.8, \"#7fbc41\"], [0.9, \"#4d9221\"], [1, \"#276419\"]], \"sequential\": [[0.0, \"#0d0887\"], [0.1111111111111111, \"#46039f\"], [0.2222222222222222, \"#7201a8\"], [0.3333333333333333, \"#9c179e\"], [0.4444444444444444, \"#bd3786\"], [0.5555555555555556, \"#d8576b\"], [0.6666666666666666, \"#ed7953\"], [0.7777777777777778, \"#fb9f3a\"], [0.8888888888888888, \"#fdca26\"], [1.0, \"#f0f921\"]], \"sequentialminus\": [[0.0, \"#0d0887\"], [0.1111111111111111, \"#46039f\"], [0.2222222222222222, \"#7201a8\"], [0.3333333333333333, \"#9c179e\"], [0.4444444444444444, \"#bd3786\"], [0.5555555555555556, \"#d8576b\"], [0.6666666666666666, \"#ed7953\"], [0.7777777777777778, \"#fb9f3a\"], [0.8888888888888888, \"#fdca26\"], [1.0, \"#f0f921\"]]}, \"colorway\": [\"#636efa\", \"#EF553B\", \"#00cc96\", \"#ab63fa\", \"#FFA15A\", \"#19d3f3\", \"#FF6692\", \"#B6E880\", \"#FF97FF\", \"#FECB52\"], \"font\": {\"color\": \"#2a3f5f\"}, \"geo\": {\"bgcolor\": \"white\", \"lakecolor\": \"white\", \"landcolor\": \"#E5ECF6\", \"showlakes\": true, \"showland\": true, \"subunitcolor\": \"white\"}, \"hoverlabel\": {\"align\": \"left\"}, \"hovermode\": \"closest\", \"mapbox\": {\"style\": \"light\"}, \"paper_bgcolor\": \"white\", \"plot_bgcolor\": \"#E5ECF6\", \"polar\": {\"angularaxis\": {\"gridcolor\": \"white\", \"linecolor\": \"white\", \"ticks\": \"\"}, \"bgcolor\": \"#E5ECF6\", \"radialaxis\": {\"gridcolor\": \"white\", \"linecolor\": \"white\", \"ticks\": \"\"}}, \"scene\": {\"xaxis\": {\"backgroundcolor\": \"#E5ECF6\", \"gridcolor\": \"white\", \"gridwidth\": 2, \"linecolor\": \"white\", \"showbackground\": true, \"ticks\": \"\", \"zerolinecolor\": \"white\"}, \"yaxis\": {\"backgroundcolor\": \"#E5ECF6\", \"gridcolor\": \"white\", \"gridwidth\": 2, \"linecolor\": \"white\", \"showbackground\": true, \"ticks\": \"\", \"zerolinecolor\": \"white\"}, \"zaxis\": {\"backgroundcolor\": \"#E5ECF6\", \"gridcolor\": \"white\", \"gridwidth\": 2, \"linecolor\": \"white\", \"showbackground\": true, \"ticks\": \"\", \"zerolinecolor\": \"white\"}}, \"shapedefaults\": {\"line\": {\"color\": \"#2a3f5f\"}}, \"ternary\": {\"aaxis\": {\"gridcolor\": \"white\", \"linecolor\": \"white\", \"ticks\": \"\"}, \"baxis\": {\"gridcolor\": \"white\", \"linecolor\": \"white\", \"ticks\": \"\"}, \"bgcolor\": \"#E5ECF6\", \"caxis\": {\"gridcolor\": \"white\", \"linecolor\": \"white\", \"ticks\": \"\"}}, \"title\": {\"x\": 0.05}, \"xaxis\": {\"automargin\": true, \"gridcolor\": \"white\", \"linecolor\": \"white\", \"ticks\": \"\", \"title\": {\"standoff\": 15}, \"zerolinecolor\": \"white\", \"zerolinewidth\": 2}, \"yaxis\": {\"automargin\": true, \"gridcolor\": \"white\", \"linecolor\": \"white\", \"ticks\": \"\", \"title\": {\"standoff\": 15}, \"zerolinecolor\": \"white\", \"zerolinewidth\": 2}}}, \"title\": {\"text\": \"Histogram of Total Value Collateralized by User $\"}, \"xaxis\": {\"anchor\": \"y\", \"domain\": [0.0, 1.0], \"title\": {\"text\": \"Total Value Collateralized ($)\"}}, \"xaxis2\": {\"anchor\": \"y2\", \"domain\": [0.0, 1.0], \"matches\": \"x\", \"showgrid\": true, \"showticklabels\": false}, \"yaxis\": {\"anchor\": \"x\", \"domain\": [0.0, 0.8316], \"title\": {\"text\": \"count\"}}, \"yaxis2\": {\"anchor\": \"x2\", \"domain\": [0.8416, 1.0], \"matches\": \"y2\", \"showgrid\": false, \"showline\": false, \"showticklabels\": false, \"ticks\": \"\"}},\n",
              "                        {\"responsive\": true}\n",
              "                    ).then(function(){\n",
              "                            \n",
              "var gd = document.getElementById('24733caa-5680-437f-bd62-aef0b526a528');\n",
              "var x = new MutationObserver(function (mutations, observer) {{\n",
              "        var display = window.getComputedStyle(gd).display;\n",
              "        if (!display || display === 'none') {{\n",
              "            console.log([gd, 'removed!']);\n",
              "            Plotly.purge(gd);\n",
              "            observer.disconnect();\n",
              "        }}\n",
              "}});\n",
              "\n",
              "// Listen for the removal of the full notebook cells\n",
              "var notebookContainer = gd.closest('#notebook-container');\n",
              "if (notebookContainer) {{\n",
              "    x.observe(notebookContainer, {childList: true});\n",
              "}}\n",
              "\n",
              "// Listen for the clearing of the current output cell\n",
              "var outputEl = gd.closest('.output');\n",
              "if (outputEl) {{\n",
              "    x.observe(outputEl, {childList: true});\n",
              "}}\n",
              "\n",
              "                        })\n",
              "                };\n",
              "                \n",
              "            </script>\n",
              "        </div>\n",
              "</body>\n",
              "</html>"
            ]
          },
          "metadata": {}
        }
      ]
    },
    {
      "cell_type": "code",
      "metadata": {
        "id": "IypCCXuBBF-q"
      },
      "source": [
        "# Label data with grouping low/medium/high to enable joining back onto CSV for minters\n",
        "cut_labels_3 = ['Low', 'Medium', 'High']\n",
        "cut_bins = [0, 750, 1750, 300000]\n",
        "collateral_address_counts_df['total_value_collateralized_grouping'] = pd.cut(collateral_address_counts_df['Total Value Collateralized ($)'], bins=cut_bins, labels=cut_labels_3)"
      ],
      "execution_count": 147,
      "outputs": []
    },
    {
      "cell_type": "code",
      "metadata": {
        "colab": {
          "base_uri": "https://localhost:8080/",
          "height": 428
        },
        "id": "6920q2MRCy8M",
        "outputId": "c9847829-8478-44ac-d9e2-782b17455c1a"
      },
      "source": [
        "collateral_address_counts_df = collateral_address_counts_df.reset_index().rename(columns={\"index\": \"From\"})\n",
        "collateral_addresses_grouped_df = pd.merge(minter_addresses_grouped_df, collateral_address_counts_df, on=\"From\", how='left')\n",
        "collateral_addresses_grouped_df.head()"
      ],
      "execution_count": 148,
      "outputs": [
        {
          "output_type": "execute_result",
          "data": {
            "text/html": [
              "<div>\n",
              "<style scoped>\n",
              "    .dataframe tbody tr th:only-of-type {\n",
              "        vertical-align: middle;\n",
              "    }\n",
              "\n",
              "    .dataframe tbody tr th {\n",
              "        vertical-align: top;\n",
              "    }\n",
              "\n",
              "    .dataframe thead th {\n",
              "        text-align: right;\n",
              "    }\n",
              "</style>\n",
              "<table border=\"1\" class=\"dataframe\">\n",
              "  <thead>\n",
              "    <tr style=\"text-align: right;\">\n",
              "      <th></th>\n",
              "      <th>0</th>\n",
              "      <th>ContractAddress</th>\n",
              "      <th>DateTime</th>\n",
              "      <th>From</th>\n",
              "      <th>To</th>\n",
              "      <th>TokenName</th>\n",
              "      <th>TokenSymbol</th>\n",
              "      <th>Txhash</th>\n",
              "      <th>UnixTimestamp</th>\n",
              "      <th>Value</th>\n",
              "      <th>chain</th>\n",
              "      <th>type</th>\n",
              "      <th>Cumulative Number of Mints</th>\n",
              "      <th>cumulative_mint_groupings</th>\n",
              "      <th>Total Value Collateralized ($)</th>\n",
              "      <th>total_value_collateralized_grouping</th>\n",
              "    </tr>\n",
              "  </thead>\n",
              "  <tbody>\n",
              "    <tr>\n",
              "      <th>0</th>\n",
              "      <td>NaN</td>\n",
              "      <td>0x6b175474e89094c44da98b954eedeac495271d0f</td>\n",
              "      <td>2021-06-11 18:00:22</td>\n",
              "      <td>0x643eed6ce2507e0e7ec6d37d487159661e4e4aa8</td>\n",
              "      <td>0x187922d4235d10239b2c6ccb2217ada724f56dda</td>\n",
              "      <td>Dai Stablecoin</td>\n",
              "      <td>DAI</td>\n",
              "      <td>0xfccc42304e6932516389b4799afe7060109ed19e461c...</td>\n",
              "      <td>1.623434e+09</td>\n",
              "      <td>25.0</td>\n",
              "      <td>ETHEREUM</td>\n",
              "      <td>COLLATERALIZE</td>\n",
              "      <td>10</td>\n",
              "      <td>High</td>\n",
              "      <td>1171.3139</td>\n",
              "      <td>Medium</td>\n",
              "    </tr>\n",
              "    <tr>\n",
              "      <th>1</th>\n",
              "      <td>NaN</td>\n",
              "      <td>0x6b175474e89094c44da98b954eedeac495271d0f</td>\n",
              "      <td>2021-06-11 18:09:14</td>\n",
              "      <td>0x27c65f6767b7e020d5d64fc70cf99cf9c56e1286</td>\n",
              "      <td>0x187922d4235d10239b2c6ccb2217ada724f56dda</td>\n",
              "      <td>Dai Stablecoin</td>\n",
              "      <td>DAI</td>\n",
              "      <td>0xb5cd641ab2f0063f879e0f22bef52fd40b01fe7ee022...</td>\n",
              "      <td>1.623435e+09</td>\n",
              "      <td>1000.0</td>\n",
              "      <td>ETHEREUM</td>\n",
              "      <td>COLLATERALIZE</td>\n",
              "      <td>7</td>\n",
              "      <td>Medium</td>\n",
              "      <td>6890.0000</td>\n",
              "      <td>High</td>\n",
              "    </tr>\n",
              "    <tr>\n",
              "      <th>2</th>\n",
              "      <td>NaN</td>\n",
              "      <td>0x6b175474e89094c44da98b954eedeac495271d0f</td>\n",
              "      <td>2021-06-11 19:29:20</td>\n",
              "      <td>0x27c65f6767b7e020d5d64fc70cf99cf9c56e1286</td>\n",
              "      <td>0x187922d4235d10239b2c6ccb2217ada724f56dda</td>\n",
              "      <td>Dai Stablecoin</td>\n",
              "      <td>DAI</td>\n",
              "      <td>0xc632ede6607ed810d58cdcf0ae86a1f3c23db4db6bc1...</td>\n",
              "      <td>1.623440e+09</td>\n",
              "      <td>597.0</td>\n",
              "      <td>ETHEREUM</td>\n",
              "      <td>COLLATERALIZE</td>\n",
              "      <td>7</td>\n",
              "      <td>Medium</td>\n",
              "      <td>6890.0000</td>\n",
              "      <td>High</td>\n",
              "    </tr>\n",
              "    <tr>\n",
              "      <th>3</th>\n",
              "      <td>NaN</td>\n",
              "      <td>0x6b175474e89094c44da98b954eedeac495271d0f</td>\n",
              "      <td>2021-06-15 14:51:07</td>\n",
              "      <td>0x19ac6292d62465cd3c82a082e0b5f9b875c57d92</td>\n",
              "      <td>0x187922d4235d10239b2c6ccb2217ada724f56dda</td>\n",
              "      <td>Dai Stablecoin</td>\n",
              "      <td>DAI</td>\n",
              "      <td>0xe7b024d655837f6598f3f0b5086357322a374dbb5d27...</td>\n",
              "      <td>1.623769e+09</td>\n",
              "      <td>10000.0</td>\n",
              "      <td>ETHEREUM</td>\n",
              "      <td>COLLATERALIZE</td>\n",
              "      <td>2</td>\n",
              "      <td>Low</td>\n",
              "      <td>20000.0000</td>\n",
              "      <td>High</td>\n",
              "    </tr>\n",
              "    <tr>\n",
              "      <th>4</th>\n",
              "      <td>NaN</td>\n",
              "      <td>0x6b175474e89094c44da98b954eedeac495271d0f</td>\n",
              "      <td>2021-06-16 00:29:50</td>\n",
              "      <td>0x4839c3d305516b6c56647b27b6b70254f0e89cb8</td>\n",
              "      <td>0x187922d4235d10239b2c6ccb2217ada724f56dda</td>\n",
              "      <td>Dai Stablecoin</td>\n",
              "      <td>DAI</td>\n",
              "      <td>0x3af79bbf70d8d5712f60b4f895e17288bdca37a6a637...</td>\n",
              "      <td>1.623803e+09</td>\n",
              "      <td>50.0</td>\n",
              "      <td>ETHEREUM</td>\n",
              "      <td>COLLATERALIZE</td>\n",
              "      <td>1</td>\n",
              "      <td>Low</td>\n",
              "      <td>50.0000</td>\n",
              "      <td>Low</td>\n",
              "    </tr>\n",
              "  </tbody>\n",
              "</table>\n",
              "</div>"
            ],
            "text/plain": [
              "    0  ... total_value_collateralized_grouping\n",
              "0 NaN  ...                              Medium\n",
              "1 NaN  ...                                High\n",
              "2 NaN  ...                                High\n",
              "3 NaN  ...                                High\n",
              "4 NaN  ...                                 Low\n",
              "\n",
              "[5 rows x 16 columns]"
            ]
          },
          "metadata": {},
          "execution_count": 148
        }
      ]
    },
    {
      "cell_type": "code",
      "metadata": {
        "colab": {
          "base_uri": "https://localhost:8080/",
          "height": 428
        },
        "id": "fqHaDDKZDlJp",
        "outputId": "fd4057bf-d312-4971-b09e-084dd51b28a3"
      },
      "source": [
        "collateral_addresses_grouped_df = collateral_addresses_grouped_df.drop([0], axis=1)\n",
        "collateral_addresses_grouped_df.head()"
      ],
      "execution_count": 149,
      "outputs": [
        {
          "output_type": "execute_result",
          "data": {
            "text/html": [
              "<div>\n",
              "<style scoped>\n",
              "    .dataframe tbody tr th:only-of-type {\n",
              "        vertical-align: middle;\n",
              "    }\n",
              "\n",
              "    .dataframe tbody tr th {\n",
              "        vertical-align: top;\n",
              "    }\n",
              "\n",
              "    .dataframe thead th {\n",
              "        text-align: right;\n",
              "    }\n",
              "</style>\n",
              "<table border=\"1\" class=\"dataframe\">\n",
              "  <thead>\n",
              "    <tr style=\"text-align: right;\">\n",
              "      <th></th>\n",
              "      <th>ContractAddress</th>\n",
              "      <th>DateTime</th>\n",
              "      <th>From</th>\n",
              "      <th>To</th>\n",
              "      <th>TokenName</th>\n",
              "      <th>TokenSymbol</th>\n",
              "      <th>Txhash</th>\n",
              "      <th>UnixTimestamp</th>\n",
              "      <th>Value</th>\n",
              "      <th>chain</th>\n",
              "      <th>type</th>\n",
              "      <th>Cumulative Number of Mints</th>\n",
              "      <th>cumulative_mint_groupings</th>\n",
              "      <th>Total Value Collateralized ($)</th>\n",
              "      <th>total_value_collateralized_grouping</th>\n",
              "    </tr>\n",
              "  </thead>\n",
              "  <tbody>\n",
              "    <tr>\n",
              "      <th>0</th>\n",
              "      <td>0x6b175474e89094c44da98b954eedeac495271d0f</td>\n",
              "      <td>2021-06-11 18:00:22</td>\n",
              "      <td>0x643eed6ce2507e0e7ec6d37d487159661e4e4aa8</td>\n",
              "      <td>0x187922d4235d10239b2c6ccb2217ada724f56dda</td>\n",
              "      <td>Dai Stablecoin</td>\n",
              "      <td>DAI</td>\n",
              "      <td>0xfccc42304e6932516389b4799afe7060109ed19e461c...</td>\n",
              "      <td>1.623434e+09</td>\n",
              "      <td>25.0</td>\n",
              "      <td>ETHEREUM</td>\n",
              "      <td>COLLATERALIZE</td>\n",
              "      <td>10</td>\n",
              "      <td>High</td>\n",
              "      <td>1171.3139</td>\n",
              "      <td>Medium</td>\n",
              "    </tr>\n",
              "    <tr>\n",
              "      <th>1</th>\n",
              "      <td>0x6b175474e89094c44da98b954eedeac495271d0f</td>\n",
              "      <td>2021-06-11 18:09:14</td>\n",
              "      <td>0x27c65f6767b7e020d5d64fc70cf99cf9c56e1286</td>\n",
              "      <td>0x187922d4235d10239b2c6ccb2217ada724f56dda</td>\n",
              "      <td>Dai Stablecoin</td>\n",
              "      <td>DAI</td>\n",
              "      <td>0xb5cd641ab2f0063f879e0f22bef52fd40b01fe7ee022...</td>\n",
              "      <td>1.623435e+09</td>\n",
              "      <td>1000.0</td>\n",
              "      <td>ETHEREUM</td>\n",
              "      <td>COLLATERALIZE</td>\n",
              "      <td>7</td>\n",
              "      <td>Medium</td>\n",
              "      <td>6890.0000</td>\n",
              "      <td>High</td>\n",
              "    </tr>\n",
              "    <tr>\n",
              "      <th>2</th>\n",
              "      <td>0x6b175474e89094c44da98b954eedeac495271d0f</td>\n",
              "      <td>2021-06-11 19:29:20</td>\n",
              "      <td>0x27c65f6767b7e020d5d64fc70cf99cf9c56e1286</td>\n",
              "      <td>0x187922d4235d10239b2c6ccb2217ada724f56dda</td>\n",
              "      <td>Dai Stablecoin</td>\n",
              "      <td>DAI</td>\n",
              "      <td>0xc632ede6607ed810d58cdcf0ae86a1f3c23db4db6bc1...</td>\n",
              "      <td>1.623440e+09</td>\n",
              "      <td>597.0</td>\n",
              "      <td>ETHEREUM</td>\n",
              "      <td>COLLATERALIZE</td>\n",
              "      <td>7</td>\n",
              "      <td>Medium</td>\n",
              "      <td>6890.0000</td>\n",
              "      <td>High</td>\n",
              "    </tr>\n",
              "    <tr>\n",
              "      <th>3</th>\n",
              "      <td>0x6b175474e89094c44da98b954eedeac495271d0f</td>\n",
              "      <td>2021-06-15 14:51:07</td>\n",
              "      <td>0x19ac6292d62465cd3c82a082e0b5f9b875c57d92</td>\n",
              "      <td>0x187922d4235d10239b2c6ccb2217ada724f56dda</td>\n",
              "      <td>Dai Stablecoin</td>\n",
              "      <td>DAI</td>\n",
              "      <td>0xe7b024d655837f6598f3f0b5086357322a374dbb5d27...</td>\n",
              "      <td>1.623769e+09</td>\n",
              "      <td>10000.0</td>\n",
              "      <td>ETHEREUM</td>\n",
              "      <td>COLLATERALIZE</td>\n",
              "      <td>2</td>\n",
              "      <td>Low</td>\n",
              "      <td>20000.0000</td>\n",
              "      <td>High</td>\n",
              "    </tr>\n",
              "    <tr>\n",
              "      <th>4</th>\n",
              "      <td>0x6b175474e89094c44da98b954eedeac495271d0f</td>\n",
              "      <td>2021-06-16 00:29:50</td>\n",
              "      <td>0x4839c3d305516b6c56647b27b6b70254f0e89cb8</td>\n",
              "      <td>0x187922d4235d10239b2c6ccb2217ada724f56dda</td>\n",
              "      <td>Dai Stablecoin</td>\n",
              "      <td>DAI</td>\n",
              "      <td>0x3af79bbf70d8d5712f60b4f895e17288bdca37a6a637...</td>\n",
              "      <td>1.623803e+09</td>\n",
              "      <td>50.0</td>\n",
              "      <td>ETHEREUM</td>\n",
              "      <td>COLLATERALIZE</td>\n",
              "      <td>1</td>\n",
              "      <td>Low</td>\n",
              "      <td>50.0000</td>\n",
              "      <td>Low</td>\n",
              "    </tr>\n",
              "  </tbody>\n",
              "</table>\n",
              "</div>"
            ],
            "text/plain": [
              "                              ContractAddress  ... total_value_collateralized_grouping\n",
              "0  0x6b175474e89094c44da98b954eedeac495271d0f  ...                              Medium\n",
              "1  0x6b175474e89094c44da98b954eedeac495271d0f  ...                                High\n",
              "2  0x6b175474e89094c44da98b954eedeac495271d0f  ...                                High\n",
              "3  0x6b175474e89094c44da98b954eedeac495271d0f  ...                                High\n",
              "4  0x6b175474e89094c44da98b954eedeac495271d0f  ...                                 Low\n",
              "\n",
              "[5 rows x 15 columns]"
            ]
          },
          "metadata": {},
          "execution_count": 149
        }
      ]
    },
    {
      "cell_type": "code",
      "metadata": {
        "colab": {
          "base_uri": "https://localhost:8080/",
          "height": 142
        },
        "id": "boQG9pjOFi8P",
        "outputId": "833e91d2-5221-40ad-c907-6cf7cd3f5ec4"
      },
      "source": [
        "collateral_addresses_grouped_collateral_df = collateral_addresses_grouped_df.groupby(by='total_value_collateralized_grouping', as_index=False).agg({'From': pd.Series.nunique}).rename(columns={\"From\": \"Number of Users\"})\n",
        "collateral_addresses_grouped_collateral_df.head()"
      ],
      "execution_count": 150,
      "outputs": [
        {
          "output_type": "execute_result",
          "data": {
            "text/html": [
              "<div>\n",
              "<style scoped>\n",
              "    .dataframe tbody tr th:only-of-type {\n",
              "        vertical-align: middle;\n",
              "    }\n",
              "\n",
              "    .dataframe tbody tr th {\n",
              "        vertical-align: top;\n",
              "    }\n",
              "\n",
              "    .dataframe thead th {\n",
              "        text-align: right;\n",
              "    }\n",
              "</style>\n",
              "<table border=\"1\" class=\"dataframe\">\n",
              "  <thead>\n",
              "    <tr style=\"text-align: right;\">\n",
              "      <th></th>\n",
              "      <th>total_value_collateralized_grouping</th>\n",
              "      <th>Number of Users</th>\n",
              "    </tr>\n",
              "  </thead>\n",
              "  <tbody>\n",
              "    <tr>\n",
              "      <th>0</th>\n",
              "      <td>Low</td>\n",
              "      <td>5092</td>\n",
              "    </tr>\n",
              "    <tr>\n",
              "      <th>1</th>\n",
              "      <td>Medium</td>\n",
              "      <td>387</td>\n",
              "    </tr>\n",
              "    <tr>\n",
              "      <th>2</th>\n",
              "      <td>High</td>\n",
              "      <td>116</td>\n",
              "    </tr>\n",
              "  </tbody>\n",
              "</table>\n",
              "</div>"
            ],
            "text/plain": [
              "  total_value_collateralized_grouping  Number of Users\n",
              "0                                 Low             5092\n",
              "1                              Medium              387\n",
              "2                                High              116"
            ]
          },
          "metadata": {},
          "execution_count": 150
        }
      ]
    },
    {
      "cell_type": "code",
      "metadata": {
        "id": "Ch4PUXBCDZBX"
      },
      "source": [
        "# Write minters groupings to CSV\n",
        "collateral_addresses_grouped_df.to_csv('minters_v4_final_grouped.csv')"
      ],
      "execution_count": 151,
      "outputs": []
    },
    {
      "cell_type": "markdown",
      "metadata": {
        "id": "qTcjoE8fNnls"
      },
      "source": [
        "## Liquidity Providers and Traders"
      ]
    },
    {
      "cell_type": "code",
      "metadata": {
        "id": "372uY27UNpZw"
      },
      "source": [
        "# Read ethereum LP/Trader CSV files\n",
        "eth_net_btcv_usdc = pd.read_csv('/content/btcv_usdc_uniswap_v3.csv', index_col=False).drop(columns=['Unnamed: 0'])\n",
        "eth_net_ethv_usdc = pd.read_csv('/content/ethv_usdc_uniswap_v3.csv', index_col=False).drop(columns=['Unnamed: 0'])\n",
        "eth_net_ibtcv_usdc = pd.read_csv('/content/ibtcv_usdc_uniswap_v3.csv', index_col=False).drop(columns=['Unnamed: 0'])\n",
        "eth_net_iethv_usdc = pd.read_csv('/content/iethv_usdc_uniswap_v3.csv', index_col=False).drop(columns=['Unnamed: 0'])\n",
        "\n",
        "# Read polygon LP/Trader CSV files\n",
        "polygon_btcv_usdc = pd.read_csv('/content/btcv_usdc_quickswap_v3 (1).csv', index_col=False).drop(columns=['Unnamed: 0'])\n",
        "polygon_ethv_usdc = pd.read_csv('/content/ethv_usdc_quickswap_v3.csv', index_col=False).drop(columns=['Unnamed: 0'])\n",
        "polygon_ibtcv_usdc = pd.read_csv('/content/ibtcv_usdc_quickswap_v3.csv', index_col=False).drop(columns=['Unnamed: 0'])\n",
        "polygon_iethv_usdc = pd.read_csv('/content/iethv_usdc_quickswap_v3.csv', index_col=False).drop(columns=['Unnamed: 0'])\n",
        "\n",
        "# Read arbitrum LP/Trader CSV files\n",
        "arbitrum_btcv_usdc = pd.read_csv('/content/btcv_usdc_arbitrum_uniswap_v3.csv', index_col=False).drop(columns=['Unnamed: 0'])\n",
        "arbitrum_ethv_usdc = pd.read_csv('/content/ethv_usdc_arbitrum_uniswap_v3.csv', index_col=False).drop(columns=['Unnamed: 0'])\n",
        "arbitrum_ibtcv_usdc = pd.read_csv('/content/ibtcv_usdc_arbitrum_uniswap_v3.csv', index_col=False).drop(columns=['Unnamed: 0'])\n",
        "arbitrum_iethv_usdc = pd.read_csv('/content/iethv_usdc_arbitrum_uniswap_v3.csv', index_col=False).drop(columns=['Unnamed: 0'])"
      ],
      "execution_count": 152,
      "outputs": []
    },
    {
      "cell_type": "code",
      "metadata": {
        "id": "tZi_aS3LdccW"
      },
      "source": [
        "# Add Chain Type\n",
        "eth_net_btcv_usdc['chain'] = 'ETHEREUM'\n",
        "eth_net_ethv_usdc['chain'] = 'ETHEREUM'\n",
        "eth_net_ibtcv_usdc['chain'] = 'ETHEREUM'\n",
        "eth_net_iethv_usdc['chain'] = 'ETHEREUM'\n",
        "\n",
        "polygon_btcv_usdc['chain'] = 'POLYGON'\n",
        "polygon_ethv_usdc['chain'] = 'POLYGON'\n",
        "polygon_ibtcv_usdc['chain'] = 'POLYGON'\n",
        "polygon_iethv_usdc['chain'] = 'POLYGON'\n",
        "\n",
        "arbitrum_btcv_usdc['chain'] = 'ARBITRUM'\n",
        "arbitrum_ethv_usdc['chain'] = 'ARBITRUM'\n",
        "arbitrum_ibtcv_usdc['chain'] = 'ARBITRUM'\n",
        "arbitrum_iethv_usdc['chain'] = 'ARBITRUM'"
      ],
      "execution_count": 153,
      "outputs": []
    },
    {
      "cell_type": "markdown",
      "metadata": {
        "id": "eRxgKtyXX1Ry"
      },
      "source": [
        "### Traders and Liquidity Providers - Process and Format Data"
      ]
    },
    {
      "cell_type": "code",
      "metadata": {
        "colab": {
          "base_uri": "https://localhost:8080/"
        },
        "id": "592cAoQAX6Ix",
        "outputId": "4f26ea20-0913-4200-c5b6-b8cd83ee60e6"
      },
      "source": [
        "# Check the TokenSymbols that are part of the ERC20 Transactions\n",
        "print('ETH BTCV USDC Token Symbol: {}'.format(eth_net_btcv_usdc[\"TokenSymbol\"].unique()))\n",
        "print('ETH ETHV USDC Token Symbol: {}'.format(eth_net_ethv_usdc[\"TokenSymbol\"].unique()))\n",
        "print('ETH iBTCV USDC Token Symbol: {}'.format(eth_net_ibtcv_usdc[\"TokenSymbol\"].unique()))\n",
        "print('ETH iETHV USDC Token Symbol: {}'.format(eth_net_iethv_usdc[\"TokenSymbol\"].unique()))\n",
        "\n",
        "print('POLY BTCV USDC Token Symbol: {}'.format(polygon_btcv_usdc[\"TokenSymbol\"].unique()))\n",
        "print('POLY ETHV USDC Token Symbol: {}'.format(polygon_ethv_usdc[\"TokenSymbol\"].unique()))\n",
        "print('POLY iBTCV USDC Token Symbol: {}'.format(polygon_ibtcv_usdc[\"TokenSymbol\"].unique()))\n",
        "print('POLY iETHV USDC Token Symbol: {}'.format(polygon_iethv_usdc[\"TokenSymbol\"].unique()))\n",
        "\n",
        "print('ARB BTCV USDC Token Symbol: {}'.format(arbitrum_btcv_usdc[\"TokenSymbol\"].unique()))\n",
        "print('ARB ETHV USDC Token Symbol: {}'.format(arbitrum_ethv_usdc[\"TokenSymbol\"].unique()))\n",
        "print('ARB iBTCV USDC Token Symbol: {}'.format(arbitrum_ibtcv_usdc[\"TokenSymbol\"].unique()))\n",
        "print('ARB iETHV USDC Token Symbol: {}'.format(arbitrum_iethv_usdc[\"TokenSymbol\"].unique()))"
      ],
      "execution_count": 154,
      "outputs": [
        {
          "output_type": "stream",
          "name": "stdout",
          "text": [
            "ETH BTCV USDC Token Symbol: ['BTCV' 'USDC']\n",
            "ETH ETHV USDC Token Symbol: ['USDC' 'ETHV']\n",
            "ETH iBTCV USDC Token Symbol: ['iBTCV' 'USDC']\n",
            "ETH iETHV USDC Token Symbol: ['iETHV' 'USDC']\n",
            "POLY BTCV USDC Token Symbol: ['BTCV' 'USDC' 'auto-stake.com' 'DxDex.io' 'UNI-V2']\n",
            "POLY ETHV USDC Token Symbol: ['ETHV' 'USDC' 'UNI-V2' 'auto-stake.com' 'DxDex.io' 'RicheSwap' 'SSX']\n",
            "POLY iBTCV USDC Token Symbol: ['iBTCV' 'USDC' 'auto-stake.com' 'DxDex.io' 'UNI-V2']\n",
            "POLY iETHV USDC Token Symbol: ['iETHV' 'USDC' 'UNI-V2' 'auto-stake.com' 'YUI' 'DxDex.io' 'BeezEX' 'USBL'\n",
            " 'SSX']\n",
            "ARB BTCV USDC Token Symbol: ['BTCV' 'USDC']\n",
            "ARB ETHV USDC Token Symbol: ['ETHV' 'USDC']\n",
            "ARB iBTCV USDC Token Symbol: ['iBTCV' 'USDC']\n",
            "ARB iETHV USDC Token Symbol: ['iETHV' 'USDC']\n"
          ]
        }
      ]
    },
    {
      "cell_type": "markdown",
      "metadata": {
        "id": "tnoAOE9dbROC"
      },
      "source": [
        "### Token Symbol Filtering\n",
        "\n",
        "Similar to the minters data, there are some transactions with token symbols that will be filterd out  \n",
        "\n",
        "Only keep the transactions that are supported for the Uniswap/Quickswap pools  \n",
        "\n",
        "There was one token symbol outwith a volatility token or USDC that could have been legitimate which was UNI-V2, however after investigation this was discovered to just be interimediate transactions in either swaps or liquidity actions - as a result they are not required for the analysis"
      ]
    },
    {
      "cell_type": "code",
      "metadata": {
        "id": "uRPUS-3iX53v"
      },
      "source": [
        "# Ethereum Transaction Symbol Filtering\n",
        "eth_net_btcv_usdc = eth_net_btcv_usdc[eth_net_btcv_usdc[\"TokenSymbol\"].isin(['BTCV', 'USDC'])]\n",
        "eth_net_ethv_usdc = eth_net_ethv_usdc[eth_net_ethv_usdc[\"TokenSymbol\"].isin(['ETHV', 'USDC'])]\n",
        "eth_net_ibtcv_usdc = eth_net_ibtcv_usdc[eth_net_ibtcv_usdc[\"TokenSymbol\"].isin(['iBTCV', 'USDC'])]\n",
        "eth_net_iethv_usdc = eth_net_iethv_usdc[eth_net_iethv_usdc[\"TokenSymbol\"].isin(['iETHV', 'USDC'])]\n",
        "\n",
        "# Polygon Transaction Symbol Filtering\n",
        "polygon_btcv_usdc = polygon_btcv_usdc[polygon_btcv_usdc[\"TokenSymbol\"].isin(['BTCV', 'USDC'])]\n",
        "polygon_ethv_usdc = polygon_ethv_usdc[polygon_ethv_usdc[\"TokenSymbol\"].isin(['ETHV', 'USDC'])]\n",
        "polygon_ibtcv_usdc = polygon_ibtcv_usdc[polygon_ibtcv_usdc[\"TokenSymbol\"].isin(['iBTCV', 'USDC'])]\n",
        "polygon_iethv_usdc = polygon_iethv_usdc[polygon_iethv_usdc[\"TokenSymbol\"].isin(['iETHV', 'USDC'])]\n",
        "\n",
        "# Arbitrum Transaction Symbol Filtering\n",
        "arbitrum_btcv_usdc = arbitrum_btcv_usdc[arbitrum_btcv_usdc[\"TokenSymbol\"].isin(['BTCV', 'USDC'])]\n",
        "arbitrum_ethv_usdc = arbitrum_ethv_usdc[arbitrum_ethv_usdc[\"TokenSymbol\"].isin(['ETHV', 'USDC'])]\n",
        "arbitrum_ibtcv_usdc = arbitrum_ibtcv_usdc[arbitrum_ibtcv_usdc[\"TokenSymbol\"].isin(['iBTCV', 'USDC'])]\n",
        "arbitrum_iethv_usdc = arbitrum_iethv_usdc[arbitrum_iethv_usdc[\"TokenSymbol\"].isin(['iETHV', 'USDC'])]"
      ],
      "execution_count": 155,
      "outputs": []
    },
    {
      "cell_type": "markdown",
      "metadata": {
        "id": "ZUk5jVXebmmP"
      },
      "source": [
        "### Transaction Value Formatting"
      ]
    },
    {
      "cell_type": "code",
      "metadata": {
        "id": "KSIuKEMRbnGI"
      },
      "source": [
        "# Replace comma formatting for thousands and cast to type float for Etherscan files\n",
        "eth_net_btcv_usdc[\"Value\"] = eth_net_btcv_usdc[\"Value\"].str.replace(',', '').astype(float)\n",
        "eth_net_ethv_usdc[\"Value\"] = eth_net_ethv_usdc[\"Value\"].str.replace(',', '').astype(float)\n",
        "eth_net_ibtcv_usdc[\"Value\"] = eth_net_ibtcv_usdc[\"Value\"].str.replace(',', '').astype(float)\n",
        "eth_net_iethv_usdc[\"Value\"] = eth_net_iethv_usdc[\"Value\"].str.replace(',', '').astype(float)\n",
        "\n",
        "# Replace comma formatting for thousands and cast to type float for Polygonscan files\n",
        "polygon_btcv_usdc[\"Value\"] = polygon_btcv_usdc[\"Value\"].str.replace(',', '').astype(float)\n",
        "polygon_ethv_usdc[\"Value\"] = polygon_ethv_usdc[\"Value\"].str.replace(',', '').astype(float)\n",
        "polygon_ibtcv_usdc[\"Value\"] = polygon_ibtcv_usdc[\"Value\"].str.replace(',', '').astype(float)\n",
        "polygon_iethv_usdc[\"Value\"] = polygon_iethv_usdc[\"Value\"].str.replace(',', '').astype(float)\n",
        "\n",
        "# Replace comma formatting for thousands and cast to type float for Arbiscan files\n",
        "arbitrum_btcv_usdc[\"Value\"] = arbitrum_btcv_usdc[\"Value\"].str.replace(',', '').astype(float)\n",
        "arbitrum_ethv_usdc[\"Value\"] = arbitrum_ethv_usdc[\"Value\"].str.replace(',', '').astype(float)\n",
        "arbitrum_ibtcv_usdc[\"Value\"] = arbitrum_ibtcv_usdc[\"Value\"].str.replace(',', '').astype(float)\n",
        "# Not required for the iethv on atrbitrum as there are no commas to replace in the formatting\n",
        "# Would be required if any iethv values become comma separated in the future (not required just now as there are no transaction values in the thousands)\n",
        "# arbitrum_iethv_usdc[\"Value\"] = arbitrum_iethv_usdc[\"Value\"].str.replace(',', '').astype(float)"
      ],
      "execution_count": 156,
      "outputs": []
    },
    {
      "cell_type": "markdown",
      "metadata": {
        "id": "L_EhiNlzbYeP"
      },
      "source": [
        "### Traders and Liquidity Providers - Combine Data\n",
        "\n",
        "Combine all of the traders and liquidity providers data into a single dataframe to work with for the rest of the notebook"
      ]
    },
    {
      "cell_type": "code",
      "metadata": {
        "id": "1CQuHl3wQ50c"
      },
      "source": [
        "# Combine into single dataframe\n",
        "lps_traders_df = pd.concat([eth_net_btcv_usdc, eth_net_ethv_usdc, eth_net_ibtcv_usdc, eth_net_iethv_usdc, \n",
        "                            polygon_btcv_usdc, polygon_ethv_usdc, polygon_ibtcv_usdc, polygon_iethv_usdc,\n",
        "                            arbitrum_btcv_usdc, arbitrum_ethv_usdc, arbitrum_ibtcv_usdc, arbitrum_iethv_usdc], ignore_index=True)"
      ],
      "execution_count": 157,
      "outputs": []
    },
    {
      "cell_type": "code",
      "metadata": {
        "id": "U3_V3IYuRSZ7"
      },
      "source": [
        "# Write to CSV\n",
        "lps_traders_df.to_csv('lps_traders_v4_final.csv')"
      ],
      "execution_count": 158,
      "outputs": []
    },
    {
      "cell_type": "markdown",
      "metadata": {
        "id": "qLfZxGSbs7BP"
      },
      "source": [
        "## Unique Traders"
      ]
    },
    {
      "cell_type": "code",
      "metadata": {
        "id": "9-DEdPW7s9GH"
      },
      "source": [
        "# Filter for addresses that have performed at least 1 swap - these are known as the traders\n",
        "# Swap action is where one asset was swapped for another, Liqudity Added/Liqudity Removed Swap combination is where a tx_hash includes a liqudity action and a swap however it is difficult to determine which parts are which from the data\n",
        "# Only swap makes up the majority of the swap transactions\n",
        "trader_addresses_df = lps_traders_df[lps_traders_df['tx_type_label'] == 'Swap']"
      ],
      "execution_count": 159,
      "outputs": []
    },
    {
      "cell_type": "code",
      "metadata": {
        "colab": {
          "base_uri": "https://localhost:8080/"
        },
        "id": "JLrQNUUcoVoJ",
        "outputId": "30bf9683-593a-447e-c825-c8dd2df9097a"
      },
      "source": [
        "# Number of unique traders overall and across all 3 chains\n",
        "print('Number of unique trader addresses: {}'.format(trader_addresses_df['From'].nunique()))"
      ],
      "execution_count": 160,
      "outputs": [
        {
          "output_type": "stream",
          "name": "stdout",
          "text": [
            "Number of unique trader addresses: 1391\n"
          ]
        }
      ]
    },
    {
      "cell_type": "markdown",
      "metadata": {
        "id": "rTCv1hlLoNSm"
      },
      "source": [
        "## Unique Traders Split by Chain"
      ]
    },
    {
      "cell_type": "code",
      "metadata": {
        "id": "XDDoPgh2p2cD"
      },
      "source": [
        "trader_addresses_by_chain_df = trader_addresses_df.groupby(by='chain', as_index=False).agg({'From': pd.Series.nunique})"
      ],
      "execution_count": 161,
      "outputs": []
    },
    {
      "cell_type": "code",
      "metadata": {
        "colab": {
          "base_uri": "https://localhost:8080/"
        },
        "id": "7nbmRmysoPX6",
        "outputId": "5be5d10e-e252-4be0-9701-a0d63727a28a"
      },
      "source": [
        "print(\"ETHEREUM: Number of unique trader addresses: {}\".format(trader_addresses_by_chain_df[trader_addresses_by_chain_df[\"chain\"] == 'ETHEREUM'][\"From\"].values[0]))\n",
        "print(\"POLYGON: Number of unique trader addresses: {}\".format(trader_addresses_by_chain_df[trader_addresses_by_chain_df[\"chain\"] == 'POLYGON'][\"From\"].values[0]))\n",
        "print(\"ARBITRUM: Number of unique trader addresses: {}\".format(trader_addresses_by_chain_df[trader_addresses_by_chain_df[\"chain\"] == 'ARBITRUM'][\"From\"].values[0]))"
      ],
      "execution_count": 162,
      "outputs": [
        {
          "output_type": "stream",
          "name": "stdout",
          "text": [
            "ETHEREUM: Number of unique trader addresses: 147\n",
            "POLYGON: Number of unique trader addresses: 1212\n",
            "ARBITRUM: Number of unique trader addresses: 39\n"
          ]
        }
      ]
    },
    {
      "cell_type": "markdown",
      "metadata": {
        "id": "0fVhRUCkoKkh"
      },
      "source": [
        "## Unique LPs"
      ]
    },
    {
      "cell_type": "code",
      "metadata": {
        "id": "3s2Q9upqp-uY"
      },
      "source": [
        "# Filter for addresses that have perfomed at least 1 liqudity add action - these are known as the LP's\n",
        "# There are 2 types to look for: Add Liquidity (Address added liquidity to the pool) and Liquidity Added and Swap (Address added liquidity and performed a swap - so include also) however it is difficult to determine which parts are which (the swap and the liquidity add) \n",
        "# from the data so just include liquidity added only (these are the majority anyway)\n",
        "lps_addresses_df = lps_traders_df[lps_traders_df['tx_type_label'] == 'Add Liquidity']"
      ],
      "execution_count": 163,
      "outputs": []
    },
    {
      "cell_type": "code",
      "metadata": {
        "colab": {
          "base_uri": "https://localhost:8080/"
        },
        "id": "ziFia2qFqEKa",
        "outputId": "37b06911-419b-4d0a-bcb5-3312a1d47c5c"
      },
      "source": [
        "# Number of unique traders overall and across all 3 chains\n",
        "print('Number of unique LPs addresses: {}'.format(lps_addresses_df['From'].nunique()))"
      ],
      "execution_count": 164,
      "outputs": [
        {
          "output_type": "stream",
          "name": "stdout",
          "text": [
            "Number of unique LPs addresses: 1685\n"
          ]
        }
      ]
    },
    {
      "cell_type": "markdown",
      "metadata": {
        "id": "Jm5zOY3ooSIw"
      },
      "source": [
        "## Unique LPs Split by Chain"
      ]
    },
    {
      "cell_type": "code",
      "metadata": {
        "id": "0bi_1pAMuDOa"
      },
      "source": [
        "lps_addresses_by_chain_df = lps_addresses_df.groupby(by='chain', as_index=False).agg({'From': pd.Series.nunique})"
      ],
      "execution_count": 165,
      "outputs": []
    },
    {
      "cell_type": "code",
      "metadata": {
        "colab": {
          "base_uri": "https://localhost:8080/"
        },
        "id": "3NVhum4beRSt",
        "outputId": "28eed4be-dc1a-4f0d-ef92-1581d67f2a16"
      },
      "source": [
        "print(\"ETHEREUM: Number of unique LPs addresses: {}\".format(lps_addresses_by_chain_df[lps_addresses_by_chain_df[\"chain\"] == 'ETHEREUM'][\"From\"].values[0]))\n",
        "print(\"POLYGON: Number of unique LPs addresses: {}\".format(lps_addresses_by_chain_df[lps_addresses_by_chain_df[\"chain\"] == 'POLYGON'][\"From\"].values[0]))\n",
        "print(\"ARBITRUM: Number of unique LPs addresses: {}\".format(lps_addresses_by_chain_df[lps_addresses_by_chain_df[\"chain\"] == 'ARBITRUM'][\"From\"].values[0]))"
      ],
      "execution_count": 166,
      "outputs": [
        {
          "output_type": "stream",
          "name": "stdout",
          "text": [
            "ETHEREUM: Number of unique LPs addresses: 165\n",
            "POLYGON: Number of unique LPs addresses: 1464\n",
            "ARBITRUM: Number of unique LPs addresses: 71\n"
          ]
        }
      ]
    },
    {
      "cell_type": "markdown",
      "metadata": {
        "id": "PRy0Pobywwfj"
      },
      "source": [
        "## User Bucketing - Traders"
      ]
    },
    {
      "cell_type": "code",
      "metadata": {
        "id": "3KWA04noJfN9"
      },
      "source": [
        "# Each swap has 2 components, look at the OUT component and grab the distinct number of addresses\n",
        "# Eth requires this as some uniswap transactions have intermediate steps (this logic works for polygon and arbitrum)\n",
        "trader_addresses_filtered_df = trader_addresses_df[trader_addresses_df[\"Type\"] == 'OUT']"
      ],
      "execution_count": 167,
      "outputs": []
    },
    {
      "cell_type": "code",
      "metadata": {
        "colab": {
          "base_uri": "https://localhost:8080/",
          "height": 374
        },
        "id": "oZTfCFlILn9_",
        "outputId": "cd514e41-d3b2-4388-a3dc-14007c676b68"
      },
      "source": [
        "trader_addresses_filtered_df.head()"
      ],
      "execution_count": 168,
      "outputs": [
        {
          "output_type": "execute_result",
          "data": {
            "text/html": [
              "<div>\n",
              "<style scoped>\n",
              "    .dataframe tbody tr th:only-of-type {\n",
              "        vertical-align: middle;\n",
              "    }\n",
              "\n",
              "    .dataframe tbody tr th {\n",
              "        vertical-align: top;\n",
              "    }\n",
              "\n",
              "    .dataframe thead th {\n",
              "        text-align: right;\n",
              "    }\n",
              "</style>\n",
              "<table border=\"1\" class=\"dataframe\">\n",
              "  <thead>\n",
              "    <tr style=\"text-align: right;\">\n",
              "      <th></th>\n",
              "      <th>Txhash</th>\n",
              "      <th>UnixTimestamp</th>\n",
              "      <th>DateTime</th>\n",
              "      <th>From</th>\n",
              "      <th>To</th>\n",
              "      <th>Value</th>\n",
              "      <th>ContractAddress</th>\n",
              "      <th>TokenName</th>\n",
              "      <th>TokenSymbol</th>\n",
              "      <th>Type</th>\n",
              "      <th>tx_type_label</th>\n",
              "      <th>chain</th>\n",
              "    </tr>\n",
              "  </thead>\n",
              "  <tbody>\n",
              "    <tr>\n",
              "      <th>10</th>\n",
              "      <td>0xc9244e265b8ab7f6812ea48438bc53d2e136b0293e7e...</td>\n",
              "      <td>1623985412</td>\n",
              "      <td>2021-06-18 03:03:32</td>\n",
              "      <td>0x97693242c5703900fc7651c9164a334ee5ddfa2d</td>\n",
              "      <td>0x3839acf1ee7699d1f46b1be840d8ad8317fdf757</td>\n",
              "      <td>1.000000</td>\n",
              "      <td>0x51b0bcbeff204b39ce792d1e16767fe6f7631970</td>\n",
              "      <td>BTC Volatility Index</td>\n",
              "      <td>BTCV</td>\n",
              "      <td>OUT</td>\n",
              "      <td>Swap</td>\n",
              "      <td>ETHEREUM</td>\n",
              "    </tr>\n",
              "    <tr>\n",
              "      <th>12</th>\n",
              "      <td>0xfeb1b87e396a186df9572400d9aeeb1b5b5f8cc014f4...</td>\n",
              "      <td>1624308530</td>\n",
              "      <td>2021-06-21 20:48:50</td>\n",
              "      <td>0x97693242c5703900fc7651c9164a334ee5ddfa2d</td>\n",
              "      <td>0x51e15c3f1ab9cf2d28eb8c232e209aa521b45715</td>\n",
              "      <td>885.900502</td>\n",
              "      <td>0xa0b86991c6218b36c1d19d4a2e9eb0ce3606eb48</td>\n",
              "      <td>USD Coin</td>\n",
              "      <td>USDC</td>\n",
              "      <td>OUT</td>\n",
              "      <td>Swap</td>\n",
              "      <td>ETHEREUM</td>\n",
              "    </tr>\n",
              "    <tr>\n",
              "      <th>16</th>\n",
              "      <td>0xb696adc0562e8a233a0d87dd47b9bd2a37a9a43bd5d7...</td>\n",
              "      <td>1624457391</td>\n",
              "      <td>2021-06-23 14:09:51</td>\n",
              "      <td>0x97693242c5703900fc7651c9164a334ee5ddfa2d</td>\n",
              "      <td>0x81b15c11fd0c736399485307faecd13bdd58185d</td>\n",
              "      <td>0.221364</td>\n",
              "      <td>0x51b0bcbeff204b39ce792d1e16767fe6f7631970</td>\n",
              "      <td>BTC Volatility Index</td>\n",
              "      <td>BTCV</td>\n",
              "      <td>OUT</td>\n",
              "      <td>Swap</td>\n",
              "      <td>ETHEREUM</td>\n",
              "    </tr>\n",
              "    <tr>\n",
              "      <th>20</th>\n",
              "      <td>0xf37a1270aca957a61ecdf86b881c1a0b12bc552a25cf...</td>\n",
              "      <td>1624641328</td>\n",
              "      <td>2021-06-25 17:15:28</td>\n",
              "      <td>0x97693242c5703900fc7651c9164a334ee5ddfa2d</td>\n",
              "      <td>0x92114563127c16d3d9d459cd1fda5d47110592ae</td>\n",
              "      <td>1.217470</td>\n",
              "      <td>0x51b0bcbeff204b39ce792d1e16767fe6f7631970</td>\n",
              "      <td>BTC Volatility Index</td>\n",
              "      <td>BTCV</td>\n",
              "      <td>OUT</td>\n",
              "      <td>Swap</td>\n",
              "      <td>ETHEREUM</td>\n",
              "    </tr>\n",
              "    <tr>\n",
              "      <th>22</th>\n",
              "      <td>0x2b8bf79b533979cb2247854138d97895f8dcc6c1c0ee...</td>\n",
              "      <td>1624895500</td>\n",
              "      <td>2021-06-28 15:51:40</td>\n",
              "      <td>0x97693242c5703900fc7651c9164a334ee5ddfa2d</td>\n",
              "      <td>0x66bffe06feba47cd1c95fc2635933c1315c7d2f1</td>\n",
              "      <td>16.267542</td>\n",
              "      <td>0x51b0bcbeff204b39ce792d1e16767fe6f7631970</td>\n",
              "      <td>BTC Volatility Index</td>\n",
              "      <td>BTCV</td>\n",
              "      <td>OUT</td>\n",
              "      <td>Swap</td>\n",
              "      <td>ETHEREUM</td>\n",
              "    </tr>\n",
              "  </tbody>\n",
              "</table>\n",
              "</div>"
            ],
            "text/plain": [
              "                                               Txhash  ...     chain\n",
              "10  0xc9244e265b8ab7f6812ea48438bc53d2e136b0293e7e...  ...  ETHEREUM\n",
              "12  0xfeb1b87e396a186df9572400d9aeeb1b5b5f8cc014f4...  ...  ETHEREUM\n",
              "16  0xb696adc0562e8a233a0d87dd47b9bd2a37a9a43bd5d7...  ...  ETHEREUM\n",
              "20  0xf37a1270aca957a61ecdf86b881c1a0b12bc552a25cf...  ...  ETHEREUM\n",
              "22  0x2b8bf79b533979cb2247854138d97895f8dcc6c1c0ee...  ...  ETHEREUM\n",
              "\n",
              "[5 rows x 12 columns]"
            ]
          },
          "metadata": {},
          "execution_count": 168
        }
      ]
    },
    {
      "cell_type": "code",
      "metadata": {
        "id": "Jf5lQ5W1wyGi"
      },
      "source": [
        "trader_address_counts_df = pd.Series(trader_addresses_df[\"To\"].value_counts(), name='Cumulative Number of Trades').to_frame()"
      ],
      "execution_count": 169,
      "outputs": []
    },
    {
      "cell_type": "markdown",
      "metadata": {
        "id": "6iMWaoDQSPxK"
      },
      "source": [
        "### Histogram of Cumulative Trades by User\n",
        "\n",
        "This histogram shows the cumulative number of trades that have been made by each user.  \n",
        "\n",
        "The x-axis shows the cumulative number of trades groupings (bins) and the y-axis shows the number of users who have made that number of trades.  \n",
        "\n",
        "Low: 0-9 Trades  \n",
        "Medium: 9-40 Trades  \n",
        "High: 40+ Trades  "
      ]
    },
    {
      "cell_type": "code",
      "metadata": {
        "colab": {
          "base_uri": "https://localhost:8080/",
          "height": 542
        },
        "id": "gmQG6osGRUlO",
        "outputId": "eed617a1-761e-4e43-9eb3-3b0d71d8041d"
      },
      "source": [
        "fig = px.histogram(\n",
        "    trader_address_counts_df, \n",
        "    x='Cumulative Number of Trades',\n",
        "    title = 'Histogram of Cumulative Trades by User',\n",
        "    marginal=\"rug\")\n",
        "fig.show()"
      ],
      "execution_count": 170,
      "outputs": [
        {
          "output_type": "display_data",
          "data": {
            "text/html": [
              "<html>\n",
              "<head><meta charset=\"utf-8\" /></head>\n",
              "<body>\n",
              "    <div>\n",
              "            <script src=\"https://cdnjs.cloudflare.com/ajax/libs/mathjax/2.7.5/MathJax.js?config=TeX-AMS-MML_SVG\"></script><script type=\"text/javascript\">if (window.MathJax) {MathJax.Hub.Config({SVG: {font: \"STIX-Web\"}});}</script>\n",
              "                <script type=\"text/javascript\">window.PlotlyConfig = {MathJaxConfig: 'local'};</script>\n",
              "        <script src=\"https://cdn.plot.ly/plotly-latest.min.js\"></script>    \n",
              "            <div id=\"aa8b66e5-ccd3-461f-814d-df5ea0ff4d1b\" class=\"plotly-graph-div\" style=\"height:525px; width:100%;\"></div>\n",
              "            <script type=\"text/javascript\">\n",
              "                \n",
              "                    window.PLOTLYENV=window.PLOTLYENV || {};\n",
              "                    \n",
              "                if (document.getElementById(\"aa8b66e5-ccd3-461f-814d-df5ea0ff4d1b\")) {\n",
              "                    Plotly.newPlot(\n",
              "                        'aa8b66e5-ccd3-461f-814d-df5ea0ff4d1b',\n",
              "                        [{\"alignmentgroup\": \"True\", \"bingroup\": \"x\", \"hoverlabel\": {\"namelength\": 0}, \"hovertemplate\": \"Cumulative Number of Trades=%{x}<br>count=%{y}\", \"legendgroup\": \"\", \"marker\": {\"color\": \"#636efa\"}, \"name\": \"\", \"offsetgroup\": \"\", \"orientation\": \"v\", \"showlegend\": false, \"type\": \"histogram\", \"x\": [1757, 1392, 387, 355, 192, 168, 143, 141, 133, 122, 115, 87, 74, 62, 50, 39, 38, 27, 24, 24, 22, 21, 19, 15, 15, 13, 12, 12, 12, 10, 10, 10, 10, 10, 9, 9, 9, 8, 8, 8, 8, 8, 7, 7, 7, 6, 6, 6, 6, 6, 6, 6, 6, 5, 5, 5, 5, 5, 5, 5, 5, 5, 5, 5, 5, 4, 4, 4, 4, 4, 4, 4, 4, 4, 4, 4, 4, 4, 4, 4, 4, 4, 4, 4, 4, 4, 4, 4, 4, 4, 4, 4, 4, 4, 3, 3, 3, 3, 3, 3, 3, 3, 3, 3, 3, 3, 3, 3, 3, 3, 3, 3, 3, 3, 3, 3, 3, 3, 3, 3, 3, 3, 3, 3, 3, 3, 3, 3, 3, 3, 3, 3, 3, 3, 3, 3, 3, 3, 3, 3, 3, 3, 3, 3, 3, 3, 3, 3, 3, 3, 3, 3, 3, 3, 3, 3, 3, 3, 3, 3, 3, 3, 3, 3, 3, 3, 3, 3, 3, 3, 3, 2, 2, 2, 2, 2, 2, 2, 2, 2, 2, 2, 2, 2, 2, 2, 2, 2, 2, 2, 2, 2, 2, 2, 2, 2, 2, 2, 2, 2, 2, 2, 2, 2, 2, 2, 2, 2, 2, 2, 2, 2, 2, 2, 2, 2, 2, 2, 2, 2, 2, 2, 2, 2, 2, 2, 2, 2, 2, 2, 2, 2, 2, 2, 2, 2, 2, 2, 2, 2, 2, 2, 2, 2, 2, 2, 2, 2, 2, 2, 2, 2, 2, 2, 2, 2, 2, 2, 2, 2, 2, 2, 2, 2, 2, 2, 2, 2, 2, 2, 2, 2, 2, 2, 2, 2, 2, 2, 2, 2, 2, 2, 2, 2, 2, 2, 2, 2, 2, 2, 2, 2, 2, 2, 2, 2, 2, 2, 2, 2, 2, 2, 2, 2, 2, 2, 2, 2, 2, 2, 2, 2, 2, 2, 2, 2, 2, 2, 2, 2, 2, 2, 2, 2, 2, 2, 2, 2, 2, 2, 2, 2, 2, 2, 2, 2, 2, 2, 2, 2, 2, 2, 2, 2, 2, 2, 2, 2, 2, 2, 2, 2, 2, 2, 2, 2, 2, 2, 2, 2, 2, 2, 2, 2, 2, 2, 2, 2, 2, 2, 2, 2, 2, 2, 2, 2, 2, 2, 2, 2, 2, 2, 2, 2, 2, 2, 2, 2, 2, 2, 2, 2, 2, 2, 2, 2, 2, 2, 2, 2, 2, 2, 2, 2, 2, 2, 2, 2, 2, 2, 2, 2, 2, 2, 2, 2, 2, 2, 2, 2, 2, 2, 2, 2, 2, 2, 2, 2, 2, 2, 2, 2, 2, 2, 2, 2, 2, 2, 2, 2, 2, 2, 2, 2, 2, 2, 2, 2, 2, 2, 2, 2, 2, 2, 2, 2, 2, 2, 2, 2, 2, 2, 2, 2, 2, 2, 2, 2, 2, 2, 2, 2, 2, 2, 2, 2, 2, 2, 2, 2, 2, 2, 2, 2, 2, 2, 2, 2, 2, 2, 2, 2, 2, 2, 2, 2, 2, 2, 2, 2, 2, 2, 2, 2, 2, 2, 2, 2, 2, 2, 2, 2, 2, 2, 2, 2, 2, 2, 2, 2, 2, 2, 2, 2, 2, 2, 2, 2, 2, 2, 2, 2, 2, 2, 2, 2, 2, 2, 2, 2, 2, 2, 2, 2, 2, 2, 2, 2, 2, 2, 2, 2, 2, 2, 2, 2, 2, 2, 2, 2, 2, 2, 2, 2, 2, 2, 2, 2, 2, 2, 2, 2, 2, 2, 2, 2, 2, 2, 2, 2, 2, 2, 2, 2, 2, 2, 2, 2, 2, 2, 2, 2, 2, 2, 2, 2, 2, 2, 2, 2, 2, 2, 2, 2, 2, 2, 2, 2, 2, 2, 2, 2, 2, 2, 2, 2, 2, 2, 2, 2, 2, 2, 2, 2, 2, 2, 2, 2, 2, 2, 2, 2, 2, 2, 2, 2, 2, 2, 2, 2, 2, 2, 2, 2, 2, 2, 2, 2, 2, 2, 2, 2, 2, 2, 2, 2, 2, 2, 2, 2, 2, 2, 2, 2, 2, 2, 2, 2, 2, 2, 2, 2, 2, 2, 2, 2, 2, 2, 1, 1, 1, 1, 1, 1, 1, 1, 1, 1, 1, 1, 1, 1, 1, 1, 1, 1, 1, 1, 1, 1, 1, 1, 1, 1, 1, 1, 1, 1, 1, 1, 1, 1, 1, 1, 1, 1, 1, 1, 1, 1, 1, 1, 1, 1, 1, 1, 1, 1, 1, 1, 1, 1, 1, 1, 1, 1, 1, 1, 1, 1, 1, 1, 1, 1, 1, 1, 1, 1, 1, 1, 1, 1, 1, 1, 1, 1, 1, 1, 1, 1, 1, 1, 1, 1, 1, 1, 1, 1, 1, 1, 1, 1, 1, 1, 1, 1, 1, 1, 1, 1, 1, 1, 1, 1, 1, 1, 1, 1, 1, 1, 1, 1, 1, 1, 1, 1, 1, 1, 1, 1, 1, 1, 1, 1, 1, 1, 1, 1, 1, 1, 1, 1, 1, 1, 1, 1, 1, 1, 1, 1, 1, 1, 1, 1, 1, 1, 1, 1, 1, 1, 1, 1, 1, 1, 1, 1, 1, 1, 1, 1, 1, 1, 1, 1, 1, 1, 1, 1, 1, 1, 1, 1, 1, 1, 1, 1, 1, 1, 1, 1, 1, 1, 1, 1, 1, 1, 1, 1, 1, 1, 1, 1, 1, 1, 1, 1, 1, 1, 1, 1, 1, 1, 1, 1, 1, 1, 1, 1, 1, 1, 1, 1, 1, 1, 1, 1, 1, 1, 1, 1, 1, 1, 1, 1, 1, 1, 1, 1, 1, 1, 1, 1, 1, 1, 1, 1, 1, 1, 1, 1, 1, 1, 1, 1, 1, 1, 1, 1, 1, 1, 1, 1, 1, 1, 1, 1, 1, 1, 1, 1, 1, 1, 1, 1, 1, 1, 1, 1, 1, 1, 1, 1, 1, 1, 1, 1, 1, 1, 1, 1, 1, 1, 1, 1, 1, 1, 1, 1, 1, 1, 1, 1, 1, 1, 1, 1, 1, 1, 1, 1, 1, 1, 1, 1, 1, 1, 1, 1, 1, 1, 1, 1, 1, 1, 1, 1, 1, 1, 1, 1, 1, 1, 1, 1, 1, 1, 1, 1, 1, 1, 1, 1, 1, 1, 1, 1, 1, 1, 1, 1, 1, 1, 1, 1, 1, 1, 1, 1, 1, 1, 1, 1, 1, 1, 1, 1, 1, 1, 1, 1, 1, 1, 1, 1, 1, 1, 1, 1, 1, 1, 1, 1, 1, 1, 1, 1, 1, 1, 1, 1, 1, 1, 1, 1, 1, 1, 1, 1, 1, 1, 1, 1, 1, 1, 1, 1, 1, 1, 1, 1, 1, 1, 1, 1, 1, 1, 1, 1, 1, 1, 1, 1, 1, 1, 1, 1, 1, 1, 1, 1, 1, 1, 1, 1, 1, 1, 1, 1, 1, 1, 1, 1, 1, 1, 1, 1, 1, 1, 1, 1, 1, 1, 1, 1, 1, 1, 1, 1, 1, 1, 1, 1, 1, 1, 1, 1, 1, 1, 1, 1, 1, 1, 1, 1, 1, 1, 1, 1, 1, 1, 1, 1, 1, 1, 1, 1, 1, 1, 1, 1, 1, 1, 1, 1, 1, 1, 1, 1, 1, 1, 1, 1, 1, 1, 1, 1, 1, 1, 1, 1, 1, 1, 1, 1, 1, 1, 1, 1, 1, 1, 1, 1, 1, 1, 1, 1, 1, 1, 1, 1, 1, 1, 1, 1, 1, 1, 1, 1, 1, 1, 1, 1, 1, 1, 1, 1, 1, 1, 1, 1, 1, 1, 1, 1, 1, 1, 1, 1, 1, 1, 1, 1, 1, 1, 1, 1, 1, 1, 1, 1, 1, 1, 1, 1, 1, 1, 1, 1, 1, 1, 1, 1, 1, 1, 1, 1, 1, 1, 1, 1, 1, 1, 1, 1, 1, 1, 1, 1, 1, 1, 1, 1, 1, 1, 1, 1, 1, 1, 1, 1, 1, 1, 1, 1, 1, 1, 1, 1, 1, 1, 1, 1, 1, 1, 1, 1, 1, 1, 1, 1, 1, 1, 1, 1, 1, 1, 1, 1, 1, 1, 1, 1, 1, 1, 1, 1, 1, 1, 1, 1, 1, 1, 1, 1, 1, 1, 1, 1, 1, 1, 1, 1, 1, 1, 1, 1, 1, 1, 1, 1, 1, 1, 1, 1, 1, 1, 1, 1, 1, 1, 1, 1, 1, 1, 1, 1, 1, 1, 1, 1, 1, 1, 1, 1, 1, 1, 1, 1, 1, 1, 1, 1, 1, 1, 1, 1, 1, 1, 1, 1, 1, 1, 1, 1, 1, 1, 1, 1, 1, 1, 1, 1, 1, 1, 1, 1, 1, 1, 1, 1, 1, 1, 1, 1, 1, 1, 1, 1, 1, 1, 1, 1, 1, 1, 1, 1, 1, 1, 1, 1, 1, 1, 1, 1, 1, 1, 1, 1, 1, 1, 1, 1, 1, 1, 1, 1, 1, 1, 1, 1, 1, 1, 1, 1, 1, 1, 1, 1], \"xaxis\": \"x\", \"yaxis\": \"y\"}, {\"alignmentgroup\": \"True\", \"boxpoints\": \"all\", \"fillcolor\": \"rgba(255,255,255,0)\", \"hoverlabel\": {\"namelength\": 0}, \"hoveron\": \"points\", \"hovertemplate\": \"Cumulative Number of Trades=%{x}\", \"jitter\": 0, \"legendgroup\": \"\", \"line\": {\"color\": \"rgba(255,255,255,0)\"}, \"marker\": {\"color\": \"#636efa\", \"symbol\": \"line-ns-open\"}, \"name\": \"\", \"offsetgroup\": \"\", \"showlegend\": false, \"type\": \"box\", \"x\": [1757, 1392, 387, 355, 192, 168, 143, 141, 133, 122, 115, 87, 74, 62, 50, 39, 38, 27, 24, 24, 22, 21, 19, 15, 15, 13, 12, 12, 12, 10, 10, 10, 10, 10, 9, 9, 9, 8, 8, 8, 8, 8, 7, 7, 7, 6, 6, 6, 6, 6, 6, 6, 6, 5, 5, 5, 5, 5, 5, 5, 5, 5, 5, 5, 5, 4, 4, 4, 4, 4, 4, 4, 4, 4, 4, 4, 4, 4, 4, 4, 4, 4, 4, 4, 4, 4, 4, 4, 4, 4, 4, 4, 4, 4, 3, 3, 3, 3, 3, 3, 3, 3, 3, 3, 3, 3, 3, 3, 3, 3, 3, 3, 3, 3, 3, 3, 3, 3, 3, 3, 3, 3, 3, 3, 3, 3, 3, 3, 3, 3, 3, 3, 3, 3, 3, 3, 3, 3, 3, 3, 3, 3, 3, 3, 3, 3, 3, 3, 3, 3, 3, 3, 3, 3, 3, 3, 3, 3, 3, 3, 3, 3, 3, 3, 3, 3, 3, 3, 3, 3, 3, 2, 2, 2, 2, 2, 2, 2, 2, 2, 2, 2, 2, 2, 2, 2, 2, 2, 2, 2, 2, 2, 2, 2, 2, 2, 2, 2, 2, 2, 2, 2, 2, 2, 2, 2, 2, 2, 2, 2, 2, 2, 2, 2, 2, 2, 2, 2, 2, 2, 2, 2, 2, 2, 2, 2, 2, 2, 2, 2, 2, 2, 2, 2, 2, 2, 2, 2, 2, 2, 2, 2, 2, 2, 2, 2, 2, 2, 2, 2, 2, 2, 2, 2, 2, 2, 2, 2, 2, 2, 2, 2, 2, 2, 2, 2, 2, 2, 2, 2, 2, 2, 2, 2, 2, 2, 2, 2, 2, 2, 2, 2, 2, 2, 2, 2, 2, 2, 2, 2, 2, 2, 2, 2, 2, 2, 2, 2, 2, 2, 2, 2, 2, 2, 2, 2, 2, 2, 2, 2, 2, 2, 2, 2, 2, 2, 2, 2, 2, 2, 2, 2, 2, 2, 2, 2, 2, 2, 2, 2, 2, 2, 2, 2, 2, 2, 2, 2, 2, 2, 2, 2, 2, 2, 2, 2, 2, 2, 2, 2, 2, 2, 2, 2, 2, 2, 2, 2, 2, 2, 2, 2, 2, 2, 2, 2, 2, 2, 2, 2, 2, 2, 2, 2, 2, 2, 2, 2, 2, 2, 2, 2, 2, 2, 2, 2, 2, 2, 2, 2, 2, 2, 2, 2, 2, 2, 2, 2, 2, 2, 2, 2, 2, 2, 2, 2, 2, 2, 2, 2, 2, 2, 2, 2, 2, 2, 2, 2, 2, 2, 2, 2, 2, 2, 2, 2, 2, 2, 2, 2, 2, 2, 2, 2, 2, 2, 2, 2, 2, 2, 2, 2, 2, 2, 2, 2, 2, 2, 2, 2, 2, 2, 2, 2, 2, 2, 2, 2, 2, 2, 2, 2, 2, 2, 2, 2, 2, 2, 2, 2, 2, 2, 2, 2, 2, 2, 2, 2, 2, 2, 2, 2, 2, 2, 2, 2, 2, 2, 2, 2, 2, 2, 2, 2, 2, 2, 2, 2, 2, 2, 2, 2, 2, 2, 2, 2, 2, 2, 2, 2, 2, 2, 2, 2, 2, 2, 2, 2, 2, 2, 2, 2, 2, 2, 2, 2, 2, 2, 2, 2, 2, 2, 2, 2, 2, 2, 2, 2, 2, 2, 2, 2, 2, 2, 2, 2, 2, 2, 2, 2, 2, 2, 2, 2, 2, 2, 2, 2, 2, 2, 2, 2, 2, 2, 2, 2, 2, 2, 2, 2, 2, 2, 2, 2, 2, 2, 2, 2, 2, 2, 2, 2, 2, 2, 2, 2, 2, 2, 2, 2, 2, 2, 2, 2, 2, 2, 2, 2, 2, 2, 2, 2, 2, 2, 2, 2, 2, 2, 2, 2, 2, 2, 2, 2, 2, 2, 2, 2, 2, 2, 2, 2, 2, 2, 2, 2, 2, 2, 2, 2, 2, 2, 2, 2, 2, 2, 2, 2, 2, 2, 2, 2, 2, 2, 2, 2, 2, 2, 2, 2, 2, 2, 2, 2, 2, 2, 2, 2, 2, 2, 2, 2, 2, 2, 2, 2, 2, 2, 2, 2, 2, 2, 2, 2, 2, 2, 2, 2, 1, 1, 1, 1, 1, 1, 1, 1, 1, 1, 1, 1, 1, 1, 1, 1, 1, 1, 1, 1, 1, 1, 1, 1, 1, 1, 1, 1, 1, 1, 1, 1, 1, 1, 1, 1, 1, 1, 1, 1, 1, 1, 1, 1, 1, 1, 1, 1, 1, 1, 1, 1, 1, 1, 1, 1, 1, 1, 1, 1, 1, 1, 1, 1, 1, 1, 1, 1, 1, 1, 1, 1, 1, 1, 1, 1, 1, 1, 1, 1, 1, 1, 1, 1, 1, 1, 1, 1, 1, 1, 1, 1, 1, 1, 1, 1, 1, 1, 1, 1, 1, 1, 1, 1, 1, 1, 1, 1, 1, 1, 1, 1, 1, 1, 1, 1, 1, 1, 1, 1, 1, 1, 1, 1, 1, 1, 1, 1, 1, 1, 1, 1, 1, 1, 1, 1, 1, 1, 1, 1, 1, 1, 1, 1, 1, 1, 1, 1, 1, 1, 1, 1, 1, 1, 1, 1, 1, 1, 1, 1, 1, 1, 1, 1, 1, 1, 1, 1, 1, 1, 1, 1, 1, 1, 1, 1, 1, 1, 1, 1, 1, 1, 1, 1, 1, 1, 1, 1, 1, 1, 1, 1, 1, 1, 1, 1, 1, 1, 1, 1, 1, 1, 1, 1, 1, 1, 1, 1, 1, 1, 1, 1, 1, 1, 1, 1, 1, 1, 1, 1, 1, 1, 1, 1, 1, 1, 1, 1, 1, 1, 1, 1, 1, 1, 1, 1, 1, 1, 1, 1, 1, 1, 1, 1, 1, 1, 1, 1, 1, 1, 1, 1, 1, 1, 1, 1, 1, 1, 1, 1, 1, 1, 1, 1, 1, 1, 1, 1, 1, 1, 1, 1, 1, 1, 1, 1, 1, 1, 1, 1, 1, 1, 1, 1, 1, 1, 1, 1, 1, 1, 1, 1, 1, 1, 1, 1, 1, 1, 1, 1, 1, 1, 1, 1, 1, 1, 1, 1, 1, 1, 1, 1, 1, 1, 1, 1, 1, 1, 1, 1, 1, 1, 1, 1, 1, 1, 1, 1, 1, 1, 1, 1, 1, 1, 1, 1, 1, 1, 1, 1, 1, 1, 1, 1, 1, 1, 1, 1, 1, 1, 1, 1, 1, 1, 1, 1, 1, 1, 1, 1, 1, 1, 1, 1, 1, 1, 1, 1, 1, 1, 1, 1, 1, 1, 1, 1, 1, 1, 1, 1, 1, 1, 1, 1, 1, 1, 1, 1, 1, 1, 1, 1, 1, 1, 1, 1, 1, 1, 1, 1, 1, 1, 1, 1, 1, 1, 1, 1, 1, 1, 1, 1, 1, 1, 1, 1, 1, 1, 1, 1, 1, 1, 1, 1, 1, 1, 1, 1, 1, 1, 1, 1, 1, 1, 1, 1, 1, 1, 1, 1, 1, 1, 1, 1, 1, 1, 1, 1, 1, 1, 1, 1, 1, 1, 1, 1, 1, 1, 1, 1, 1, 1, 1, 1, 1, 1, 1, 1, 1, 1, 1, 1, 1, 1, 1, 1, 1, 1, 1, 1, 1, 1, 1, 1, 1, 1, 1, 1, 1, 1, 1, 1, 1, 1, 1, 1, 1, 1, 1, 1, 1, 1, 1, 1, 1, 1, 1, 1, 1, 1, 1, 1, 1, 1, 1, 1, 1, 1, 1, 1, 1, 1, 1, 1, 1, 1, 1, 1, 1, 1, 1, 1, 1, 1, 1, 1, 1, 1, 1, 1, 1, 1, 1, 1, 1, 1, 1, 1, 1, 1, 1, 1, 1, 1, 1, 1, 1, 1, 1, 1, 1, 1, 1, 1, 1, 1, 1, 1, 1, 1, 1, 1, 1, 1, 1, 1, 1, 1, 1, 1, 1, 1, 1, 1, 1, 1, 1, 1, 1, 1, 1, 1, 1, 1, 1, 1, 1, 1, 1, 1, 1, 1, 1, 1, 1, 1, 1, 1, 1, 1, 1, 1, 1, 1, 1, 1, 1, 1, 1, 1, 1, 1, 1, 1, 1, 1, 1, 1, 1, 1, 1, 1, 1, 1, 1, 1, 1, 1, 1, 1, 1, 1, 1, 1, 1, 1, 1, 1, 1, 1, 1, 1, 1, 1, 1, 1, 1, 1, 1, 1, 1, 1, 1, 1, 1, 1, 1, 1, 1, 1, 1, 1, 1, 1, 1, 1, 1, 1, 1, 1, 1, 1, 1, 1, 1, 1, 1, 1, 1, 1, 1, 1, 1, 1, 1, 1, 1, 1, 1, 1, 1, 1, 1, 1, 1, 1, 1, 1, 1, 1, 1, 1, 1, 1, 1, 1, 1, 1, 1, 1, 1, 1, 1, 1, 1, 1, 1, 1, 1, 1, 1, 1, 1, 1, 1, 1, 1, 1, 1, 1, 1, 1, 1, 1, 1, 1, 1, 1, 1, 1, 1, 1, 1, 1, 1, 1, 1, 1, 1, 1, 1, 1, 1, 1, 1, 1, 1, 1, 1, 1], \"xaxis\": \"x2\", \"yaxis\": \"y2\"}],\n",
              "                        {\"barmode\": \"relative\", \"legend\": {\"tracegroupgap\": 0}, \"template\": {\"data\": {\"bar\": [{\"error_x\": {\"color\": \"#2a3f5f\"}, \"error_y\": {\"color\": \"#2a3f5f\"}, \"marker\": {\"line\": {\"color\": \"#E5ECF6\", \"width\": 0.5}}, \"type\": \"bar\"}], \"barpolar\": [{\"marker\": {\"line\": {\"color\": \"#E5ECF6\", \"width\": 0.5}}, \"type\": \"barpolar\"}], \"carpet\": [{\"aaxis\": {\"endlinecolor\": \"#2a3f5f\", \"gridcolor\": \"white\", \"linecolor\": \"white\", \"minorgridcolor\": \"white\", \"startlinecolor\": \"#2a3f5f\"}, \"baxis\": {\"endlinecolor\": \"#2a3f5f\", \"gridcolor\": \"white\", \"linecolor\": \"white\", \"minorgridcolor\": \"white\", \"startlinecolor\": \"#2a3f5f\"}, \"type\": \"carpet\"}], \"choropleth\": [{\"colorbar\": {\"outlinewidth\": 0, \"ticks\": \"\"}, \"type\": \"choropleth\"}], \"contour\": [{\"colorbar\": {\"outlinewidth\": 0, \"ticks\": \"\"}, \"colorscale\": [[0.0, \"#0d0887\"], [0.1111111111111111, \"#46039f\"], [0.2222222222222222, \"#7201a8\"], [0.3333333333333333, \"#9c179e\"], [0.4444444444444444, \"#bd3786\"], [0.5555555555555556, \"#d8576b\"], [0.6666666666666666, \"#ed7953\"], [0.7777777777777778, \"#fb9f3a\"], [0.8888888888888888, \"#fdca26\"], [1.0, \"#f0f921\"]], \"type\": \"contour\"}], \"contourcarpet\": [{\"colorbar\": {\"outlinewidth\": 0, \"ticks\": \"\"}, \"type\": \"contourcarpet\"}], \"heatmap\": [{\"colorbar\": {\"outlinewidth\": 0, \"ticks\": \"\"}, \"colorscale\": [[0.0, \"#0d0887\"], [0.1111111111111111, \"#46039f\"], [0.2222222222222222, \"#7201a8\"], [0.3333333333333333, \"#9c179e\"], [0.4444444444444444, \"#bd3786\"], [0.5555555555555556, \"#d8576b\"], [0.6666666666666666, \"#ed7953\"], [0.7777777777777778, \"#fb9f3a\"], [0.8888888888888888, \"#fdca26\"], [1.0, \"#f0f921\"]], \"type\": \"heatmap\"}], \"heatmapgl\": [{\"colorbar\": {\"outlinewidth\": 0, \"ticks\": \"\"}, \"colorscale\": [[0.0, \"#0d0887\"], [0.1111111111111111, \"#46039f\"], [0.2222222222222222, \"#7201a8\"], [0.3333333333333333, \"#9c179e\"], [0.4444444444444444, \"#bd3786\"], [0.5555555555555556, \"#d8576b\"], [0.6666666666666666, \"#ed7953\"], [0.7777777777777778, \"#fb9f3a\"], [0.8888888888888888, \"#fdca26\"], [1.0, \"#f0f921\"]], \"type\": \"heatmapgl\"}], \"histogram\": [{\"marker\": {\"colorbar\": {\"outlinewidth\": 0, \"ticks\": \"\"}}, \"type\": \"histogram\"}], \"histogram2d\": [{\"colorbar\": {\"outlinewidth\": 0, \"ticks\": \"\"}, \"colorscale\": [[0.0, \"#0d0887\"], [0.1111111111111111, \"#46039f\"], [0.2222222222222222, \"#7201a8\"], [0.3333333333333333, \"#9c179e\"], [0.4444444444444444, \"#bd3786\"], [0.5555555555555556, \"#d8576b\"], [0.6666666666666666, \"#ed7953\"], [0.7777777777777778, \"#fb9f3a\"], [0.8888888888888888, \"#fdca26\"], [1.0, \"#f0f921\"]], \"type\": \"histogram2d\"}], \"histogram2dcontour\": [{\"colorbar\": {\"outlinewidth\": 0, \"ticks\": \"\"}, \"colorscale\": [[0.0, \"#0d0887\"], [0.1111111111111111, \"#46039f\"], [0.2222222222222222, \"#7201a8\"], [0.3333333333333333, \"#9c179e\"], [0.4444444444444444, \"#bd3786\"], [0.5555555555555556, \"#d8576b\"], [0.6666666666666666, \"#ed7953\"], [0.7777777777777778, \"#fb9f3a\"], [0.8888888888888888, \"#fdca26\"], [1.0, \"#f0f921\"]], \"type\": \"histogram2dcontour\"}], \"mesh3d\": [{\"colorbar\": {\"outlinewidth\": 0, \"ticks\": \"\"}, \"type\": \"mesh3d\"}], \"parcoords\": [{\"line\": {\"colorbar\": {\"outlinewidth\": 0, \"ticks\": \"\"}}, \"type\": \"parcoords\"}], \"pie\": [{\"automargin\": true, \"type\": \"pie\"}], \"scatter\": [{\"marker\": {\"colorbar\": {\"outlinewidth\": 0, \"ticks\": \"\"}}, \"type\": \"scatter\"}], \"scatter3d\": [{\"line\": {\"colorbar\": {\"outlinewidth\": 0, \"ticks\": \"\"}}, \"marker\": {\"colorbar\": {\"outlinewidth\": 0, \"ticks\": \"\"}}, \"type\": \"scatter3d\"}], \"scattercarpet\": [{\"marker\": {\"colorbar\": {\"outlinewidth\": 0, \"ticks\": \"\"}}, \"type\": \"scattercarpet\"}], \"scattergeo\": [{\"marker\": {\"colorbar\": {\"outlinewidth\": 0, \"ticks\": \"\"}}, \"type\": \"scattergeo\"}], \"scattergl\": [{\"marker\": {\"colorbar\": {\"outlinewidth\": 0, \"ticks\": \"\"}}, \"type\": \"scattergl\"}], \"scattermapbox\": [{\"marker\": {\"colorbar\": {\"outlinewidth\": 0, \"ticks\": \"\"}}, \"type\": \"scattermapbox\"}], \"scatterpolar\": [{\"marker\": {\"colorbar\": {\"outlinewidth\": 0, \"ticks\": \"\"}}, \"type\": \"scatterpolar\"}], \"scatterpolargl\": [{\"marker\": {\"colorbar\": {\"outlinewidth\": 0, \"ticks\": \"\"}}, \"type\": \"scatterpolargl\"}], \"scatterternary\": [{\"marker\": {\"colorbar\": {\"outlinewidth\": 0, \"ticks\": \"\"}}, \"type\": \"scatterternary\"}], \"surface\": [{\"colorbar\": {\"outlinewidth\": 0, \"ticks\": \"\"}, \"colorscale\": [[0.0, \"#0d0887\"], [0.1111111111111111, \"#46039f\"], [0.2222222222222222, \"#7201a8\"], [0.3333333333333333, \"#9c179e\"], [0.4444444444444444, \"#bd3786\"], [0.5555555555555556, \"#d8576b\"], [0.6666666666666666, \"#ed7953\"], [0.7777777777777778, \"#fb9f3a\"], [0.8888888888888888, \"#fdca26\"], [1.0, \"#f0f921\"]], \"type\": \"surface\"}], \"table\": [{\"cells\": {\"fill\": {\"color\": \"#EBF0F8\"}, \"line\": {\"color\": \"white\"}}, \"header\": {\"fill\": {\"color\": \"#C8D4E3\"}, \"line\": {\"color\": \"white\"}}, \"type\": \"table\"}]}, \"layout\": {\"annotationdefaults\": {\"arrowcolor\": \"#2a3f5f\", \"arrowhead\": 0, \"arrowwidth\": 1}, \"coloraxis\": {\"colorbar\": {\"outlinewidth\": 0, \"ticks\": \"\"}}, \"colorscale\": {\"diverging\": [[0, \"#8e0152\"], [0.1, \"#c51b7d\"], [0.2, \"#de77ae\"], [0.3, \"#f1b6da\"], [0.4, \"#fde0ef\"], [0.5, \"#f7f7f7\"], [0.6, \"#e6f5d0\"], [0.7, \"#b8e186\"], [0.8, \"#7fbc41\"], [0.9, \"#4d9221\"], [1, \"#276419\"]], \"sequential\": [[0.0, \"#0d0887\"], [0.1111111111111111, \"#46039f\"], [0.2222222222222222, \"#7201a8\"], [0.3333333333333333, \"#9c179e\"], [0.4444444444444444, \"#bd3786\"], [0.5555555555555556, \"#d8576b\"], [0.6666666666666666, \"#ed7953\"], [0.7777777777777778, \"#fb9f3a\"], [0.8888888888888888, \"#fdca26\"], [1.0, \"#f0f921\"]], \"sequentialminus\": [[0.0, \"#0d0887\"], [0.1111111111111111, \"#46039f\"], [0.2222222222222222, \"#7201a8\"], [0.3333333333333333, \"#9c179e\"], [0.4444444444444444, \"#bd3786\"], [0.5555555555555556, \"#d8576b\"], [0.6666666666666666, \"#ed7953\"], [0.7777777777777778, \"#fb9f3a\"], [0.8888888888888888, \"#fdca26\"], [1.0, \"#f0f921\"]]}, \"colorway\": [\"#636efa\", \"#EF553B\", \"#00cc96\", \"#ab63fa\", \"#FFA15A\", \"#19d3f3\", \"#FF6692\", \"#B6E880\", \"#FF97FF\", \"#FECB52\"], \"font\": {\"color\": \"#2a3f5f\"}, \"geo\": {\"bgcolor\": \"white\", \"lakecolor\": \"white\", \"landcolor\": \"#E5ECF6\", \"showlakes\": true, \"showland\": true, \"subunitcolor\": \"white\"}, \"hoverlabel\": {\"align\": \"left\"}, \"hovermode\": \"closest\", \"mapbox\": {\"style\": \"light\"}, \"paper_bgcolor\": \"white\", \"plot_bgcolor\": \"#E5ECF6\", \"polar\": {\"angularaxis\": {\"gridcolor\": \"white\", \"linecolor\": \"white\", \"ticks\": \"\"}, \"bgcolor\": \"#E5ECF6\", \"radialaxis\": {\"gridcolor\": \"white\", \"linecolor\": \"white\", \"ticks\": \"\"}}, \"scene\": {\"xaxis\": {\"backgroundcolor\": \"#E5ECF6\", \"gridcolor\": \"white\", \"gridwidth\": 2, \"linecolor\": \"white\", \"showbackground\": true, \"ticks\": \"\", \"zerolinecolor\": \"white\"}, \"yaxis\": {\"backgroundcolor\": \"#E5ECF6\", \"gridcolor\": \"white\", \"gridwidth\": 2, \"linecolor\": \"white\", \"showbackground\": true, \"ticks\": \"\", \"zerolinecolor\": \"white\"}, \"zaxis\": {\"backgroundcolor\": \"#E5ECF6\", \"gridcolor\": \"white\", \"gridwidth\": 2, \"linecolor\": \"white\", \"showbackground\": true, \"ticks\": \"\", \"zerolinecolor\": \"white\"}}, \"shapedefaults\": {\"line\": {\"color\": \"#2a3f5f\"}}, \"ternary\": {\"aaxis\": {\"gridcolor\": \"white\", \"linecolor\": \"white\", \"ticks\": \"\"}, \"baxis\": {\"gridcolor\": \"white\", \"linecolor\": \"white\", \"ticks\": \"\"}, \"bgcolor\": \"#E5ECF6\", \"caxis\": {\"gridcolor\": \"white\", \"linecolor\": \"white\", \"ticks\": \"\"}}, \"title\": {\"x\": 0.05}, \"xaxis\": {\"automargin\": true, \"gridcolor\": \"white\", \"linecolor\": \"white\", \"ticks\": \"\", \"title\": {\"standoff\": 15}, \"zerolinecolor\": \"white\", \"zerolinewidth\": 2}, \"yaxis\": {\"automargin\": true, \"gridcolor\": \"white\", \"linecolor\": \"white\", \"ticks\": \"\", \"title\": {\"standoff\": 15}, \"zerolinecolor\": \"white\", \"zerolinewidth\": 2}}}, \"title\": {\"text\": \"Histogram of Cumulative Trades by User\"}, \"xaxis\": {\"anchor\": \"y\", \"domain\": [0.0, 1.0], \"title\": {\"text\": \"Cumulative Number of Trades\"}}, \"xaxis2\": {\"anchor\": \"y2\", \"domain\": [0.0, 1.0], \"matches\": \"x\", \"showgrid\": true, \"showticklabels\": false}, \"yaxis\": {\"anchor\": \"x\", \"domain\": [0.0, 0.8316], \"title\": {\"text\": \"count\"}}, \"yaxis2\": {\"anchor\": \"x2\", \"domain\": [0.8416, 1.0], \"matches\": \"y2\", \"showgrid\": false, \"showline\": false, \"showticklabels\": false, \"ticks\": \"\"}},\n",
              "                        {\"responsive\": true}\n",
              "                    ).then(function(){\n",
              "                            \n",
              "var gd = document.getElementById('aa8b66e5-ccd3-461f-814d-df5ea0ff4d1b');\n",
              "var x = new MutationObserver(function (mutations, observer) {{\n",
              "        var display = window.getComputedStyle(gd).display;\n",
              "        if (!display || display === 'none') {{\n",
              "            console.log([gd, 'removed!']);\n",
              "            Plotly.purge(gd);\n",
              "            observer.disconnect();\n",
              "        }}\n",
              "}});\n",
              "\n",
              "// Listen for the removal of the full notebook cells\n",
              "var notebookContainer = gd.closest('#notebook-container');\n",
              "if (notebookContainer) {{\n",
              "    x.observe(notebookContainer, {childList: true});\n",
              "}}\n",
              "\n",
              "// Listen for the clearing of the current output cell\n",
              "var outputEl = gd.closest('.output');\n",
              "if (outputEl) {{\n",
              "    x.observe(outputEl, {childList: true});\n",
              "}}\n",
              "\n",
              "                        })\n",
              "                };\n",
              "                \n",
              "            </script>\n",
              "        </div>\n",
              "</body>\n",
              "</html>"
            ]
          },
          "metadata": {}
        }
      ]
    },
    {
      "cell_type": "code",
      "metadata": {
        "id": "xHzqGuieL73K"
      },
      "source": [
        "# Label data with grouping low/medium/high to enable joining back onto CSV for minters\n",
        "cut_labels_3 = ['Low', 'Medium', 'High']\n",
        "cut_bins = [0, 9, 40, 2000]\n",
        "trader_address_counts_df['cumulative_trade_groupings'] = pd.cut(trader_address_counts_df['Cumulative Number of Trades'], bins=cut_bins, labels=cut_labels_3)"
      ],
      "execution_count": 171,
      "outputs": []
    },
    {
      "cell_type": "code",
      "metadata": {
        "id": "EuSv_q6PMkss"
      },
      "source": [
        "trader_address_counts_df = trader_address_counts_df.reset_index().rename(columns={\"index\": \"To\"})"
      ],
      "execution_count": 172,
      "outputs": []
    },
    {
      "cell_type": "code",
      "metadata": {
        "colab": {
          "base_uri": "https://localhost:8080/",
          "height": 428
        },
        "id": "h08OqJZlMkeW",
        "outputId": "11dc8ea4-1bb6-4216-a3ff-eed997de682d"
      },
      "source": [
        "trader_addresses_grouped_df = pd.merge(trader_addresses_filtered_df,trader_address_counts_df,on='To',how='left')\n",
        "trader_addresses_grouped_df.head()"
      ],
      "execution_count": 173,
      "outputs": [
        {
          "output_type": "execute_result",
          "data": {
            "text/html": [
              "<div>\n",
              "<style scoped>\n",
              "    .dataframe tbody tr th:only-of-type {\n",
              "        vertical-align: middle;\n",
              "    }\n",
              "\n",
              "    .dataframe tbody tr th {\n",
              "        vertical-align: top;\n",
              "    }\n",
              "\n",
              "    .dataframe thead th {\n",
              "        text-align: right;\n",
              "    }\n",
              "</style>\n",
              "<table border=\"1\" class=\"dataframe\">\n",
              "  <thead>\n",
              "    <tr style=\"text-align: right;\">\n",
              "      <th></th>\n",
              "      <th>Txhash</th>\n",
              "      <th>UnixTimestamp</th>\n",
              "      <th>DateTime</th>\n",
              "      <th>From</th>\n",
              "      <th>To</th>\n",
              "      <th>Value</th>\n",
              "      <th>ContractAddress</th>\n",
              "      <th>TokenName</th>\n",
              "      <th>TokenSymbol</th>\n",
              "      <th>Type</th>\n",
              "      <th>tx_type_label</th>\n",
              "      <th>chain</th>\n",
              "      <th>Cumulative Number of Trades</th>\n",
              "      <th>cumulative_trade_groupings</th>\n",
              "    </tr>\n",
              "  </thead>\n",
              "  <tbody>\n",
              "    <tr>\n",
              "      <th>0</th>\n",
              "      <td>0xc9244e265b8ab7f6812ea48438bc53d2e136b0293e7e...</td>\n",
              "      <td>1623985412</td>\n",
              "      <td>2021-06-18 03:03:32</td>\n",
              "      <td>0x97693242c5703900fc7651c9164a334ee5ddfa2d</td>\n",
              "      <td>0x3839acf1ee7699d1f46b1be840d8ad8317fdf757</td>\n",
              "      <td>1.000000</td>\n",
              "      <td>0x51b0bcbeff204b39ce792d1e16767fe6f7631970</td>\n",
              "      <td>BTC Volatility Index</td>\n",
              "      <td>BTCV</td>\n",
              "      <td>OUT</td>\n",
              "      <td>Swap</td>\n",
              "      <td>ETHEREUM</td>\n",
              "      <td>1</td>\n",
              "      <td>Low</td>\n",
              "    </tr>\n",
              "    <tr>\n",
              "      <th>1</th>\n",
              "      <td>0xfeb1b87e396a186df9572400d9aeeb1b5b5f8cc014f4...</td>\n",
              "      <td>1624308530</td>\n",
              "      <td>2021-06-21 20:48:50</td>\n",
              "      <td>0x97693242c5703900fc7651c9164a334ee5ddfa2d</td>\n",
              "      <td>0x51e15c3f1ab9cf2d28eb8c232e209aa521b45715</td>\n",
              "      <td>885.900502</td>\n",
              "      <td>0xa0b86991c6218b36c1d19d4a2e9eb0ce3606eb48</td>\n",
              "      <td>USD Coin</td>\n",
              "      <td>USDC</td>\n",
              "      <td>OUT</td>\n",
              "      <td>Swap</td>\n",
              "      <td>ETHEREUM</td>\n",
              "      <td>2</td>\n",
              "      <td>Low</td>\n",
              "    </tr>\n",
              "    <tr>\n",
              "      <th>2</th>\n",
              "      <td>0xb696adc0562e8a233a0d87dd47b9bd2a37a9a43bd5d7...</td>\n",
              "      <td>1624457391</td>\n",
              "      <td>2021-06-23 14:09:51</td>\n",
              "      <td>0x97693242c5703900fc7651c9164a334ee5ddfa2d</td>\n",
              "      <td>0x81b15c11fd0c736399485307faecd13bdd58185d</td>\n",
              "      <td>0.221364</td>\n",
              "      <td>0x51b0bcbeff204b39ce792d1e16767fe6f7631970</td>\n",
              "      <td>BTC Volatility Index</td>\n",
              "      <td>BTCV</td>\n",
              "      <td>OUT</td>\n",
              "      <td>Swap</td>\n",
              "      <td>ETHEREUM</td>\n",
              "      <td>1</td>\n",
              "      <td>Low</td>\n",
              "    </tr>\n",
              "    <tr>\n",
              "      <th>3</th>\n",
              "      <td>0xf37a1270aca957a61ecdf86b881c1a0b12bc552a25cf...</td>\n",
              "      <td>1624641328</td>\n",
              "      <td>2021-06-25 17:15:28</td>\n",
              "      <td>0x97693242c5703900fc7651c9164a334ee5ddfa2d</td>\n",
              "      <td>0x92114563127c16d3d9d459cd1fda5d47110592ae</td>\n",
              "      <td>1.217470</td>\n",
              "      <td>0x51b0bcbeff204b39ce792d1e16767fe6f7631970</td>\n",
              "      <td>BTC Volatility Index</td>\n",
              "      <td>BTCV</td>\n",
              "      <td>OUT</td>\n",
              "      <td>Swap</td>\n",
              "      <td>ETHEREUM</td>\n",
              "      <td>1</td>\n",
              "      <td>Low</td>\n",
              "    </tr>\n",
              "    <tr>\n",
              "      <th>4</th>\n",
              "      <td>0x2b8bf79b533979cb2247854138d97895f8dcc6c1c0ee...</td>\n",
              "      <td>1624895500</td>\n",
              "      <td>2021-06-28 15:51:40</td>\n",
              "      <td>0x97693242c5703900fc7651c9164a334ee5ddfa2d</td>\n",
              "      <td>0x66bffe06feba47cd1c95fc2635933c1315c7d2f1</td>\n",
              "      <td>16.267542</td>\n",
              "      <td>0x51b0bcbeff204b39ce792d1e16767fe6f7631970</td>\n",
              "      <td>BTC Volatility Index</td>\n",
              "      <td>BTCV</td>\n",
              "      <td>OUT</td>\n",
              "      <td>Swap</td>\n",
              "      <td>ETHEREUM</td>\n",
              "      <td>50</td>\n",
              "      <td>High</td>\n",
              "    </tr>\n",
              "  </tbody>\n",
              "</table>\n",
              "</div>"
            ],
            "text/plain": [
              "                                              Txhash  ...  cumulative_trade_groupings\n",
              "0  0xc9244e265b8ab7f6812ea48438bc53d2e136b0293e7e...  ...                         Low\n",
              "1  0xfeb1b87e396a186df9572400d9aeeb1b5b5f8cc014f4...  ...                         Low\n",
              "2  0xb696adc0562e8a233a0d87dd47b9bd2a37a9a43bd5d7...  ...                         Low\n",
              "3  0xf37a1270aca957a61ecdf86b881c1a0b12bc552a25cf...  ...                         Low\n",
              "4  0x2b8bf79b533979cb2247854138d97895f8dcc6c1c0ee...  ...                        High\n",
              "\n",
              "[5 rows x 14 columns]"
            ]
          },
          "metadata": {},
          "execution_count": 173
        }
      ]
    },
    {
      "cell_type": "code",
      "metadata": {
        "colab": {
          "base_uri": "https://localhost:8080/",
          "height": 142
        },
        "id": "n3tCRpOpbRBC",
        "outputId": "12567a6d-6ee1-4f34-bf32-2f2867338135"
      },
      "source": [
        "trader_addresses_grouped_cumulative_trades_df = trader_addresses_grouped_df.groupby(by='cumulative_trade_groupings', as_index=False).agg({'To': pd.Series.nunique}).rename(columns={\"To\": \"Number of Users\"})\n",
        "trader_addresses_grouped_cumulative_trades_df.head()"
      ],
      "execution_count": 174,
      "outputs": [
        {
          "output_type": "execute_result",
          "data": {
            "text/html": [
              "<div>\n",
              "<style scoped>\n",
              "    .dataframe tbody tr th:only-of-type {\n",
              "        vertical-align: middle;\n",
              "    }\n",
              "\n",
              "    .dataframe tbody tr th {\n",
              "        vertical-align: top;\n",
              "    }\n",
              "\n",
              "    .dataframe thead th {\n",
              "        text-align: right;\n",
              "    }\n",
              "</style>\n",
              "<table border=\"1\" class=\"dataframe\">\n",
              "  <thead>\n",
              "    <tr style=\"text-align: right;\">\n",
              "      <th></th>\n",
              "      <th>cumulative_trade_groupings</th>\n",
              "      <th>Number of Users</th>\n",
              "    </tr>\n",
              "  </thead>\n",
              "  <tbody>\n",
              "    <tr>\n",
              "      <th>0</th>\n",
              "      <td>Low</td>\n",
              "      <td>1412</td>\n",
              "    </tr>\n",
              "    <tr>\n",
              "      <th>1</th>\n",
              "      <td>Medium</td>\n",
              "      <td>16</td>\n",
              "    </tr>\n",
              "    <tr>\n",
              "      <th>2</th>\n",
              "      <td>High</td>\n",
              "      <td>11</td>\n",
              "    </tr>\n",
              "  </tbody>\n",
              "</table>\n",
              "</div>"
            ],
            "text/plain": [
              "  cumulative_trade_groupings  Number of Users\n",
              "0                        Low             1412\n",
              "1                     Medium               16\n",
              "2                       High               11"
            ]
          },
          "metadata": {},
          "execution_count": 174
        }
      ]
    },
    {
      "cell_type": "markdown",
      "metadata": {
        "id": "9lLbYbd1L06G"
      },
      "source": [
        "## User Bucketing - Total Value Traded"
      ]
    },
    {
      "cell_type": "code",
      "metadata": {
        "id": "Vls5zdQ7OFz2"
      },
      "source": [
        "# Standardise the trade values into USDC - there are some trades that will be USDC and some that will be volatility tokens\n",
        "# The ideal scenario would be to have an up to date table with price history for the volatility tokens however in this case we will use the latest static values from coingecko\n",
        "# BTCV - $97.44, IBTCV - $175.72, ETHV - $119.94, IETHV - $125.46\n",
        "def calculate_usd(row):\n",
        "    if row['TokenSymbol'] == 'BTCV':\n",
        "        return row['Value'] * 97.44\n",
        "    elif row['TokenSymbol'] =='iBTCV':\n",
        "        return row['Value'] * 175.72\n",
        "    elif row['TokenSymbol'] =='ETHV':\n",
        "        return row['Value'] * 119.94\n",
        "    elif row['TokenSymbol'] =='iETHV':\n",
        "        return row['Value'] * 125.46\n",
        "    else:\n",
        "        return row['Value']\n",
        "\n",
        "trader_addresses_grouped_df['usd_value'] = trader_addresses_grouped_df.apply(calculate_usd, axis=1)"
      ],
      "execution_count": 175,
      "outputs": []
    },
    {
      "cell_type": "code",
      "metadata": {
        "id": "SxHdgFqhSMPT"
      },
      "source": [
        "trader_addresses_amounts_df = pd.Series(trader_addresses_grouped_df.groupby(['To'])['usd_value'].sum(), name='Total Value Traded ($)').to_frame()"
      ],
      "execution_count": 176,
      "outputs": []
    },
    {
      "cell_type": "markdown",
      "metadata": {
        "id": "Rr7ZHe7JUbnR"
      },
      "source": [
        "### Histogram of Total Value Traded ($)\n",
        "\n",
        "The below is a histogram of Total Value Traded ($).  \n",
        "\n",
        "The x-axis shows the groupings (bins) of the histogram for the Total Value Traded per user. The y-axis shows the number of users that fall into that grouping.  \n",
        "\n",
        "Example - In 500-1500 dollar grouping, there are 91 users which means that 91 users that traded in any of the Exchange pools traded a value between 500-1500 dollars  "
      ]
    },
    {
      "cell_type": "code",
      "metadata": {
        "colab": {
          "base_uri": "https://localhost:8080/",
          "height": 542
        },
        "id": "2-8sX6K7Sek1",
        "outputId": "bb866184-5b74-4dbc-bfb9-095bce36b109"
      },
      "source": [
        "fig = px.histogram(\n",
        "    trader_addresses_amounts_df, \n",
        "    x='Total Value Traded ($)', \n",
        "    title='Histogram of Total Value Traded ($)',\n",
        "    marginal=\"rug\")\n",
        "fig.show()"
      ],
      "execution_count": 177,
      "outputs": [
        {
          "output_type": "display_data",
          "data": {
            "text/html": [
              "<html>\n",
              "<head><meta charset=\"utf-8\" /></head>\n",
              "<body>\n",
              "    <div>\n",
              "            <script src=\"https://cdnjs.cloudflare.com/ajax/libs/mathjax/2.7.5/MathJax.js?config=TeX-AMS-MML_SVG\"></script><script type=\"text/javascript\">if (window.MathJax) {MathJax.Hub.Config({SVG: {font: \"STIX-Web\"}});}</script>\n",
              "                <script type=\"text/javascript\">window.PlotlyConfig = {MathJaxConfig: 'local'};</script>\n",
              "        <script src=\"https://cdn.plot.ly/plotly-latest.min.js\"></script>    \n",
              "            <div id=\"bf3f0704-519e-4f17-a50a-9f6b84c93881\" class=\"plotly-graph-div\" style=\"height:525px; width:100%;\"></div>\n",
              "            <script type=\"text/javascript\">\n",
              "                \n",
              "                    window.PLOTLYENV=window.PLOTLYENV || {};\n",
              "                    \n",
              "                if (document.getElementById(\"bf3f0704-519e-4f17-a50a-9f6b84c93881\")) {\n",
              "                    Plotly.newPlot(\n",
              "                        'bf3f0704-519e-4f17-a50a-9f6b84c93881',\n",
              "                        [{\"alignmentgroup\": \"True\", \"bingroup\": \"x\", \"hoverlabel\": {\"namelength\": 0}, \"hovertemplate\": \"Total Value Traded ($)=%{x}<br>count=%{y}\", \"legendgroup\": \"\", \"marker\": {\"color\": \"#636efa\"}, \"name\": \"\", \"offsetgroup\": \"\", \"orientation\": \"v\", \"showlegend\": false, \"type\": \"histogram\", \"x\": [71.75110538461615, 17856.408874709632, 5.54013274401957, 45.327746, 24.334168, 71.139236, 9.640977, 295.6649481067094, 1090.7484798046498, 226.63748726195047, 21.6, 24.082672000000002, 16.554802846136823, 22.224, 1.1251132010898768, 1169.630145, 2.0165948172087536, 374.20443876882086, 21.6, 45.965377405442524, 26.265086, 107.63143841039236, 21.6, 21.6, 0.37709173400905055, 1.0545940567947758, 1.797681507487366, 46.790867000000006, 25.331084, 24.283690999999997, 0.7834022958304188, 18.934905499417578, 24.201949, 121.71084853976363, 213.16331002141166, 24.556618999999998, 29.967479, 21.6, 21.327215020720143, 18.847153, 21.591520277670995, 24.463096999999998, 25.692253, 85.39577, 191.14567603527308, 9.570635, 46.90690762500408, 24.570387, 17.46456, 0.375414, 61.94990916874029, 0.11001927548852274, 2923.2, 11.212421, 234.22616418023466, 481.9433910455698, 19.979627, 21.6, 1.7133783020104416, 32.547095, 24.584166, 5.027296761133551, 10.901186548293136, 599.7, 43.2, 37.078182, 5.476859276730857, 52.166977, 21.6, 245.39999999999998, 0.8418860147133107, 819.401088, 21.6, 240.2833664342017, 24.525675, 22.2897, 24.565443, 24.486324, 88.2175061944582, 24.069276000000002, 37.114038, 2.6894704411678196, 54.966078, 69.96110847404115, 9.735208, 9.52075, 1869.5708921346095, 32.934907, 99.60714095078892, 21.965594, 24.522193, 24.537106, 0.0025024061029390076, 22.808316524023358, 43.2, 134.459049, 1170.000494, 0.12598618466924313, 21.6, 9.489288, 6.224650612509879, 12.768635635843133, 24.434218, 12.01008, 86.85531, 21.6, 31.47969520943442, 12.090072, 21.6, 499.878058, 21.6, 43.2, 51.678944373035534, 711.6782342627532, 21.6, 533.172406, 24.572919, 23.967067, 106.54250870984828, 9.381415, 21.6, 21.6, 21.6, 934.6804431564808, 28.954833, 2740.770508377898, 24.406834, 1590.755183, 2.6177853216645333, 43.735336, 24.491233, 21.6, 99.31699273936303, 134.97, 24.545392999999997, 25.378610000000002, 0.9485294424644106, 48.890421, 21.6, 24.243783999999998, 187.90363539836503, 1426.464771, 10.557132798071244, 1.432411667571365, 96.85986, 21.865497, 12.150135, 12.333554, 24.460572, 21.6, 409.681169, 21.6, 264.643123, 21.6, 24.487957, 0.11777831466748809, 22.3886, 24.446896000000002, 21.6, 1170.741185, 21.6, 34.497256, 226.68135579824266, 12.411513184198736, 105.82089885300744, 20.42241, 93.84293739589802, 222.510082, 25.622154000000002, 0.4228009961415661, 52.053759, 21.6, 543.572369, 416.545311, 1171.2847430000002, 108.69487699915486, 385.963721, 21.6, 2.2471572109929916, 12.093356, 21.6, 43.2, 48.07036300000001, 22.068336, 1.947525, 21.6, 8095.259331892821, 21.6, 24.499546000000002, 1171.204828, 12086.279729195623, 24.413558000000002, 21.6, 24.382829, 125.154, 11.32731613323597, 13.42239, 60.16981, 20.782196, 0.6416656001629947, 21.6, 526.8109055432466, 36.04491551773339, 1170.063631, 24.541638, 21.6, 0.9367924435865371, 65156.674694999994, 21.6, 0.617193155205136, 491.0910699931345, 0.21233801896109913, 21.6, 21.6, 56.04784050627874, 1.186136, 46.830889, 21.6, 259.4245418833786, 74.19076559213615, 0.18027377207836717, 0.849864, 24.507727000000003, 12.037769, 899.938342, 22.302405999999998, 11.994, 0.01815995767230414, 19.113694000000002, 109.89102516034774, 677.2322348167846, 24.306319000000002, 24.676348, 1169.313615, 19.237811, 1192.635458537793, 97.486695, 1.618298575299141, 24.485689999999998, 1799.3424478205518, 261.366967, 24.433704, 65.15582399607987, 4.112996, 2.0341581038986027, 663.8146185532214, 3.845405, 43.2, 24.464774, 10.778678, 43.2, 24.277384, 3.669493, 25.270899, 218.75646513621516, 24.324338, 24.605347000000002, 20.851206, 24.216173, 25.597503, 5.702586575734837, 43.2, 19.033839, 1.3772942381335707, 124.614539, 11.204191, 293.42702799999995, 109.89474100000001, 37.29612921981048, 6.328121495567725, 4.080211, 81.98477181043258, 95.288304, 186.40979668515357, 543.750993, 21.6, 35.3750765305237, 429.811233512365, 48.93983, 1.2559627354295915, 21.6, 273.15999999999997, 288.9400866542691, 25.354286000000002, 3.254142901251762, 66.156073, 400.6474376106185, 25.524305, 411.8688984327474, 8.350365372404314, 21.6, 107.514934, 43.2, 21.6, 24.513340999999997, 310.778911, 240.4371970326311, 34.412259, 21.6, 43435.799999999996, 50.48771035090312, 24.197233, 0.011824525332391705, 21.6, 244.058963, 1.100232135128046, 72857.98572689074, 48.845595, 13.219809, 245.39999999999998, 43.2, 12.135949787955704, 49.510965999999996, 24.58097906719351, 3.133700666827242, 21.6, 97.44, 29.799377, 1169.693242, 21.6, 107.69782684827646, 76.7616, 24.690964, 21.6, 0.5452572387765413, 95.86512245310212, 20.662824, 19.072847, 61.8849592874994, 21.6, 2204.84555563895, 108.120987, 2.6677032142143045, 34.836083, 22.705325231060534, 1.181254039737352, 1040.4033208117864, 24.174383, 36641.548049999954, 1151.1338150000001, 21.6, 22.3226, 145.38742884078835, 20.687836, 37.046773, 197.989349, 314.7953742474665, 518.56, 1.308770410238372, 24.360414, 21.6, 33.88418766915573, 2.2025582379372595, 21.6, 0.11896680388219323, 21.6, 229.5370339528631, 22.3556, 65.0910135597153, 12.822791089002722, 162.37966799999998, 194.88, 21.6, 144.579453, 25.679848, 22.589404195641023, 21.6, 25.141554, 22.1587, 21.6, 142.234495, 1042.7055203427503, 969.6283942441315, 24.280766999999997, 452.92195146766466, 22.4217, 22.5215, 24.87006026015343, 11.38065, 24.189244, 24.083942, 21.6, 0.446444, 22.1913, 21.6, 22.1261, 51.599471, 21.6, 21.6, 8.605071, 24.427239, 627.4364129132365, 250.73033820390307, 0.657794, 43.2, 119.94, 29.67139, 21.6, 24.704058, 1.2808443775040006, 43.75955024180911, 21.6, 0.910433, 21.6, 45.54078588005616, 9.758001, 11.484942861289637, 43.2, 36.851558, 58.393935971639394, 12.289452296894225, 43.2, 107.44535301070579, 97.23599300000001, 1.430688667968933, 73.03307760041577, 0.3133295945376029, 388.319738, 4.114677, 21.6, 599.7, 37.096007, 24.468352, 10.95506561651439, 21.6, 104.2280206844566, 6.118277570597366, 21.6, 116.47135, 35.27417016537712, 52.394525, 21.6, 24.236272, 10.696843, 216.47950716108795, 24.331719, 21.6156, 0.23819, 345.913552, 43.2, 1098.283195, 24.447417, 36.903452, 23.896154, 11.398371, 17.126656, 57.085122, 31.022902000000002, 21.6, 74.04350199999999, 0.8962309445137636, 64.56860928709172, 24.263829, 2474.4673629999998, 24.583809000000002, 70.4270669150014, 0.05505688585763476, 43.2, 107.78547499999999, 49.948739, 21.6, 78.292218, 110.659363, 52.979822999999996, 143.476776, 461.833526634004, 24.398814, 118.354757, 1.0873964965875165, 266.5347477991872, 24.701542, 0.208005663030112, 24.567162000000003, 14.928628950639178, 22.61443, 12.17873, 269.658537, 1.4071508627160187, 242.911852, 43.2, 1171.1414690000001, 43.2, 15.432027, 103.88634, 393.3809087985454, 0.7413962112089744, 107.9572551012997, 24.553880999999997, 29.752498, 1171.364669, 24.055891000000003, 119.94, 0.676732, 1.498423989850583, 1169.503512, 24.109499, 631.670768, 24.530601, 23.810308, 24.358955, 21.6, 51.74354684219453, 1593.317623, 1.4950796328283953, 24.188494, 21.6, 32.70940858043105, 0.010195015954719559, 1.431465066828046, 24.372591, 43.2, 21.6, 21.6, 24.438358, 9.685819, 20.70411720682931, 106.386459, 127.89159986856109, 14.417650555322608, 24.148918, 5.476840668166435, 24.527147, 25.294764999999998, 25.625837, 10.438541, 43.2, 24.695262, 43.2, 9.826402, 29.741489, 883.44, 43.2, 11.998769718302128, 12.651831, 9.677097921168139, 48.603826999999995, 16.62761491288197, 12.041813000000001, 1.671507832392399, 20.912906, 22.5549, 21.6, 8386.537703784468, 21.6, 4963.445194, 7638.221888, 21.750289000000002, 36.833813, 0.10824945921060211, 119.94, 1.0863794838009708, 29.16780570039348, 14.682288, 8.599641052441108, 3.7056014186109656, 24.310902, 420.6180040880593, 1.919110869851072, 705.5288140198683, 0.22412803248120483, 21.6, 23.41706670731393, 0.102493, 131.609782, 0.010601476276821153, 2484.72, 24.374633, 0.1309283560799922, 134.7518889961131, 48.773101999999994, 34.396304, 13.100405, 86942.08464562269, 10.130097, 14.004952, 94.428372, 167.19134200000002, 9.664326, 0.26329754251882637, 43.2, 21.6, 2276.906052562993, 52.808604, 1331.3428347474155, 211.46212303645171, 129.4130104415376, 21.6, 568.7627933618952, 239.88, 11.666883, 49.17160162602655, 21.340479, 25.02832004114517, 109.14061979931398, 53.025447, 21.6, 10.628406032972016, 1.4355680289205999, 485.373896, 9.477083, 71.966787, 21.6, 50.351371, 25.318969, 0.10824892496911023, 24.465854, 21.6, 21.6, 194.88, 52.40102198851317, 139.63047920889863, 42.711617000000004, 488.52766836689506, 24.523645000000002, 1356.9886030290882, 24.46114, 1624.289926, 0.985361, 80.43747794155618, 58.52895, 21.6, 89.916519, 194.92551130619577, 25.942541000000002, 12.02661, 11.611845, 108.21182027014433, 47.951524000000006, 1.4325610044296968, 283.680411, 100.808649, 24.469239, 25.548841, 119.94, 18055.03352861152, 21.6, 1.4283939920996203, 24.250373, 93.044257, 43.2, 0.015093106994826895, 372.37213308996706, 213.12568757133204, 24.318118, 0.292448, 21.365465, 1227.0, 72.07384624151572, 24.378694, 44.90512305719864, 89.01881896658615, 43.2, 726.181603, 589.3386660782915, 93.61399279155582, 45.62573351687541, 16.26725407518944, 24.399994, 21.6, 24.441735, 1223.0014270951883, 22.623933, 21.6, 21.6, 1.0866509436211527, 24.365845, 20.606428, 24.072307000000002, 43.2, 24.575280999999997, 21.6, 24.365088, 446.6996791054673, 3021.4992121681416, 1169.819917, 106.65327199999999, 10.709459, 99.29488, 1169.260536, 3.6532563188709015, 21.859493999999998, 0.11830263331247376, 28996.445245000003, 17.39805, 24.428002, 24.574595, 24.433233, 25.121122, 127.15166656133388, 43.2, 1.0887004284015018, 21.6, 24.635631, 1171.060673, 21.6, 1.5597943500261782, 2.8103608166441183, 33.358962229073896, 21.6, 2.311376466713817, 110.43017266252508, 1169.5668249999999, 95.06598699999999, 21.6, 25.798157, 0.5663498946942505, 43.2, 25.566938, 43.2, 0.9621843253547487, 49.30026758861477, 1.432012997102867, 2.01706892533685, 45.037820999999994, 34.405699, 11.270117, 0.639473, 24.573435, 21.6, 9.471525, 24.290951, 21.6, 30.09256, 7.277361888981405, 1.0877419757179538, 54.736036093737255, 21.6, 24.93963, 183.49066986516272, 24.717412, 1.6297641448770273, 60.653645999999995, 21.6, 4.795170444581432, 2751.7277726709344, 825.7300694692178, 24.702357, 21.6, 21.56970816, 43.2, 21.6, 24.560789, 22.542073000000002, 359.1474933297301, 4.787344790821956, 51.293435, 118.744641, 24.590288, 21.6, 105.282298, 1144.8162585844264, 6.350204276399875, 24.310778, 11.887782, 52.867642000000004, 0.00918888577573774, 24.400568, 2963.956088000001, 518.694729, 200.61144718503752, 108.94255141235698, 3687.5706499999997, 25.547168, 21.6, 21.6, 1.0863794838009708, 21.6, 17.477118618836467, 21.6, 567.9888012358132, 2.252911269340192, 119.94, 53.650774999999996, 24.420003, 21.6, 130.06403453298012, 21.6, 21.6, 286.4666702385741, 24.698507157193042, 13.283975, 22.5884, 125.24180967800436, 21.6, 6.136837144802588, 1.1024202722529517, 13.432264, 22.4549, 21.6, 915.9824165355724, 24.148321, 24.533904, 1.4144497227793205, 21.6, 21.6, 1.1474247800123132, 21.6, 24.989226914346958, 49.495326000000006, 43.2, 2.3645167954156174, 97.527293, 14.302064, 1.2206854026920566, 24.386238, 21.6, 158.031777, 25.394223, 21.6, 13.67925, 21.6, 24.455481, 45.93032873218535, 24.303538000000003, 43.2, 24.314811, 21.6, 21.6, 7941.232533, 24.542864, 0.8815181749247167, 22.0612, 93.833697, 1241.3863735830143, 98.04179239289356, 21.6, 11.561323790775548, 34.09129360930977, 22.2568, 24.399895, 27.843966726073837, 2.1640486387123024, 1.3809975333038484, 37.028692, 118.63024669272417, 23.031275, 0.8260335262744782, 12.199721, 25.559447, 21.6, 219.24, 106.04796251904726, 24.269723, 123.85434526924996, 123.35333773348937, 21.6, 21.6, 127.608, 20.61273, 46.977809, 1170.661788, 97.44, 56.32903413602688, 24.603927, 22.4882, 24.263418, 21.6, 24.134645, 62.809620102670124, 618.2113039398921, 52.280565, 52.916038, 261.61911399999997, 9.597781, 1169.440206, 1947.085992, 22.0288, 1.6634520000000002, 2453.054748, 1.0869151272742406, 0.24720708886665832, 43.2, 919.396483, 107.0446710369105, 12.205709802847796, 24.440932, 1.4965015659543566, 24.243146000000003, 24.188449, 9.84333, 43.2, 4.562577195480956, 24.600073000000002, 21.6, 50.162994999999995, 584.522847, 24.270165, 113.56856179478055, 21.6, 55.612300601201675, 21.6, 24.586699, 9.936516999999998, 21.6, 24.292265, 20.71126, 9.570618, 248.4720832783755, 21.777170774600197, 25.644132, 24.601132, 55.199187, 43.2, 1.3275536294223678, 1169.937133, 34.428348, 14.083328, 0.4662743004698046, 21.6, 24.777954, 884.4040239999999, 24.401008, 224.572334, 24.706823999999997, 24.405941, 43.2, 24.578711000000002, 43.2, 1.3763613309772826, 57.29029406134113, 10.936466977261533, 21.6, 21.6, 1.1011687175890381, 11.66409, 24.55726, 8.584649, 24.766768, 20.316482, 136.1768362014167, 257.720619, 24.226085, 21.6, 24.469355, 80.35510599198719, 21.6, 195.309742, 0.9501583972189207, 3.2469704944904074, 19.634604, 24.385883, 119.1538716376763, 21.6, 19.488, 21.6, 2.150422652655698, 106.40241398346683, 20.738936, 6732.503371, 527.16, 24.293236, 22.949566, 24.501666, 5.035895760628863, 58.97001959761933, 32.620669, 1.6147356589208413, 1.4324863321084096, 25.536568000000003, 24.07608, 21.6, 21.6, 1.092454371306417, 20.797463, 1139.6891555044233, 21.390179, 75.02898727345347, 1.4315396632473472, 43.2, 24.515386, 21.6, 24.664502, 24.51916, 0.9653737001590375, 75.9648008225769, 112.87992, 118.87679999999999, 466.977292, 21.6, 24.347286, 199.32331041290024, 7.951597125946175, 189.19000377122313, 36.816199, 53.491828000000005, 4.80547634462978, 1568.101953687037, 23.346176, 194.88, 24.198016761747798, 105.01265370000174, 24.337407, 1615.8080772480648, 21.6, 118.239598, 24.335079, 20.276599, 24.341261000000003, 245.943581, 23.391262, 21.6, 21.6, 2068.653649706309, 43.2, 5.8755710288270695, 21.6, 22.339992000000002, 21.6, 21.6, 11.122724365415042, 106.75984920772373, 21.30121842876183, 43.2, 25.470888000000002, 21.6, 24.280165, 543.26322, 20.707978, 31.1844, 2.565032453004312, 21.6, 24.229653, 959.52, 0.9170927923765305, 2.9818011845050103, 34.411527, 21.6, 24.21546, 121.2053550935779, 24.474258, 21.6, 43.2, 23.770494999999997, 0.6964775855444277, 21.6, 155.71801381128404, 17.587254385301538, 24.202703, 74.104042, 4.393680402443831, 43.2, 97.453633, 8.476689933705279, 43.2, 7.828802007556407, 176.6731161422304, 22.053097, 1121.524566, 43.2, 20.664217, 21.6, 34.481006, 0.16166416378203352, 43.2, 76.98597667339857, 1170.9807850000002, 430.6044375940826, 22679.99607513189, 0.008907844076733416, 24.270071, 0.430708, 13.701593, 21.6, 11.986991999999999, 1.9808670632107508, 0.740888, 110.915693, 599.7, 1169.873779, 43.2, 12.201585, 21.30108148311563, 312.326699, 15.5922, 24.414279, 24.223247999999998, 21.6, 19.434688, 14.370518, 0.1258996066035225, 45.091401, 3.964299, 25.306203, 599.7, 53.263011, 0.0011581042911999718, 0.1273864467721689, 31.30022, 24.210235, 24.121203, 21.6, 21.6, 0.01486816908883158, 13.817223, 51.838637, 41.350868, 107.47776268873886, 21.6, 1388.18714, 8.484772288263272, 0.424631378945246, 18.941527999999998, 21.6, 43.2, 21.6, 24.477998, 21.6, 24.308297, 24.154795, 17.431257, 22.6219, 10.051406, 4.093952, 34.432641000000004, 1.6863182545690016, 0.06494993186761462, 55.87233, 2.151867799979759, 955.8560138080985, 103.8164133101892, 43.2, 8.036327, 21.439090999999998, 37.060183, 24.742759, 21.566984, 21.6, 21.6, 4.388981003396906, 101.95693399817708, 24.326101, 21.6, 58.93372459926448, 0.13192, 525.8011853992526, 36.885664, 139.773019, 0.16444050076598135, 43.2, 0.140596, 22.932608, 21.6, 54.850077, 96.43481174477809, 1.0225109229449207, 335.2671296801425, 24.496302, 24.25665, 97.248493, 294.448929274621, 34.464785, 1.624478855143125, 1.438596436122068, 11.362987, 102.15441206448568, 2213.8522902857976, 24.541963, 23.832618, 817.182, 21.6, 24.454636, 1169.7007640000002, 24.321061, 24.425165, 23.065324536489662, 21.6, 45.178259464308226, 24.28099, 21.6, 12.089579, 0.055678, 24.345332, 8.386827, 34.405331000000004, 107.759118, 1021.7782670789456, 21.6, 21.6, 18665.468293371585, 10827.169937457638, 24.419581, 0.1166663520076886, 226.9062539033589, 24.529119, 21.6, 108.006867, 11.894212, 24.297229, 24.48208, 21.6, 24.547817000000002, 53.131692, 21.6, 97.010773, 53.023801, 3.709185, 47.061714, 1.2934295425145783, 21.6, 5.50068, 24.411984, 1.372486, 58.519180000000006, 43.2, 43.2, 21.6, 9.61383484530971, 1.1435877608357563, 21.6, 19.64408145740495, 113.961308, 2962.7930273964357, 21.6, 24.588614, 24.509569, 2.965207050494706, 25.707205848129597, 11.123078, 21.6, 20.024993, 21.300939111287946, 55.316297999999996, 24.297229, 179.826596, 1.5271379691249778, 4.104672797232928, 22.824494749190265, 21.6, 24.372733, 2.5514399800057257, 204.624, 24.769354999999997, 63.81950751364742, 1055.988495, 3795.901406713593, 169.91305870414868, 24.17496, 24.351492999999998, 37.7168065556599, 0.852667, 21.6, 272.83200031730837, 43.2, 0.02203722913617735, 19.224225, 45.252649813861545, 53.323717, 57.359428, 21.732145813958972, 541.661893, 11.543684, 106.63977401509163, 10473.262372730562, 16126.788351, 9047.610851348569, 7.045597222392029, 21.6, 0.8768442785299028, 0.778694, 3.377123994814087, 36.869316, 24.535419, 1.4107116345327646, 23.951521, 0.2123589980946349, 1.014276, 1169.376907, 21.6, 16223.174728031323, 21.6, 4.592364662879845, 0.9572585490651508, 21.6, 5038.32734283566, 21.990349, 21.30094545611238, 21.6, 21.6, 1170.82104, 12.036888000000001, 23.080932151092355, 43.2, 24.209021999999997, 21.6, 130.062, 24.450212999999998, 730.8, 39.323718, 21.6, 21.6, 24.364219, 183306.23060000007, 34.448816, 5397.3, 10.280144829189823, 21.6, 199.5501839841266, 22.930892, 1060.4639162803119, 36.999671, 24.25651, 24.304529, 21.6, 21.6, 21.6, 24.495818, 15806.852370461449, 110.74575803502788, 34.513422, 21.6, 43.2, 43.2, 22.0936, 11.417031347054255, 21.6, 502.9479103078953, 24.600919, 24.283642999999998, 21.6, 21.6, 107.82082021042913, 25.585195, 59.255694, 21.6, 130.062, 103.6404, 912.849164, 20.624394849153596, 43.2, 47.223655, 19.528444, 0.0008597270537433438, 22465.937266888708, 974.4, 20.800813, 101.217029, 1391.178944, 43.2, 1.1501475213559853, 64.24785343147295, 1170.9009070000002, 25.60982, 43.2, 52.638354, 1.0621205185530873, 1967.034897, 24.393158999999997, 308.127428, 58.29231, 322.72613900000005, 11.241673, 4.770072, 42.66252155170662, 10.344911, 21.6, 357.7787521779716, 2108.1761615404694, 43.2, 24.726599999999998, 43.2, 21.6, 0.10616113939981334, 21.6, 107.35531399999999, 511.92294464273584, 4.714767595716932, 6005.129323760394, 21.6, 110.71780960756963, 21.6, 9.729298, 21.202156953054093, 24.352204, 24.523332, 22.6156, 0.08975408162953727, 24.457956000000003, 21.6, 43.2, 1.5829033475558851, 238.061377, 9574.655640142983, 21.6, 55.082446999999995, 2.891905, 26.68903158712807, 24.420522, 79.535009, 48.6105613559123, 2.20915, 383.05648193305024, 24.392311, 1169.756576, 52.106795420150945, 212.62846907311956, 0.600893, 24.09608, 182.67425532629298, 0.31958, 106.486862, 3.812168060746866, 102.049972, 11308.60040551749, 33.36149934783863, 1.1994, 43.2, 21.6, 24.340263999999998, 4.970053, 21.6, 21.6, 12.100796, 24.45156, 53.207882999999995, 154.889461, 25.483113, 123.795626, 25.258827, 8.632809560914142, 2.22633359471699, 49.386389, 95.26803358537673, 0.93590686258583, 44.386390000000006, 785.445152, 13.610042, 430.401428, 26.409182600490794, 24.33791, 2.356741, 21.6, 149.705458, 736.2, 627.3, 350.66069999999996, 25.306863, 106.35591521665809, 24.184241, 247.005586], \"xaxis\": \"x\", \"yaxis\": \"y\"}, {\"alignmentgroup\": \"True\", \"boxpoints\": \"all\", \"fillcolor\": \"rgba(255,255,255,0)\", \"hoverlabel\": {\"namelength\": 0}, \"hoveron\": \"points\", \"hovertemplate\": \"Total Value Traded ($)=%{x}\", \"jitter\": 0, \"legendgroup\": \"\", \"line\": {\"color\": \"rgba(255,255,255,0)\"}, \"marker\": {\"color\": \"#636efa\", \"symbol\": \"line-ns-open\"}, \"name\": \"\", \"offsetgroup\": \"\", \"showlegend\": false, \"type\": \"box\", \"x\": [71.75110538461615, 17856.408874709632, 5.54013274401957, 45.327746, 24.334168, 71.139236, 9.640977, 295.6649481067094, 1090.7484798046498, 226.63748726195047, 21.6, 24.082672000000002, 16.554802846136823, 22.224, 1.1251132010898768, 1169.630145, 2.0165948172087536, 374.20443876882086, 21.6, 45.965377405442524, 26.265086, 107.63143841039236, 21.6, 21.6, 0.37709173400905055, 1.0545940567947758, 1.797681507487366, 46.790867000000006, 25.331084, 24.283690999999997, 0.7834022958304188, 18.934905499417578, 24.201949, 121.71084853976363, 213.16331002141166, 24.556618999999998, 29.967479, 21.6, 21.327215020720143, 18.847153, 21.591520277670995, 24.463096999999998, 25.692253, 85.39577, 191.14567603527308, 9.570635, 46.90690762500408, 24.570387, 17.46456, 0.375414, 61.94990916874029, 0.11001927548852274, 2923.2, 11.212421, 234.22616418023466, 481.9433910455698, 19.979627, 21.6, 1.7133783020104416, 32.547095, 24.584166, 5.027296761133551, 10.901186548293136, 599.7, 43.2, 37.078182, 5.476859276730857, 52.166977, 21.6, 245.39999999999998, 0.8418860147133107, 819.401088, 21.6, 240.2833664342017, 24.525675, 22.2897, 24.565443, 24.486324, 88.2175061944582, 24.069276000000002, 37.114038, 2.6894704411678196, 54.966078, 69.96110847404115, 9.735208, 9.52075, 1869.5708921346095, 32.934907, 99.60714095078892, 21.965594, 24.522193, 24.537106, 0.0025024061029390076, 22.808316524023358, 43.2, 134.459049, 1170.000494, 0.12598618466924313, 21.6, 9.489288, 6.224650612509879, 12.768635635843133, 24.434218, 12.01008, 86.85531, 21.6, 31.47969520943442, 12.090072, 21.6, 499.878058, 21.6, 43.2, 51.678944373035534, 711.6782342627532, 21.6, 533.172406, 24.572919, 23.967067, 106.54250870984828, 9.381415, 21.6, 21.6, 21.6, 934.6804431564808, 28.954833, 2740.770508377898, 24.406834, 1590.755183, 2.6177853216645333, 43.735336, 24.491233, 21.6, 99.31699273936303, 134.97, 24.545392999999997, 25.378610000000002, 0.9485294424644106, 48.890421, 21.6, 24.243783999999998, 187.90363539836503, 1426.464771, 10.557132798071244, 1.432411667571365, 96.85986, 21.865497, 12.150135, 12.333554, 24.460572, 21.6, 409.681169, 21.6, 264.643123, 21.6, 24.487957, 0.11777831466748809, 22.3886, 24.446896000000002, 21.6, 1170.741185, 21.6, 34.497256, 226.68135579824266, 12.411513184198736, 105.82089885300744, 20.42241, 93.84293739589802, 222.510082, 25.622154000000002, 0.4228009961415661, 52.053759, 21.6, 543.572369, 416.545311, 1171.2847430000002, 108.69487699915486, 385.963721, 21.6, 2.2471572109929916, 12.093356, 21.6, 43.2, 48.07036300000001, 22.068336, 1.947525, 21.6, 8095.259331892821, 21.6, 24.499546000000002, 1171.204828, 12086.279729195623, 24.413558000000002, 21.6, 24.382829, 125.154, 11.32731613323597, 13.42239, 60.16981, 20.782196, 0.6416656001629947, 21.6, 526.8109055432466, 36.04491551773339, 1170.063631, 24.541638, 21.6, 0.9367924435865371, 65156.674694999994, 21.6, 0.617193155205136, 491.0910699931345, 0.21233801896109913, 21.6, 21.6, 56.04784050627874, 1.186136, 46.830889, 21.6, 259.4245418833786, 74.19076559213615, 0.18027377207836717, 0.849864, 24.507727000000003, 12.037769, 899.938342, 22.302405999999998, 11.994, 0.01815995767230414, 19.113694000000002, 109.89102516034774, 677.2322348167846, 24.306319000000002, 24.676348, 1169.313615, 19.237811, 1192.635458537793, 97.486695, 1.618298575299141, 24.485689999999998, 1799.3424478205518, 261.366967, 24.433704, 65.15582399607987, 4.112996, 2.0341581038986027, 663.8146185532214, 3.845405, 43.2, 24.464774, 10.778678, 43.2, 24.277384, 3.669493, 25.270899, 218.75646513621516, 24.324338, 24.605347000000002, 20.851206, 24.216173, 25.597503, 5.702586575734837, 43.2, 19.033839, 1.3772942381335707, 124.614539, 11.204191, 293.42702799999995, 109.89474100000001, 37.29612921981048, 6.328121495567725, 4.080211, 81.98477181043258, 95.288304, 186.40979668515357, 543.750993, 21.6, 35.3750765305237, 429.811233512365, 48.93983, 1.2559627354295915, 21.6, 273.15999999999997, 288.9400866542691, 25.354286000000002, 3.254142901251762, 66.156073, 400.6474376106185, 25.524305, 411.8688984327474, 8.350365372404314, 21.6, 107.514934, 43.2, 21.6, 24.513340999999997, 310.778911, 240.4371970326311, 34.412259, 21.6, 43435.799999999996, 50.48771035090312, 24.197233, 0.011824525332391705, 21.6, 244.058963, 1.100232135128046, 72857.98572689074, 48.845595, 13.219809, 245.39999999999998, 43.2, 12.135949787955704, 49.510965999999996, 24.58097906719351, 3.133700666827242, 21.6, 97.44, 29.799377, 1169.693242, 21.6, 107.69782684827646, 76.7616, 24.690964, 21.6, 0.5452572387765413, 95.86512245310212, 20.662824, 19.072847, 61.8849592874994, 21.6, 2204.84555563895, 108.120987, 2.6677032142143045, 34.836083, 22.705325231060534, 1.181254039737352, 1040.4033208117864, 24.174383, 36641.548049999954, 1151.1338150000001, 21.6, 22.3226, 145.38742884078835, 20.687836, 37.046773, 197.989349, 314.7953742474665, 518.56, 1.308770410238372, 24.360414, 21.6, 33.88418766915573, 2.2025582379372595, 21.6, 0.11896680388219323, 21.6, 229.5370339528631, 22.3556, 65.0910135597153, 12.822791089002722, 162.37966799999998, 194.88, 21.6, 144.579453, 25.679848, 22.589404195641023, 21.6, 25.141554, 22.1587, 21.6, 142.234495, 1042.7055203427503, 969.6283942441315, 24.280766999999997, 452.92195146766466, 22.4217, 22.5215, 24.87006026015343, 11.38065, 24.189244, 24.083942, 21.6, 0.446444, 22.1913, 21.6, 22.1261, 51.599471, 21.6, 21.6, 8.605071, 24.427239, 627.4364129132365, 250.73033820390307, 0.657794, 43.2, 119.94, 29.67139, 21.6, 24.704058, 1.2808443775040006, 43.75955024180911, 21.6, 0.910433, 21.6, 45.54078588005616, 9.758001, 11.484942861289637, 43.2, 36.851558, 58.393935971639394, 12.289452296894225, 43.2, 107.44535301070579, 97.23599300000001, 1.430688667968933, 73.03307760041577, 0.3133295945376029, 388.319738, 4.114677, 21.6, 599.7, 37.096007, 24.468352, 10.95506561651439, 21.6, 104.2280206844566, 6.118277570597366, 21.6, 116.47135, 35.27417016537712, 52.394525, 21.6, 24.236272, 10.696843, 216.47950716108795, 24.331719, 21.6156, 0.23819, 345.913552, 43.2, 1098.283195, 24.447417, 36.903452, 23.896154, 11.398371, 17.126656, 57.085122, 31.022902000000002, 21.6, 74.04350199999999, 0.8962309445137636, 64.56860928709172, 24.263829, 2474.4673629999998, 24.583809000000002, 70.4270669150014, 0.05505688585763476, 43.2, 107.78547499999999, 49.948739, 21.6, 78.292218, 110.659363, 52.979822999999996, 143.476776, 461.833526634004, 24.398814, 118.354757, 1.0873964965875165, 266.5347477991872, 24.701542, 0.208005663030112, 24.567162000000003, 14.928628950639178, 22.61443, 12.17873, 269.658537, 1.4071508627160187, 242.911852, 43.2, 1171.1414690000001, 43.2, 15.432027, 103.88634, 393.3809087985454, 0.7413962112089744, 107.9572551012997, 24.553880999999997, 29.752498, 1171.364669, 24.055891000000003, 119.94, 0.676732, 1.498423989850583, 1169.503512, 24.109499, 631.670768, 24.530601, 23.810308, 24.358955, 21.6, 51.74354684219453, 1593.317623, 1.4950796328283953, 24.188494, 21.6, 32.70940858043105, 0.010195015954719559, 1.431465066828046, 24.372591, 43.2, 21.6, 21.6, 24.438358, 9.685819, 20.70411720682931, 106.386459, 127.89159986856109, 14.417650555322608, 24.148918, 5.476840668166435, 24.527147, 25.294764999999998, 25.625837, 10.438541, 43.2, 24.695262, 43.2, 9.826402, 29.741489, 883.44, 43.2, 11.998769718302128, 12.651831, 9.677097921168139, 48.603826999999995, 16.62761491288197, 12.041813000000001, 1.671507832392399, 20.912906, 22.5549, 21.6, 8386.537703784468, 21.6, 4963.445194, 7638.221888, 21.750289000000002, 36.833813, 0.10824945921060211, 119.94, 1.0863794838009708, 29.16780570039348, 14.682288, 8.599641052441108, 3.7056014186109656, 24.310902, 420.6180040880593, 1.919110869851072, 705.5288140198683, 0.22412803248120483, 21.6, 23.41706670731393, 0.102493, 131.609782, 0.010601476276821153, 2484.72, 24.374633, 0.1309283560799922, 134.7518889961131, 48.773101999999994, 34.396304, 13.100405, 86942.08464562269, 10.130097, 14.004952, 94.428372, 167.19134200000002, 9.664326, 0.26329754251882637, 43.2, 21.6, 2276.906052562993, 52.808604, 1331.3428347474155, 211.46212303645171, 129.4130104415376, 21.6, 568.7627933618952, 239.88, 11.666883, 49.17160162602655, 21.340479, 25.02832004114517, 109.14061979931398, 53.025447, 21.6, 10.628406032972016, 1.4355680289205999, 485.373896, 9.477083, 71.966787, 21.6, 50.351371, 25.318969, 0.10824892496911023, 24.465854, 21.6, 21.6, 194.88, 52.40102198851317, 139.63047920889863, 42.711617000000004, 488.52766836689506, 24.523645000000002, 1356.9886030290882, 24.46114, 1624.289926, 0.985361, 80.43747794155618, 58.52895, 21.6, 89.916519, 194.92551130619577, 25.942541000000002, 12.02661, 11.611845, 108.21182027014433, 47.951524000000006, 1.4325610044296968, 283.680411, 100.808649, 24.469239, 25.548841, 119.94, 18055.03352861152, 21.6, 1.4283939920996203, 24.250373, 93.044257, 43.2, 0.015093106994826895, 372.37213308996706, 213.12568757133204, 24.318118, 0.292448, 21.365465, 1227.0, 72.07384624151572, 24.378694, 44.90512305719864, 89.01881896658615, 43.2, 726.181603, 589.3386660782915, 93.61399279155582, 45.62573351687541, 16.26725407518944, 24.399994, 21.6, 24.441735, 1223.0014270951883, 22.623933, 21.6, 21.6, 1.0866509436211527, 24.365845, 20.606428, 24.072307000000002, 43.2, 24.575280999999997, 21.6, 24.365088, 446.6996791054673, 3021.4992121681416, 1169.819917, 106.65327199999999, 10.709459, 99.29488, 1169.260536, 3.6532563188709015, 21.859493999999998, 0.11830263331247376, 28996.445245000003, 17.39805, 24.428002, 24.574595, 24.433233, 25.121122, 127.15166656133388, 43.2, 1.0887004284015018, 21.6, 24.635631, 1171.060673, 21.6, 1.5597943500261782, 2.8103608166441183, 33.358962229073896, 21.6, 2.311376466713817, 110.43017266252508, 1169.5668249999999, 95.06598699999999, 21.6, 25.798157, 0.5663498946942505, 43.2, 25.566938, 43.2, 0.9621843253547487, 49.30026758861477, 1.432012997102867, 2.01706892533685, 45.037820999999994, 34.405699, 11.270117, 0.639473, 24.573435, 21.6, 9.471525, 24.290951, 21.6, 30.09256, 7.277361888981405, 1.0877419757179538, 54.736036093737255, 21.6, 24.93963, 183.49066986516272, 24.717412, 1.6297641448770273, 60.653645999999995, 21.6, 4.795170444581432, 2751.7277726709344, 825.7300694692178, 24.702357, 21.6, 21.56970816, 43.2, 21.6, 24.560789, 22.542073000000002, 359.1474933297301, 4.787344790821956, 51.293435, 118.744641, 24.590288, 21.6, 105.282298, 1144.8162585844264, 6.350204276399875, 24.310778, 11.887782, 52.867642000000004, 0.00918888577573774, 24.400568, 2963.956088000001, 518.694729, 200.61144718503752, 108.94255141235698, 3687.5706499999997, 25.547168, 21.6, 21.6, 1.0863794838009708, 21.6, 17.477118618836467, 21.6, 567.9888012358132, 2.252911269340192, 119.94, 53.650774999999996, 24.420003, 21.6, 130.06403453298012, 21.6, 21.6, 286.4666702385741, 24.698507157193042, 13.283975, 22.5884, 125.24180967800436, 21.6, 6.136837144802588, 1.1024202722529517, 13.432264, 22.4549, 21.6, 915.9824165355724, 24.148321, 24.533904, 1.4144497227793205, 21.6, 21.6, 1.1474247800123132, 21.6, 24.989226914346958, 49.495326000000006, 43.2, 2.3645167954156174, 97.527293, 14.302064, 1.2206854026920566, 24.386238, 21.6, 158.031777, 25.394223, 21.6, 13.67925, 21.6, 24.455481, 45.93032873218535, 24.303538000000003, 43.2, 24.314811, 21.6, 21.6, 7941.232533, 24.542864, 0.8815181749247167, 22.0612, 93.833697, 1241.3863735830143, 98.04179239289356, 21.6, 11.561323790775548, 34.09129360930977, 22.2568, 24.399895, 27.843966726073837, 2.1640486387123024, 1.3809975333038484, 37.028692, 118.63024669272417, 23.031275, 0.8260335262744782, 12.199721, 25.559447, 21.6, 219.24, 106.04796251904726, 24.269723, 123.85434526924996, 123.35333773348937, 21.6, 21.6, 127.608, 20.61273, 46.977809, 1170.661788, 97.44, 56.32903413602688, 24.603927, 22.4882, 24.263418, 21.6, 24.134645, 62.809620102670124, 618.2113039398921, 52.280565, 52.916038, 261.61911399999997, 9.597781, 1169.440206, 1947.085992, 22.0288, 1.6634520000000002, 2453.054748, 1.0869151272742406, 0.24720708886665832, 43.2, 919.396483, 107.0446710369105, 12.205709802847796, 24.440932, 1.4965015659543566, 24.243146000000003, 24.188449, 9.84333, 43.2, 4.562577195480956, 24.600073000000002, 21.6, 50.162994999999995, 584.522847, 24.270165, 113.56856179478055, 21.6, 55.612300601201675, 21.6, 24.586699, 9.936516999999998, 21.6, 24.292265, 20.71126, 9.570618, 248.4720832783755, 21.777170774600197, 25.644132, 24.601132, 55.199187, 43.2, 1.3275536294223678, 1169.937133, 34.428348, 14.083328, 0.4662743004698046, 21.6, 24.777954, 884.4040239999999, 24.401008, 224.572334, 24.706823999999997, 24.405941, 43.2, 24.578711000000002, 43.2, 1.3763613309772826, 57.29029406134113, 10.936466977261533, 21.6, 21.6, 1.1011687175890381, 11.66409, 24.55726, 8.584649, 24.766768, 20.316482, 136.1768362014167, 257.720619, 24.226085, 21.6, 24.469355, 80.35510599198719, 21.6, 195.309742, 0.9501583972189207, 3.2469704944904074, 19.634604, 24.385883, 119.1538716376763, 21.6, 19.488, 21.6, 2.150422652655698, 106.40241398346683, 20.738936, 6732.503371, 527.16, 24.293236, 22.949566, 24.501666, 5.035895760628863, 58.97001959761933, 32.620669, 1.6147356589208413, 1.4324863321084096, 25.536568000000003, 24.07608, 21.6, 21.6, 1.092454371306417, 20.797463, 1139.6891555044233, 21.390179, 75.02898727345347, 1.4315396632473472, 43.2, 24.515386, 21.6, 24.664502, 24.51916, 0.9653737001590375, 75.9648008225769, 112.87992, 118.87679999999999, 466.977292, 21.6, 24.347286, 199.32331041290024, 7.951597125946175, 189.19000377122313, 36.816199, 53.491828000000005, 4.80547634462978, 1568.101953687037, 23.346176, 194.88, 24.198016761747798, 105.01265370000174, 24.337407, 1615.8080772480648, 21.6, 118.239598, 24.335079, 20.276599, 24.341261000000003, 245.943581, 23.391262, 21.6, 21.6, 2068.653649706309, 43.2, 5.8755710288270695, 21.6, 22.339992000000002, 21.6, 21.6, 11.122724365415042, 106.75984920772373, 21.30121842876183, 43.2, 25.470888000000002, 21.6, 24.280165, 543.26322, 20.707978, 31.1844, 2.565032453004312, 21.6, 24.229653, 959.52, 0.9170927923765305, 2.9818011845050103, 34.411527, 21.6, 24.21546, 121.2053550935779, 24.474258, 21.6, 43.2, 23.770494999999997, 0.6964775855444277, 21.6, 155.71801381128404, 17.587254385301538, 24.202703, 74.104042, 4.393680402443831, 43.2, 97.453633, 8.476689933705279, 43.2, 7.828802007556407, 176.6731161422304, 22.053097, 1121.524566, 43.2, 20.664217, 21.6, 34.481006, 0.16166416378203352, 43.2, 76.98597667339857, 1170.9807850000002, 430.6044375940826, 22679.99607513189, 0.008907844076733416, 24.270071, 0.430708, 13.701593, 21.6, 11.986991999999999, 1.9808670632107508, 0.740888, 110.915693, 599.7, 1169.873779, 43.2, 12.201585, 21.30108148311563, 312.326699, 15.5922, 24.414279, 24.223247999999998, 21.6, 19.434688, 14.370518, 0.1258996066035225, 45.091401, 3.964299, 25.306203, 599.7, 53.263011, 0.0011581042911999718, 0.1273864467721689, 31.30022, 24.210235, 24.121203, 21.6, 21.6, 0.01486816908883158, 13.817223, 51.838637, 41.350868, 107.47776268873886, 21.6, 1388.18714, 8.484772288263272, 0.424631378945246, 18.941527999999998, 21.6, 43.2, 21.6, 24.477998, 21.6, 24.308297, 24.154795, 17.431257, 22.6219, 10.051406, 4.093952, 34.432641000000004, 1.6863182545690016, 0.06494993186761462, 55.87233, 2.151867799979759, 955.8560138080985, 103.8164133101892, 43.2, 8.036327, 21.439090999999998, 37.060183, 24.742759, 21.566984, 21.6, 21.6, 4.388981003396906, 101.95693399817708, 24.326101, 21.6, 58.93372459926448, 0.13192, 525.8011853992526, 36.885664, 139.773019, 0.16444050076598135, 43.2, 0.140596, 22.932608, 21.6, 54.850077, 96.43481174477809, 1.0225109229449207, 335.2671296801425, 24.496302, 24.25665, 97.248493, 294.448929274621, 34.464785, 1.624478855143125, 1.438596436122068, 11.362987, 102.15441206448568, 2213.8522902857976, 24.541963, 23.832618, 817.182, 21.6, 24.454636, 1169.7007640000002, 24.321061, 24.425165, 23.065324536489662, 21.6, 45.178259464308226, 24.28099, 21.6, 12.089579, 0.055678, 24.345332, 8.386827, 34.405331000000004, 107.759118, 1021.7782670789456, 21.6, 21.6, 18665.468293371585, 10827.169937457638, 24.419581, 0.1166663520076886, 226.9062539033589, 24.529119, 21.6, 108.006867, 11.894212, 24.297229, 24.48208, 21.6, 24.547817000000002, 53.131692, 21.6, 97.010773, 53.023801, 3.709185, 47.061714, 1.2934295425145783, 21.6, 5.50068, 24.411984, 1.372486, 58.519180000000006, 43.2, 43.2, 21.6, 9.61383484530971, 1.1435877608357563, 21.6, 19.64408145740495, 113.961308, 2962.7930273964357, 21.6, 24.588614, 24.509569, 2.965207050494706, 25.707205848129597, 11.123078, 21.6, 20.024993, 21.300939111287946, 55.316297999999996, 24.297229, 179.826596, 1.5271379691249778, 4.104672797232928, 22.824494749190265, 21.6, 24.372733, 2.5514399800057257, 204.624, 24.769354999999997, 63.81950751364742, 1055.988495, 3795.901406713593, 169.91305870414868, 24.17496, 24.351492999999998, 37.7168065556599, 0.852667, 21.6, 272.83200031730837, 43.2, 0.02203722913617735, 19.224225, 45.252649813861545, 53.323717, 57.359428, 21.732145813958972, 541.661893, 11.543684, 106.63977401509163, 10473.262372730562, 16126.788351, 9047.610851348569, 7.045597222392029, 21.6, 0.8768442785299028, 0.778694, 3.377123994814087, 36.869316, 24.535419, 1.4107116345327646, 23.951521, 0.2123589980946349, 1.014276, 1169.376907, 21.6, 16223.174728031323, 21.6, 4.592364662879845, 0.9572585490651508, 21.6, 5038.32734283566, 21.990349, 21.30094545611238, 21.6, 21.6, 1170.82104, 12.036888000000001, 23.080932151092355, 43.2, 24.209021999999997, 21.6, 130.062, 24.450212999999998, 730.8, 39.323718, 21.6, 21.6, 24.364219, 183306.23060000007, 34.448816, 5397.3, 10.280144829189823, 21.6, 199.5501839841266, 22.930892, 1060.4639162803119, 36.999671, 24.25651, 24.304529, 21.6, 21.6, 21.6, 24.495818, 15806.852370461449, 110.74575803502788, 34.513422, 21.6, 43.2, 43.2, 22.0936, 11.417031347054255, 21.6, 502.9479103078953, 24.600919, 24.283642999999998, 21.6, 21.6, 107.82082021042913, 25.585195, 59.255694, 21.6, 130.062, 103.6404, 912.849164, 20.624394849153596, 43.2, 47.223655, 19.528444, 0.0008597270537433438, 22465.937266888708, 974.4, 20.800813, 101.217029, 1391.178944, 43.2, 1.1501475213559853, 64.24785343147295, 1170.9009070000002, 25.60982, 43.2, 52.638354, 1.0621205185530873, 1967.034897, 24.393158999999997, 308.127428, 58.29231, 322.72613900000005, 11.241673, 4.770072, 42.66252155170662, 10.344911, 21.6, 357.7787521779716, 2108.1761615404694, 43.2, 24.726599999999998, 43.2, 21.6, 0.10616113939981334, 21.6, 107.35531399999999, 511.92294464273584, 4.714767595716932, 6005.129323760394, 21.6, 110.71780960756963, 21.6, 9.729298, 21.202156953054093, 24.352204, 24.523332, 22.6156, 0.08975408162953727, 24.457956000000003, 21.6, 43.2, 1.5829033475558851, 238.061377, 9574.655640142983, 21.6, 55.082446999999995, 2.891905, 26.68903158712807, 24.420522, 79.535009, 48.6105613559123, 2.20915, 383.05648193305024, 24.392311, 1169.756576, 52.106795420150945, 212.62846907311956, 0.600893, 24.09608, 182.67425532629298, 0.31958, 106.486862, 3.812168060746866, 102.049972, 11308.60040551749, 33.36149934783863, 1.1994, 43.2, 21.6, 24.340263999999998, 4.970053, 21.6, 21.6, 12.100796, 24.45156, 53.207882999999995, 154.889461, 25.483113, 123.795626, 25.258827, 8.632809560914142, 2.22633359471699, 49.386389, 95.26803358537673, 0.93590686258583, 44.386390000000006, 785.445152, 13.610042, 430.401428, 26.409182600490794, 24.33791, 2.356741, 21.6, 149.705458, 736.2, 627.3, 350.66069999999996, 25.306863, 106.35591521665809, 24.184241, 247.005586], \"xaxis\": \"x2\", \"yaxis\": \"y2\"}],\n",
              "                        {\"barmode\": \"relative\", \"legend\": {\"tracegroupgap\": 0}, \"template\": {\"data\": {\"bar\": [{\"error_x\": {\"color\": \"#2a3f5f\"}, \"error_y\": {\"color\": \"#2a3f5f\"}, \"marker\": {\"line\": {\"color\": \"#E5ECF6\", \"width\": 0.5}}, \"type\": \"bar\"}], \"barpolar\": [{\"marker\": {\"line\": {\"color\": \"#E5ECF6\", \"width\": 0.5}}, \"type\": \"barpolar\"}], \"carpet\": [{\"aaxis\": {\"endlinecolor\": \"#2a3f5f\", \"gridcolor\": \"white\", \"linecolor\": \"white\", \"minorgridcolor\": \"white\", \"startlinecolor\": \"#2a3f5f\"}, \"baxis\": {\"endlinecolor\": \"#2a3f5f\", \"gridcolor\": \"white\", \"linecolor\": \"white\", \"minorgridcolor\": \"white\", \"startlinecolor\": \"#2a3f5f\"}, \"type\": \"carpet\"}], \"choropleth\": [{\"colorbar\": {\"outlinewidth\": 0, \"ticks\": \"\"}, \"type\": \"choropleth\"}], \"contour\": [{\"colorbar\": {\"outlinewidth\": 0, \"ticks\": \"\"}, \"colorscale\": [[0.0, \"#0d0887\"], [0.1111111111111111, \"#46039f\"], [0.2222222222222222, \"#7201a8\"], [0.3333333333333333, \"#9c179e\"], [0.4444444444444444, \"#bd3786\"], [0.5555555555555556, \"#d8576b\"], [0.6666666666666666, \"#ed7953\"], [0.7777777777777778, \"#fb9f3a\"], [0.8888888888888888, \"#fdca26\"], [1.0, \"#f0f921\"]], \"type\": \"contour\"}], \"contourcarpet\": [{\"colorbar\": {\"outlinewidth\": 0, \"ticks\": \"\"}, \"type\": \"contourcarpet\"}], \"heatmap\": [{\"colorbar\": {\"outlinewidth\": 0, \"ticks\": \"\"}, \"colorscale\": [[0.0, \"#0d0887\"], [0.1111111111111111, \"#46039f\"], [0.2222222222222222, \"#7201a8\"], [0.3333333333333333, \"#9c179e\"], [0.4444444444444444, \"#bd3786\"], [0.5555555555555556, \"#d8576b\"], [0.6666666666666666, \"#ed7953\"], [0.7777777777777778, \"#fb9f3a\"], [0.8888888888888888, \"#fdca26\"], [1.0, \"#f0f921\"]], \"type\": \"heatmap\"}], \"heatmapgl\": [{\"colorbar\": {\"outlinewidth\": 0, \"ticks\": \"\"}, \"colorscale\": [[0.0, \"#0d0887\"], [0.1111111111111111, \"#46039f\"], [0.2222222222222222, \"#7201a8\"], [0.3333333333333333, \"#9c179e\"], [0.4444444444444444, \"#bd3786\"], [0.5555555555555556, \"#d8576b\"], [0.6666666666666666, \"#ed7953\"], [0.7777777777777778, \"#fb9f3a\"], [0.8888888888888888, \"#fdca26\"], [1.0, \"#f0f921\"]], \"type\": \"heatmapgl\"}], \"histogram\": [{\"marker\": {\"colorbar\": {\"outlinewidth\": 0, \"ticks\": \"\"}}, \"type\": \"histogram\"}], \"histogram2d\": [{\"colorbar\": {\"outlinewidth\": 0, \"ticks\": \"\"}, \"colorscale\": [[0.0, \"#0d0887\"], [0.1111111111111111, \"#46039f\"], [0.2222222222222222, \"#7201a8\"], [0.3333333333333333, \"#9c179e\"], [0.4444444444444444, \"#bd3786\"], [0.5555555555555556, \"#d8576b\"], [0.6666666666666666, \"#ed7953\"], [0.7777777777777778, \"#fb9f3a\"], [0.8888888888888888, \"#fdca26\"], [1.0, \"#f0f921\"]], \"type\": \"histogram2d\"}], \"histogram2dcontour\": [{\"colorbar\": {\"outlinewidth\": 0, \"ticks\": \"\"}, \"colorscale\": [[0.0, \"#0d0887\"], [0.1111111111111111, \"#46039f\"], [0.2222222222222222, \"#7201a8\"], [0.3333333333333333, \"#9c179e\"], [0.4444444444444444, \"#bd3786\"], [0.5555555555555556, \"#d8576b\"], [0.6666666666666666, \"#ed7953\"], [0.7777777777777778, \"#fb9f3a\"], [0.8888888888888888, \"#fdca26\"], [1.0, \"#f0f921\"]], \"type\": \"histogram2dcontour\"}], \"mesh3d\": [{\"colorbar\": {\"outlinewidth\": 0, \"ticks\": \"\"}, \"type\": \"mesh3d\"}], \"parcoords\": [{\"line\": {\"colorbar\": {\"outlinewidth\": 0, \"ticks\": \"\"}}, \"type\": \"parcoords\"}], \"pie\": [{\"automargin\": true, \"type\": \"pie\"}], \"scatter\": [{\"marker\": {\"colorbar\": {\"outlinewidth\": 0, \"ticks\": \"\"}}, \"type\": \"scatter\"}], \"scatter3d\": [{\"line\": {\"colorbar\": {\"outlinewidth\": 0, \"ticks\": \"\"}}, \"marker\": {\"colorbar\": {\"outlinewidth\": 0, \"ticks\": \"\"}}, \"type\": \"scatter3d\"}], \"scattercarpet\": [{\"marker\": {\"colorbar\": {\"outlinewidth\": 0, \"ticks\": \"\"}}, \"type\": \"scattercarpet\"}], \"scattergeo\": [{\"marker\": {\"colorbar\": {\"outlinewidth\": 0, \"ticks\": \"\"}}, \"type\": \"scattergeo\"}], \"scattergl\": [{\"marker\": {\"colorbar\": {\"outlinewidth\": 0, \"ticks\": \"\"}}, \"type\": \"scattergl\"}], \"scattermapbox\": [{\"marker\": {\"colorbar\": {\"outlinewidth\": 0, \"ticks\": \"\"}}, \"type\": \"scattermapbox\"}], \"scatterpolar\": [{\"marker\": {\"colorbar\": {\"outlinewidth\": 0, \"ticks\": \"\"}}, \"type\": \"scatterpolar\"}], \"scatterpolargl\": [{\"marker\": {\"colorbar\": {\"outlinewidth\": 0, \"ticks\": \"\"}}, \"type\": \"scatterpolargl\"}], \"scatterternary\": [{\"marker\": {\"colorbar\": {\"outlinewidth\": 0, \"ticks\": \"\"}}, \"type\": \"scatterternary\"}], \"surface\": [{\"colorbar\": {\"outlinewidth\": 0, \"ticks\": \"\"}, \"colorscale\": [[0.0, \"#0d0887\"], [0.1111111111111111, \"#46039f\"], [0.2222222222222222, \"#7201a8\"], [0.3333333333333333, \"#9c179e\"], [0.4444444444444444, \"#bd3786\"], [0.5555555555555556, \"#d8576b\"], [0.6666666666666666, \"#ed7953\"], [0.7777777777777778, \"#fb9f3a\"], [0.8888888888888888, \"#fdca26\"], [1.0, \"#f0f921\"]], \"type\": \"surface\"}], \"table\": [{\"cells\": {\"fill\": {\"color\": \"#EBF0F8\"}, \"line\": {\"color\": \"white\"}}, \"header\": {\"fill\": {\"color\": \"#C8D4E3\"}, \"line\": {\"color\": \"white\"}}, \"type\": \"table\"}]}, \"layout\": {\"annotationdefaults\": {\"arrowcolor\": \"#2a3f5f\", \"arrowhead\": 0, \"arrowwidth\": 1}, \"coloraxis\": {\"colorbar\": {\"outlinewidth\": 0, \"ticks\": \"\"}}, \"colorscale\": {\"diverging\": [[0, \"#8e0152\"], [0.1, \"#c51b7d\"], [0.2, \"#de77ae\"], [0.3, \"#f1b6da\"], [0.4, \"#fde0ef\"], [0.5, \"#f7f7f7\"], [0.6, \"#e6f5d0\"], [0.7, \"#b8e186\"], [0.8, \"#7fbc41\"], [0.9, \"#4d9221\"], [1, \"#276419\"]], \"sequential\": [[0.0, \"#0d0887\"], [0.1111111111111111, \"#46039f\"], [0.2222222222222222, \"#7201a8\"], [0.3333333333333333, \"#9c179e\"], [0.4444444444444444, \"#bd3786\"], [0.5555555555555556, \"#d8576b\"], [0.6666666666666666, \"#ed7953\"], [0.7777777777777778, \"#fb9f3a\"], [0.8888888888888888, \"#fdca26\"], [1.0, \"#f0f921\"]], \"sequentialminus\": [[0.0, \"#0d0887\"], [0.1111111111111111, \"#46039f\"], [0.2222222222222222, \"#7201a8\"], [0.3333333333333333, \"#9c179e\"], [0.4444444444444444, \"#bd3786\"], [0.5555555555555556, \"#d8576b\"], [0.6666666666666666, \"#ed7953\"], [0.7777777777777778, \"#fb9f3a\"], [0.8888888888888888, \"#fdca26\"], [1.0, \"#f0f921\"]]}, \"colorway\": [\"#636efa\", \"#EF553B\", \"#00cc96\", \"#ab63fa\", \"#FFA15A\", \"#19d3f3\", \"#FF6692\", \"#B6E880\", \"#FF97FF\", \"#FECB52\"], \"font\": {\"color\": \"#2a3f5f\"}, \"geo\": {\"bgcolor\": \"white\", \"lakecolor\": \"white\", \"landcolor\": \"#E5ECF6\", \"showlakes\": true, \"showland\": true, \"subunitcolor\": \"white\"}, \"hoverlabel\": {\"align\": \"left\"}, \"hovermode\": \"closest\", \"mapbox\": {\"style\": \"light\"}, \"paper_bgcolor\": \"white\", \"plot_bgcolor\": \"#E5ECF6\", \"polar\": {\"angularaxis\": {\"gridcolor\": \"white\", \"linecolor\": \"white\", \"ticks\": \"\"}, \"bgcolor\": \"#E5ECF6\", \"radialaxis\": {\"gridcolor\": \"white\", \"linecolor\": \"white\", \"ticks\": \"\"}}, \"scene\": {\"xaxis\": {\"backgroundcolor\": \"#E5ECF6\", \"gridcolor\": \"white\", \"gridwidth\": 2, \"linecolor\": \"white\", \"showbackground\": true, \"ticks\": \"\", \"zerolinecolor\": \"white\"}, \"yaxis\": {\"backgroundcolor\": \"#E5ECF6\", \"gridcolor\": \"white\", \"gridwidth\": 2, \"linecolor\": \"white\", \"showbackground\": true, \"ticks\": \"\", \"zerolinecolor\": \"white\"}, \"zaxis\": {\"backgroundcolor\": \"#E5ECF6\", \"gridcolor\": \"white\", \"gridwidth\": 2, \"linecolor\": \"white\", \"showbackground\": true, \"ticks\": \"\", \"zerolinecolor\": \"white\"}}, \"shapedefaults\": {\"line\": {\"color\": \"#2a3f5f\"}}, \"ternary\": {\"aaxis\": {\"gridcolor\": \"white\", \"linecolor\": \"white\", \"ticks\": \"\"}, \"baxis\": {\"gridcolor\": \"white\", \"linecolor\": \"white\", \"ticks\": \"\"}, \"bgcolor\": \"#E5ECF6\", \"caxis\": {\"gridcolor\": \"white\", \"linecolor\": \"white\", \"ticks\": \"\"}}, \"title\": {\"x\": 0.05}, \"xaxis\": {\"automargin\": true, \"gridcolor\": \"white\", \"linecolor\": \"white\", \"ticks\": \"\", \"title\": {\"standoff\": 15}, \"zerolinecolor\": \"white\", \"zerolinewidth\": 2}, \"yaxis\": {\"automargin\": true, \"gridcolor\": \"white\", \"linecolor\": \"white\", \"ticks\": \"\", \"title\": {\"standoff\": 15}, \"zerolinecolor\": \"white\", \"zerolinewidth\": 2}}}, \"title\": {\"text\": \"Histogram of Total Value Traded ($)\"}, \"xaxis\": {\"anchor\": \"y\", \"domain\": [0.0, 1.0], \"title\": {\"text\": \"Total Value Traded ($)\"}}, \"xaxis2\": {\"anchor\": \"y2\", \"domain\": [0.0, 1.0], \"matches\": \"x\", \"showgrid\": true, \"showticklabels\": false}, \"yaxis\": {\"anchor\": \"x\", \"domain\": [0.0, 0.8316], \"title\": {\"text\": \"count\"}}, \"yaxis2\": {\"anchor\": \"x2\", \"domain\": [0.8416, 1.0], \"matches\": \"y2\", \"showgrid\": false, \"showline\": false, \"showticklabels\": false, \"ticks\": \"\"}},\n",
              "                        {\"responsive\": true}\n",
              "                    ).then(function(){\n",
              "                            \n",
              "var gd = document.getElementById('bf3f0704-519e-4f17-a50a-9f6b84c93881');\n",
              "var x = new MutationObserver(function (mutations, observer) {{\n",
              "        var display = window.getComputedStyle(gd).display;\n",
              "        if (!display || display === 'none') {{\n",
              "            console.log([gd, 'removed!']);\n",
              "            Plotly.purge(gd);\n",
              "            observer.disconnect();\n",
              "        }}\n",
              "}});\n",
              "\n",
              "// Listen for the removal of the full notebook cells\n",
              "var notebookContainer = gd.closest('#notebook-container');\n",
              "if (notebookContainer) {{\n",
              "    x.observe(notebookContainer, {childList: true});\n",
              "}}\n",
              "\n",
              "// Listen for the clearing of the current output cell\n",
              "var outputEl = gd.closest('.output');\n",
              "if (outputEl) {{\n",
              "    x.observe(outputEl, {childList: true});\n",
              "}}\n",
              "\n",
              "                        })\n",
              "                };\n",
              "                \n",
              "            </script>\n",
              "        </div>\n",
              "</body>\n",
              "</html>"
            ]
          },
          "metadata": {}
        }
      ]
    },
    {
      "cell_type": "code",
      "metadata": {
        "id": "a8gRSzoBUmdC"
      },
      "source": [
        "# Label data with grouping low/medium/high to enable joining back onto CSV for minters\n",
        "cut_labels_3 = ['Low', 'Medium', 'High']\n",
        "cut_bins = [0, 2000, 10000, 200000]\n",
        "trader_addresses_amounts_df['total_value_traded_grouping'] = pd.cut(trader_addresses_amounts_df['Total Value Traded ($)'], bins=cut_bins, labels=cut_labels_3)"
      ],
      "execution_count": 178,
      "outputs": []
    },
    {
      "cell_type": "code",
      "metadata": {
        "colab": {
          "base_uri": "https://localhost:8080/",
          "height": 428
        },
        "id": "kgAn-pb1Uo_D",
        "outputId": "0d9ba8c4-2f0a-4bac-f811-60c0b6dd4087"
      },
      "source": [
        "trader_addresses_amounts_df = trader_addresses_amounts_df.reset_index().rename(columns={\"index\": \"To\"})\n",
        "trader_addresses_amounts_grouped_df = pd.merge(trader_addresses_grouped_df, trader_addresses_amounts_df, on=\"To\", how='left')\n",
        "trader_addresses_amounts_grouped_df.head()"
      ],
      "execution_count": 179,
      "outputs": [
        {
          "output_type": "execute_result",
          "data": {
            "text/html": [
              "<div>\n",
              "<style scoped>\n",
              "    .dataframe tbody tr th:only-of-type {\n",
              "        vertical-align: middle;\n",
              "    }\n",
              "\n",
              "    .dataframe tbody tr th {\n",
              "        vertical-align: top;\n",
              "    }\n",
              "\n",
              "    .dataframe thead th {\n",
              "        text-align: right;\n",
              "    }\n",
              "</style>\n",
              "<table border=\"1\" class=\"dataframe\">\n",
              "  <thead>\n",
              "    <tr style=\"text-align: right;\">\n",
              "      <th></th>\n",
              "      <th>Txhash</th>\n",
              "      <th>UnixTimestamp</th>\n",
              "      <th>DateTime</th>\n",
              "      <th>From</th>\n",
              "      <th>To</th>\n",
              "      <th>Value</th>\n",
              "      <th>ContractAddress</th>\n",
              "      <th>TokenName</th>\n",
              "      <th>TokenSymbol</th>\n",
              "      <th>Type</th>\n",
              "      <th>tx_type_label</th>\n",
              "      <th>chain</th>\n",
              "      <th>Cumulative Number of Trades</th>\n",
              "      <th>cumulative_trade_groupings</th>\n",
              "      <th>usd_value</th>\n",
              "      <th>Total Value Traded ($)</th>\n",
              "      <th>total_value_traded_grouping</th>\n",
              "    </tr>\n",
              "  </thead>\n",
              "  <tbody>\n",
              "    <tr>\n",
              "      <th>0</th>\n",
              "      <td>0xc9244e265b8ab7f6812ea48438bc53d2e136b0293e7e...</td>\n",
              "      <td>1623985412</td>\n",
              "      <td>2021-06-18 03:03:32</td>\n",
              "      <td>0x97693242c5703900fc7651c9164a334ee5ddfa2d</td>\n",
              "      <td>0x3839acf1ee7699d1f46b1be840d8ad8317fdf757</td>\n",
              "      <td>1.000000</td>\n",
              "      <td>0x51b0bcbeff204b39ce792d1e16767fe6f7631970</td>\n",
              "      <td>BTC Volatility Index</td>\n",
              "      <td>BTCV</td>\n",
              "      <td>OUT</td>\n",
              "      <td>Swap</td>\n",
              "      <td>ETHEREUM</td>\n",
              "      <td>1</td>\n",
              "      <td>Low</td>\n",
              "      <td>97.440000</td>\n",
              "      <td>97.440000</td>\n",
              "      <td>Low</td>\n",
              "    </tr>\n",
              "    <tr>\n",
              "      <th>1</th>\n",
              "      <td>0xfeb1b87e396a186df9572400d9aeeb1b5b5f8cc014f4...</td>\n",
              "      <td>1624308530</td>\n",
              "      <td>2021-06-21 20:48:50</td>\n",
              "      <td>0x97693242c5703900fc7651c9164a334ee5ddfa2d</td>\n",
              "      <td>0x51e15c3f1ab9cf2d28eb8c232e209aa521b45715</td>\n",
              "      <td>885.900502</td>\n",
              "      <td>0xa0b86991c6218b36c1d19d4a2e9eb0ce3606eb48</td>\n",
              "      <td>USD Coin</td>\n",
              "      <td>USDC</td>\n",
              "      <td>OUT</td>\n",
              "      <td>Swap</td>\n",
              "      <td>ETHEREUM</td>\n",
              "      <td>2</td>\n",
              "      <td>Low</td>\n",
              "      <td>885.900502</td>\n",
              "      <td>2474.467363</td>\n",
              "      <td>Medium</td>\n",
              "    </tr>\n",
              "    <tr>\n",
              "      <th>2</th>\n",
              "      <td>0xb696adc0562e8a233a0d87dd47b9bd2a37a9a43bd5d7...</td>\n",
              "      <td>1624457391</td>\n",
              "      <td>2021-06-23 14:09:51</td>\n",
              "      <td>0x97693242c5703900fc7651c9164a334ee5ddfa2d</td>\n",
              "      <td>0x81b15c11fd0c736399485307faecd13bdd58185d</td>\n",
              "      <td>0.221364</td>\n",
              "      <td>0x51b0bcbeff204b39ce792d1e16767fe6f7631970</td>\n",
              "      <td>BTC Volatility Index</td>\n",
              "      <td>BTCV</td>\n",
              "      <td>OUT</td>\n",
              "      <td>Swap</td>\n",
              "      <td>ETHEREUM</td>\n",
              "      <td>1</td>\n",
              "      <td>Low</td>\n",
              "      <td>21.569708</td>\n",
              "      <td>21.569708</td>\n",
              "      <td>Low</td>\n",
              "    </tr>\n",
              "    <tr>\n",
              "      <th>3</th>\n",
              "      <td>0xf37a1270aca957a61ecdf86b881c1a0b12bc552a25cf...</td>\n",
              "      <td>1624641328</td>\n",
              "      <td>2021-06-25 17:15:28</td>\n",
              "      <td>0x97693242c5703900fc7651c9164a334ee5ddfa2d</td>\n",
              "      <td>0x92114563127c16d3d9d459cd1fda5d47110592ae</td>\n",
              "      <td>1.217470</td>\n",
              "      <td>0x51b0bcbeff204b39ce792d1e16767fe6f7631970</td>\n",
              "      <td>BTC Volatility Index</td>\n",
              "      <td>BTCV</td>\n",
              "      <td>OUT</td>\n",
              "      <td>Swap</td>\n",
              "      <td>ETHEREUM</td>\n",
              "      <td>1</td>\n",
              "      <td>Low</td>\n",
              "      <td>118.630247</td>\n",
              "      <td>118.630247</td>\n",
              "      <td>Low</td>\n",
              "    </tr>\n",
              "    <tr>\n",
              "      <th>4</th>\n",
              "      <td>0x2b8bf79b533979cb2247854138d97895f8dcc6c1c0ee...</td>\n",
              "      <td>1624895500</td>\n",
              "      <td>2021-06-28 15:51:40</td>\n",
              "      <td>0x97693242c5703900fc7651c9164a334ee5ddfa2d</td>\n",
              "      <td>0x66bffe06feba47cd1c95fc2635933c1315c7d2f1</td>\n",
              "      <td>16.267542</td>\n",
              "      <td>0x51b0bcbeff204b39ce792d1e16767fe6f7631970</td>\n",
              "      <td>BTC Volatility Index</td>\n",
              "      <td>BTCV</td>\n",
              "      <td>OUT</td>\n",
              "      <td>Swap</td>\n",
              "      <td>ETHEREUM</td>\n",
              "      <td>50</td>\n",
              "      <td>High</td>\n",
              "      <td>1585.109277</td>\n",
              "      <td>86942.084646</td>\n",
              "      <td>High</td>\n",
              "    </tr>\n",
              "  </tbody>\n",
              "</table>\n",
              "</div>"
            ],
            "text/plain": [
              "                                              Txhash  ...  total_value_traded_grouping\n",
              "0  0xc9244e265b8ab7f6812ea48438bc53d2e136b0293e7e...  ...                          Low\n",
              "1  0xfeb1b87e396a186df9572400d9aeeb1b5b5f8cc014f4...  ...                       Medium\n",
              "2  0xb696adc0562e8a233a0d87dd47b9bd2a37a9a43bd5d7...  ...                          Low\n",
              "3  0xf37a1270aca957a61ecdf86b881c1a0b12bc552a25cf...  ...                          Low\n",
              "4  0x2b8bf79b533979cb2247854138d97895f8dcc6c1c0ee...  ...                         High\n",
              "\n",
              "[5 rows x 17 columns]"
            ]
          },
          "metadata": {},
          "execution_count": 179
        }
      ]
    },
    {
      "cell_type": "code",
      "metadata": {
        "colab": {
          "base_uri": "https://localhost:8080/",
          "height": 142
        },
        "id": "fiQfEI68Usk9",
        "outputId": "cec6b11e-1c38-4215-fa2e-3a8a171c5ad9"
      },
      "source": [
        "trader_addresses_amounts_grouped_traded_amount_df = trader_addresses_amounts_grouped_df.groupby(by='total_value_traded_grouping', as_index=False).agg({'To': pd.Series.nunique}).rename(columns={\"To\": \"Number of Users\"})\n",
        "trader_addresses_amounts_grouped_traded_amount_df"
      ],
      "execution_count": 180,
      "outputs": [
        {
          "output_type": "execute_result",
          "data": {
            "text/html": [
              "<div>\n",
              "<style scoped>\n",
              "    .dataframe tbody tr th:only-of-type {\n",
              "        vertical-align: middle;\n",
              "    }\n",
              "\n",
              "    .dataframe tbody tr th {\n",
              "        vertical-align: top;\n",
              "    }\n",
              "\n",
              "    .dataframe thead th {\n",
              "        text-align: right;\n",
              "    }\n",
              "</style>\n",
              "<table border=\"1\" class=\"dataframe\">\n",
              "  <thead>\n",
              "    <tr style=\"text-align: right;\">\n",
              "      <th></th>\n",
              "      <th>total_value_traded_grouping</th>\n",
              "      <th>Number of Users</th>\n",
              "    </tr>\n",
              "  </thead>\n",
              "  <tbody>\n",
              "    <tr>\n",
              "      <th>0</th>\n",
              "      <td>Low</td>\n",
              "      <td>1393</td>\n",
              "    </tr>\n",
              "    <tr>\n",
              "      <th>1</th>\n",
              "      <td>Medium</td>\n",
              "      <td>27</td>\n",
              "    </tr>\n",
              "    <tr>\n",
              "      <th>2</th>\n",
              "      <td>High</td>\n",
              "      <td>19</td>\n",
              "    </tr>\n",
              "  </tbody>\n",
              "</table>\n",
              "</div>"
            ],
            "text/plain": [
              "  total_value_traded_grouping  Number of Users\n",
              "0                         Low             1393\n",
              "1                      Medium               27\n",
              "2                        High               19"
            ]
          },
          "metadata": {},
          "execution_count": 180
        }
      ]
    },
    {
      "cell_type": "code",
      "metadata": {
        "id": "I8PPZv8UUuq8"
      },
      "source": [
        "# Write minters groupings to CSV\n",
        "trader_addresses_amounts_grouped_df.to_csv('traders_v4_final_grouped.csv')"
      ],
      "execution_count": 181,
      "outputs": []
    },
    {
      "cell_type": "markdown",
      "metadata": {
        "id": "WXAomhnFRZam"
      },
      "source": [
        "### Cumulative Trading Volume"
      ]
    },
    {
      "cell_type": "code",
      "metadata": {
        "colab": {
          "base_uri": "https://localhost:8080/"
        },
        "id": "cJ3Hf2sdRW07",
        "outputId": "737c2af5-99e3-4f97-ecab-93ae7197e512"
      },
      "source": [
        "cumulative_trading_usd_volume = trader_addresses_amounts_grouped_df['usd_value'].sum()\n",
        "print (\"Cumulative Trading USD Volume: ${}\".format(cumulative_trading_usd_volume))"
      ],
      "execution_count": 182,
      "outputs": [
        {
          "output_type": "stream",
          "name": "stdout",
          "text": [
            "Cumulative Trading USD Volume: $997678.2132998797\n"
          ]
        }
      ]
    },
    {
      "cell_type": "code",
      "metadata": {
        "colab": {
          "base_uri": "https://localhost:8080/"
        },
        "id": "0L6BhmSbSbgn",
        "outputId": "5b3f33cc-30f0-407f-f591-d5e4baf29599"
      },
      "source": [
        "cumulative_trading_usd_value_per_chain = trader_addresses_amounts_grouped_df.groupby(by='chain', as_index=False).agg({\"usd_value\": pd.Series.sum})\n",
        "\n",
        "print(\"ETHEREUM: Cumulative Trading USD Value: ${}\".format(cumulative_trading_usd_value_per_chain[cumulative_trading_usd_value_per_chain[\"chain\"] == 'ETHEREUM'][\"usd_value\"].values[0]))\n",
        "print(\"POLYGON: Cumulative Trading USD Value: ${}\".format(cumulative_trading_usd_value_per_chain[cumulative_trading_usd_value_per_chain[\"chain\"] == 'POLYGON'][\"usd_value\"].values[0]))\n",
        "print(\"ARBITRUM: Cumulative Trading USD Value: ${}\".format(cumulative_trading_usd_value_per_chain[cumulative_trading_usd_value_per_chain[\"chain\"] == 'ARBITRUM'][\"usd_value\"].values[0]))"
      ],
      "execution_count": 183,
      "outputs": [
        {
          "output_type": "stream",
          "name": "stdout",
          "text": [
            "ETHEREUM: Cumulative Trading USD Value: $780481.8719295093\n",
            "POLYGON: Cumulative Trading USD Value: $211855.5641159281\n",
            "ARBITRUM: Cumulative Trading USD Value: $5340.777254442244\n"
          ]
        }
      ]
    },
    {
      "cell_type": "markdown",
      "metadata": {
        "id": "aS_v1NaNw7IG"
      },
      "source": [
        "## User Bucketing - Liquidity Providers"
      ]
    },
    {
      "cell_type": "code",
      "metadata": {
        "colab": {
          "base_uri": "https://localhost:8080/",
          "height": 340
        },
        "id": "CARUznsWOdBP",
        "outputId": "92f38f6d-b916-4afe-f07e-33036080061f"
      },
      "source": [
        "lps_addresses_df.head()"
      ],
      "execution_count": 184,
      "outputs": [
        {
          "output_type": "execute_result",
          "data": {
            "text/html": [
              "<div>\n",
              "<style scoped>\n",
              "    .dataframe tbody tr th:only-of-type {\n",
              "        vertical-align: middle;\n",
              "    }\n",
              "\n",
              "    .dataframe tbody tr th {\n",
              "        vertical-align: top;\n",
              "    }\n",
              "\n",
              "    .dataframe thead th {\n",
              "        text-align: right;\n",
              "    }\n",
              "</style>\n",
              "<table border=\"1\" class=\"dataframe\">\n",
              "  <thead>\n",
              "    <tr style=\"text-align: right;\">\n",
              "      <th></th>\n",
              "      <th>Txhash</th>\n",
              "      <th>UnixTimestamp</th>\n",
              "      <th>DateTime</th>\n",
              "      <th>From</th>\n",
              "      <th>To</th>\n",
              "      <th>Value</th>\n",
              "      <th>ContractAddress</th>\n",
              "      <th>TokenName</th>\n",
              "      <th>TokenSymbol</th>\n",
              "      <th>Type</th>\n",
              "      <th>tx_type_label</th>\n",
              "      <th>chain</th>\n",
              "    </tr>\n",
              "  </thead>\n",
              "  <tbody>\n",
              "    <tr>\n",
              "      <th>0</th>\n",
              "      <td>0xc4bc77f254adcbec01372b053782fbf8b58cc84b9084...</td>\n",
              "      <td>1623769680</td>\n",
              "      <td>2021-06-15 15:08:00</td>\n",
              "      <td>0x19ac6292d62465cd3c82a082e0b5f9b875c57d92</td>\n",
              "      <td>0x97693242c5703900fc7651c9164a334ee5ddfa2d</td>\n",
              "      <td>11.52923</td>\n",
              "      <td>0x51b0bcbeff204b39ce792d1e16767fe6f7631970</td>\n",
              "      <td>BTC Volatility Index</td>\n",
              "      <td>BTCV</td>\n",
              "      <td>IN</td>\n",
              "      <td>Add Liquidity</td>\n",
              "      <td>ETHEREUM</td>\n",
              "    </tr>\n",
              "    <tr>\n",
              "      <th>1</th>\n",
              "      <td>0xc4bc77f254adcbec01372b053782fbf8b58cc84b9084...</td>\n",
              "      <td>1623769680</td>\n",
              "      <td>2021-06-15 15:08:00</td>\n",
              "      <td>0x19ac6292d62465cd3c82a082e0b5f9b875c57d92</td>\n",
              "      <td>0x97693242c5703900fc7651c9164a334ee5ddfa2d</td>\n",
              "      <td>2500.00000</td>\n",
              "      <td>0xa0b86991c6218b36c1d19d4a2e9eb0ce3606eb48</td>\n",
              "      <td>USD Coin</td>\n",
              "      <td>USDC</td>\n",
              "      <td>IN</td>\n",
              "      <td>Add Liquidity</td>\n",
              "      <td>ETHEREUM</td>\n",
              "    </tr>\n",
              "    <tr>\n",
              "      <th>4</th>\n",
              "      <td>0x4a63f753cf0578a65bae5127075bb0f5549f66b91507...</td>\n",
              "      <td>1623786369</td>\n",
              "      <td>2021-06-15 19:46:09</td>\n",
              "      <td>0x19ac6292d62465cd3c82a082e0b5f9b875c57d92</td>\n",
              "      <td>0x97693242c5703900fc7651c9164a334ee5ddfa2d</td>\n",
              "      <td>30.00000</td>\n",
              "      <td>0x51b0bcbeff204b39ce792d1e16767fe6f7631970</td>\n",
              "      <td>BTC Volatility Index</td>\n",
              "      <td>BTCV</td>\n",
              "      <td>IN</td>\n",
              "      <td>Add Liquidity</td>\n",
              "      <td>ETHEREUM</td>\n",
              "    </tr>\n",
              "    <tr>\n",
              "      <th>5</th>\n",
              "      <td>0x4a63f753cf0578a65bae5127075bb0f5549f66b91507...</td>\n",
              "      <td>1623786369</td>\n",
              "      <td>2021-06-15 19:46:09</td>\n",
              "      <td>0x19ac6292d62465cd3c82a082e0b5f9b875c57d92</td>\n",
              "      <td>0x97693242c5703900fc7651c9164a334ee5ddfa2d</td>\n",
              "      <td>755.29052</td>\n",
              "      <td>0xa0b86991c6218b36c1d19d4a2e9eb0ce3606eb48</td>\n",
              "      <td>USD Coin</td>\n",
              "      <td>USDC</td>\n",
              "      <td>IN</td>\n",
              "      <td>Add Liquidity</td>\n",
              "      <td>ETHEREUM</td>\n",
              "    </tr>\n",
              "    <tr>\n",
              "      <th>6</th>\n",
              "      <td>0x7a656f17631c6d05b54d94974d56031d6e12512ee7f7...</td>\n",
              "      <td>1623864014</td>\n",
              "      <td>2021-06-16 17:20:14</td>\n",
              "      <td>0x3dac271d1b36a434880c527a678b6487ac9c1f8c</td>\n",
              "      <td>0x97693242c5703900fc7651c9164a334ee5ddfa2d</td>\n",
              "      <td>0.99900</td>\n",
              "      <td>0x51b0bcbeff204b39ce792d1e16767fe6f7631970</td>\n",
              "      <td>BTC Volatility Index</td>\n",
              "      <td>BTCV</td>\n",
              "      <td>IN</td>\n",
              "      <td>Add Liquidity</td>\n",
              "      <td>ETHEREUM</td>\n",
              "    </tr>\n",
              "  </tbody>\n",
              "</table>\n",
              "</div>"
            ],
            "text/plain": [
              "                                              Txhash  ...     chain\n",
              "0  0xc4bc77f254adcbec01372b053782fbf8b58cc84b9084...  ...  ETHEREUM\n",
              "1  0xc4bc77f254adcbec01372b053782fbf8b58cc84b9084...  ...  ETHEREUM\n",
              "4  0x4a63f753cf0578a65bae5127075bb0f5549f66b91507...  ...  ETHEREUM\n",
              "5  0x4a63f753cf0578a65bae5127075bb0f5549f66b91507...  ...  ETHEREUM\n",
              "6  0x7a656f17631c6d05b54d94974d56031d6e12512ee7f7...  ...  ETHEREUM\n",
              "\n",
              "[5 rows x 12 columns]"
            ]
          },
          "metadata": {},
          "execution_count": 184
        }
      ]
    },
    {
      "cell_type": "code",
      "metadata": {
        "id": "_f3oGnOaw9rA"
      },
      "source": [
        "lps_addresses_counts_df = pd.Series(lps_addresses_df[\"From\"].value_counts(), name='Cumulative Number of Liquidity Added Actions').to_frame()"
      ],
      "execution_count": 185,
      "outputs": []
    },
    {
      "cell_type": "markdown",
      "metadata": {
        "id": "bGNC_CiUX1c2"
      },
      "source": [
        "### Histogram of Cumulative Number of Liquidity Added Actions Per User\n",
        "\n",
        "The histogram below shows the Cumulative Number of Liquidity Added Actions Per User.  \n",
        "\n",
        "The x-axis shows the groupings (bins) of the number of Liquidity Added Actions groups and the y-axis shows the counts.  \n",
        "\n",
        "e.g For 2 Cumulative Number of Liquidity Added Actions, there 1037 users - that is 1037 users in the dataset performed 2 liquidity add actions  \n",
        "\n",
        "Low - 0-2  \n",
        "Medium - 2-7  \n",
        "High - 7-16  "
      ]
    },
    {
      "cell_type": "code",
      "metadata": {
        "colab": {
          "base_uri": "https://localhost:8080/",
          "height": 542
        },
        "id": "dYHb2Hg9w-Kb",
        "outputId": "9e0d6c81-22b8-4188-ccf0-ed5c4abbba98"
      },
      "source": [
        "fig = px.histogram(lps_addresses_counts_df, \n",
        "                   x='Cumulative Number of Liquidity Added Actions', \n",
        "                   title='Histogram of Cumulative Number of Liquidity Added Actions Per User',\n",
        "                   marginal=\"rug\")\n",
        "fig.show()"
      ],
      "execution_count": 186,
      "outputs": [
        {
          "output_type": "display_data",
          "data": {
            "text/html": [
              "<html>\n",
              "<head><meta charset=\"utf-8\" /></head>\n",
              "<body>\n",
              "    <div>\n",
              "            <script src=\"https://cdnjs.cloudflare.com/ajax/libs/mathjax/2.7.5/MathJax.js?config=TeX-AMS-MML_SVG\"></script><script type=\"text/javascript\">if (window.MathJax) {MathJax.Hub.Config({SVG: {font: \"STIX-Web\"}});}</script>\n",
              "                <script type=\"text/javascript\">window.PlotlyConfig = {MathJaxConfig: 'local'};</script>\n",
              "        <script src=\"https://cdn.plot.ly/plotly-latest.min.js\"></script>    \n",
              "            <div id=\"68aa18d5-246c-4a91-8670-a9c990a27664\" class=\"plotly-graph-div\" style=\"height:525px; width:100%;\"></div>\n",
              "            <script type=\"text/javascript\">\n",
              "                \n",
              "                    window.PLOTLYENV=window.PLOTLYENV || {};\n",
              "                    \n",
              "                if (document.getElementById(\"68aa18d5-246c-4a91-8670-a9c990a27664\")) {\n",
              "                    Plotly.newPlot(\n",
              "                        '68aa18d5-246c-4a91-8670-a9c990a27664',\n",
              "                        [{\"alignmentgroup\": \"True\", \"bingroup\": \"x\", \"hoverlabel\": {\"namelength\": 0}, \"hovertemplate\": \"Cumulative Number of Liquidity Added Actions=%{x}<br>count=%{y}\", \"legendgroup\": \"\", \"marker\": {\"color\": \"#636efa\"}, \"name\": \"\", \"offsetgroup\": \"\", \"orientation\": \"v\", \"showlegend\": false, \"type\": \"histogram\", \"x\": [16, 14, 14, 12, 12, 10, 10, 8, 8, 8, 8, 8, 8, 8, 8, 8, 8, 8, 8, 8, 8, 8, 8, 8, 8, 8, 8, 8, 8, 8, 8, 8, 8, 8, 8, 8, 8, 8, 8, 8, 8, 8, 8, 8, 8, 6, 6, 6, 6, 6, 6, 6, 6, 6, 6, 6, 6, 6, 6, 6, 6, 6, 6, 4, 4, 4, 4, 4, 4, 4, 4, 4, 4, 4, 4, 4, 4, 4, 4, 4, 4, 4, 4, 4, 4, 4, 4, 4, 4, 4, 4, 4, 4, 4, 4, 4, 4, 4, 4, 4, 4, 4, 4, 4, 4, 4, 4, 4, 4, 4, 4, 4, 4, 4, 4, 4, 4, 4, 4, 4, 4, 4, 4, 4, 4, 4, 4, 4, 4, 4, 4, 4, 4, 4, 4, 4, 4, 4, 4, 4, 4, 4, 4, 4, 4, 4, 4, 4, 4, 4, 4, 4, 4, 4, 4, 4, 4, 4, 4, 4, 4, 4, 4, 4, 4, 4, 4, 4, 4, 4, 4, 4, 4, 4, 4, 4, 4, 4, 4, 4, 4, 4, 4, 4, 4, 4, 4, 4, 4, 4, 4, 4, 4, 4, 4, 4, 4, 4, 4, 4, 4, 4, 4, 4, 4, 4, 4, 4, 4, 4, 4, 4, 4, 4, 4, 4, 4, 4, 4, 4, 4, 4, 4, 4, 4, 4, 4, 4, 4, 4, 4, 4, 4, 4, 4, 4, 4, 4, 4, 4, 4, 4, 4, 4, 4, 4, 4, 4, 4, 4, 4, 4, 4, 4, 4, 4, 4, 4, 4, 4, 4, 4, 4, 4, 4, 4, 4, 4, 4, 4, 4, 4, 4, 4, 4, 4, 4, 4, 4, 4, 4, 4, 4, 4, 4, 4, 4, 4, 4, 4, 4, 4, 4, 4, 4, 4, 4, 4, 4, 4, 4, 4, 4, 4, 4, 4, 4, 4, 4, 4, 4, 4, 4, 4, 4, 4, 4, 4, 4, 4, 4, 4, 4, 4, 4, 4, 4, 4, 4, 4, 4, 4, 4, 4, 4, 4, 4, 4, 4, 4, 4, 4, 4, 4, 4, 4, 4, 4, 4, 4, 4, 4, 4, 4, 4, 4, 4, 4, 4, 4, 4, 4, 4, 4, 4, 4, 4, 4, 4, 4, 4, 4, 4, 4, 4, 4, 4, 4, 4, 4, 4, 4, 4, 4, 4, 4, 4, 4, 4, 4, 4, 4, 4, 4, 4, 4, 4, 4, 4, 4, 4, 4, 4, 4, 4, 4, 4, 4, 4, 4, 4, 4, 4, 4, 4, 4, 4, 4, 4, 4, 4, 4, 4, 4, 4, 4, 4, 4, 4, 4, 4, 4, 4, 4, 4, 4, 4, 4, 4, 4, 4, 4, 4, 4, 4, 4, 4, 4, 4, 4, 4, 4, 4, 4, 4, 4, 4, 4, 4, 4, 4, 4, 4, 4, 4, 4, 4, 4, 4, 4, 4, 4, 4, 4, 4, 4, 4, 4, 4, 4, 4, 4, 4, 4, 4, 4, 4, 4, 4, 4, 4, 4, 4, 4, 4, 4, 4, 4, 4, 4, 4, 4, 4, 4, 4, 4, 4, 4, 4, 4, 4, 4, 4, 4, 4, 4, 4, 4, 4, 4, 4, 4, 4, 4, 4, 4, 4, 4, 4, 4, 4, 4, 4, 4, 4, 4, 4, 4, 4, 4, 4, 4, 4, 4, 4, 4, 4, 4, 4, 4, 4, 4, 4, 4, 4, 4, 4, 4, 4, 4, 4, 4, 4, 4, 4, 4, 4, 4, 4, 4, 4, 4, 4, 4, 4, 4, 4, 4, 4, 4, 4, 4, 4, 4, 4, 4, 4, 4, 4, 4, 4, 4, 4, 4, 4, 4, 4, 4, 4, 4, 4, 4, 4, 4, 4, 4, 4, 4, 4, 4, 4, 4, 4, 4, 4, 4, 4, 4, 4, 4, 4, 4, 4, 4, 4, 4, 4, 4, 4, 4, 4, 4, 4, 4, 4, 4, 4, 4, 4, 4, 4, 4, 4, 4, 4, 2, 2, 2, 2, 2, 2, 2, 2, 2, 2, 2, 2, 2, 2, 2, 2, 2, 2, 2, 2, 2, 2, 2, 2, 2, 2, 2, 2, 2, 2, 2, 2, 2, 2, 2, 2, 2, 2, 2, 2, 2, 2, 2, 2, 2, 2, 2, 2, 2, 2, 2, 2, 2, 2, 2, 2, 2, 2, 2, 2, 2, 2, 2, 2, 2, 2, 2, 2, 2, 2, 2, 2, 2, 2, 2, 2, 2, 2, 2, 2, 2, 2, 2, 2, 2, 2, 2, 2, 2, 2, 2, 2, 2, 2, 2, 2, 2, 2, 2, 2, 2, 2, 2, 2, 2, 2, 2, 2, 2, 2, 2, 2, 2, 2, 2, 2, 2, 2, 2, 2, 2, 2, 2, 2, 2, 2, 2, 2, 2, 2, 2, 2, 2, 2, 2, 2, 2, 2, 2, 2, 2, 2, 2, 2, 2, 2, 2, 2, 2, 2, 2, 2, 2, 2, 2, 2, 2, 2, 2, 2, 2, 2, 2, 2, 2, 2, 2, 2, 2, 2, 2, 2, 2, 2, 2, 2, 2, 2, 2, 2, 2, 2, 2, 2, 2, 2, 2, 2, 2, 2, 2, 2, 2, 2, 2, 2, 2, 2, 2, 2, 2, 2, 2, 2, 2, 2, 2, 2, 2, 2, 2, 2, 2, 2, 2, 2, 2, 2, 2, 2, 2, 2, 2, 2, 2, 2, 2, 2, 2, 2, 2, 2, 2, 2, 2, 2, 2, 2, 2, 2, 2, 2, 2, 2, 2, 2, 2, 2, 2, 2, 2, 2, 2, 2, 2, 2, 2, 2, 2, 2, 2, 2, 2, 2, 2, 2, 2, 2, 2, 2, 2, 2, 2, 2, 2, 2, 2, 2, 2, 2, 2, 2, 2, 2, 2, 2, 2, 2, 2, 2, 2, 2, 2, 2, 2, 2, 2, 2, 2, 2, 2, 2, 2, 2, 2, 2, 2, 2, 2, 2, 2, 2, 2, 2, 2, 2, 2, 2, 2, 2, 2, 2, 2, 2, 2, 2, 2, 2, 2, 2, 2, 2, 2, 2, 2, 2, 2, 2, 2, 2, 2, 2, 2, 2, 2, 2, 2, 2, 2, 2, 2, 2, 2, 2, 2, 2, 2, 2, 2, 2, 2, 2, 2, 2, 2, 2, 2, 2, 2, 2, 2, 2, 2, 2, 2, 2, 2, 2, 2, 2, 2, 2, 2, 2, 2, 2, 2, 2, 2, 2, 2, 2, 2, 2, 2, 2, 2, 2, 2, 2, 2, 2, 2, 2, 2, 2, 2, 2, 2, 2, 2, 2, 2, 2, 2, 2, 2, 2, 2, 2, 2, 2, 2, 2, 2, 2, 2, 2, 2, 2, 2, 2, 2, 2, 2, 2, 2, 2, 2, 2, 2, 2, 2, 2, 2, 2, 2, 2, 2, 2, 2, 2, 2, 2, 2, 2, 2, 2, 2, 2, 2, 2, 2, 2, 2, 2, 2, 2, 2, 2, 2, 2, 2, 2, 2, 2, 2, 2, 2, 2, 2, 2, 2, 2, 2, 2, 2, 2, 2, 2, 2, 2, 2, 2, 2, 2, 2, 2, 2, 2, 2, 2, 2, 2, 2, 2, 2, 2, 2, 2, 2, 2, 2, 2, 2, 2, 2, 2, 2, 2, 2, 2, 2, 2, 2, 2, 2, 2, 2, 2, 2, 2, 2, 2, 2, 2, 2, 2, 2, 2, 2, 2, 2, 2, 2, 2, 2, 2, 2, 2, 2, 2, 2, 2, 2, 2, 2, 2, 2, 2, 2, 2, 2, 2, 2, 2, 2, 2, 2, 2, 2, 2, 2, 2, 2, 2, 2, 2, 2, 2, 2, 2, 2, 2, 2, 2, 2, 2, 2, 2, 2, 2, 2, 2, 2, 2, 2, 2, 2, 2, 2, 2, 2, 2, 2, 2, 2, 2, 2, 2, 2, 2, 2, 2, 2, 2, 2, 2, 2, 2, 2, 2, 2, 2, 2, 2, 2, 2, 2, 2, 2, 2, 2, 2, 2, 2, 2, 2, 2, 2, 2, 2, 2, 2, 2, 2, 2, 2, 2, 2, 2, 2, 2, 2, 2, 2, 2, 2, 2, 2, 2, 2, 2, 2, 2, 2, 2, 2, 2, 2, 2, 2, 2, 2, 2, 2, 2, 2, 2, 2, 2, 2, 2, 2, 2, 2, 2, 2, 2, 2, 2, 2, 2, 2, 2, 2, 2, 2, 2, 2, 2, 2, 2, 2, 2, 2, 2, 2, 2, 2, 2, 2, 2, 2, 2, 2, 2, 2, 2, 2, 2, 2, 2, 2, 2, 2, 2, 2, 2, 2, 2, 2, 2, 2, 2, 2, 2, 2, 2, 2, 2, 2, 2, 2, 2, 2, 2, 2, 2, 2, 2, 2, 2, 2, 2, 2, 2, 2, 2, 2, 2, 2, 2, 2, 2, 2, 2, 2, 2, 2, 2, 2, 2, 2, 2, 2, 2, 2, 2, 2, 2, 2, 2, 2, 2, 2, 2, 2, 2, 2, 2, 2, 2, 2, 2, 2, 2, 2, 2, 2, 2, 2, 2, 2, 2, 2, 2, 2, 2, 2, 2, 2, 2, 2, 2, 2, 2, 2, 2, 2, 2, 2, 2, 2, 2, 2, 2, 2, 2, 2, 2, 2, 2, 2, 2, 2, 2, 2, 2, 2, 2, 2, 2, 2, 2, 2, 2, 2, 2, 2, 2, 2, 2, 2, 2, 2, 2, 2, 2, 2, 2, 2, 2, 2, 2, 2, 2, 2, 2, 2, 2, 2, 2, 2, 2, 2, 2, 2, 2, 2, 2, 2, 2, 2, 2, 2, 2, 2, 2, 2, 2, 2, 2, 2, 2, 2, 2, 2, 2, 2, 2, 2, 2, 2, 2, 2, 2, 2, 2, 2, 2, 2, 2, 2, 2, 2, 2, 2, 2, 2, 2, 2, 2, 2, 2, 2, 2, 2, 2, 2, 2, 2, 2, 2, 2, 2, 2, 2, 2, 2, 2, 2, 2, 2, 2, 2, 2, 2, 2, 2, 2, 2, 2, 2, 2, 2, 2, 2, 2, 2, 2, 2, 2, 2, 2, 2, 2, 2, 2, 2, 2, 2, 2, 2, 2, 2, 2, 2, 2, 2, 2, 2, 2, 2, 2, 2, 2, 2, 2, 2, 2, 2, 2, 2, 2, 2, 2, 2, 2, 2, 2, 2, 2, 2, 2, 2, 2, 2, 2, 2, 2, 2, 2, 2, 2, 2, 2, 2, 2, 2, 2, 2, 2, 2, 2, 2, 2, 2, 2, 2, 2, 2, 2, 2, 2, 2, 2, 1, 1, 1], \"xaxis\": \"x\", \"yaxis\": \"y\"}, {\"alignmentgroup\": \"True\", \"boxpoints\": \"all\", \"fillcolor\": \"rgba(255,255,255,0)\", \"hoverlabel\": {\"namelength\": 0}, \"hoveron\": \"points\", \"hovertemplate\": \"Cumulative Number of Liquidity Added Actions=%{x}\", \"jitter\": 0, \"legendgroup\": \"\", \"line\": {\"color\": \"rgba(255,255,255,0)\"}, \"marker\": {\"color\": \"#636efa\", \"symbol\": \"line-ns-open\"}, \"name\": \"\", \"offsetgroup\": \"\", \"showlegend\": false, \"type\": \"box\", \"x\": [16, 14, 14, 12, 12, 10, 10, 8, 8, 8, 8, 8, 8, 8, 8, 8, 8, 8, 8, 8, 8, 8, 8, 8, 8, 8, 8, 8, 8, 8, 8, 8, 8, 8, 8, 8, 8, 8, 8, 8, 8, 8, 8, 8, 8, 6, 6, 6, 6, 6, 6, 6, 6, 6, 6, 6, 6, 6, 6, 6, 6, 6, 6, 4, 4, 4, 4, 4, 4, 4, 4, 4, 4, 4, 4, 4, 4, 4, 4, 4, 4, 4, 4, 4, 4, 4, 4, 4, 4, 4, 4, 4, 4, 4, 4, 4, 4, 4, 4, 4, 4, 4, 4, 4, 4, 4, 4, 4, 4, 4, 4, 4, 4, 4, 4, 4, 4, 4, 4, 4, 4, 4, 4, 4, 4, 4, 4, 4, 4, 4, 4, 4, 4, 4, 4, 4, 4, 4, 4, 4, 4, 4, 4, 4, 4, 4, 4, 4, 4, 4, 4, 4, 4, 4, 4, 4, 4, 4, 4, 4, 4, 4, 4, 4, 4, 4, 4, 4, 4, 4, 4, 4, 4, 4, 4, 4, 4, 4, 4, 4, 4, 4, 4, 4, 4, 4, 4, 4, 4, 4, 4, 4, 4, 4, 4, 4, 4, 4, 4, 4, 4, 4, 4, 4, 4, 4, 4, 4, 4, 4, 4, 4, 4, 4, 4, 4, 4, 4, 4, 4, 4, 4, 4, 4, 4, 4, 4, 4, 4, 4, 4, 4, 4, 4, 4, 4, 4, 4, 4, 4, 4, 4, 4, 4, 4, 4, 4, 4, 4, 4, 4, 4, 4, 4, 4, 4, 4, 4, 4, 4, 4, 4, 4, 4, 4, 4, 4, 4, 4, 4, 4, 4, 4, 4, 4, 4, 4, 4, 4, 4, 4, 4, 4, 4, 4, 4, 4, 4, 4, 4, 4, 4, 4, 4, 4, 4, 4, 4, 4, 4, 4, 4, 4, 4, 4, 4, 4, 4, 4, 4, 4, 4, 4, 4, 4, 4, 4, 4, 4, 4, 4, 4, 4, 4, 4, 4, 4, 4, 4, 4, 4, 4, 4, 4, 4, 4, 4, 4, 4, 4, 4, 4, 4, 4, 4, 4, 4, 4, 4, 4, 4, 4, 4, 4, 4, 4, 4, 4, 4, 4, 4, 4, 4, 4, 4, 4, 4, 4, 4, 4, 4, 4, 4, 4, 4, 4, 4, 4, 4, 4, 4, 4, 4, 4, 4, 4, 4, 4, 4, 4, 4, 4, 4, 4, 4, 4, 4, 4, 4, 4, 4, 4, 4, 4, 4, 4, 4, 4, 4, 4, 4, 4, 4, 4, 4, 4, 4, 4, 4, 4, 4, 4, 4, 4, 4, 4, 4, 4, 4, 4, 4, 4, 4, 4, 4, 4, 4, 4, 4, 4, 4, 4, 4, 4, 4, 4, 4, 4, 4, 4, 4, 4, 4, 4, 4, 4, 4, 4, 4, 4, 4, 4, 4, 4, 4, 4, 4, 4, 4, 4, 4, 4, 4, 4, 4, 4, 4, 4, 4, 4, 4, 4, 4, 4, 4, 4, 4, 4, 4, 4, 4, 4, 4, 4, 4, 4, 4, 4, 4, 4, 4, 4, 4, 4, 4, 4, 4, 4, 4, 4, 4, 4, 4, 4, 4, 4, 4, 4, 4, 4, 4, 4, 4, 4, 4, 4, 4, 4, 4, 4, 4, 4, 4, 4, 4, 4, 4, 4, 4, 4, 4, 4, 4, 4, 4, 4, 4, 4, 4, 4, 4, 4, 4, 4, 4, 4, 4, 4, 4, 4, 4, 4, 4, 4, 4, 4, 4, 4, 4, 4, 4, 4, 4, 4, 4, 4, 4, 4, 4, 4, 4, 4, 4, 4, 4, 4, 4, 4, 4, 4, 4, 4, 4, 4, 4, 4, 4, 4, 4, 4, 4, 4, 4, 4, 4, 4, 4, 4, 4, 4, 4, 4, 4, 4, 4, 4, 4, 4, 4, 4, 4, 4, 4, 4, 4, 4, 4, 4, 4, 4, 4, 4, 4, 4, 4, 4, 4, 4, 4, 4, 4, 4, 4, 4, 4, 2, 2, 2, 2, 2, 2, 2, 2, 2, 2, 2, 2, 2, 2, 2, 2, 2, 2, 2, 2, 2, 2, 2, 2, 2, 2, 2, 2, 2, 2, 2, 2, 2, 2, 2, 2, 2, 2, 2, 2, 2, 2, 2, 2, 2, 2, 2, 2, 2, 2, 2, 2, 2, 2, 2, 2, 2, 2, 2, 2, 2, 2, 2, 2, 2, 2, 2, 2, 2, 2, 2, 2, 2, 2, 2, 2, 2, 2, 2, 2, 2, 2, 2, 2, 2, 2, 2, 2, 2, 2, 2, 2, 2, 2, 2, 2, 2, 2, 2, 2, 2, 2, 2, 2, 2, 2, 2, 2, 2, 2, 2, 2, 2, 2, 2, 2, 2, 2, 2, 2, 2, 2, 2, 2, 2, 2, 2, 2, 2, 2, 2, 2, 2, 2, 2, 2, 2, 2, 2, 2, 2, 2, 2, 2, 2, 2, 2, 2, 2, 2, 2, 2, 2, 2, 2, 2, 2, 2, 2, 2, 2, 2, 2, 2, 2, 2, 2, 2, 2, 2, 2, 2, 2, 2, 2, 2, 2, 2, 2, 2, 2, 2, 2, 2, 2, 2, 2, 2, 2, 2, 2, 2, 2, 2, 2, 2, 2, 2, 2, 2, 2, 2, 2, 2, 2, 2, 2, 2, 2, 2, 2, 2, 2, 2, 2, 2, 2, 2, 2, 2, 2, 2, 2, 2, 2, 2, 2, 2, 2, 2, 2, 2, 2, 2, 2, 2, 2, 2, 2, 2, 2, 2, 2, 2, 2, 2, 2, 2, 2, 2, 2, 2, 2, 2, 2, 2, 2, 2, 2, 2, 2, 2, 2, 2, 2, 2, 2, 2, 2, 2, 2, 2, 2, 2, 2, 2, 2, 2, 2, 2, 2, 2, 2, 2, 2, 2, 2, 2, 2, 2, 2, 2, 2, 2, 2, 2, 2, 2, 2, 2, 2, 2, 2, 2, 2, 2, 2, 2, 2, 2, 2, 2, 2, 2, 2, 2, 2, 2, 2, 2, 2, 2, 2, 2, 2, 2, 2, 2, 2, 2, 2, 2, 2, 2, 2, 2, 2, 2, 2, 2, 2, 2, 2, 2, 2, 2, 2, 2, 2, 2, 2, 2, 2, 2, 2, 2, 2, 2, 2, 2, 2, 2, 2, 2, 2, 2, 2, 2, 2, 2, 2, 2, 2, 2, 2, 2, 2, 2, 2, 2, 2, 2, 2, 2, 2, 2, 2, 2, 2, 2, 2, 2, 2, 2, 2, 2, 2, 2, 2, 2, 2, 2, 2, 2, 2, 2, 2, 2, 2, 2, 2, 2, 2, 2, 2, 2, 2, 2, 2, 2, 2, 2, 2, 2, 2, 2, 2, 2, 2, 2, 2, 2, 2, 2, 2, 2, 2, 2, 2, 2, 2, 2, 2, 2, 2, 2, 2, 2, 2, 2, 2, 2, 2, 2, 2, 2, 2, 2, 2, 2, 2, 2, 2, 2, 2, 2, 2, 2, 2, 2, 2, 2, 2, 2, 2, 2, 2, 2, 2, 2, 2, 2, 2, 2, 2, 2, 2, 2, 2, 2, 2, 2, 2, 2, 2, 2, 2, 2, 2, 2, 2, 2, 2, 2, 2, 2, 2, 2, 2, 2, 2, 2, 2, 2, 2, 2, 2, 2, 2, 2, 2, 2, 2, 2, 2, 2, 2, 2, 2, 2, 2, 2, 2, 2, 2, 2, 2, 2, 2, 2, 2, 2, 2, 2, 2, 2, 2, 2, 2, 2, 2, 2, 2, 2, 2, 2, 2, 2, 2, 2, 2, 2, 2, 2, 2, 2, 2, 2, 2, 2, 2, 2, 2, 2, 2, 2, 2, 2, 2, 2, 2, 2, 2, 2, 2, 2, 2, 2, 2, 2, 2, 2, 2, 2, 2, 2, 2, 2, 2, 2, 2, 2, 2, 2, 2, 2, 2, 2, 2, 2, 2, 2, 2, 2, 2, 2, 2, 2, 2, 2, 2, 2, 2, 2, 2, 2, 2, 2, 2, 2, 2, 2, 2, 2, 2, 2, 2, 2, 2, 2, 2, 2, 2, 2, 2, 2, 2, 2, 2, 2, 2, 2, 2, 2, 2, 2, 2, 2, 2, 2, 2, 2, 2, 2, 2, 2, 2, 2, 2, 2, 2, 2, 2, 2, 2, 2, 2, 2, 2, 2, 2, 2, 2, 2, 2, 2, 2, 2, 2, 2, 2, 2, 2, 2, 2, 2, 2, 2, 2, 2, 2, 2, 2, 2, 2, 2, 2, 2, 2, 2, 2, 2, 2, 2, 2, 2, 2, 2, 2, 2, 2, 2, 2, 2, 2, 2, 2, 2, 2, 2, 2, 2, 2, 2, 2, 2, 2, 2, 2, 2, 2, 2, 2, 2, 2, 2, 2, 2, 2, 2, 2, 2, 2, 2, 2, 2, 2, 2, 2, 2, 2, 2, 2, 2, 2, 2, 2, 2, 2, 2, 2, 2, 2, 2, 2, 2, 2, 2, 2, 2, 2, 2, 2, 2, 2, 2, 2, 2, 2, 2, 2, 2, 2, 2, 2, 2, 2, 2, 2, 2, 2, 2, 2, 2, 2, 2, 2, 2, 2, 2, 2, 2, 2, 2, 2, 2, 2, 2, 2, 2, 2, 2, 2, 2, 2, 2, 2, 2, 2, 2, 2, 2, 2, 2, 2, 2, 2, 2, 2, 2, 2, 2, 2, 2, 2, 2, 2, 2, 2, 2, 2, 2, 2, 2, 2, 2, 2, 2, 2, 2, 2, 2, 2, 2, 2, 2, 2, 2, 2, 2, 2, 2, 2, 2, 2, 2, 2, 2, 2, 2, 2, 2, 2, 2, 2, 2, 2, 2, 2, 2, 2, 2, 2, 2, 2, 2, 2, 2, 2, 2, 2, 2, 2, 2, 2, 2, 2, 2, 2, 2, 2, 2, 2, 2, 2, 2, 2, 2, 2, 2, 2, 2, 2, 2, 2, 2, 2, 2, 2, 2, 2, 2, 2, 2, 2, 2, 2, 2, 2, 2, 2, 2, 2, 2, 2, 2, 2, 2, 2, 2, 2, 2, 2, 2, 2, 2, 2, 2, 2, 2, 2, 2, 2, 2, 2, 2, 2, 2, 2, 2, 2, 2, 2, 2, 2, 2, 2, 2, 2, 2, 2, 2, 2, 2, 2, 2, 2, 2, 2, 2, 2, 2, 2, 2, 2, 2, 2, 2, 2, 2, 2, 2, 2, 2, 2, 2, 2, 2, 2, 2, 2, 2, 2, 2, 2, 2, 2, 2, 2, 2, 2, 2, 2, 2, 2, 2, 2, 2, 2, 2, 2, 2, 2, 2, 2, 2, 2, 1, 1, 1], \"xaxis\": \"x2\", \"yaxis\": \"y2\"}],\n",
              "                        {\"barmode\": \"relative\", \"legend\": {\"tracegroupgap\": 0}, \"template\": {\"data\": {\"bar\": [{\"error_x\": {\"color\": \"#2a3f5f\"}, \"error_y\": {\"color\": \"#2a3f5f\"}, \"marker\": {\"line\": {\"color\": \"#E5ECF6\", \"width\": 0.5}}, \"type\": \"bar\"}], \"barpolar\": [{\"marker\": {\"line\": {\"color\": \"#E5ECF6\", \"width\": 0.5}}, \"type\": \"barpolar\"}], \"carpet\": [{\"aaxis\": {\"endlinecolor\": \"#2a3f5f\", \"gridcolor\": \"white\", \"linecolor\": \"white\", \"minorgridcolor\": \"white\", \"startlinecolor\": \"#2a3f5f\"}, \"baxis\": {\"endlinecolor\": \"#2a3f5f\", \"gridcolor\": \"white\", \"linecolor\": \"white\", \"minorgridcolor\": \"white\", \"startlinecolor\": \"#2a3f5f\"}, \"type\": \"carpet\"}], \"choropleth\": [{\"colorbar\": {\"outlinewidth\": 0, \"ticks\": \"\"}, \"type\": \"choropleth\"}], \"contour\": [{\"colorbar\": {\"outlinewidth\": 0, \"ticks\": \"\"}, \"colorscale\": [[0.0, \"#0d0887\"], [0.1111111111111111, \"#46039f\"], [0.2222222222222222, \"#7201a8\"], [0.3333333333333333, \"#9c179e\"], [0.4444444444444444, \"#bd3786\"], [0.5555555555555556, \"#d8576b\"], [0.6666666666666666, \"#ed7953\"], [0.7777777777777778, \"#fb9f3a\"], [0.8888888888888888, \"#fdca26\"], [1.0, \"#f0f921\"]], \"type\": \"contour\"}], \"contourcarpet\": [{\"colorbar\": {\"outlinewidth\": 0, \"ticks\": \"\"}, \"type\": \"contourcarpet\"}], \"heatmap\": [{\"colorbar\": {\"outlinewidth\": 0, \"ticks\": \"\"}, \"colorscale\": [[0.0, \"#0d0887\"], [0.1111111111111111, \"#46039f\"], [0.2222222222222222, \"#7201a8\"], [0.3333333333333333, \"#9c179e\"], [0.4444444444444444, \"#bd3786\"], [0.5555555555555556, \"#d8576b\"], [0.6666666666666666, \"#ed7953\"], [0.7777777777777778, \"#fb9f3a\"], [0.8888888888888888, \"#fdca26\"], [1.0, \"#f0f921\"]], \"type\": \"heatmap\"}], \"heatmapgl\": [{\"colorbar\": {\"outlinewidth\": 0, \"ticks\": \"\"}, \"colorscale\": [[0.0, \"#0d0887\"], [0.1111111111111111, \"#46039f\"], [0.2222222222222222, \"#7201a8\"], [0.3333333333333333, \"#9c179e\"], [0.4444444444444444, \"#bd3786\"], [0.5555555555555556, \"#d8576b\"], [0.6666666666666666, \"#ed7953\"], [0.7777777777777778, \"#fb9f3a\"], [0.8888888888888888, \"#fdca26\"], [1.0, \"#f0f921\"]], \"type\": \"heatmapgl\"}], \"histogram\": [{\"marker\": {\"colorbar\": {\"outlinewidth\": 0, \"ticks\": \"\"}}, \"type\": \"histogram\"}], \"histogram2d\": [{\"colorbar\": {\"outlinewidth\": 0, \"ticks\": \"\"}, \"colorscale\": [[0.0, \"#0d0887\"], [0.1111111111111111, \"#46039f\"], [0.2222222222222222, \"#7201a8\"], [0.3333333333333333, \"#9c179e\"], [0.4444444444444444, \"#bd3786\"], [0.5555555555555556, \"#d8576b\"], [0.6666666666666666, \"#ed7953\"], [0.7777777777777778, \"#fb9f3a\"], [0.8888888888888888, \"#fdca26\"], [1.0, \"#f0f921\"]], \"type\": \"histogram2d\"}], \"histogram2dcontour\": [{\"colorbar\": {\"outlinewidth\": 0, \"ticks\": \"\"}, \"colorscale\": [[0.0, \"#0d0887\"], [0.1111111111111111, \"#46039f\"], [0.2222222222222222, \"#7201a8\"], [0.3333333333333333, \"#9c179e\"], [0.4444444444444444, \"#bd3786\"], [0.5555555555555556, \"#d8576b\"], [0.6666666666666666, \"#ed7953\"], [0.7777777777777778, \"#fb9f3a\"], [0.8888888888888888, \"#fdca26\"], [1.0, \"#f0f921\"]], \"type\": \"histogram2dcontour\"}], \"mesh3d\": [{\"colorbar\": {\"outlinewidth\": 0, \"ticks\": \"\"}, \"type\": \"mesh3d\"}], \"parcoords\": [{\"line\": {\"colorbar\": {\"outlinewidth\": 0, \"ticks\": \"\"}}, \"type\": \"parcoords\"}], \"pie\": [{\"automargin\": true, \"type\": \"pie\"}], \"scatter\": [{\"marker\": {\"colorbar\": {\"outlinewidth\": 0, \"ticks\": \"\"}}, \"type\": \"scatter\"}], \"scatter3d\": [{\"line\": {\"colorbar\": {\"outlinewidth\": 0, \"ticks\": \"\"}}, \"marker\": {\"colorbar\": {\"outlinewidth\": 0, \"ticks\": \"\"}}, \"type\": \"scatter3d\"}], \"scattercarpet\": [{\"marker\": {\"colorbar\": {\"outlinewidth\": 0, \"ticks\": \"\"}}, \"type\": \"scattercarpet\"}], \"scattergeo\": [{\"marker\": {\"colorbar\": {\"outlinewidth\": 0, \"ticks\": \"\"}}, \"type\": \"scattergeo\"}], \"scattergl\": [{\"marker\": {\"colorbar\": {\"outlinewidth\": 0, \"ticks\": \"\"}}, \"type\": \"scattergl\"}], \"scattermapbox\": [{\"marker\": {\"colorbar\": {\"outlinewidth\": 0, \"ticks\": \"\"}}, \"type\": \"scattermapbox\"}], \"scatterpolar\": [{\"marker\": {\"colorbar\": {\"outlinewidth\": 0, \"ticks\": \"\"}}, \"type\": \"scatterpolar\"}], \"scatterpolargl\": [{\"marker\": {\"colorbar\": {\"outlinewidth\": 0, \"ticks\": \"\"}}, \"type\": \"scatterpolargl\"}], \"scatterternary\": [{\"marker\": {\"colorbar\": {\"outlinewidth\": 0, \"ticks\": \"\"}}, \"type\": \"scatterternary\"}], \"surface\": [{\"colorbar\": {\"outlinewidth\": 0, \"ticks\": \"\"}, \"colorscale\": [[0.0, \"#0d0887\"], [0.1111111111111111, \"#46039f\"], [0.2222222222222222, \"#7201a8\"], [0.3333333333333333, \"#9c179e\"], [0.4444444444444444, \"#bd3786\"], [0.5555555555555556, \"#d8576b\"], [0.6666666666666666, \"#ed7953\"], [0.7777777777777778, \"#fb9f3a\"], [0.8888888888888888, \"#fdca26\"], [1.0, \"#f0f921\"]], \"type\": \"surface\"}], \"table\": [{\"cells\": {\"fill\": {\"color\": \"#EBF0F8\"}, \"line\": {\"color\": \"white\"}}, \"header\": {\"fill\": {\"color\": \"#C8D4E3\"}, \"line\": {\"color\": \"white\"}}, \"type\": \"table\"}]}, \"layout\": {\"annotationdefaults\": {\"arrowcolor\": \"#2a3f5f\", \"arrowhead\": 0, \"arrowwidth\": 1}, \"coloraxis\": {\"colorbar\": {\"outlinewidth\": 0, \"ticks\": \"\"}}, \"colorscale\": {\"diverging\": [[0, \"#8e0152\"], [0.1, \"#c51b7d\"], [0.2, \"#de77ae\"], [0.3, \"#f1b6da\"], [0.4, \"#fde0ef\"], [0.5, \"#f7f7f7\"], [0.6, \"#e6f5d0\"], [0.7, \"#b8e186\"], [0.8, \"#7fbc41\"], [0.9, \"#4d9221\"], [1, \"#276419\"]], \"sequential\": [[0.0, \"#0d0887\"], [0.1111111111111111, \"#46039f\"], [0.2222222222222222, \"#7201a8\"], [0.3333333333333333, \"#9c179e\"], [0.4444444444444444, \"#bd3786\"], [0.5555555555555556, \"#d8576b\"], [0.6666666666666666, \"#ed7953\"], [0.7777777777777778, \"#fb9f3a\"], [0.8888888888888888, \"#fdca26\"], [1.0, \"#f0f921\"]], \"sequentialminus\": [[0.0, \"#0d0887\"], [0.1111111111111111, \"#46039f\"], [0.2222222222222222, \"#7201a8\"], [0.3333333333333333, \"#9c179e\"], [0.4444444444444444, \"#bd3786\"], [0.5555555555555556, \"#d8576b\"], [0.6666666666666666, \"#ed7953\"], [0.7777777777777778, \"#fb9f3a\"], [0.8888888888888888, \"#fdca26\"], [1.0, \"#f0f921\"]]}, \"colorway\": [\"#636efa\", \"#EF553B\", \"#00cc96\", \"#ab63fa\", \"#FFA15A\", \"#19d3f3\", \"#FF6692\", \"#B6E880\", \"#FF97FF\", \"#FECB52\"], \"font\": {\"color\": \"#2a3f5f\"}, \"geo\": {\"bgcolor\": \"white\", \"lakecolor\": \"white\", \"landcolor\": \"#E5ECF6\", \"showlakes\": true, \"showland\": true, \"subunitcolor\": \"white\"}, \"hoverlabel\": {\"align\": \"left\"}, \"hovermode\": \"closest\", \"mapbox\": {\"style\": \"light\"}, \"paper_bgcolor\": \"white\", \"plot_bgcolor\": \"#E5ECF6\", \"polar\": {\"angularaxis\": {\"gridcolor\": \"white\", \"linecolor\": \"white\", \"ticks\": \"\"}, \"bgcolor\": \"#E5ECF6\", \"radialaxis\": {\"gridcolor\": \"white\", \"linecolor\": \"white\", \"ticks\": \"\"}}, \"scene\": {\"xaxis\": {\"backgroundcolor\": \"#E5ECF6\", \"gridcolor\": \"white\", \"gridwidth\": 2, \"linecolor\": \"white\", \"showbackground\": true, \"ticks\": \"\", \"zerolinecolor\": \"white\"}, \"yaxis\": {\"backgroundcolor\": \"#E5ECF6\", \"gridcolor\": \"white\", \"gridwidth\": 2, \"linecolor\": \"white\", \"showbackground\": true, \"ticks\": \"\", \"zerolinecolor\": \"white\"}, \"zaxis\": {\"backgroundcolor\": \"#E5ECF6\", \"gridcolor\": \"white\", \"gridwidth\": 2, \"linecolor\": \"white\", \"showbackground\": true, \"ticks\": \"\", \"zerolinecolor\": \"white\"}}, \"shapedefaults\": {\"line\": {\"color\": \"#2a3f5f\"}}, \"ternary\": {\"aaxis\": {\"gridcolor\": \"white\", \"linecolor\": \"white\", \"ticks\": \"\"}, \"baxis\": {\"gridcolor\": \"white\", \"linecolor\": \"white\", \"ticks\": \"\"}, \"bgcolor\": \"#E5ECF6\", \"caxis\": {\"gridcolor\": \"white\", \"linecolor\": \"white\", \"ticks\": \"\"}}, \"title\": {\"x\": 0.05}, \"xaxis\": {\"automargin\": true, \"gridcolor\": \"white\", \"linecolor\": \"white\", \"ticks\": \"\", \"title\": {\"standoff\": 15}, \"zerolinecolor\": \"white\", \"zerolinewidth\": 2}, \"yaxis\": {\"automargin\": true, \"gridcolor\": \"white\", \"linecolor\": \"white\", \"ticks\": \"\", \"title\": {\"standoff\": 15}, \"zerolinecolor\": \"white\", \"zerolinewidth\": 2}}}, \"title\": {\"text\": \"Histogram of Cumulative Number of Liquidity Added Actions Per User\"}, \"xaxis\": {\"anchor\": \"y\", \"domain\": [0.0, 1.0], \"title\": {\"text\": \"Cumulative Number of Liquidity Added Actions\"}}, \"xaxis2\": {\"anchor\": \"y2\", \"domain\": [0.0, 1.0], \"matches\": \"x\", \"showgrid\": true, \"showticklabels\": false}, \"yaxis\": {\"anchor\": \"x\", \"domain\": [0.0, 0.8316], \"title\": {\"text\": \"count\"}}, \"yaxis2\": {\"anchor\": \"x2\", \"domain\": [0.8416, 1.0], \"matches\": \"y2\", \"showgrid\": false, \"showline\": false, \"showticklabels\": false, \"ticks\": \"\"}},\n",
              "                        {\"responsive\": true}\n",
              "                    ).then(function(){\n",
              "                            \n",
              "var gd = document.getElementById('68aa18d5-246c-4a91-8670-a9c990a27664');\n",
              "var x = new MutationObserver(function (mutations, observer) {{\n",
              "        var display = window.getComputedStyle(gd).display;\n",
              "        if (!display || display === 'none') {{\n",
              "            console.log([gd, 'removed!']);\n",
              "            Plotly.purge(gd);\n",
              "            observer.disconnect();\n",
              "        }}\n",
              "}});\n",
              "\n",
              "// Listen for the removal of the full notebook cells\n",
              "var notebookContainer = gd.closest('#notebook-container');\n",
              "if (notebookContainer) {{\n",
              "    x.observe(notebookContainer, {childList: true});\n",
              "}}\n",
              "\n",
              "// Listen for the clearing of the current output cell\n",
              "var outputEl = gd.closest('.output');\n",
              "if (outputEl) {{\n",
              "    x.observe(outputEl, {childList: true});\n",
              "}}\n",
              "\n",
              "                        })\n",
              "                };\n",
              "                \n",
              "            </script>\n",
              "        </div>\n",
              "</body>\n",
              "</html>"
            ]
          },
          "metadata": {}
        }
      ]
    },
    {
      "cell_type": "code",
      "metadata": {
        "id": "Y32IViwOQg3l"
      },
      "source": [
        "# Label data with grouping low/medium/high to enable joining back onto CSV for minters\n",
        "cut_labels_3 = ['Low', 'Medium', 'High']\n",
        "cut_bins = [0, 2, 7, 16]\n",
        "lps_addresses_counts_df['cumulative_liquidity_added_groupings'] = pd.cut(lps_addresses_counts_df['Cumulative Number of Liquidity Added Actions'], bins=cut_bins, labels=cut_labels_3)"
      ],
      "execution_count": 187,
      "outputs": []
    },
    {
      "cell_type": "code",
      "metadata": {
        "id": "AhXIO3H_QkIP"
      },
      "source": [
        "lps_addresses_counts_df = lps_addresses_counts_df.reset_index().rename(columns={\"index\": \"From\"})"
      ],
      "execution_count": 188,
      "outputs": []
    },
    {
      "cell_type": "code",
      "metadata": {
        "colab": {
          "base_uri": "https://localhost:8080/",
          "height": 462
        },
        "id": "BFWZ8sZHQmF1",
        "outputId": "92582d18-e3b3-403f-dfbc-df69f7ec70f5"
      },
      "source": [
        "lps_addresses_counts_grouped_df = pd.merge(lps_addresses_df,lps_addresses_counts_df,on='From',how='left')\n",
        "lps_addresses_counts_grouped_df.head()"
      ],
      "execution_count": 189,
      "outputs": [
        {
          "output_type": "execute_result",
          "data": {
            "text/html": [
              "<div>\n",
              "<style scoped>\n",
              "    .dataframe tbody tr th:only-of-type {\n",
              "        vertical-align: middle;\n",
              "    }\n",
              "\n",
              "    .dataframe tbody tr th {\n",
              "        vertical-align: top;\n",
              "    }\n",
              "\n",
              "    .dataframe thead th {\n",
              "        text-align: right;\n",
              "    }\n",
              "</style>\n",
              "<table border=\"1\" class=\"dataframe\">\n",
              "  <thead>\n",
              "    <tr style=\"text-align: right;\">\n",
              "      <th></th>\n",
              "      <th>Txhash</th>\n",
              "      <th>UnixTimestamp</th>\n",
              "      <th>DateTime</th>\n",
              "      <th>From</th>\n",
              "      <th>To</th>\n",
              "      <th>Value</th>\n",
              "      <th>ContractAddress</th>\n",
              "      <th>TokenName</th>\n",
              "      <th>TokenSymbol</th>\n",
              "      <th>Type</th>\n",
              "      <th>tx_type_label</th>\n",
              "      <th>chain</th>\n",
              "      <th>Cumulative Number of Liquidity Added Actions</th>\n",
              "      <th>cumulative_liquidity_added_groupings</th>\n",
              "    </tr>\n",
              "  </thead>\n",
              "  <tbody>\n",
              "    <tr>\n",
              "      <th>0</th>\n",
              "      <td>0xc4bc77f254adcbec01372b053782fbf8b58cc84b9084...</td>\n",
              "      <td>1623769680</td>\n",
              "      <td>2021-06-15 15:08:00</td>\n",
              "      <td>0x19ac6292d62465cd3c82a082e0b5f9b875c57d92</td>\n",
              "      <td>0x97693242c5703900fc7651c9164a334ee5ddfa2d</td>\n",
              "      <td>11.52923</td>\n",
              "      <td>0x51b0bcbeff204b39ce792d1e16767fe6f7631970</td>\n",
              "      <td>BTC Volatility Index</td>\n",
              "      <td>BTCV</td>\n",
              "      <td>IN</td>\n",
              "      <td>Add Liquidity</td>\n",
              "      <td>ETHEREUM</td>\n",
              "      <td>16</td>\n",
              "      <td>High</td>\n",
              "    </tr>\n",
              "    <tr>\n",
              "      <th>1</th>\n",
              "      <td>0xc4bc77f254adcbec01372b053782fbf8b58cc84b9084...</td>\n",
              "      <td>1623769680</td>\n",
              "      <td>2021-06-15 15:08:00</td>\n",
              "      <td>0x19ac6292d62465cd3c82a082e0b5f9b875c57d92</td>\n",
              "      <td>0x97693242c5703900fc7651c9164a334ee5ddfa2d</td>\n",
              "      <td>2500.00000</td>\n",
              "      <td>0xa0b86991c6218b36c1d19d4a2e9eb0ce3606eb48</td>\n",
              "      <td>USD Coin</td>\n",
              "      <td>USDC</td>\n",
              "      <td>IN</td>\n",
              "      <td>Add Liquidity</td>\n",
              "      <td>ETHEREUM</td>\n",
              "      <td>16</td>\n",
              "      <td>High</td>\n",
              "    </tr>\n",
              "    <tr>\n",
              "      <th>2</th>\n",
              "      <td>0x4a63f753cf0578a65bae5127075bb0f5549f66b91507...</td>\n",
              "      <td>1623786369</td>\n",
              "      <td>2021-06-15 19:46:09</td>\n",
              "      <td>0x19ac6292d62465cd3c82a082e0b5f9b875c57d92</td>\n",
              "      <td>0x97693242c5703900fc7651c9164a334ee5ddfa2d</td>\n",
              "      <td>30.00000</td>\n",
              "      <td>0x51b0bcbeff204b39ce792d1e16767fe6f7631970</td>\n",
              "      <td>BTC Volatility Index</td>\n",
              "      <td>BTCV</td>\n",
              "      <td>IN</td>\n",
              "      <td>Add Liquidity</td>\n",
              "      <td>ETHEREUM</td>\n",
              "      <td>16</td>\n",
              "      <td>High</td>\n",
              "    </tr>\n",
              "    <tr>\n",
              "      <th>3</th>\n",
              "      <td>0x4a63f753cf0578a65bae5127075bb0f5549f66b91507...</td>\n",
              "      <td>1623786369</td>\n",
              "      <td>2021-06-15 19:46:09</td>\n",
              "      <td>0x19ac6292d62465cd3c82a082e0b5f9b875c57d92</td>\n",
              "      <td>0x97693242c5703900fc7651c9164a334ee5ddfa2d</td>\n",
              "      <td>755.29052</td>\n",
              "      <td>0xa0b86991c6218b36c1d19d4a2e9eb0ce3606eb48</td>\n",
              "      <td>USD Coin</td>\n",
              "      <td>USDC</td>\n",
              "      <td>IN</td>\n",
              "      <td>Add Liquidity</td>\n",
              "      <td>ETHEREUM</td>\n",
              "      <td>16</td>\n",
              "      <td>High</td>\n",
              "    </tr>\n",
              "    <tr>\n",
              "      <th>4</th>\n",
              "      <td>0x7a656f17631c6d05b54d94974d56031d6e12512ee7f7...</td>\n",
              "      <td>1623864014</td>\n",
              "      <td>2021-06-16 17:20:14</td>\n",
              "      <td>0x3dac271d1b36a434880c527a678b6487ac9c1f8c</td>\n",
              "      <td>0x97693242c5703900fc7651c9164a334ee5ddfa2d</td>\n",
              "      <td>0.99900</td>\n",
              "      <td>0x51b0bcbeff204b39ce792d1e16767fe6f7631970</td>\n",
              "      <td>BTC Volatility Index</td>\n",
              "      <td>BTCV</td>\n",
              "      <td>IN</td>\n",
              "      <td>Add Liquidity</td>\n",
              "      <td>ETHEREUM</td>\n",
              "      <td>8</td>\n",
              "      <td>High</td>\n",
              "    </tr>\n",
              "  </tbody>\n",
              "</table>\n",
              "</div>"
            ],
            "text/plain": [
              "                                              Txhash  ...  cumulative_liquidity_added_groupings\n",
              "0  0xc4bc77f254adcbec01372b053782fbf8b58cc84b9084...  ...                                  High\n",
              "1  0xc4bc77f254adcbec01372b053782fbf8b58cc84b9084...  ...                                  High\n",
              "2  0x4a63f753cf0578a65bae5127075bb0f5549f66b91507...  ...                                  High\n",
              "3  0x4a63f753cf0578a65bae5127075bb0f5549f66b91507...  ...                                  High\n",
              "4  0x7a656f17631c6d05b54d94974d56031d6e12512ee7f7...  ...                                  High\n",
              "\n",
              "[5 rows x 14 columns]"
            ]
          },
          "metadata": {},
          "execution_count": 189
        }
      ]
    },
    {
      "cell_type": "code",
      "metadata": {
        "colab": {
          "base_uri": "https://localhost:8080/",
          "height": 142
        },
        "id": "6L2euwVRcixD",
        "outputId": "0c14ec37-7013-40d5-8424-1e1d30b6d9dc"
      },
      "source": [
        "lps_addresses_counts_grouped_liquidity_df = lps_addresses_counts_grouped_df.groupby(by='cumulative_liquidity_added_groupings', as_index=False).agg({'From': pd.Series.nunique}).rename(columns={\"From\": \"Number of Users\"})\n",
        "lps_addresses_counts_grouped_liquidity_df.head()"
      ],
      "execution_count": 190,
      "outputs": [
        {
          "output_type": "execute_result",
          "data": {
            "text/html": [
              "<div>\n",
              "<style scoped>\n",
              "    .dataframe tbody tr th:only-of-type {\n",
              "        vertical-align: middle;\n",
              "    }\n",
              "\n",
              "    .dataframe tbody tr th {\n",
              "        vertical-align: top;\n",
              "    }\n",
              "\n",
              "    .dataframe thead th {\n",
              "        text-align: right;\n",
              "    }\n",
              "</style>\n",
              "<table border=\"1\" class=\"dataframe\">\n",
              "  <thead>\n",
              "    <tr style=\"text-align: right;\">\n",
              "      <th></th>\n",
              "      <th>cumulative_liquidity_added_groupings</th>\n",
              "      <th>Number of Users</th>\n",
              "    </tr>\n",
              "  </thead>\n",
              "  <tbody>\n",
              "    <tr>\n",
              "      <th>0</th>\n",
              "      <td>Low</td>\n",
              "      <td>1040</td>\n",
              "    </tr>\n",
              "    <tr>\n",
              "      <th>1</th>\n",
              "      <td>Medium</td>\n",
              "      <td>600</td>\n",
              "    </tr>\n",
              "    <tr>\n",
              "      <th>2</th>\n",
              "      <td>High</td>\n",
              "      <td>45</td>\n",
              "    </tr>\n",
              "  </tbody>\n",
              "</table>\n",
              "</div>"
            ],
            "text/plain": [
              "  cumulative_liquidity_added_groupings  Number of Users\n",
              "0                                  Low             1040\n",
              "1                               Medium              600\n",
              "2                                 High               45"
            ]
          },
          "metadata": {},
          "execution_count": 190
        }
      ]
    },
    {
      "cell_type": "markdown",
      "metadata": {
        "id": "32EszkIMQUvB"
      },
      "source": [
        "## User Bucketing - Total Liquidity Added Amounts"
      ]
    },
    {
      "cell_type": "code",
      "metadata": {
        "id": "8ny-GqrAWBbl"
      },
      "source": [
        "# Standardise the trade values into USDC - there are some trades that will be USDC and some that will be volatility tokens\n",
        "# The ideal scenario would be to have an up to date table with price history for the volatility tokens however in this case we will use the latest static values from coingecko\n",
        "# BTCV - $97.44, IBTCV - $175.72, ETHV - $119.94, IETHV - $125.46\n",
        "def calculate_usd(row):\n",
        "    if row['TokenSymbol'] == 'BTCV':\n",
        "        return row['Value'] * 97.44\n",
        "    elif row['TokenSymbol'] =='iBTCV':\n",
        "        return row['Value'] * 175.72\n",
        "    elif row['TokenSymbol'] =='ETHV':\n",
        "        return row['Value'] * 119.94\n",
        "    elif row['TokenSymbol'] =='iETHV':\n",
        "        return row['Value'] * 125.46\n",
        "    else:\n",
        "        return row['Value']"
      ],
      "execution_count": 191,
      "outputs": []
    },
    {
      "cell_type": "code",
      "metadata": {
        "id": "Tj_wUr2-WBLO"
      },
      "source": [
        "lps_addresses_counts_grouped_df['usd_value'] = lps_addresses_counts_grouped_df.apply(calculate_usd, axis=1)"
      ],
      "execution_count": 192,
      "outputs": []
    },
    {
      "cell_type": "code",
      "metadata": {
        "colab": {
          "base_uri": "https://localhost:8080/",
          "height": 462
        },
        "id": "gqH2Z_jHVbRT",
        "outputId": "ece627b2-0dbb-45ac-9736-598f887a29e9"
      },
      "source": [
        "lps_addresses_counts_grouped_df.head()"
      ],
      "execution_count": 193,
      "outputs": [
        {
          "output_type": "execute_result",
          "data": {
            "text/html": [
              "<div>\n",
              "<style scoped>\n",
              "    .dataframe tbody tr th:only-of-type {\n",
              "        vertical-align: middle;\n",
              "    }\n",
              "\n",
              "    .dataframe tbody tr th {\n",
              "        vertical-align: top;\n",
              "    }\n",
              "\n",
              "    .dataframe thead th {\n",
              "        text-align: right;\n",
              "    }\n",
              "</style>\n",
              "<table border=\"1\" class=\"dataframe\">\n",
              "  <thead>\n",
              "    <tr style=\"text-align: right;\">\n",
              "      <th></th>\n",
              "      <th>Txhash</th>\n",
              "      <th>UnixTimestamp</th>\n",
              "      <th>DateTime</th>\n",
              "      <th>From</th>\n",
              "      <th>To</th>\n",
              "      <th>Value</th>\n",
              "      <th>ContractAddress</th>\n",
              "      <th>TokenName</th>\n",
              "      <th>TokenSymbol</th>\n",
              "      <th>Type</th>\n",
              "      <th>tx_type_label</th>\n",
              "      <th>chain</th>\n",
              "      <th>Cumulative Number of Liquidity Added Actions</th>\n",
              "      <th>cumulative_liquidity_added_groupings</th>\n",
              "      <th>usd_value</th>\n",
              "    </tr>\n",
              "  </thead>\n",
              "  <tbody>\n",
              "    <tr>\n",
              "      <th>0</th>\n",
              "      <td>0xc4bc77f254adcbec01372b053782fbf8b58cc84b9084...</td>\n",
              "      <td>1623769680</td>\n",
              "      <td>2021-06-15 15:08:00</td>\n",
              "      <td>0x19ac6292d62465cd3c82a082e0b5f9b875c57d92</td>\n",
              "      <td>0x97693242c5703900fc7651c9164a334ee5ddfa2d</td>\n",
              "      <td>11.52923</td>\n",
              "      <td>0x51b0bcbeff204b39ce792d1e16767fe6f7631970</td>\n",
              "      <td>BTC Volatility Index</td>\n",
              "      <td>BTCV</td>\n",
              "      <td>IN</td>\n",
              "      <td>Add Liquidity</td>\n",
              "      <td>ETHEREUM</td>\n",
              "      <td>16</td>\n",
              "      <td>High</td>\n",
              "      <td>1123.408199</td>\n",
              "    </tr>\n",
              "    <tr>\n",
              "      <th>1</th>\n",
              "      <td>0xc4bc77f254adcbec01372b053782fbf8b58cc84b9084...</td>\n",
              "      <td>1623769680</td>\n",
              "      <td>2021-06-15 15:08:00</td>\n",
              "      <td>0x19ac6292d62465cd3c82a082e0b5f9b875c57d92</td>\n",
              "      <td>0x97693242c5703900fc7651c9164a334ee5ddfa2d</td>\n",
              "      <td>2500.00000</td>\n",
              "      <td>0xa0b86991c6218b36c1d19d4a2e9eb0ce3606eb48</td>\n",
              "      <td>USD Coin</td>\n",
              "      <td>USDC</td>\n",
              "      <td>IN</td>\n",
              "      <td>Add Liquidity</td>\n",
              "      <td>ETHEREUM</td>\n",
              "      <td>16</td>\n",
              "      <td>High</td>\n",
              "      <td>2500.000000</td>\n",
              "    </tr>\n",
              "    <tr>\n",
              "      <th>2</th>\n",
              "      <td>0x4a63f753cf0578a65bae5127075bb0f5549f66b91507...</td>\n",
              "      <td>1623786369</td>\n",
              "      <td>2021-06-15 19:46:09</td>\n",
              "      <td>0x19ac6292d62465cd3c82a082e0b5f9b875c57d92</td>\n",
              "      <td>0x97693242c5703900fc7651c9164a334ee5ddfa2d</td>\n",
              "      <td>30.00000</td>\n",
              "      <td>0x51b0bcbeff204b39ce792d1e16767fe6f7631970</td>\n",
              "      <td>BTC Volatility Index</td>\n",
              "      <td>BTCV</td>\n",
              "      <td>IN</td>\n",
              "      <td>Add Liquidity</td>\n",
              "      <td>ETHEREUM</td>\n",
              "      <td>16</td>\n",
              "      <td>High</td>\n",
              "      <td>2923.199998</td>\n",
              "    </tr>\n",
              "    <tr>\n",
              "      <th>3</th>\n",
              "      <td>0x4a63f753cf0578a65bae5127075bb0f5549f66b91507...</td>\n",
              "      <td>1623786369</td>\n",
              "      <td>2021-06-15 19:46:09</td>\n",
              "      <td>0x19ac6292d62465cd3c82a082e0b5f9b875c57d92</td>\n",
              "      <td>0x97693242c5703900fc7651c9164a334ee5ddfa2d</td>\n",
              "      <td>755.29052</td>\n",
              "      <td>0xa0b86991c6218b36c1d19d4a2e9eb0ce3606eb48</td>\n",
              "      <td>USD Coin</td>\n",
              "      <td>USDC</td>\n",
              "      <td>IN</td>\n",
              "      <td>Add Liquidity</td>\n",
              "      <td>ETHEREUM</td>\n",
              "      <td>16</td>\n",
              "      <td>High</td>\n",
              "      <td>755.290520</td>\n",
              "    </tr>\n",
              "    <tr>\n",
              "      <th>4</th>\n",
              "      <td>0x7a656f17631c6d05b54d94974d56031d6e12512ee7f7...</td>\n",
              "      <td>1623864014</td>\n",
              "      <td>2021-06-16 17:20:14</td>\n",
              "      <td>0x3dac271d1b36a434880c527a678b6487ac9c1f8c</td>\n",
              "      <td>0x97693242c5703900fc7651c9164a334ee5ddfa2d</td>\n",
              "      <td>0.99900</td>\n",
              "      <td>0x51b0bcbeff204b39ce792d1e16767fe6f7631970</td>\n",
              "      <td>BTC Volatility Index</td>\n",
              "      <td>BTCV</td>\n",
              "      <td>IN</td>\n",
              "      <td>Add Liquidity</td>\n",
              "      <td>ETHEREUM</td>\n",
              "      <td>8</td>\n",
              "      <td>High</td>\n",
              "      <td>97.342559</td>\n",
              "    </tr>\n",
              "  </tbody>\n",
              "</table>\n",
              "</div>"
            ],
            "text/plain": [
              "                                              Txhash  ...    usd_value\n",
              "0  0xc4bc77f254adcbec01372b053782fbf8b58cc84b9084...  ...  1123.408199\n",
              "1  0xc4bc77f254adcbec01372b053782fbf8b58cc84b9084...  ...  2500.000000\n",
              "2  0x4a63f753cf0578a65bae5127075bb0f5549f66b91507...  ...  2923.199998\n",
              "3  0x4a63f753cf0578a65bae5127075bb0f5549f66b91507...  ...   755.290520\n",
              "4  0x7a656f17631c6d05b54d94974d56031d6e12512ee7f7...  ...    97.342559\n",
              "\n",
              "[5 rows x 15 columns]"
            ]
          },
          "metadata": {},
          "execution_count": 193
        }
      ]
    },
    {
      "cell_type": "code",
      "metadata": {
        "id": "9mcocatoSM7T"
      },
      "source": [
        "lp_address_amounts_df = pd.Series(lps_addresses_counts_grouped_df.groupby(['From'])['Value'].sum(), name='Cumulative Liquidity Added Value ($)').to_frame()"
      ],
      "execution_count": 194,
      "outputs": []
    },
    {
      "cell_type": "markdown",
      "metadata": {
        "id": "xWR6pfaIWiDs"
      },
      "source": [
        "### Histogram of Cumulative Total Liquidity Added Value\n",
        "\n",
        "The histogram below shows the Cumulative Total Liquidity Added Value.  \n",
        "\n",
        "The x-axis shows the groupings (bins) for each Total Liquidity Added Value for the users. The y-axis shows the number of users.  \n",
        "\n",
        "Example - For the grouping \\$500-\\$1499, there were 59 users that provided a liquidity value in this range"
      ]
    },
    {
      "cell_type": "code",
      "metadata": {
        "colab": {
          "base_uri": "https://localhost:8080/",
          "height": 542
        },
        "id": "f8wph0fESj4e",
        "outputId": "262cc4a9-9360-4af7-a4fd-1a704b03f07d"
      },
      "source": [
        "fig = px.histogram(lp_address_amounts_df, \n",
        "                   x='Cumulative Liquidity Added Value ($)', \n",
        "                   title='Histogram of Total Liquidity Added Value ($)',\n",
        "                   marginal=\"rug\")\n",
        "fig.show()"
      ],
      "execution_count": 195,
      "outputs": [
        {
          "output_type": "display_data",
          "data": {
            "text/html": [
              "<html>\n",
              "<head><meta charset=\"utf-8\" /></head>\n",
              "<body>\n",
              "    <div>\n",
              "            <script src=\"https://cdnjs.cloudflare.com/ajax/libs/mathjax/2.7.5/MathJax.js?config=TeX-AMS-MML_SVG\"></script><script type=\"text/javascript\">if (window.MathJax) {MathJax.Hub.Config({SVG: {font: \"STIX-Web\"}});}</script>\n",
              "                <script type=\"text/javascript\">window.PlotlyConfig = {MathJaxConfig: 'local'};</script>\n",
              "        <script src=\"https://cdn.plot.ly/plotly-latest.min.js\"></script>    \n",
              "            <div id=\"7963d6a6-6d16-4d9d-b658-9f7fe209038c\" class=\"plotly-graph-div\" style=\"height:525px; width:100%;\"></div>\n",
              "            <script type=\"text/javascript\">\n",
              "                \n",
              "                    window.PLOTLYENV=window.PLOTLYENV || {};\n",
              "                    \n",
              "                if (document.getElementById(\"7963d6a6-6d16-4d9d-b658-9f7fe209038c\")) {\n",
              "                    Plotly.newPlot(\n",
              "                        '7963d6a6-6d16-4d9d-b658-9f7fe209038c',\n",
              "                        [{\"alignmentgroup\": \"True\", \"bingroup\": \"x\", \"hoverlabel\": {\"namelength\": 0}, \"hovertemplate\": \"Cumulative Liquidity Added Value ($)=%{x}<br>count=%{y}\", \"legendgroup\": \"\", \"marker\": {\"color\": \"#636efa\"}, \"name\": \"\", \"offsetgroup\": \"\", \"orientation\": \"v\", \"showlegend\": false, \"type\": \"histogram\", \"x\": [36.25928233757767, 12.420305872913955, 314.42805498970904, 11.483685998466546, 48.397617226551034, 33.21561141161976, 14.836622, 0.011305997582576853, 21.779795596662456, 21.815866595796646, 4.0325970910375295, 47.50187799292118, 1.0229515613009335, 57.502337771316284, 1.0105479118243523, 17.646386991552838, 250.270775997304, 56.88693599125488, 11.793788998177348, 6.048966832317813, 251.04689398623177, 104.21457499304091, 23.4762281895789, 94.09197819109367, 21.793340966784573, 0.1009063752044563, 6.049636074471684, 20.40665476150283, 22.461327994785524, 68.29112799283381, 12.924454994200406, 21.793255941770944, 21.756955662838724, 0.07122299957055346, 25.46181177822066, 6.049636074471684, 25.29721079036643, 1.108356460074148, 12.464453232294222, 11.543659994774389, 251.03531298896755, 1.0060189966615778, 0.12504699363716298, 31.72981319511046, 2.026519861235676, 0.02019621277513707, 0.010265045446303921, 3998.343044228399, 0.010182339462294463, 1.0163488390709912, 10.469827991678311, 2.4854439962525468, 94.39168199143225, 15.961711994665015, 24.798582184107822, 0.011311993664961115, 34.82371614655913, 1.246101990781407, 24.8430719917019, 0.5037975542765524, 0.011481998645548983, 21.779795596662456, 7.638687994720278, 94.09197819109367, 0.1009063752044563, 11.708638996371441, 466.9973089973731, 226.93539525614932, 0.013145993392068971, 10.342590910523558, 1.0075044115903247, 25.994378191681633, 1.3327799134556666, 15.013187998868222, 54.43513499972736, 334.81250798670146, 0.013186993571284857, 1.0092331985552194, 5283.441336993439, 4.0329473142195305, 0.10090523912448036, 6.050762685635702, 12.780314595845828, 0.011496995845341133, 15.816061, 11.121984992191253, 109.94206527680672, 3501.176950995954, 13.040372999999999, 21.79664665883823, 296.60367199189284, 5.001939634015625, 236.00504399891875, 0.011200075394894765, 43.57016657465055, 94.01785318821797, 21.772035268247766, 0.6727722260831361, 0.13187799683828375, 3373.1729989929745, 21.756955662838724, 3183.7610919877015, 25.484648984128437, 21.815866595796646, 15.391511999862335, 120.97844998793752, 173.97348299517927, 748.2902449927883, 0.011388997691651453, 57.36530626573447, 95.95349988257641, 14.528234999411726, 14.85982, 5.042136494691005, 0.11681998469953869, 100.80281870739945, 15.330355, 11.386858992374671, 37.276491995288254, 4.03300502604546, 10.080689173050102, 0.0019998633389716487, 0.07546899110978533, 0.10088268614122249, 10.252153496809411, 31.722785191393665, 43.57016657465055, 24.765012552776803, 0.1023154064491488, 253.54824999476315, 21.761502512147207, 15.117189997486367, 110.02878999370199, 11.088917998252137, 21.77204165410512, 58.620987004929404, 460.5065168727382, 21.79245980608829, 2.490841995442877, 13.124927199239325, 19558.24410899705, 1.250476992801495, 248.75017599999998, 0.011321993842350499, 0.010074260163247431, 24.890900987995042, 21.779795596662456, 2.4677799975428987, 475.09137408921276, 0.043268587071584, 43.569957041733815, 26284.587290452295, 0.010374999293469911, 21.756955662838724, 1187.5324280354967, 15.28270399074255, 142.44406750704795, 1.0074849032662685, 10.618756992947143, 14.839386994897621, 4.446463587836929, 21.756955662838724, 21.773408840798282, 12.632934995438225, 21.796183136547565, 250.70386699231338, 0.013186993571284857, 4.032597542856898, 6.049496474664831, 144928.35459099704, 94.27903958997499, 18.098858996138972, 2.4883929884026594, 106.21707111075642, 1208.2864999866483, 549.7410459948984, 21.77204037448245, 94.82383998840601, 978.0676739983322, 0.030229393583610025, 0.01309399539454815, 21.772037563691516, 24.947435865577578, 29.72562999167129, 0.011364995605515477, 1.507481734996264, 18.06811783009538, 13.809840990314282, 12.636455997744967, 21.764215122121893, 0.01226499223751735, 21.760587083020205, 2.4657359925545546, 0.020205666338671924, 266.5303937951712, 21.756379270068173, 21.815866595796646, 21.760587083020205, 21.75884465234513, 11.886096996758285, 7.059423594140681, 0.011311997998516862, 2.466015992721599, 6142.615931998942, 7.728188994693635, 117.07572132596097, 13.539125998717008, 122.69271599069532, 996.4379479919037, 31.397066992272084, 17.264790067188034, 21.773408840798282, 2.8290486161669084, 189.70868699937046, 114.1762609978622, 213.06692699136903, 5.010996987845069, 21.772034365661515, 40815.70682998806, 51.349952972632, 21.792460017824567, 43.58367997847898, 0.010077526405431246, 76.40808398528233, 24.31707362147811, 21.796659742542552, 21.779795596662456, 7448.550431987124, 0.0010383969946696331, 6.049496005399767, 21.760587083020205, 0.013186993571284857, 9.98276226164375, 0.1009063752044563, 54.62492930821138, 49.95851534248341, 0.011311997998516862, 13.542075, 21.796080612331107, 52.116099394221806, 0.01030499226065519, 2.500954993664399, 167.62396971214284, 29.047454933582266, 21.756955662838724, 29.72562999167129, 0.9227095047846016, 0.011288995444123023, 73.82707243224647, 1719.6520869868048, 21.772032958254034, 4.032996591596179, 0.639221077973655, 172.19584499510134, 225.91437723484157, 25.346247842640594, 21.779795596662456, 21.792459806086285, 0.1009063752044563, 2.0365775648481406, 21.756379270068173, 664.8571753662424, 52.77393540570092, 0.01149699203631594, 547.9041894432181, 13.659840997487086, 24.60867011076124, 24.598870194274905, 2.287721997386798, 315.14591999562515, 10.582267992431403, 1.1083792353454518, 25.46749612635908, 25.380949190349693, 0.01019029874834422, 74.6100652504, 20.18155612253401, 25.63912562100652, 4.03300502604546, 0.00114099826873012, 29.739324994926424, 377.9884218516966, 94.09197819109367, 969.7424449862965, 0.010285433002976277, 11.46219999554924, 0.009561, 14.762384986237084, 1496.8912779972056, 20.15737862777614, 21.17690299360075, 422.76206208660375, 0.0010288719568345421, 20.41029825001401, 43.57016657465055, 0.013186993571284857, 24.767368991738415, 982.4564989948924, 15.943717999045726, 0.013406994969879571, 43.58351350362269, 25.089607950721437, 20.624733652977024, 0.01018784976865576, 12.924454994200406, 0.010088584299003294, 21.55428599280419, 13.423998994582377, 97.46418198919685, 0.000185467196794179, 5.897443990064235, 43.57016657465055, 242.1940639965195, 22.533275995628827, 1.4215281923845584, 98.88009299858962, 15.816061, 131.05408565391136, 0.0105169971137067, 823.2333629915781, 2.068591811837586, 20.1713265437224, 1083.849462977974, 2.4359819893010775, 61.339826089949106, 137.8886668005398, 2.4883929884026594, 1897.9885879882827, 21.756379270068173, 8007.550553232118, 1.009627584523416, 0.011311997998516862, 0.02299398407263188, 21.756955662838724, 11.456731017914597, 463.4219719880373, 84.47924999490478, 12.264646925646822, 30.258731348805526, 94.18550838637495, 343.88275287420703, 25.958209993806296, 284.96739679213175, 11.877776424571914, 21.436245734413035, 21.779795596662456, 885.0223389999999, 43.58347182940689, 21.772039991004878, 25.013512027937608, 25.200000000000003, 21.77340884079483, 0.011970997253608416, 0.012537, 9.744671992053933, 131.52489799730859, 53.137393382553455, 0.0110991738147595, 21.773408840798282, 1.1258391875019496, 24.612290106851773, 81.82124499774905, 27.830689, 43.58347182940689, 12.924454994200406, 108.82057083007288, 21.764306950215843, 0.011970997253608416, 46.25686598480092, 144561.6430942505, 29.88829899081065, 0.010090158013417727, 21.77204165410512, 0.0105169971137067, 100.88402022370651, 73.42050099918995, 9.650338996949996, 23.747661393307737, 42.59375298742073, 21.77341005896645, 0.5310749907242297, 102.1609513377697, 25.96183199394504, 8.521357997004547, 10.643797994680305, 2.490841995442877, 0.01027574536651238, 8.619635993107662, 31.045701996898394, 21.773408840798282, 0.013186993571284857, 0.011321993842350499, 1726.1292059978957, 0.03244799635665487, 2.021464218166182, 0.1009063752044563, 84.07633704220035, 92.09398099597318, 0.9477969446822965, 56.57971944884422, 0.024814996809731052, 0.010394604148088082, 21.779795596662456, 21.815866595796646, 13.523998999915374, 250.29923899908792, 114.76794295449224, 461.8352929807435, 516.394883, 21.76158826648704, 0.10090612831364114, 25.76215359512058, 227.51326998452612, 139.2531139870346, 31.71582900954904, 21.793354686295288, 0.13334888597533928, 21.779795596662456, 6.049496122291756, 21.815866595796646, 93.81138659817451, 0.12477899214129928, 24.418457057328826, 0.011339993837308158, 0.2123030523053817, 29.739324994926424, 13.838643059201415, 21.764306950215843, 139.0325469989296, 100.97191000818187, 347.6601152639222, 2.025362220824544, 0.34639027701345765, 12.332825680951048, 21.77222269975843, 8.01300457439999, 0.01120999379194056, 56.66964464375426, 2.472221992257735, 21.815866595796646, 21.77754549887514, 91.03350699913278, 0.9989999999999972, 6.049496005399767, 1423.4914409851558, 0.11331499255483918, 23671.486481682317, 24.696873392058333, 25.462106178943856, 24.755176626465758, 24.794876589830068, 24.612290106851773, 21.815866595796646, 12.924454994187451, 21.815866595796646, 43.51385099211157, 98.0682991479558, 11.170813239313532, 18.525112994684825, 89.02463327137593, 15.17855899893126, 21.793339917276477, 115.922870559872, 21.815866595796646, 89.26402618322312, 21.761502512147207, 21.815866595796646, 21.760587083020205, 21.77222269975843, 13.492484, 0.010390600707994753, 25.074168028078194, 0.013186993571284857, 108.48437598895468, 43.58350638694521, 211.5435799979253, 19.300677993887, 15.099868993609164, 21.760587083020447, 24.60248919411456, 10.714451994947185, 45.36765898928994, 1.0165880354705845, 47.201475335012915, 32.61220899101078, 21.764306950215843, 1.4685251128479955, 29.739324994926424, 21.791074298289228, 2.1827353018451268, 14.427474999394784, 43.583516415803985, 66.66696825898117, 58694.330611584075, 43.56207540607196, 2.01650251302273, 100.88402022370651, 0.1487916482282229, 2.4625149912006212, 41.304274992617806, 20.17099137421396, 21.77754549887514, 24.551493991119592, 24.60248919411456, 15.71212576383541, 54.543134993331684, 24.598870194263302, 21.777079051763373, 54.32985998643295, 2.515752766375146, 21.7933252358883, 0.12449298457368661, 41914.34640499234, 4.032801320922314, 21.760666681883503, 201.35337599798703, 33.333776993472895, 2.9533132386567473, 15.865829999999999, 306.86086884959263, 101.55648399553829, 0.012536995454918503, 460.3499879737674, 21.815866595796646, 2.4856129887334624, 22.753591, 1149.9075369595535, 99.97432998866395, 43.58350638694521, 2.464920992159155, 94.46610098823459, 6.5636777026999455, 15.282704, 18.627420996843565, 6.049496556404866, 17.24257733824913, 250.64476635824275, 13.441432992396999, 54.392313992925125, 13.573834045485091, 10093.760656934553, 24.737719991419336, 21.79245987628463, 24.522792078892284, 296.60367199189284, 32.725880995999, 103.717887, 808.6303027438754, 1.7615990519778941, 10.371375994610085, 195.81989699422294, 43.58352135146882, 56.768030910604416, 2.4649199970830504, 51.543634043435475, 21.79608061233673, 2.5001819975429656, 132.066500601794, 0.0965989896138598, 24.915075195269587, 11.489016998587838, 112.62612583378127, 2.872903134131976, 24.60248919411456, 0.02830376848360145, 25.281804991736173, 82.26848386813408, 25.958209993806296, 13.441432992396999, 11.168643684282149, 15.490995993620297, 23.230216, 0.02262499624837255, 0.01309399539454815, 1.1178561228030626, 250.52179399162665, 43.58352226071716, 43.57016657465055, 14.710624999812996, 219.5731324927699, 141.05322661106715, 207.5106309895628, 1.1184271083045734, 94.18550838637495, 251.9795737534301, 380.8559929449099, 0.10517299993531422, 12.445228985544745, 12.924454994200406, 45.37199228913486, 1619.7525866973203, 186.43658941757332, 21.756379270068173, 156.7853039229096, 5.029125658742338, 9.887040766565732, 1.2089642237198965, 21.75884465234513, 1.0580287754263509, 30.243976758321566, 1.5074738427891528, 0.5041307873431273, 2.4660149916446175, 43.58347182940689, 21.764564673136025, 21.75890418198243, 99.30719999434356, 14.945274993786152, 94.51545299400819, 148.7845157581015, 12.114626586233465, 0.011287995083958119, 66.61794799895713, 25.217595707850467, 100.78360970501264, 16.345801995175364, 43.58350638694521, 0.04635399230831006, 478.89254899321793, 2.4715439906791663, 43.58352135146882, 0.010090158013418705, 14.547463995882088, 27.68668999840704, 46.31455399192257, 184.8792303294619, 74.65027043252405, 149.206276, 25.023469950429085, 43.58352226071716, 25.064186106739914, 12.038939993228416, 10.073207820231877, 6.048903883918406, 13.532632995098481, 20.222352649914225, 98.54692032100483, 90.6764154262142, 253.54824999476315, 2.008206199243805, 13.404008000000001, 120.96178398569013, 77.67093341300794, 21.55428599280419, 21.815866595796646, 42.61338499448735, 21.777079051763373, 1.2529489945929246, 21.55428599280419, 2241.4846134146205, 1399.836666009344, 21.779795596662456, 10.027627990950647, 447.2956639581089, 4.032996591596179, 18.112650797543683, 0.011321993842350499, 148.84478699445432, 503.38343999496766, 2.0100345846519123, 117.49193698664456, 24.88522718795832, 1.0064773595191698, 21.77754549887514, 11.378165994816321, 1.3668721322377169, 115.92511720184201, 0.010058389809520297, 13.441432992396999, 4.032944493001824, 0.013186993571284857, 30.289218083275074, 60.5391826594572, 6.0491783213823265, 0.012536995454918503, 10.527240371684188, 16.914615559143524, 0.19319898968797145, 94.11131038917378, 15.117542995469998, 58.61928199365972, 14.857110996459243, 0.3013045502902819, 43.56207094855186, 513.6770439964193, 21.796644081111374, 1090.0933999912213, 15.096659993151158, 68.97406023785875, 9.630370995313122, 21.796648383319294, 508.5789909702826, 51.26724632321703, 855.4725755505541, 12.924454994200406, 15.469991995426104, 8.65697782982235, 250.33682399104032, 2.4836949892918874, 21.760587083020447, 1.006495795178883, 4.032571608235949, 6648.7511912221835, 24.60867011076124, 131.46099186474416, 1000.1881799984573, 15.117189997486367, 100.6903059904713, 49.0025057836, 0.02019621277513707, 948.9942939941413, 21.799821114064553, 13.958411998410284, 13.441432992410473, 0.12477899214129928, 0.10090523912448036, 21.791239326234187, 4.784828975674071, 21.795357209520777, 51.227207629956915, 17.974842872364455, 0.01058804743157305, 0.011305997582576853, 9.55989199180509, 483.41087799788124, 8.009973376670194, 4.032597542856898, 6.049496005399767, 21.772032958254034, 176.8787879854208, 5926.997249991762, 37.486918935321626, 0.10517299993531422, 56.79284220105743, 400.9644792475268, 4.0325970910375295, 1.5138926730179074, 14.005145392442445, 0.01028708968602232, 141.1719961361958, 1.5074829800601024, 56.959693574625646, 95.57975986146036, 10.885499990636529, 21.760666681883503, 3.9547039873744256, 0.01038794350647352, 43.57016657465055, 13.8993464395404, 87.20998495289686, 2558.6179799936567, 25.67838178697582, 15.491296992580377, 1708.1897289859148, 12.924454994200406, 20.404313517265287, 43.56207212166152, 59.25355189814354, 22.718100993613305, 1.1087893289003463, 21.760666681883503, 1.0586991578465146, 0.002019621444347295, 1.2529489945929246, 1671.8835961616783, 15.234815999999999, 21.779795596662456, 21.773408840798282, 2226.4299281981944, 13.493814, 43.58347182940689, 0.01225499815484525, 21.779795596662456, 203.20450594695487, 1063.76099044335, 83.61187599911135, 261.8745709945675, 507.36153577115795, 1.008846414837493, 79.81096636177995, 24.767368991738415, 94.82383998840601, 35.06673599408625, 379.78838796063593, 19.726491413254124, 93.99844799643412, 0.02019621277513707, 7657.998880186371, 25.05334371790353, 13614.613417997727, 57.524734082001466, 13.441432992396999, 8.683734079953675, 1460.9892969922703, 733.1243498866874, 0.02019621277513707, 226.10059699652598, 7656.2217517671415, 88.67511398573264, 43.56995744705445, 114.79722999673422, 21.761502512147207, 10.400743452906504, 25.48009439750142, 21.761502512147207, 0.010189880390671799, 38.90917841386035, 29.387548988235174, 21.77754549887514, 0.5072148311777992, 2.4856149968393253, 29.64746299448572, 11.26426747453871, 21.779795596662456, 2.4649199970830504, 51.54724799661064, 0.6027221856516548, 86.20349099073917, 32.03697589804901, 43.57016657465055, 165.0287319955902, 91.03350699913278, 18.254249386283856, 57.945231965272136, 24.612290106851773, 6.049563773000963, 43.583481883368435, 29.739342939979675, 0.02019621277513707, 100.96206278700134, 261.8745709945675, 1.0051422073540401, 0.010292242504040434, 15.092292244792755, 764.5798469879469, 15.797464999999999, 107.91751499455218, 21.779795596662456, 14.857621, 0.01018784976865576, 0.5037246394646272, 24.050905101063336, 21.760666681883503, 19.142195996417065, 6.033583533238253, 23.4762281895789, 21.77204165410512, 0.011388997691651453, 1.625185155096011, 152.22479816789303, 21.756955662838724, 0.9869646643075815, 56.41813382092911, 1876.1398709943824, 1629.7239953844473, 30.63571098741702, 10.430162358276995, 21.77222269975843, 20.20799799850535, 1270.4722874541953, 93.92439699620265, 0.10076357539972222, 43.56995785276003, 21.779795596662456, 23.175407203860264, 199.47987236256833, 0.011333993279963749, 182.28863699960476, 21.795357209520777, 5615.830316992732, 5.0442471720174105, 25.02135899220931, 501.38542017001987, 11.275802226253475, 729.2735774557523, 4862.55487298703, 53.377558395004854, 3716.6088858221788, 42.68786099102947, 21.761502512147207, 21.756955662838724, 21.756955662838724, 27.192762078863375, 95.17912098927047, 59.19073699180534, 22.09666499365948, 21.795357209520777, 25.958209993806296, 3.7308319804626615, 12.924454994200406, 48.38520499791563, 6.049178321381691, 0.011603681715430386, 594.1544694160685, 100.73647304695898, 18.87945748081272, 1.0105283961490634, 196.72828799170034, 497.06709499242993, 0.1009063752044563, 21.796644081111374, 535.529820995199, 93.73748259489997, 67.9674476550941, 22.886323103786445, 18.627420996843565, 13.477091990961917, 6.049165134674084, 21.796644081111374, 39.4720209930169, 21.779795596662456, 24.85044219101798, 12.703903155252565, 13.104339585972248, 10.653345996255288, 21.815866595796646, 28.433801995030635, 13.958411998410284, 0.9578592183808547, 21.756955662838724, 131.04193399609903, 12.038939993228416, 0.0105169971137067, 24.696873392046687, 2.4715439906791663, 0.010090158013417727, 0.011289992731850095, 1.0045900202806932, 13.541953440008662, 21.815866595796646, 0.20176537228244498, 21.77754549887514, 10.406364394116109, 0.025494998380827277, 13.650172996020428, 10.370710933771482, 0.012451997168902435, 21.756955662838724, 281.69269699992446, 21.77222269975843, 21.77222269975843, 21.877189816970798, 43.58352135146882, 382.4580769397561, 7.6770729908308475, 124.97356199143725, 14.777836201361763, 0.02019621277513707, 21.760666681883503, 59.826801998860404, 11.624884995676531, 21.777079051763373, 11.583095995672943, 2.4854439962525468, 84.87151551558907, 21.773408840798282, 0.431567999999997, 0.012050998555126173, 20.403570957477992, 6.049496005399767, 43.58352135146882, 21.779795596662456, 21.779795596662456, 21.815866595796646, 0.02023737273941165, 6.049496005399767, 24.984398712677674, 135.02289002568776, 12.924454994187451, 21.79664665883823, 3.0133319138031385, 21.815866595796646, 30.31027712661625, 0.01340999568034636, 25.074168028078194, 24.07788099482596, 11.339029612582149, 15.798985996414556, 21.756379270068173, 6.04963407363769, 59.76691175292177, 21.779795596662456, 21.791238745941236, 0.012050998555126173, 13.67843899817638, 2.016369819749396, 1.0320019973200527, 173.97348299517927, 25.030044993305843, 4.032773968964574, 75.68131463404283, 2.4624519974168053, 13.501488, 21.815866595796646, 157.0247520543093, 21.773408840798282, 5041.969364314393, 6.42099839733799, 78.09964427480861, 93.66566199976779, 24.598870194274905, 14.896037, 7.728188994693635, 21.815866595796646, 1.7108528647387629, 166740.0863692421, 0.3010754021285362, 43.57016657465055, 3897.6516489942296, 4.987447160399997, 1007.5597549299407, 132.4179348050789, 49.367991691862265, 0.9377207908621824, 25.059656190720467, 141.97773006174765, 6.0464783164405365, 198.15349730045622, 11.121984992191253, 13.441432992410473, 99.41341798919825, 1.1177545884635476, 1.2573869822154844, 14.673516996980043, 24.675480989644793, 43.57016657465055, 3959.0731230794177, 421.8638459965556, 21.792460017825935, 0.4397612210597096, 0.0100869799689661, 560.3910048812897, 1.0075044115903247, 0.013186993571272336, 22.783152998913742, 21.779795596662456, 48.18732467217944, 21.779795596662456, 2529.907137885002, 0.012030998186801957, 21.793339871725014, 49.836711507562235, 21.908384993804884, 0.9067445719842793, 14.859819995610124, 0.15574977401164655, 79.32029924740955, 12.924454994200406, 152.93672285320764, 2.4774029855688213, 43.57016657465055, 24.75018395768452, 11.42147099256247, 21.795357209520777, 7716.819091561649, 601.6034489822172, 100.38757698519859, 10.31525888374836, 50.04694090868304, 40.9405380165222, 106.97747498935533, 8.233290995234908, 13.441432992396999, 43.58350638694521, 43.57016657465055, 0.1437299955063846, 4.998624987913345, 0.13187799683828375, 48.967345939644495, 10.071218808651627, 21.756955662838724, 0.0105169971137067, 21.795357209520777, 0.9867847763156468, 17.31297, 4862.55487298703, 13.46999, 22.271033377996083, 126.57814333592466, 39.66712799539979, 11.516010999223024, 15.341638994127456, 0.011364995605515477, 21.779795596662456, 0.012050998555126173, 0.3022454709798806, 4.032788273731315, 188.11110199042776, 0.18518999627655158, 21.77204165410512, 1.0810489418593399, 6.051874090171285, 0.010389589368035083, 21.79664665883823, 132.01681499974967, 21.793339871725014, 115.3504329936768, 58.33176528404022, 13.52464, 6.048853063965628, 250.29923899908792, 162.2670549993819, 15.726261994236303, 25.55885319615738, 24.98437239511005, 52.14605115422278, 19.736693045123385, 1.4951315362889313, 2.464920992159155, 10.665407678692695, 49.20269823029927, 1.5074823574957343, 250.270775997304, 265.2807589920216, 984.742654956242, 0.011964995635206244, 21.77222269975843, 0.013186993571272336, 21.792460017824567, 1.2996463351658263, 13.372566998330534, 15.491296992580377, 196.45157133107352, 0.010077526405431246, 1.5074744647207143, 94.01785318821797, 43.583502036853545, 51.03975079785952, 21.79666836122103, 21.54934599230921, 255.08570198509187, 0.28259036632559026, 25.777526994127548, 129.3430860210282, 0.2487739929328856, 271.7868866773217, 25.064186106739914, 1205.9230119913736, 21.800054491457868, 42.239624997452374, 27.305503995924262, 2.4677379901189918, 25.003555113271, 16.34062599686265, 1.5088605003100413, 0.009640993733065954, 0.7912079999999985, 92.2845989973595, 251.03531298896755, 0.001225995113918709, 21.760666681883503, 0.0105169971137067, 12.732223435369761, 0.23296699999999998, 411.30286299066347, 46.9711642336852, 15.990706, 13.441432992410473, 21.795357209520777, 21.792460017824567, 0.011504998602957757, 12.02830099758593, 25.013512027937608, 43.57016657465055, 26.565454579599997, 697.6209277128497, 250.270775997304, 6.049636074471684, 21.745667520970994, 990.3057954311864, 21.760587083020205, 21.77754549887514, 0.011333993279963749, 2.4722219977436697, 69.14371699775809, 2.4693959953263174, 11.708719998193441, 43.57016657465055, 4.032916695364086, 21.796659742542552, 57.08223341621306, 13.510474999905, 16.817288998764944, 55.20230199961335, 21.760666681883503, 0.011106628542960397, 4.032773968964574, 0.012030998186800203, 22.75458699954681, 21.77754549887514, 993.1240009999999, 105.15753263300074, 21.760666681883503, 43.57016657465055, 19.00381599770089, 102.9041609930975, 0.7038528828347573, 21.796644081111374, 29.19097166441396, 71.54103996511878, 0.010516997118356908, 25.054712589297136, 0.09585499596672856, 100.2397740090528, 2.440051894876071, 0.9981683650168505, 43.56136970015023, 4.0483398443480185, 43.5835222607112, 5.144715452427429, 7.437352649408693, 101.07195218713488, 24.340573997959737, 14.382763992131652, 43.57016657465055, 13.526788999138423, 21.779795596662456, 0.15537787466532044, 43.583502036853545, 296.60367199189284, 2.473829996528637, 10.370715990522275, 40.224843211327126, 311.37148503196255, 4.618509081471164, 29.407160993931306, 0.2704829979461186, 12.55062999770183, 232.9041339937534, 20.15625052624362, 454.3430869924314, 0.02019621277513707, 102.36457499153695, 27.264717, 22.352904994916805, 21.756955662838724, 120.07952839526642, 580.2462359949345, 15.281577195520981, 66.85867838429854, 172.40698299000212, 1423.4914409851558, 79.56158679902993, 43.57016657465055, 10.442891179299176, 24.651394751484908, 11.708596993372018, 0.01202799747417549, 205.13691426850403, 0.011081686179572173, 12.805964996123613, 21.779795596662456, 21.197680997667383, 1432.3465939118764, 2088.07970731605, 296.60367199189284, 6.049496005399767, 56.58429585869403, 24.598870194274905, 20.3092256835818, 0.011504998602957757, 47.390356991929906, 29.062419763867528, 31.481268598123304, 1005.7375588257516, 21.76158826648704, 99.3462469940357, 0.9579239194390575, 21.793304144496425, 0.011494998408484338, 11.277193994425774, 25.003555113271, 74.24348304813672, 21.760587083020447, 2.4856149968393253, 51.66709999531674, 1.109279128113684, 28.937482362490666, 4.050611744537566, 0.40234335874150257, 21.79664665883823, 43.58367997847898, 21.793354686295288, 21.777079051763373, 15.36501899263187, 87.62422781575559, 21.815866595796646, 15.787532, 20.15758710207703, 90.62505299754883, 2.487613990135366, 10.549416873618835, 1897.9885879882827, 2.4694119981989124, 43.874059973247064, 24.60248919411456, 24.58102316843545, 43.57016657465055, 1.6748151961166615, 29.72562999167129, 14728.581550871637, 9.876749995429433, 0.1314019949867698, 10.564459093035136, 14.774577992383042, 21.793339871725014, 21.7954755240137, 80.77827899168254, 1.752853728248645, 597.675369930334, 2.4931169866995244, 21.55428599280419, 90.4909459919692, 0.013186993571284857, 21.79666836122103, 0.40283199434408595, 12.337942995186054, 21.55428599280419, 43.562070558083356, 1.2249094201450752, 15.726262, 57.34640050746387, 21.77754549887514, 113.76237462702147, 99.56360899206487, 1.005170090812745, 21.786247999915975, 6.04949623889004, 1.247798994122655, 0.030129994129982622, 0.011409536594132044, 314.33894355439077, 25.013512027937608, 15.464718007405601, 0.01659799845504953, 14.675012472905617, 6.047600535849922, 18.525112994684825, 345.3280729822824, 4.032571608235949, 6.049232860638499, 11.353242999118322, 1.0075044115903247, 1.257315987298859, 21.55428599280419, 0.001224992863148185, 21.77203372374141, 12.862741, 12.924454994187451, 992.8490469954811, 94.82383998840601, 18.457991806517356, 1.0082351123553819, 21.793339917276477, 40.757350832216595, 21.779795596662456, 983.5191999919011, 12.476822998397354, 29.72562999167129, 0.010327999790277237, 29.654029986701385, 45.01338796973658, 13.151841999999998, 64.7628579906928, 21.77204165410512, 21.77222269975843, 0.011496995845341133, 4.032576007777992, 148.04021098851734, 11.426570999423934, 0.01129741756524203, 56.81937933672114, 21.75884465234513, 2.4625149912006212, 25.0347859963103, 3.989457174299169, 137.1517029653003, 120.8858472403629, 0.009907118711515913, 24.509528999910614, 21.75884465234513, 25.5792375883623, 74.18244943468063, 11.886096996758285, 21.756955662838724, 0.011309995753870454, 262.2964629907435, 49.53397199297218, 20.631675966476784, 1.5656906491233276, 11.493653998460706, 21.756955662838724, 5.045318760222815, 0.013186993571284857, 12.924454994200406, 374.74863475319546, 43.57016657465055, 124.4080928316657, 87.62314923306735, 43.56207540607196, 21.773065455646496, 25.893737993442254, 0.10090612831364114, 265.4103956744825, 21.777079051763373, 16.1250695633806, 21.55428599280419, 24.596379987361765, 5500.171042016314, 21.795357209520777, 4.032571608235949, 0.010577973171409804, 21.460173012906466, 57.1769676173811, 136.07678297723933, 0.012030998186801957, 69.4031648261346, 16.222682, 0.012476991943163714, 13.441432992410473, 21.79245987628463, 13.276804994831545, 498.40441599855393, 10.129278597999658, 25.65869239556961, 58.06572533859346, 2962.063602825673, 11.708598995622767, 445.5259329954656, 0.011364998227225588, 49.8972299864847, 214.95265799499361, 130.61634105965322, 1.212902505611256, 3.036788031136107, 10.251996002174073, 57.27674161031911, 49.49175098984769, 6.049174507507005, 21.793339871725014, 4.032875817261849, 21.55428599280419, 4.032773968964574, 0.013186993571272336, 99.99796998902204, 1.2108998016757497, 10.459707322282089, 250.23277899973746, 11.87153599598078, 147.3312729977793, 0.012476991943163714, 21.75890418198243, 43.56207173034049, 0.013186993571284857, 99.2659649876466, 0.010189880390671799, 11.356681991468015, 20.148307806026374, 24.612290106851773, 11.390801995223569, 23.81144, 24.730485108305388, 115.3504329936768, 6.048968227633225, 21.55428599280419, 3.408453212502481, 21.78757440564472, 1.078911865437783, 0.011288999999999999, 1.0075132565429021, 125.76641638445703, 12.924454994187451, 188.85045478585047, 33.33938739486445, 1.1091898092958383, 16.728383959661997, 24.07788099482515, 24.869496005858302, 1750.5884749926172, 21.75890418198243, 95.36487188763294, 21.77754549887514, 98.5467539973236, 1.505992392811219, 14.171085664190725, 21.76158826648704, 0.011303995084981243, 1.5963046700302488, 13.809840999999999, 11.708474998068674, 407.55193199622323, 21.761502512147207, 994.2930927053949, 22.137552993901792, 2.4657369947233727, 21.793304144496425, 49.50292099357018, 0.30227853256593146, 6.047447450962795, 10.542751086064847, 43.583481883368435, 11.854186571133967, 21.79608061233673, 48.124630024239174, 52.13817799562379, 21.753858388481127, 46.6538122179226, 21.76158826648704, 15.344267991581008, 0.03492999644779072, 201.6600000074166, 122.18657344135802, 134.076692993102, 50.12929730981703, 8004.297755146146, 21.55428599280419, 0.02019621277513707, 160.73114, 24.696873392046687, 24.622093036046415, 56.93137823438664, 6.04956378681648, 97.64448499455617, 21.793340966784573, 15.685049, 628.0686761087845, 45.30189098680384, 21.779795596662456, 21.779795596662456, 25.20037099440207, 21.77204165410512, 25.858370794394066, 21.756379270068173, 0.013186993571284857, 43.57016657465055, 4.032773968964574, 0.010374999293469911, 43.58347326562989, 0.012476991943163714, 21.815866595796646, 6.048968227633225, 1.0074492756965168, 6.049174507506369, 59.073702989929444, 21.756379270068173, 11.390801995223569, 21.77222269975843, 21.757177842638445, 3.637630985083324, 251.03531298896755, 66.18717198985651, 0.050989996761654555, 99.00576199186438, 0.013277995606438093, 14.92425699759612, 231.63969999331658, 21.796659742542552, 116.07277705894803, 4.032597542856898, 0.01027574536651238, 43.58350638694521, 13.395617999384738, 1.1097521354535935, 8648.147812431544, 56.649801451474815, 0.009990992828234627, 13.570940991446651, 43.56027978259337, 0.5048575264105178, 16.352379, 24.740334029197395, 992.6608149886929, 347.6406007420211, 0.001313999796496586, 43.58347182940689, 2.4821659913207377, 24.39520410665985, 27.095139177457217, 6.061949530911268, 250.29923899908792, 212.33912399562726, 94.51946459684585, 0.012257994428111638, 0.5045532809591576, 16.19713099683351, 68.8463429915573, 94.48513919238805, 24.44651698429177, 5.0227033324379, 0.9073353121739204, 24.60248919411456, 471.9607389984643, 10.444635452291536, 12.215793995761038, 21.795357209520777, 0.10089509199872691, 25.023469950429085, 228.05089609029886, 0.012296992277514978, 43.56207251334918, 2372.485735996997, 43.58351350362269, 0.013186993571284857, 21.791238745941236, 33.7602642255905, 494.71958399350535, 21.791239326234187, 5.023133846384224, 21.796659742542552, 260.53046898948446, 13.101544137363284, 21.779795596662456, 0.000101048042480428, 14.494288998500915, 201.6935421153959, 94.46610098823459, 512.445753993187, 1.009106567432286, 44.5972931048, 21.815866595796646, 296.2708589379476, 21.7293298307027, 24.180936992786226, 83.96344930295552, 43.58367997847898, 934.6115547142487, 21.779795596662456, 178.44178099447467, 58.709397498209356, 20.538261486589427, 56.580673658260096, 2151.2278575279083, 42.69942765112702, 26.728912998705134, 0.011383913984469597, 18.11260274483158, 431.25927740825495, 15.07438426762902, 25.758531594981836, 56.51331166393463, 804.9084259934542, 12.924454994200406, 15084.476560263294, 169.2806951855179, 5.042808867352602, 23.85035199503857, 1.386184, 43.56207001193932, 21.77204165410512, 10.288034892239871, 0.10089509199872691, 0.010374999293469911, 0.02019621277513707, 26.004338115011084, 21.792460017824567, 0.09678399429597971, 21.772036799837863, 19.33065299547527, 84.47924999490478, 103.60730799634263, 92.77668899644985, 125.15025138681526, 1.0102342691814532, 19.394050678449148, 0.02085899392748278, 21.98104699581301, 21.55428599280419, 1.5120250821338068, 15.096659993151158, 26.399075997309378, 46.816017, 0.2487739929328856, 21.756955662838724, 0.01226499223751735, 24.70600102904189, 90.4909459919692, 2.462451999815246, 96.54814699112147, 6.049306678372544, 24.98437239511005, 683.1531449177737, 6.049563773000963, 0.20181640101628207, 546.9563321872745, 34.599712996601085], \"xaxis\": \"x\", \"yaxis\": \"y\"}, {\"alignmentgroup\": \"True\", \"boxpoints\": \"all\", \"fillcolor\": \"rgba(255,255,255,0)\", \"hoverlabel\": {\"namelength\": 0}, \"hoveron\": \"points\", \"hovertemplate\": \"Cumulative Liquidity Added Value ($)=%{x}\", \"jitter\": 0, \"legendgroup\": \"\", \"line\": {\"color\": \"rgba(255,255,255,0)\"}, \"marker\": {\"color\": \"#636efa\", \"symbol\": \"line-ns-open\"}, \"name\": \"\", \"offsetgroup\": \"\", \"showlegend\": false, \"type\": \"box\", \"x\": [36.25928233757767, 12.420305872913955, 314.42805498970904, 11.483685998466546, 48.397617226551034, 33.21561141161976, 14.836622, 0.011305997582576853, 21.779795596662456, 21.815866595796646, 4.0325970910375295, 47.50187799292118, 1.0229515613009335, 57.502337771316284, 1.0105479118243523, 17.646386991552838, 250.270775997304, 56.88693599125488, 11.793788998177348, 6.048966832317813, 251.04689398623177, 104.21457499304091, 23.4762281895789, 94.09197819109367, 21.793340966784573, 0.1009063752044563, 6.049636074471684, 20.40665476150283, 22.461327994785524, 68.29112799283381, 12.924454994200406, 21.793255941770944, 21.756955662838724, 0.07122299957055346, 25.46181177822066, 6.049636074471684, 25.29721079036643, 1.108356460074148, 12.464453232294222, 11.543659994774389, 251.03531298896755, 1.0060189966615778, 0.12504699363716298, 31.72981319511046, 2.026519861235676, 0.02019621277513707, 0.010265045446303921, 3998.343044228399, 0.010182339462294463, 1.0163488390709912, 10.469827991678311, 2.4854439962525468, 94.39168199143225, 15.961711994665015, 24.798582184107822, 0.011311993664961115, 34.82371614655913, 1.246101990781407, 24.8430719917019, 0.5037975542765524, 0.011481998645548983, 21.779795596662456, 7.638687994720278, 94.09197819109367, 0.1009063752044563, 11.708638996371441, 466.9973089973731, 226.93539525614932, 0.013145993392068971, 10.342590910523558, 1.0075044115903247, 25.994378191681633, 1.3327799134556666, 15.013187998868222, 54.43513499972736, 334.81250798670146, 0.013186993571284857, 1.0092331985552194, 5283.441336993439, 4.0329473142195305, 0.10090523912448036, 6.050762685635702, 12.780314595845828, 0.011496995845341133, 15.816061, 11.121984992191253, 109.94206527680672, 3501.176950995954, 13.040372999999999, 21.79664665883823, 296.60367199189284, 5.001939634015625, 236.00504399891875, 0.011200075394894765, 43.57016657465055, 94.01785318821797, 21.772035268247766, 0.6727722260831361, 0.13187799683828375, 3373.1729989929745, 21.756955662838724, 3183.7610919877015, 25.484648984128437, 21.815866595796646, 15.391511999862335, 120.97844998793752, 173.97348299517927, 748.2902449927883, 0.011388997691651453, 57.36530626573447, 95.95349988257641, 14.528234999411726, 14.85982, 5.042136494691005, 0.11681998469953869, 100.80281870739945, 15.330355, 11.386858992374671, 37.276491995288254, 4.03300502604546, 10.080689173050102, 0.0019998633389716487, 0.07546899110978533, 0.10088268614122249, 10.252153496809411, 31.722785191393665, 43.57016657465055, 24.765012552776803, 0.1023154064491488, 253.54824999476315, 21.761502512147207, 15.117189997486367, 110.02878999370199, 11.088917998252137, 21.77204165410512, 58.620987004929404, 460.5065168727382, 21.79245980608829, 2.490841995442877, 13.124927199239325, 19558.24410899705, 1.250476992801495, 248.75017599999998, 0.011321993842350499, 0.010074260163247431, 24.890900987995042, 21.779795596662456, 2.4677799975428987, 475.09137408921276, 0.043268587071584, 43.569957041733815, 26284.587290452295, 0.010374999293469911, 21.756955662838724, 1187.5324280354967, 15.28270399074255, 142.44406750704795, 1.0074849032662685, 10.618756992947143, 14.839386994897621, 4.446463587836929, 21.756955662838724, 21.773408840798282, 12.632934995438225, 21.796183136547565, 250.70386699231338, 0.013186993571284857, 4.032597542856898, 6.049496474664831, 144928.35459099704, 94.27903958997499, 18.098858996138972, 2.4883929884026594, 106.21707111075642, 1208.2864999866483, 549.7410459948984, 21.77204037448245, 94.82383998840601, 978.0676739983322, 0.030229393583610025, 0.01309399539454815, 21.772037563691516, 24.947435865577578, 29.72562999167129, 0.011364995605515477, 1.507481734996264, 18.06811783009538, 13.809840990314282, 12.636455997744967, 21.764215122121893, 0.01226499223751735, 21.760587083020205, 2.4657359925545546, 0.020205666338671924, 266.5303937951712, 21.756379270068173, 21.815866595796646, 21.760587083020205, 21.75884465234513, 11.886096996758285, 7.059423594140681, 0.011311997998516862, 2.466015992721599, 6142.615931998942, 7.728188994693635, 117.07572132596097, 13.539125998717008, 122.69271599069532, 996.4379479919037, 31.397066992272084, 17.264790067188034, 21.773408840798282, 2.8290486161669084, 189.70868699937046, 114.1762609978622, 213.06692699136903, 5.010996987845069, 21.772034365661515, 40815.70682998806, 51.349952972632, 21.792460017824567, 43.58367997847898, 0.010077526405431246, 76.40808398528233, 24.31707362147811, 21.796659742542552, 21.779795596662456, 7448.550431987124, 0.0010383969946696331, 6.049496005399767, 21.760587083020205, 0.013186993571284857, 9.98276226164375, 0.1009063752044563, 54.62492930821138, 49.95851534248341, 0.011311997998516862, 13.542075, 21.796080612331107, 52.116099394221806, 0.01030499226065519, 2.500954993664399, 167.62396971214284, 29.047454933582266, 21.756955662838724, 29.72562999167129, 0.9227095047846016, 0.011288995444123023, 73.82707243224647, 1719.6520869868048, 21.772032958254034, 4.032996591596179, 0.639221077973655, 172.19584499510134, 225.91437723484157, 25.346247842640594, 21.779795596662456, 21.792459806086285, 0.1009063752044563, 2.0365775648481406, 21.756379270068173, 664.8571753662424, 52.77393540570092, 0.01149699203631594, 547.9041894432181, 13.659840997487086, 24.60867011076124, 24.598870194274905, 2.287721997386798, 315.14591999562515, 10.582267992431403, 1.1083792353454518, 25.46749612635908, 25.380949190349693, 0.01019029874834422, 74.6100652504, 20.18155612253401, 25.63912562100652, 4.03300502604546, 0.00114099826873012, 29.739324994926424, 377.9884218516966, 94.09197819109367, 969.7424449862965, 0.010285433002976277, 11.46219999554924, 0.009561, 14.762384986237084, 1496.8912779972056, 20.15737862777614, 21.17690299360075, 422.76206208660375, 0.0010288719568345421, 20.41029825001401, 43.57016657465055, 0.013186993571284857, 24.767368991738415, 982.4564989948924, 15.943717999045726, 0.013406994969879571, 43.58351350362269, 25.089607950721437, 20.624733652977024, 0.01018784976865576, 12.924454994200406, 0.010088584299003294, 21.55428599280419, 13.423998994582377, 97.46418198919685, 0.000185467196794179, 5.897443990064235, 43.57016657465055, 242.1940639965195, 22.533275995628827, 1.4215281923845584, 98.88009299858962, 15.816061, 131.05408565391136, 0.0105169971137067, 823.2333629915781, 2.068591811837586, 20.1713265437224, 1083.849462977974, 2.4359819893010775, 61.339826089949106, 137.8886668005398, 2.4883929884026594, 1897.9885879882827, 21.756379270068173, 8007.550553232118, 1.009627584523416, 0.011311997998516862, 0.02299398407263188, 21.756955662838724, 11.456731017914597, 463.4219719880373, 84.47924999490478, 12.264646925646822, 30.258731348805526, 94.18550838637495, 343.88275287420703, 25.958209993806296, 284.96739679213175, 11.877776424571914, 21.436245734413035, 21.779795596662456, 885.0223389999999, 43.58347182940689, 21.772039991004878, 25.013512027937608, 25.200000000000003, 21.77340884079483, 0.011970997253608416, 0.012537, 9.744671992053933, 131.52489799730859, 53.137393382553455, 0.0110991738147595, 21.773408840798282, 1.1258391875019496, 24.612290106851773, 81.82124499774905, 27.830689, 43.58347182940689, 12.924454994200406, 108.82057083007288, 21.764306950215843, 0.011970997253608416, 46.25686598480092, 144561.6430942505, 29.88829899081065, 0.010090158013417727, 21.77204165410512, 0.0105169971137067, 100.88402022370651, 73.42050099918995, 9.650338996949996, 23.747661393307737, 42.59375298742073, 21.77341005896645, 0.5310749907242297, 102.1609513377697, 25.96183199394504, 8.521357997004547, 10.643797994680305, 2.490841995442877, 0.01027574536651238, 8.619635993107662, 31.045701996898394, 21.773408840798282, 0.013186993571284857, 0.011321993842350499, 1726.1292059978957, 0.03244799635665487, 2.021464218166182, 0.1009063752044563, 84.07633704220035, 92.09398099597318, 0.9477969446822965, 56.57971944884422, 0.024814996809731052, 0.010394604148088082, 21.779795596662456, 21.815866595796646, 13.523998999915374, 250.29923899908792, 114.76794295449224, 461.8352929807435, 516.394883, 21.76158826648704, 0.10090612831364114, 25.76215359512058, 227.51326998452612, 139.2531139870346, 31.71582900954904, 21.793354686295288, 0.13334888597533928, 21.779795596662456, 6.049496122291756, 21.815866595796646, 93.81138659817451, 0.12477899214129928, 24.418457057328826, 0.011339993837308158, 0.2123030523053817, 29.739324994926424, 13.838643059201415, 21.764306950215843, 139.0325469989296, 100.97191000818187, 347.6601152639222, 2.025362220824544, 0.34639027701345765, 12.332825680951048, 21.77222269975843, 8.01300457439999, 0.01120999379194056, 56.66964464375426, 2.472221992257735, 21.815866595796646, 21.77754549887514, 91.03350699913278, 0.9989999999999972, 6.049496005399767, 1423.4914409851558, 0.11331499255483918, 23671.486481682317, 24.696873392058333, 25.462106178943856, 24.755176626465758, 24.794876589830068, 24.612290106851773, 21.815866595796646, 12.924454994187451, 21.815866595796646, 43.51385099211157, 98.0682991479558, 11.170813239313532, 18.525112994684825, 89.02463327137593, 15.17855899893126, 21.793339917276477, 115.922870559872, 21.815866595796646, 89.26402618322312, 21.761502512147207, 21.815866595796646, 21.760587083020205, 21.77222269975843, 13.492484, 0.010390600707994753, 25.074168028078194, 0.013186993571284857, 108.48437598895468, 43.58350638694521, 211.5435799979253, 19.300677993887, 15.099868993609164, 21.760587083020447, 24.60248919411456, 10.714451994947185, 45.36765898928994, 1.0165880354705845, 47.201475335012915, 32.61220899101078, 21.764306950215843, 1.4685251128479955, 29.739324994926424, 21.791074298289228, 2.1827353018451268, 14.427474999394784, 43.583516415803985, 66.66696825898117, 58694.330611584075, 43.56207540607196, 2.01650251302273, 100.88402022370651, 0.1487916482282229, 2.4625149912006212, 41.304274992617806, 20.17099137421396, 21.77754549887514, 24.551493991119592, 24.60248919411456, 15.71212576383541, 54.543134993331684, 24.598870194263302, 21.777079051763373, 54.32985998643295, 2.515752766375146, 21.7933252358883, 0.12449298457368661, 41914.34640499234, 4.032801320922314, 21.760666681883503, 201.35337599798703, 33.333776993472895, 2.9533132386567473, 15.865829999999999, 306.86086884959263, 101.55648399553829, 0.012536995454918503, 460.3499879737674, 21.815866595796646, 2.4856129887334624, 22.753591, 1149.9075369595535, 99.97432998866395, 43.58350638694521, 2.464920992159155, 94.46610098823459, 6.5636777026999455, 15.282704, 18.627420996843565, 6.049496556404866, 17.24257733824913, 250.64476635824275, 13.441432992396999, 54.392313992925125, 13.573834045485091, 10093.760656934553, 24.737719991419336, 21.79245987628463, 24.522792078892284, 296.60367199189284, 32.725880995999, 103.717887, 808.6303027438754, 1.7615990519778941, 10.371375994610085, 195.81989699422294, 43.58352135146882, 56.768030910604416, 2.4649199970830504, 51.543634043435475, 21.79608061233673, 2.5001819975429656, 132.066500601794, 0.0965989896138598, 24.915075195269587, 11.489016998587838, 112.62612583378127, 2.872903134131976, 24.60248919411456, 0.02830376848360145, 25.281804991736173, 82.26848386813408, 25.958209993806296, 13.441432992396999, 11.168643684282149, 15.490995993620297, 23.230216, 0.02262499624837255, 0.01309399539454815, 1.1178561228030626, 250.52179399162665, 43.58352226071716, 43.57016657465055, 14.710624999812996, 219.5731324927699, 141.05322661106715, 207.5106309895628, 1.1184271083045734, 94.18550838637495, 251.9795737534301, 380.8559929449099, 0.10517299993531422, 12.445228985544745, 12.924454994200406, 45.37199228913486, 1619.7525866973203, 186.43658941757332, 21.756379270068173, 156.7853039229096, 5.029125658742338, 9.887040766565732, 1.2089642237198965, 21.75884465234513, 1.0580287754263509, 30.243976758321566, 1.5074738427891528, 0.5041307873431273, 2.4660149916446175, 43.58347182940689, 21.764564673136025, 21.75890418198243, 99.30719999434356, 14.945274993786152, 94.51545299400819, 148.7845157581015, 12.114626586233465, 0.011287995083958119, 66.61794799895713, 25.217595707850467, 100.78360970501264, 16.345801995175364, 43.58350638694521, 0.04635399230831006, 478.89254899321793, 2.4715439906791663, 43.58352135146882, 0.010090158013418705, 14.547463995882088, 27.68668999840704, 46.31455399192257, 184.8792303294619, 74.65027043252405, 149.206276, 25.023469950429085, 43.58352226071716, 25.064186106739914, 12.038939993228416, 10.073207820231877, 6.048903883918406, 13.532632995098481, 20.222352649914225, 98.54692032100483, 90.6764154262142, 253.54824999476315, 2.008206199243805, 13.404008000000001, 120.96178398569013, 77.67093341300794, 21.55428599280419, 21.815866595796646, 42.61338499448735, 21.777079051763373, 1.2529489945929246, 21.55428599280419, 2241.4846134146205, 1399.836666009344, 21.779795596662456, 10.027627990950647, 447.2956639581089, 4.032996591596179, 18.112650797543683, 0.011321993842350499, 148.84478699445432, 503.38343999496766, 2.0100345846519123, 117.49193698664456, 24.88522718795832, 1.0064773595191698, 21.77754549887514, 11.378165994816321, 1.3668721322377169, 115.92511720184201, 0.010058389809520297, 13.441432992396999, 4.032944493001824, 0.013186993571284857, 30.289218083275074, 60.5391826594572, 6.0491783213823265, 0.012536995454918503, 10.527240371684188, 16.914615559143524, 0.19319898968797145, 94.11131038917378, 15.117542995469998, 58.61928199365972, 14.857110996459243, 0.3013045502902819, 43.56207094855186, 513.6770439964193, 21.796644081111374, 1090.0933999912213, 15.096659993151158, 68.97406023785875, 9.630370995313122, 21.796648383319294, 508.5789909702826, 51.26724632321703, 855.4725755505541, 12.924454994200406, 15.469991995426104, 8.65697782982235, 250.33682399104032, 2.4836949892918874, 21.760587083020447, 1.006495795178883, 4.032571608235949, 6648.7511912221835, 24.60867011076124, 131.46099186474416, 1000.1881799984573, 15.117189997486367, 100.6903059904713, 49.0025057836, 0.02019621277513707, 948.9942939941413, 21.799821114064553, 13.958411998410284, 13.441432992410473, 0.12477899214129928, 0.10090523912448036, 21.791239326234187, 4.784828975674071, 21.795357209520777, 51.227207629956915, 17.974842872364455, 0.01058804743157305, 0.011305997582576853, 9.55989199180509, 483.41087799788124, 8.009973376670194, 4.032597542856898, 6.049496005399767, 21.772032958254034, 176.8787879854208, 5926.997249991762, 37.486918935321626, 0.10517299993531422, 56.79284220105743, 400.9644792475268, 4.0325970910375295, 1.5138926730179074, 14.005145392442445, 0.01028708968602232, 141.1719961361958, 1.5074829800601024, 56.959693574625646, 95.57975986146036, 10.885499990636529, 21.760666681883503, 3.9547039873744256, 0.01038794350647352, 43.57016657465055, 13.8993464395404, 87.20998495289686, 2558.6179799936567, 25.67838178697582, 15.491296992580377, 1708.1897289859148, 12.924454994200406, 20.404313517265287, 43.56207212166152, 59.25355189814354, 22.718100993613305, 1.1087893289003463, 21.760666681883503, 1.0586991578465146, 0.002019621444347295, 1.2529489945929246, 1671.8835961616783, 15.234815999999999, 21.779795596662456, 21.773408840798282, 2226.4299281981944, 13.493814, 43.58347182940689, 0.01225499815484525, 21.779795596662456, 203.20450594695487, 1063.76099044335, 83.61187599911135, 261.8745709945675, 507.36153577115795, 1.008846414837493, 79.81096636177995, 24.767368991738415, 94.82383998840601, 35.06673599408625, 379.78838796063593, 19.726491413254124, 93.99844799643412, 0.02019621277513707, 7657.998880186371, 25.05334371790353, 13614.613417997727, 57.524734082001466, 13.441432992396999, 8.683734079953675, 1460.9892969922703, 733.1243498866874, 0.02019621277513707, 226.10059699652598, 7656.2217517671415, 88.67511398573264, 43.56995744705445, 114.79722999673422, 21.761502512147207, 10.400743452906504, 25.48009439750142, 21.761502512147207, 0.010189880390671799, 38.90917841386035, 29.387548988235174, 21.77754549887514, 0.5072148311777992, 2.4856149968393253, 29.64746299448572, 11.26426747453871, 21.779795596662456, 2.4649199970830504, 51.54724799661064, 0.6027221856516548, 86.20349099073917, 32.03697589804901, 43.57016657465055, 165.0287319955902, 91.03350699913278, 18.254249386283856, 57.945231965272136, 24.612290106851773, 6.049563773000963, 43.583481883368435, 29.739342939979675, 0.02019621277513707, 100.96206278700134, 261.8745709945675, 1.0051422073540401, 0.010292242504040434, 15.092292244792755, 764.5798469879469, 15.797464999999999, 107.91751499455218, 21.779795596662456, 14.857621, 0.01018784976865576, 0.5037246394646272, 24.050905101063336, 21.760666681883503, 19.142195996417065, 6.033583533238253, 23.4762281895789, 21.77204165410512, 0.011388997691651453, 1.625185155096011, 152.22479816789303, 21.756955662838724, 0.9869646643075815, 56.41813382092911, 1876.1398709943824, 1629.7239953844473, 30.63571098741702, 10.430162358276995, 21.77222269975843, 20.20799799850535, 1270.4722874541953, 93.92439699620265, 0.10076357539972222, 43.56995785276003, 21.779795596662456, 23.175407203860264, 199.47987236256833, 0.011333993279963749, 182.28863699960476, 21.795357209520777, 5615.830316992732, 5.0442471720174105, 25.02135899220931, 501.38542017001987, 11.275802226253475, 729.2735774557523, 4862.55487298703, 53.377558395004854, 3716.6088858221788, 42.68786099102947, 21.761502512147207, 21.756955662838724, 21.756955662838724, 27.192762078863375, 95.17912098927047, 59.19073699180534, 22.09666499365948, 21.795357209520777, 25.958209993806296, 3.7308319804626615, 12.924454994200406, 48.38520499791563, 6.049178321381691, 0.011603681715430386, 594.1544694160685, 100.73647304695898, 18.87945748081272, 1.0105283961490634, 196.72828799170034, 497.06709499242993, 0.1009063752044563, 21.796644081111374, 535.529820995199, 93.73748259489997, 67.9674476550941, 22.886323103786445, 18.627420996843565, 13.477091990961917, 6.049165134674084, 21.796644081111374, 39.4720209930169, 21.779795596662456, 24.85044219101798, 12.703903155252565, 13.104339585972248, 10.653345996255288, 21.815866595796646, 28.433801995030635, 13.958411998410284, 0.9578592183808547, 21.756955662838724, 131.04193399609903, 12.038939993228416, 0.0105169971137067, 24.696873392046687, 2.4715439906791663, 0.010090158013417727, 0.011289992731850095, 1.0045900202806932, 13.541953440008662, 21.815866595796646, 0.20176537228244498, 21.77754549887514, 10.406364394116109, 0.025494998380827277, 13.650172996020428, 10.370710933771482, 0.012451997168902435, 21.756955662838724, 281.69269699992446, 21.77222269975843, 21.77222269975843, 21.877189816970798, 43.58352135146882, 382.4580769397561, 7.6770729908308475, 124.97356199143725, 14.777836201361763, 0.02019621277513707, 21.760666681883503, 59.826801998860404, 11.624884995676531, 21.777079051763373, 11.583095995672943, 2.4854439962525468, 84.87151551558907, 21.773408840798282, 0.431567999999997, 0.012050998555126173, 20.403570957477992, 6.049496005399767, 43.58352135146882, 21.779795596662456, 21.779795596662456, 21.815866595796646, 0.02023737273941165, 6.049496005399767, 24.984398712677674, 135.02289002568776, 12.924454994187451, 21.79664665883823, 3.0133319138031385, 21.815866595796646, 30.31027712661625, 0.01340999568034636, 25.074168028078194, 24.07788099482596, 11.339029612582149, 15.798985996414556, 21.756379270068173, 6.04963407363769, 59.76691175292177, 21.779795596662456, 21.791238745941236, 0.012050998555126173, 13.67843899817638, 2.016369819749396, 1.0320019973200527, 173.97348299517927, 25.030044993305843, 4.032773968964574, 75.68131463404283, 2.4624519974168053, 13.501488, 21.815866595796646, 157.0247520543093, 21.773408840798282, 5041.969364314393, 6.42099839733799, 78.09964427480861, 93.66566199976779, 24.598870194274905, 14.896037, 7.728188994693635, 21.815866595796646, 1.7108528647387629, 166740.0863692421, 0.3010754021285362, 43.57016657465055, 3897.6516489942296, 4.987447160399997, 1007.5597549299407, 132.4179348050789, 49.367991691862265, 0.9377207908621824, 25.059656190720467, 141.97773006174765, 6.0464783164405365, 198.15349730045622, 11.121984992191253, 13.441432992410473, 99.41341798919825, 1.1177545884635476, 1.2573869822154844, 14.673516996980043, 24.675480989644793, 43.57016657465055, 3959.0731230794177, 421.8638459965556, 21.792460017825935, 0.4397612210597096, 0.0100869799689661, 560.3910048812897, 1.0075044115903247, 0.013186993571272336, 22.783152998913742, 21.779795596662456, 48.18732467217944, 21.779795596662456, 2529.907137885002, 0.012030998186801957, 21.793339871725014, 49.836711507562235, 21.908384993804884, 0.9067445719842793, 14.859819995610124, 0.15574977401164655, 79.32029924740955, 12.924454994200406, 152.93672285320764, 2.4774029855688213, 43.57016657465055, 24.75018395768452, 11.42147099256247, 21.795357209520777, 7716.819091561649, 601.6034489822172, 100.38757698519859, 10.31525888374836, 50.04694090868304, 40.9405380165222, 106.97747498935533, 8.233290995234908, 13.441432992396999, 43.58350638694521, 43.57016657465055, 0.1437299955063846, 4.998624987913345, 0.13187799683828375, 48.967345939644495, 10.071218808651627, 21.756955662838724, 0.0105169971137067, 21.795357209520777, 0.9867847763156468, 17.31297, 4862.55487298703, 13.46999, 22.271033377996083, 126.57814333592466, 39.66712799539979, 11.516010999223024, 15.341638994127456, 0.011364995605515477, 21.779795596662456, 0.012050998555126173, 0.3022454709798806, 4.032788273731315, 188.11110199042776, 0.18518999627655158, 21.77204165410512, 1.0810489418593399, 6.051874090171285, 0.010389589368035083, 21.79664665883823, 132.01681499974967, 21.793339871725014, 115.3504329936768, 58.33176528404022, 13.52464, 6.048853063965628, 250.29923899908792, 162.2670549993819, 15.726261994236303, 25.55885319615738, 24.98437239511005, 52.14605115422278, 19.736693045123385, 1.4951315362889313, 2.464920992159155, 10.665407678692695, 49.20269823029927, 1.5074823574957343, 250.270775997304, 265.2807589920216, 984.742654956242, 0.011964995635206244, 21.77222269975843, 0.013186993571272336, 21.792460017824567, 1.2996463351658263, 13.372566998330534, 15.491296992580377, 196.45157133107352, 0.010077526405431246, 1.5074744647207143, 94.01785318821797, 43.583502036853545, 51.03975079785952, 21.79666836122103, 21.54934599230921, 255.08570198509187, 0.28259036632559026, 25.777526994127548, 129.3430860210282, 0.2487739929328856, 271.7868866773217, 25.064186106739914, 1205.9230119913736, 21.800054491457868, 42.239624997452374, 27.305503995924262, 2.4677379901189918, 25.003555113271, 16.34062599686265, 1.5088605003100413, 0.009640993733065954, 0.7912079999999985, 92.2845989973595, 251.03531298896755, 0.001225995113918709, 21.760666681883503, 0.0105169971137067, 12.732223435369761, 0.23296699999999998, 411.30286299066347, 46.9711642336852, 15.990706, 13.441432992410473, 21.795357209520777, 21.792460017824567, 0.011504998602957757, 12.02830099758593, 25.013512027937608, 43.57016657465055, 26.565454579599997, 697.6209277128497, 250.270775997304, 6.049636074471684, 21.745667520970994, 990.3057954311864, 21.760587083020205, 21.77754549887514, 0.011333993279963749, 2.4722219977436697, 69.14371699775809, 2.4693959953263174, 11.708719998193441, 43.57016657465055, 4.032916695364086, 21.796659742542552, 57.08223341621306, 13.510474999905, 16.817288998764944, 55.20230199961335, 21.760666681883503, 0.011106628542960397, 4.032773968964574, 0.012030998186800203, 22.75458699954681, 21.77754549887514, 993.1240009999999, 105.15753263300074, 21.760666681883503, 43.57016657465055, 19.00381599770089, 102.9041609930975, 0.7038528828347573, 21.796644081111374, 29.19097166441396, 71.54103996511878, 0.010516997118356908, 25.054712589297136, 0.09585499596672856, 100.2397740090528, 2.440051894876071, 0.9981683650168505, 43.56136970015023, 4.0483398443480185, 43.5835222607112, 5.144715452427429, 7.437352649408693, 101.07195218713488, 24.340573997959737, 14.382763992131652, 43.57016657465055, 13.526788999138423, 21.779795596662456, 0.15537787466532044, 43.583502036853545, 296.60367199189284, 2.473829996528637, 10.370715990522275, 40.224843211327126, 311.37148503196255, 4.618509081471164, 29.407160993931306, 0.2704829979461186, 12.55062999770183, 232.9041339937534, 20.15625052624362, 454.3430869924314, 0.02019621277513707, 102.36457499153695, 27.264717, 22.352904994916805, 21.756955662838724, 120.07952839526642, 580.2462359949345, 15.281577195520981, 66.85867838429854, 172.40698299000212, 1423.4914409851558, 79.56158679902993, 43.57016657465055, 10.442891179299176, 24.651394751484908, 11.708596993372018, 0.01202799747417549, 205.13691426850403, 0.011081686179572173, 12.805964996123613, 21.779795596662456, 21.197680997667383, 1432.3465939118764, 2088.07970731605, 296.60367199189284, 6.049496005399767, 56.58429585869403, 24.598870194274905, 20.3092256835818, 0.011504998602957757, 47.390356991929906, 29.062419763867528, 31.481268598123304, 1005.7375588257516, 21.76158826648704, 99.3462469940357, 0.9579239194390575, 21.793304144496425, 0.011494998408484338, 11.277193994425774, 25.003555113271, 74.24348304813672, 21.760587083020447, 2.4856149968393253, 51.66709999531674, 1.109279128113684, 28.937482362490666, 4.050611744537566, 0.40234335874150257, 21.79664665883823, 43.58367997847898, 21.793354686295288, 21.777079051763373, 15.36501899263187, 87.62422781575559, 21.815866595796646, 15.787532, 20.15758710207703, 90.62505299754883, 2.487613990135366, 10.549416873618835, 1897.9885879882827, 2.4694119981989124, 43.874059973247064, 24.60248919411456, 24.58102316843545, 43.57016657465055, 1.6748151961166615, 29.72562999167129, 14728.581550871637, 9.876749995429433, 0.1314019949867698, 10.564459093035136, 14.774577992383042, 21.793339871725014, 21.7954755240137, 80.77827899168254, 1.752853728248645, 597.675369930334, 2.4931169866995244, 21.55428599280419, 90.4909459919692, 0.013186993571284857, 21.79666836122103, 0.40283199434408595, 12.337942995186054, 21.55428599280419, 43.562070558083356, 1.2249094201450752, 15.726262, 57.34640050746387, 21.77754549887514, 113.76237462702147, 99.56360899206487, 1.005170090812745, 21.786247999915975, 6.04949623889004, 1.247798994122655, 0.030129994129982622, 0.011409536594132044, 314.33894355439077, 25.013512027937608, 15.464718007405601, 0.01659799845504953, 14.675012472905617, 6.047600535849922, 18.525112994684825, 345.3280729822824, 4.032571608235949, 6.049232860638499, 11.353242999118322, 1.0075044115903247, 1.257315987298859, 21.55428599280419, 0.001224992863148185, 21.77203372374141, 12.862741, 12.924454994187451, 992.8490469954811, 94.82383998840601, 18.457991806517356, 1.0082351123553819, 21.793339917276477, 40.757350832216595, 21.779795596662456, 983.5191999919011, 12.476822998397354, 29.72562999167129, 0.010327999790277237, 29.654029986701385, 45.01338796973658, 13.151841999999998, 64.7628579906928, 21.77204165410512, 21.77222269975843, 0.011496995845341133, 4.032576007777992, 148.04021098851734, 11.426570999423934, 0.01129741756524203, 56.81937933672114, 21.75884465234513, 2.4625149912006212, 25.0347859963103, 3.989457174299169, 137.1517029653003, 120.8858472403629, 0.009907118711515913, 24.509528999910614, 21.75884465234513, 25.5792375883623, 74.18244943468063, 11.886096996758285, 21.756955662838724, 0.011309995753870454, 262.2964629907435, 49.53397199297218, 20.631675966476784, 1.5656906491233276, 11.493653998460706, 21.756955662838724, 5.045318760222815, 0.013186993571284857, 12.924454994200406, 374.74863475319546, 43.57016657465055, 124.4080928316657, 87.62314923306735, 43.56207540607196, 21.773065455646496, 25.893737993442254, 0.10090612831364114, 265.4103956744825, 21.777079051763373, 16.1250695633806, 21.55428599280419, 24.596379987361765, 5500.171042016314, 21.795357209520777, 4.032571608235949, 0.010577973171409804, 21.460173012906466, 57.1769676173811, 136.07678297723933, 0.012030998186801957, 69.4031648261346, 16.222682, 0.012476991943163714, 13.441432992410473, 21.79245987628463, 13.276804994831545, 498.40441599855393, 10.129278597999658, 25.65869239556961, 58.06572533859346, 2962.063602825673, 11.708598995622767, 445.5259329954656, 0.011364998227225588, 49.8972299864847, 214.95265799499361, 130.61634105965322, 1.212902505611256, 3.036788031136107, 10.251996002174073, 57.27674161031911, 49.49175098984769, 6.049174507507005, 21.793339871725014, 4.032875817261849, 21.55428599280419, 4.032773968964574, 0.013186993571272336, 99.99796998902204, 1.2108998016757497, 10.459707322282089, 250.23277899973746, 11.87153599598078, 147.3312729977793, 0.012476991943163714, 21.75890418198243, 43.56207173034049, 0.013186993571284857, 99.2659649876466, 0.010189880390671799, 11.356681991468015, 20.148307806026374, 24.612290106851773, 11.390801995223569, 23.81144, 24.730485108305388, 115.3504329936768, 6.048968227633225, 21.55428599280419, 3.408453212502481, 21.78757440564472, 1.078911865437783, 0.011288999999999999, 1.0075132565429021, 125.76641638445703, 12.924454994187451, 188.85045478585047, 33.33938739486445, 1.1091898092958383, 16.728383959661997, 24.07788099482515, 24.869496005858302, 1750.5884749926172, 21.75890418198243, 95.36487188763294, 21.77754549887514, 98.5467539973236, 1.505992392811219, 14.171085664190725, 21.76158826648704, 0.011303995084981243, 1.5963046700302488, 13.809840999999999, 11.708474998068674, 407.55193199622323, 21.761502512147207, 994.2930927053949, 22.137552993901792, 2.4657369947233727, 21.793304144496425, 49.50292099357018, 0.30227853256593146, 6.047447450962795, 10.542751086064847, 43.583481883368435, 11.854186571133967, 21.79608061233673, 48.124630024239174, 52.13817799562379, 21.753858388481127, 46.6538122179226, 21.76158826648704, 15.344267991581008, 0.03492999644779072, 201.6600000074166, 122.18657344135802, 134.076692993102, 50.12929730981703, 8004.297755146146, 21.55428599280419, 0.02019621277513707, 160.73114, 24.696873392046687, 24.622093036046415, 56.93137823438664, 6.04956378681648, 97.64448499455617, 21.793340966784573, 15.685049, 628.0686761087845, 45.30189098680384, 21.779795596662456, 21.779795596662456, 25.20037099440207, 21.77204165410512, 25.858370794394066, 21.756379270068173, 0.013186993571284857, 43.57016657465055, 4.032773968964574, 0.010374999293469911, 43.58347326562989, 0.012476991943163714, 21.815866595796646, 6.048968227633225, 1.0074492756965168, 6.049174507506369, 59.073702989929444, 21.756379270068173, 11.390801995223569, 21.77222269975843, 21.757177842638445, 3.637630985083324, 251.03531298896755, 66.18717198985651, 0.050989996761654555, 99.00576199186438, 0.013277995606438093, 14.92425699759612, 231.63969999331658, 21.796659742542552, 116.07277705894803, 4.032597542856898, 0.01027574536651238, 43.58350638694521, 13.395617999384738, 1.1097521354535935, 8648.147812431544, 56.649801451474815, 0.009990992828234627, 13.570940991446651, 43.56027978259337, 0.5048575264105178, 16.352379, 24.740334029197395, 992.6608149886929, 347.6406007420211, 0.001313999796496586, 43.58347182940689, 2.4821659913207377, 24.39520410665985, 27.095139177457217, 6.061949530911268, 250.29923899908792, 212.33912399562726, 94.51946459684585, 0.012257994428111638, 0.5045532809591576, 16.19713099683351, 68.8463429915573, 94.48513919238805, 24.44651698429177, 5.0227033324379, 0.9073353121739204, 24.60248919411456, 471.9607389984643, 10.444635452291536, 12.215793995761038, 21.795357209520777, 0.10089509199872691, 25.023469950429085, 228.05089609029886, 0.012296992277514978, 43.56207251334918, 2372.485735996997, 43.58351350362269, 0.013186993571284857, 21.791238745941236, 33.7602642255905, 494.71958399350535, 21.791239326234187, 5.023133846384224, 21.796659742542552, 260.53046898948446, 13.101544137363284, 21.779795596662456, 0.000101048042480428, 14.494288998500915, 201.6935421153959, 94.46610098823459, 512.445753993187, 1.009106567432286, 44.5972931048, 21.815866595796646, 296.2708589379476, 21.7293298307027, 24.180936992786226, 83.96344930295552, 43.58367997847898, 934.6115547142487, 21.779795596662456, 178.44178099447467, 58.709397498209356, 20.538261486589427, 56.580673658260096, 2151.2278575279083, 42.69942765112702, 26.728912998705134, 0.011383913984469597, 18.11260274483158, 431.25927740825495, 15.07438426762902, 25.758531594981836, 56.51331166393463, 804.9084259934542, 12.924454994200406, 15084.476560263294, 169.2806951855179, 5.042808867352602, 23.85035199503857, 1.386184, 43.56207001193932, 21.77204165410512, 10.288034892239871, 0.10089509199872691, 0.010374999293469911, 0.02019621277513707, 26.004338115011084, 21.792460017824567, 0.09678399429597971, 21.772036799837863, 19.33065299547527, 84.47924999490478, 103.60730799634263, 92.77668899644985, 125.15025138681526, 1.0102342691814532, 19.394050678449148, 0.02085899392748278, 21.98104699581301, 21.55428599280419, 1.5120250821338068, 15.096659993151158, 26.399075997309378, 46.816017, 0.2487739929328856, 21.756955662838724, 0.01226499223751735, 24.70600102904189, 90.4909459919692, 2.462451999815246, 96.54814699112147, 6.049306678372544, 24.98437239511005, 683.1531449177737, 6.049563773000963, 0.20181640101628207, 546.9563321872745, 34.599712996601085], \"xaxis\": \"x2\", \"yaxis\": \"y2\"}],\n",
              "                        {\"barmode\": \"relative\", \"legend\": {\"tracegroupgap\": 0}, \"template\": {\"data\": {\"bar\": [{\"error_x\": {\"color\": \"#2a3f5f\"}, \"error_y\": {\"color\": \"#2a3f5f\"}, \"marker\": {\"line\": {\"color\": \"#E5ECF6\", \"width\": 0.5}}, \"type\": \"bar\"}], \"barpolar\": [{\"marker\": {\"line\": {\"color\": \"#E5ECF6\", \"width\": 0.5}}, \"type\": \"barpolar\"}], \"carpet\": [{\"aaxis\": {\"endlinecolor\": \"#2a3f5f\", \"gridcolor\": \"white\", \"linecolor\": \"white\", \"minorgridcolor\": \"white\", \"startlinecolor\": \"#2a3f5f\"}, \"baxis\": {\"endlinecolor\": \"#2a3f5f\", \"gridcolor\": \"white\", \"linecolor\": \"white\", \"minorgridcolor\": \"white\", \"startlinecolor\": \"#2a3f5f\"}, \"type\": \"carpet\"}], \"choropleth\": [{\"colorbar\": {\"outlinewidth\": 0, \"ticks\": \"\"}, \"type\": \"choropleth\"}], \"contour\": [{\"colorbar\": {\"outlinewidth\": 0, \"ticks\": \"\"}, \"colorscale\": [[0.0, \"#0d0887\"], [0.1111111111111111, \"#46039f\"], [0.2222222222222222, \"#7201a8\"], [0.3333333333333333, \"#9c179e\"], [0.4444444444444444, \"#bd3786\"], [0.5555555555555556, \"#d8576b\"], [0.6666666666666666, \"#ed7953\"], [0.7777777777777778, \"#fb9f3a\"], [0.8888888888888888, \"#fdca26\"], [1.0, \"#f0f921\"]], \"type\": \"contour\"}], \"contourcarpet\": [{\"colorbar\": {\"outlinewidth\": 0, \"ticks\": \"\"}, \"type\": \"contourcarpet\"}], \"heatmap\": [{\"colorbar\": {\"outlinewidth\": 0, \"ticks\": \"\"}, \"colorscale\": [[0.0, \"#0d0887\"], [0.1111111111111111, \"#46039f\"], [0.2222222222222222, \"#7201a8\"], [0.3333333333333333, \"#9c179e\"], [0.4444444444444444, \"#bd3786\"], [0.5555555555555556, \"#d8576b\"], [0.6666666666666666, \"#ed7953\"], [0.7777777777777778, \"#fb9f3a\"], [0.8888888888888888, \"#fdca26\"], [1.0, \"#f0f921\"]], \"type\": \"heatmap\"}], \"heatmapgl\": [{\"colorbar\": {\"outlinewidth\": 0, \"ticks\": \"\"}, \"colorscale\": [[0.0, \"#0d0887\"], [0.1111111111111111, \"#46039f\"], [0.2222222222222222, \"#7201a8\"], [0.3333333333333333, \"#9c179e\"], [0.4444444444444444, \"#bd3786\"], [0.5555555555555556, \"#d8576b\"], [0.6666666666666666, \"#ed7953\"], [0.7777777777777778, \"#fb9f3a\"], [0.8888888888888888, \"#fdca26\"], [1.0, \"#f0f921\"]], \"type\": \"heatmapgl\"}], \"histogram\": [{\"marker\": {\"colorbar\": {\"outlinewidth\": 0, \"ticks\": \"\"}}, \"type\": \"histogram\"}], \"histogram2d\": [{\"colorbar\": {\"outlinewidth\": 0, \"ticks\": \"\"}, \"colorscale\": [[0.0, \"#0d0887\"], [0.1111111111111111, \"#46039f\"], [0.2222222222222222, \"#7201a8\"], [0.3333333333333333, \"#9c179e\"], [0.4444444444444444, \"#bd3786\"], [0.5555555555555556, \"#d8576b\"], [0.6666666666666666, \"#ed7953\"], [0.7777777777777778, \"#fb9f3a\"], [0.8888888888888888, \"#fdca26\"], [1.0, \"#f0f921\"]], \"type\": \"histogram2d\"}], \"histogram2dcontour\": [{\"colorbar\": {\"outlinewidth\": 0, \"ticks\": \"\"}, \"colorscale\": [[0.0, \"#0d0887\"], [0.1111111111111111, \"#46039f\"], [0.2222222222222222, \"#7201a8\"], [0.3333333333333333, \"#9c179e\"], [0.4444444444444444, \"#bd3786\"], [0.5555555555555556, \"#d8576b\"], [0.6666666666666666, \"#ed7953\"], [0.7777777777777778, \"#fb9f3a\"], [0.8888888888888888, \"#fdca26\"], [1.0, \"#f0f921\"]], \"type\": \"histogram2dcontour\"}], \"mesh3d\": [{\"colorbar\": {\"outlinewidth\": 0, \"ticks\": \"\"}, \"type\": \"mesh3d\"}], \"parcoords\": [{\"line\": {\"colorbar\": {\"outlinewidth\": 0, \"ticks\": \"\"}}, \"type\": \"parcoords\"}], \"pie\": [{\"automargin\": true, \"type\": \"pie\"}], \"scatter\": [{\"marker\": {\"colorbar\": {\"outlinewidth\": 0, \"ticks\": \"\"}}, \"type\": \"scatter\"}], \"scatter3d\": [{\"line\": {\"colorbar\": {\"outlinewidth\": 0, \"ticks\": \"\"}}, \"marker\": {\"colorbar\": {\"outlinewidth\": 0, \"ticks\": \"\"}}, \"type\": \"scatter3d\"}], \"scattercarpet\": [{\"marker\": {\"colorbar\": {\"outlinewidth\": 0, \"ticks\": \"\"}}, \"type\": \"scattercarpet\"}], \"scattergeo\": [{\"marker\": {\"colorbar\": {\"outlinewidth\": 0, \"ticks\": \"\"}}, \"type\": \"scattergeo\"}], \"scattergl\": [{\"marker\": {\"colorbar\": {\"outlinewidth\": 0, \"ticks\": \"\"}}, \"type\": \"scattergl\"}], \"scattermapbox\": [{\"marker\": {\"colorbar\": {\"outlinewidth\": 0, \"ticks\": \"\"}}, \"type\": \"scattermapbox\"}], \"scatterpolar\": [{\"marker\": {\"colorbar\": {\"outlinewidth\": 0, \"ticks\": \"\"}}, \"type\": \"scatterpolar\"}], \"scatterpolargl\": [{\"marker\": {\"colorbar\": {\"outlinewidth\": 0, \"ticks\": \"\"}}, \"type\": \"scatterpolargl\"}], \"scatterternary\": [{\"marker\": {\"colorbar\": {\"outlinewidth\": 0, \"ticks\": \"\"}}, \"type\": \"scatterternary\"}], \"surface\": [{\"colorbar\": {\"outlinewidth\": 0, \"ticks\": \"\"}, \"colorscale\": [[0.0, \"#0d0887\"], [0.1111111111111111, \"#46039f\"], [0.2222222222222222, \"#7201a8\"], [0.3333333333333333, \"#9c179e\"], [0.4444444444444444, \"#bd3786\"], [0.5555555555555556, \"#d8576b\"], [0.6666666666666666, \"#ed7953\"], [0.7777777777777778, \"#fb9f3a\"], [0.8888888888888888, \"#fdca26\"], [1.0, \"#f0f921\"]], \"type\": \"surface\"}], \"table\": [{\"cells\": {\"fill\": {\"color\": \"#EBF0F8\"}, \"line\": {\"color\": \"white\"}}, \"header\": {\"fill\": {\"color\": \"#C8D4E3\"}, \"line\": {\"color\": \"white\"}}, \"type\": \"table\"}]}, \"layout\": {\"annotationdefaults\": {\"arrowcolor\": \"#2a3f5f\", \"arrowhead\": 0, \"arrowwidth\": 1}, \"coloraxis\": {\"colorbar\": {\"outlinewidth\": 0, \"ticks\": \"\"}}, \"colorscale\": {\"diverging\": [[0, \"#8e0152\"], [0.1, \"#c51b7d\"], [0.2, \"#de77ae\"], [0.3, \"#f1b6da\"], [0.4, \"#fde0ef\"], [0.5, \"#f7f7f7\"], [0.6, \"#e6f5d0\"], [0.7, \"#b8e186\"], [0.8, \"#7fbc41\"], [0.9, \"#4d9221\"], [1, \"#276419\"]], \"sequential\": [[0.0, \"#0d0887\"], [0.1111111111111111, \"#46039f\"], [0.2222222222222222, \"#7201a8\"], [0.3333333333333333, \"#9c179e\"], [0.4444444444444444, \"#bd3786\"], [0.5555555555555556, \"#d8576b\"], [0.6666666666666666, \"#ed7953\"], [0.7777777777777778, \"#fb9f3a\"], [0.8888888888888888, \"#fdca26\"], [1.0, \"#f0f921\"]], \"sequentialminus\": [[0.0, \"#0d0887\"], [0.1111111111111111, \"#46039f\"], [0.2222222222222222, \"#7201a8\"], [0.3333333333333333, \"#9c179e\"], [0.4444444444444444, \"#bd3786\"], [0.5555555555555556, \"#d8576b\"], [0.6666666666666666, \"#ed7953\"], [0.7777777777777778, \"#fb9f3a\"], [0.8888888888888888, \"#fdca26\"], [1.0, \"#f0f921\"]]}, \"colorway\": [\"#636efa\", \"#EF553B\", \"#00cc96\", \"#ab63fa\", \"#FFA15A\", \"#19d3f3\", \"#FF6692\", \"#B6E880\", \"#FF97FF\", \"#FECB52\"], \"font\": {\"color\": \"#2a3f5f\"}, \"geo\": {\"bgcolor\": \"white\", \"lakecolor\": \"white\", \"landcolor\": \"#E5ECF6\", \"showlakes\": true, \"showland\": true, \"subunitcolor\": \"white\"}, \"hoverlabel\": {\"align\": \"left\"}, \"hovermode\": \"closest\", \"mapbox\": {\"style\": \"light\"}, \"paper_bgcolor\": \"white\", \"plot_bgcolor\": \"#E5ECF6\", \"polar\": {\"angularaxis\": {\"gridcolor\": \"white\", \"linecolor\": \"white\", \"ticks\": \"\"}, \"bgcolor\": \"#E5ECF6\", \"radialaxis\": {\"gridcolor\": \"white\", \"linecolor\": \"white\", \"ticks\": \"\"}}, \"scene\": {\"xaxis\": {\"backgroundcolor\": \"#E5ECF6\", \"gridcolor\": \"white\", \"gridwidth\": 2, \"linecolor\": \"white\", \"showbackground\": true, \"ticks\": \"\", \"zerolinecolor\": \"white\"}, \"yaxis\": {\"backgroundcolor\": \"#E5ECF6\", \"gridcolor\": \"white\", \"gridwidth\": 2, \"linecolor\": \"white\", \"showbackground\": true, \"ticks\": \"\", \"zerolinecolor\": \"white\"}, \"zaxis\": {\"backgroundcolor\": \"#E5ECF6\", \"gridcolor\": \"white\", \"gridwidth\": 2, \"linecolor\": \"white\", \"showbackground\": true, \"ticks\": \"\", \"zerolinecolor\": \"white\"}}, \"shapedefaults\": {\"line\": {\"color\": \"#2a3f5f\"}}, \"ternary\": {\"aaxis\": {\"gridcolor\": \"white\", \"linecolor\": \"white\", \"ticks\": \"\"}, \"baxis\": {\"gridcolor\": \"white\", \"linecolor\": \"white\", \"ticks\": \"\"}, \"bgcolor\": \"#E5ECF6\", \"caxis\": {\"gridcolor\": \"white\", \"linecolor\": \"white\", \"ticks\": \"\"}}, \"title\": {\"x\": 0.05}, \"xaxis\": {\"automargin\": true, \"gridcolor\": \"white\", \"linecolor\": \"white\", \"ticks\": \"\", \"title\": {\"standoff\": 15}, \"zerolinecolor\": \"white\", \"zerolinewidth\": 2}, \"yaxis\": {\"automargin\": true, \"gridcolor\": \"white\", \"linecolor\": \"white\", \"ticks\": \"\", \"title\": {\"standoff\": 15}, \"zerolinecolor\": \"white\", \"zerolinewidth\": 2}}}, \"title\": {\"text\": \"Histogram of Total Liquidity Added Value ($)\"}, \"xaxis\": {\"anchor\": \"y\", \"domain\": [0.0, 1.0], \"title\": {\"text\": \"Cumulative Liquidity Added Value ($)\"}}, \"xaxis2\": {\"anchor\": \"y2\", \"domain\": [0.0, 1.0], \"matches\": \"x\", \"showgrid\": true, \"showticklabels\": false}, \"yaxis\": {\"anchor\": \"x\", \"domain\": [0.0, 0.8316], \"title\": {\"text\": \"count\"}}, \"yaxis2\": {\"anchor\": \"x2\", \"domain\": [0.8416, 1.0], \"matches\": \"y2\", \"showgrid\": false, \"showline\": false, \"showticklabels\": false, \"ticks\": \"\"}},\n",
              "                        {\"responsive\": true}\n",
              "                    ).then(function(){\n",
              "                            \n",
              "var gd = document.getElementById('7963d6a6-6d16-4d9d-b658-9f7fe209038c');\n",
              "var x = new MutationObserver(function (mutations, observer) {{\n",
              "        var display = window.getComputedStyle(gd).display;\n",
              "        if (!display || display === 'none') {{\n",
              "            console.log([gd, 'removed!']);\n",
              "            Plotly.purge(gd);\n",
              "            observer.disconnect();\n",
              "        }}\n",
              "}});\n",
              "\n",
              "// Listen for the removal of the full notebook cells\n",
              "var notebookContainer = gd.closest('#notebook-container');\n",
              "if (notebookContainer) {{\n",
              "    x.observe(notebookContainer, {childList: true});\n",
              "}}\n",
              "\n",
              "// Listen for the clearing of the current output cell\n",
              "var outputEl = gd.closest('.output');\n",
              "if (outputEl) {{\n",
              "    x.observe(outputEl, {childList: true});\n",
              "}}\n",
              "\n",
              "                        })\n",
              "                };\n",
              "                \n",
              "            </script>\n",
              "        </div>\n",
              "</body>\n",
              "</html>"
            ]
          },
          "metadata": {}
        }
      ]
    },
    {
      "cell_type": "code",
      "metadata": {
        "id": "i_oCS0y9Y9Tc"
      },
      "source": [
        "# Label data with grouping low/medium/high to enable joining back onto CSV for minters\n",
        "cut_labels_3 = ['Low', 'Medium', 'High']\n",
        "cut_bins = [0, 1500, 8000, 300000]\n",
        "lp_address_amounts_df['cumulative_liquidity_added_grouping'] = pd.cut(lp_address_amounts_df['Cumulative Liquidity Added Value ($)'], bins=cut_bins, labels=cut_labels_3)"
      ],
      "execution_count": 196,
      "outputs": []
    },
    {
      "cell_type": "code",
      "metadata": {
        "colab": {
          "base_uri": "https://localhost:8080/",
          "height": 462
        },
        "id": "T10xkbDtYbqU",
        "outputId": "c0508674-ebbc-43d5-9470-cd59087b2bd8"
      },
      "source": [
        "lp_address_amounts_df = lp_address_amounts_df.reset_index().rename(columns={\"index\": \"From\"})\n",
        "lp_address_amounts_grouped_df = pd.merge(lps_addresses_counts_grouped_df, lp_address_amounts_df, on=\"From\", how='left')\n",
        "lp_address_amounts_grouped_df.head()"
      ],
      "execution_count": 197,
      "outputs": [
        {
          "output_type": "execute_result",
          "data": {
            "text/html": [
              "<div>\n",
              "<style scoped>\n",
              "    .dataframe tbody tr th:only-of-type {\n",
              "        vertical-align: middle;\n",
              "    }\n",
              "\n",
              "    .dataframe tbody tr th {\n",
              "        vertical-align: top;\n",
              "    }\n",
              "\n",
              "    .dataframe thead th {\n",
              "        text-align: right;\n",
              "    }\n",
              "</style>\n",
              "<table border=\"1\" class=\"dataframe\">\n",
              "  <thead>\n",
              "    <tr style=\"text-align: right;\">\n",
              "      <th></th>\n",
              "      <th>Txhash</th>\n",
              "      <th>UnixTimestamp</th>\n",
              "      <th>DateTime</th>\n",
              "      <th>From</th>\n",
              "      <th>To</th>\n",
              "      <th>Value</th>\n",
              "      <th>ContractAddress</th>\n",
              "      <th>TokenName</th>\n",
              "      <th>TokenSymbol</th>\n",
              "      <th>Type</th>\n",
              "      <th>tx_type_label</th>\n",
              "      <th>chain</th>\n",
              "      <th>Cumulative Number of Liquidity Added Actions</th>\n",
              "      <th>cumulative_liquidity_added_groupings</th>\n",
              "      <th>usd_value</th>\n",
              "      <th>Cumulative Liquidity Added Value ($)</th>\n",
              "      <th>cumulative_liquidity_added_grouping</th>\n",
              "    </tr>\n",
              "  </thead>\n",
              "  <tbody>\n",
              "    <tr>\n",
              "      <th>0</th>\n",
              "      <td>0xc4bc77f254adcbec01372b053782fbf8b58cc84b9084...</td>\n",
              "      <td>1623769680</td>\n",
              "      <td>2021-06-15 15:08:00</td>\n",
              "      <td>0x19ac6292d62465cd3c82a082e0b5f9b875c57d92</td>\n",
              "      <td>0x97693242c5703900fc7651c9164a334ee5ddfa2d</td>\n",
              "      <td>11.52923</td>\n",
              "      <td>0x51b0bcbeff204b39ce792d1e16767fe6f7631970</td>\n",
              "      <td>BTC Volatility Index</td>\n",
              "      <td>BTCV</td>\n",
              "      <td>IN</td>\n",
              "      <td>Add Liquidity</td>\n",
              "      <td>ETHEREUM</td>\n",
              "      <td>16</td>\n",
              "      <td>High</td>\n",
              "      <td>1123.408199</td>\n",
              "      <td>26284.587290</td>\n",
              "      <td>High</td>\n",
              "    </tr>\n",
              "    <tr>\n",
              "      <th>1</th>\n",
              "      <td>0xc4bc77f254adcbec01372b053782fbf8b58cc84b9084...</td>\n",
              "      <td>1623769680</td>\n",
              "      <td>2021-06-15 15:08:00</td>\n",
              "      <td>0x19ac6292d62465cd3c82a082e0b5f9b875c57d92</td>\n",
              "      <td>0x97693242c5703900fc7651c9164a334ee5ddfa2d</td>\n",
              "      <td>2500.00000</td>\n",
              "      <td>0xa0b86991c6218b36c1d19d4a2e9eb0ce3606eb48</td>\n",
              "      <td>USD Coin</td>\n",
              "      <td>USDC</td>\n",
              "      <td>IN</td>\n",
              "      <td>Add Liquidity</td>\n",
              "      <td>ETHEREUM</td>\n",
              "      <td>16</td>\n",
              "      <td>High</td>\n",
              "      <td>2500.000000</td>\n",
              "      <td>26284.587290</td>\n",
              "      <td>High</td>\n",
              "    </tr>\n",
              "    <tr>\n",
              "      <th>2</th>\n",
              "      <td>0x4a63f753cf0578a65bae5127075bb0f5549f66b91507...</td>\n",
              "      <td>1623786369</td>\n",
              "      <td>2021-06-15 19:46:09</td>\n",
              "      <td>0x19ac6292d62465cd3c82a082e0b5f9b875c57d92</td>\n",
              "      <td>0x97693242c5703900fc7651c9164a334ee5ddfa2d</td>\n",
              "      <td>30.00000</td>\n",
              "      <td>0x51b0bcbeff204b39ce792d1e16767fe6f7631970</td>\n",
              "      <td>BTC Volatility Index</td>\n",
              "      <td>BTCV</td>\n",
              "      <td>IN</td>\n",
              "      <td>Add Liquidity</td>\n",
              "      <td>ETHEREUM</td>\n",
              "      <td>16</td>\n",
              "      <td>High</td>\n",
              "      <td>2923.199998</td>\n",
              "      <td>26284.587290</td>\n",
              "      <td>High</td>\n",
              "    </tr>\n",
              "    <tr>\n",
              "      <th>3</th>\n",
              "      <td>0x4a63f753cf0578a65bae5127075bb0f5549f66b91507...</td>\n",
              "      <td>1623786369</td>\n",
              "      <td>2021-06-15 19:46:09</td>\n",
              "      <td>0x19ac6292d62465cd3c82a082e0b5f9b875c57d92</td>\n",
              "      <td>0x97693242c5703900fc7651c9164a334ee5ddfa2d</td>\n",
              "      <td>755.29052</td>\n",
              "      <td>0xa0b86991c6218b36c1d19d4a2e9eb0ce3606eb48</td>\n",
              "      <td>USD Coin</td>\n",
              "      <td>USDC</td>\n",
              "      <td>IN</td>\n",
              "      <td>Add Liquidity</td>\n",
              "      <td>ETHEREUM</td>\n",
              "      <td>16</td>\n",
              "      <td>High</td>\n",
              "      <td>755.290520</td>\n",
              "      <td>26284.587290</td>\n",
              "      <td>High</td>\n",
              "    </tr>\n",
              "    <tr>\n",
              "      <th>4</th>\n",
              "      <td>0x7a656f17631c6d05b54d94974d56031d6e12512ee7f7...</td>\n",
              "      <td>1623864014</td>\n",
              "      <td>2021-06-16 17:20:14</td>\n",
              "      <td>0x3dac271d1b36a434880c527a678b6487ac9c1f8c</td>\n",
              "      <td>0x97693242c5703900fc7651c9164a334ee5ddfa2d</td>\n",
              "      <td>0.99900</td>\n",
              "      <td>0x51b0bcbeff204b39ce792d1e16767fe6f7631970</td>\n",
              "      <td>BTC Volatility Index</td>\n",
              "      <td>BTCV</td>\n",
              "      <td>IN</td>\n",
              "      <td>Add Liquidity</td>\n",
              "      <td>ETHEREUM</td>\n",
              "      <td>8</td>\n",
              "      <td>High</td>\n",
              "      <td>97.342559</td>\n",
              "      <td>461.835293</td>\n",
              "      <td>Low</td>\n",
              "    </tr>\n",
              "  </tbody>\n",
              "</table>\n",
              "</div>"
            ],
            "text/plain": [
              "                                              Txhash  ...  cumulative_liquidity_added_grouping\n",
              "0  0xc4bc77f254adcbec01372b053782fbf8b58cc84b9084...  ...                                 High\n",
              "1  0xc4bc77f254adcbec01372b053782fbf8b58cc84b9084...  ...                                 High\n",
              "2  0x4a63f753cf0578a65bae5127075bb0f5549f66b91507...  ...                                 High\n",
              "3  0x4a63f753cf0578a65bae5127075bb0f5549f66b91507...  ...                                 High\n",
              "4  0x7a656f17631c6d05b54d94974d56031d6e12512ee7f7...  ...                                  Low\n",
              "\n",
              "[5 rows x 17 columns]"
            ]
          },
          "metadata": {},
          "execution_count": 197
        }
      ]
    },
    {
      "cell_type": "code",
      "metadata": {
        "colab": {
          "base_uri": "https://localhost:8080/",
          "height": 142
        },
        "id": "Z0OyPJwwYfQN",
        "outputId": "9e340f97-6525-4b4a-c54a-0569470e7b66"
      },
      "source": [
        "lp_address_amounts_grouped_liquidity_df = lp_address_amounts_grouped_df.groupby(by='cumulative_liquidity_added_grouping', as_index=False).agg({'From': pd.Series.nunique}).rename(columns={\"From\": \"Number of Users\"})\n",
        "lp_address_amounts_grouped_liquidity_df.head()"
      ],
      "execution_count": 198,
      "outputs": [
        {
          "output_type": "execute_result",
          "data": {
            "text/html": [
              "<div>\n",
              "<style scoped>\n",
              "    .dataframe tbody tr th:only-of-type {\n",
              "        vertical-align: middle;\n",
              "    }\n",
              "\n",
              "    .dataframe tbody tr th {\n",
              "        vertical-align: top;\n",
              "    }\n",
              "\n",
              "    .dataframe thead th {\n",
              "        text-align: right;\n",
              "    }\n",
              "</style>\n",
              "<table border=\"1\" class=\"dataframe\">\n",
              "  <thead>\n",
              "    <tr style=\"text-align: right;\">\n",
              "      <th></th>\n",
              "      <th>cumulative_liquidity_added_grouping</th>\n",
              "      <th>Number of Users</th>\n",
              "    </tr>\n",
              "  </thead>\n",
              "  <tbody>\n",
              "    <tr>\n",
              "      <th>0</th>\n",
              "      <td>Low</td>\n",
              "      <td>1631</td>\n",
              "    </tr>\n",
              "    <tr>\n",
              "      <th>1</th>\n",
              "      <td>Medium</td>\n",
              "      <td>38</td>\n",
              "    </tr>\n",
              "    <tr>\n",
              "      <th>2</th>\n",
              "      <td>High</td>\n",
              "      <td>16</td>\n",
              "    </tr>\n",
              "  </tbody>\n",
              "</table>\n",
              "</div>"
            ],
            "text/plain": [
              "  cumulative_liquidity_added_grouping  Number of Users\n",
              "0                                 Low             1631\n",
              "1                              Medium               38\n",
              "2                                High               16"
            ]
          },
          "metadata": {},
          "execution_count": 198
        }
      ]
    },
    {
      "cell_type": "code",
      "metadata": {
        "id": "X_gXcqhaZ0s0"
      },
      "source": [
        "# Write minters groupings to CSV\n",
        "lp_address_amounts_grouped_df.to_csv('lps_v4_final_grouped.csv')"
      ],
      "execution_count": 199,
      "outputs": []
    },
    {
      "cell_type": "code",
      "metadata": {
        "id": "thOVKAwgYOSc"
      },
      "source": [
        ""
      ],
      "execution_count": null,
      "outputs": []
    }
  ]
}